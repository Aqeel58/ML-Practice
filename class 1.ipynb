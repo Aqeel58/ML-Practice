{
 "cells": [
  {
   "cell_type": "code",
   "execution_count": null,
   "metadata": {},
   "outputs": [],
   "source": [
    "print(\"pakistan zindabad\")"
   ]
  },
  {
   "cell_type": "code",
   "execution_count": null,
   "metadata": {},
   "outputs": [],
   "source": [
    "print(\"we are pakistani\")"
   ]
  },
  {
   "cell_type": "code",
   "execution_count": null,
   "metadata": {},
   "outputs": [],
   "source": [
    "print(\"hello\")"
   ]
  },
  {
   "cell_type": "code",
   "execution_count": null,
   "metadata": {},
   "outputs": [],
   "source": [
    "print(\"hi\")"
   ]
  },
  {
   "cell_type": "code",
   "execution_count": null,
   "metadata": {},
   "outputs": [],
   "source": [
    "hi=20\n",
    "print(hi)"
   ]
  },
  {
   "cell_type": "markdown",
   "metadata": {},
   "source": [
    "# piaic isb batch\n",
    "### 3:30 to 6:30\n",
    ".python"
   ]
  },
  {
   "cell_type": "raw",
   "metadata": {},
   "source": [
    "functio abc(a,b){\n",
    "    return a+b;\n",
    "}"
   ]
  },
  {
   "cell_type": "markdown",
   "metadata": {},
   "source": [
    "# string method"
   ]
  },
  {
   "cell_type": "code",
   "execution_count": 2,
   "metadata": {},
   "outputs": [
    {
     "name": "stdout",
     "output_type": "stream",
     "text": [
      "pakisatn\n"
     ]
    }
   ],
   "source": [
    "message = \"pakisatn\"\n",
    "print(message)"
   ]
  },
  {
   "cell_type": "code",
   "execution_count": 1,
   "metadata": {},
   "outputs": [
    {
     "name": "stdout",
     "output_type": "stream",
     "text": [
      "20\n"
     ]
    }
   ],
   "source": [
    "a=20\n",
    "print(a)"
   ]
  },
  {
   "cell_type": "code",
   "execution_count": 2,
   "metadata": {},
   "outputs": [
    {
     "name": "stdout",
     "output_type": "stream",
     "text": [
      "\n",
      "Piaic isb batch 3\n",
      "timing: 3:30 to 6:30 \n",
      "Name: aqeel atiq\n",
      "f_name: M.atiq\n",
      "\n"
     ]
    }
   ],
   "source": [
    "timing=\"3:30 to 6:30\"\n",
    "name=\"aqeel atiq\"\n",
    "f_name=\"M.atiq\"\n",
    "\n",
    "message=\"\"\"\n",
    "Piaic isb batch 3\n",
    "timing: {} \n",
    "Name: {}\n",
    "f_name: {}\n",
    "\"\"\"\n",
    "message=message.format(timing,name,f_name)\n",
    "print(message)"
   ]
  },
  {
   "cell_type": "code",
   "execution_count": 10,
   "metadata": {},
   "outputs": [
    {
     "name": "stdout",
     "output_type": "stream",
     "text": [
      "\n",
      "Piaic isb batch 3\n",
      "timing: 3:30 to 6:30 \n",
      "Name aqeel atiq\n",
      "f_name M.atiq\n",
      "\n"
     ]
    }
   ],
   "source": [
    "message=\"\"\"\n",
    "Piaic isb batch 3\n",
    "timing: {} \n",
    "Name {}\n",
    "f_name {}\n",
    "\"\"\"\n",
    "message=message.format(timing,name,f_name)\n",
    "print(message)"
   ]
  },
  {
   "cell_type": "code",
   "execution_count": null,
   "metadata": {},
   "outputs": [],
   "source": [
    "timing= input(\"ENTER TIME\")\n",
    "name=input(\"ENTER NAME\")\n",
    "f_name=input(\"M.atiq\")\n",
    "\n",
    "message=\"\"\"\n",
    "Piaic isb batch 3\n",
    "timing: {} \n",
    "Name {}\n",
    "f_name{}\n",
    "\"\"\"\n",
    "message=message.format(timing,name,f_name)\n",
    "print(message)"
   ]
  },
  {
   "cell_type": "code",
   "execution_count": null,
   "metadata": {},
   "outputs": [],
   "source": [
    "message=\"\"\"\n",
    "Bahria university\n",
    "fall 2019\n",
    "\n",
    "\"\"\""
   ]
  },
  {
   "cell_type": "code",
   "execution_count": null,
   "metadata": {},
   "outputs": [],
   "source": [
    "message=\"\"\"\n",
    "piaic isb \n",
    "Frst name\n",
    "\n",
    "\"\"\""
   ]
  }
 ],
 "metadata": {
  "kernelspec": {
   "display_name": "Python 3",
   "language": "python",
   "name": "python3"
  },
  "language_info": {
   "codemirror_mode": {
    "name": "ipython",
    "version": 3
   },
   "file_extension": ".py",
   "mimetype": "text/x-python",
   "name": "python",
   "nbconvert_exporter": "python",
   "pygments_lexer": "ipython3",
   "version": "3.7.4"
  }
 },
 "nbformat": 4,
 "nbformat_minor": 4
}
