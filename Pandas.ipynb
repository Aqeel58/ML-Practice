{
 "cells": [
  {
   "cell_type": "markdown",
   "metadata": {},
   "source": [
    "# Series in Pandas "
   ]
  },
  {
   "cell_type": "code",
   "execution_count": 2,
   "metadata": {},
   "outputs": [],
   "source": [
    "import pandas as pd"
   ]
  },
  {
   "cell_type": "code",
   "execution_count": 3,
   "metadata": {},
   "outputs": [],
   "source": [
    "import numpy as np"
   ]
  },
  {
   "cell_type": "code",
   "execution_count": 4,
   "metadata": {},
   "outputs": [],
   "source": [
    "obj=pd.Series([1,2,3,4,-5])"
   ]
  },
  {
   "cell_type": "code",
   "execution_count": 5,
   "metadata": {},
   "outputs": [
    {
     "data": {
      "text/plain": [
       "0    1\n",
       "1    2\n",
       "2    3\n",
       "3    4\n",
       "4   -5\n",
       "dtype: int64"
      ]
     },
     "execution_count": 5,
     "metadata": {},
     "output_type": "execute_result"
    }
   ],
   "source": [
    "obj"
   ]
  },
  {
   "cell_type": "code",
   "execution_count": 6,
   "metadata": {},
   "outputs": [
    {
     "data": {
      "text/plain": [
       "array([ 1,  2,  3,  4, -5], dtype=int64)"
      ]
     },
     "execution_count": 6,
     "metadata": {},
     "output_type": "execute_result"
    }
   ],
   "source": [
    "obj.values"
   ]
  },
  {
   "cell_type": "code",
   "execution_count": 7,
   "metadata": {},
   "outputs": [
    {
     "data": {
      "text/plain": [
       "RangeIndex(start=0, stop=5, step=1)"
      ]
     },
     "execution_count": 7,
     "metadata": {},
     "output_type": "execute_result"
    }
   ],
   "source": [
    "obj.index"
   ]
  },
  {
   "cell_type": "code",
   "execution_count": 8,
   "metadata": {},
   "outputs": [],
   "source": [
    "obj2=pd.Series([1,2,3,4,5],['a','b','c','d','e'])"
   ]
  },
  {
   "cell_type": "code",
   "execution_count": 9,
   "metadata": {},
   "outputs": [
    {
     "data": {
      "text/plain": [
       "a    1\n",
       "b    2\n",
       "c    3\n",
       "d    4\n",
       "e    5\n",
       "dtype: int64"
      ]
     },
     "execution_count": 9,
     "metadata": {},
     "output_type": "execute_result"
    }
   ],
   "source": [
    "obj2"
   ]
  },
  {
   "cell_type": "code",
   "execution_count": 10,
   "metadata": {},
   "outputs": [
    {
     "data": {
      "text/plain": [
       "array([1, 2, 3, 4, 5], dtype=int64)"
      ]
     },
     "execution_count": 10,
     "metadata": {},
     "output_type": "execute_result"
    }
   ],
   "source": [
    "obj2.values"
   ]
  },
  {
   "cell_type": "code",
   "execution_count": 11,
   "metadata": {},
   "outputs": [
    {
     "data": {
      "text/plain": [
       "Index(['a', 'b', 'c', 'd', 'e'], dtype='object')"
      ]
     },
     "execution_count": 11,
     "metadata": {},
     "output_type": "execute_result"
    }
   ],
   "source": [
    "obj2.index"
   ]
  },
  {
   "cell_type": "code",
   "execution_count": 12,
   "metadata": {},
   "outputs": [
    {
     "data": {
      "text/plain": [
       "a           NaN\n",
       "b    100.000000\n",
       "c     50.000000\n",
       "d     33.333333\n",
       "e     25.000000\n",
       "dtype: float64"
      ]
     },
     "execution_count": 12,
     "metadata": {},
     "output_type": "execute_result"
    }
   ],
   "source": [
    "obj2.pct_change()*100"
   ]
  },
  {
   "cell_type": "code",
   "execution_count": 13,
   "metadata": {},
   "outputs": [
    {
     "name": "stdout",
     "output_type": "stream",
     "text": [
      "a    1\n",
      "b    2\n",
      "c    3\n",
      "d    4\n",
      "e    5\n",
      "dtype: int64\n"
     ]
    }
   ],
   "source": [
    "print(obj2)"
   ]
  },
  {
   "cell_type": "code",
   "execution_count": 14,
   "metadata": {},
   "outputs": [
    {
     "name": "stdout",
     "output_type": "stream",
     "text": [
      "[1 2 3 4 5]\n"
     ]
    }
   ],
   "source": [
    "print(obj2.values)"
   ]
  },
  {
   "cell_type": "code",
   "execution_count": 15,
   "metadata": {},
   "outputs": [
    {
     "name": "stdout",
     "output_type": "stream",
     "text": [
      "Index(['a', 'b', 'c', 'd', 'e'], dtype='object')\n"
     ]
    }
   ],
   "source": [
    "print(obj2.index)"
   ]
  },
  {
   "cell_type": "code",
   "execution_count": 16,
   "metadata": {},
   "outputs": [],
   "source": [
    "obj3=pd.Series([1,2,3,4,5],['a','b','c','d','e'],name=\"counting\")"
   ]
  },
  {
   "cell_type": "code",
   "execution_count": 17,
   "metadata": {},
   "outputs": [
    {
     "name": "stdout",
     "output_type": "stream",
     "text": [
      "a    1\n",
      "b    2\n",
      "c    3\n",
      "d    4\n",
      "e    5\n",
      "Name: counting, dtype: int64\n"
     ]
    }
   ],
   "source": [
    "print(obj3)"
   ]
  },
  {
   "cell_type": "code",
   "execution_count": 18,
   "metadata": {},
   "outputs": [],
   "source": [
    "obj3=pd.Series([1,2,3,4,5],['a','b','c','d','e'],name=\"counting\")"
   ]
  },
  {
   "cell_type": "code",
   "execution_count": 19,
   "metadata": {},
   "outputs": [
    {
     "data": {
      "text/plain": [
       "a    1\n",
       "b    2\n",
       "c    3\n",
       "d    4\n",
       "e    5\n",
       "Name: counting, dtype: int64"
      ]
     },
     "execution_count": 19,
     "metadata": {},
     "output_type": "execute_result"
    }
   ],
   "source": [
    "obj3"
   ]
  },
  {
   "cell_type": "code",
   "execution_count": 20,
   "metadata": {},
   "outputs": [
    {
     "data": {
      "text/plain": [
       "a    1\n",
       "b    2\n",
       "c    3\n",
       "d    4\n",
       "e    5\n",
       "a    1\n",
       "b    2\n",
       "c    3\n",
       "d    4\n",
       "e    5\n",
       "dtype: int64"
      ]
     },
     "execution_count": 20,
     "metadata": {},
     "output_type": "execute_result"
    }
   ],
   "source": [
    "obj3.append(obj2)"
   ]
  },
  {
   "cell_type": "markdown",
   "metadata": {},
   "source": []
  },
  {
   "cell_type": "code",
   "execution_count": 21,
   "metadata": {},
   "outputs": [
    {
     "data": {
      "text/plain": [
       "a    1\n",
       "b    2\n",
       "c    3\n",
       "d    4\n",
       "e    5\n",
       "Name: counting, dtype: int64"
      ]
     },
     "execution_count": 21,
     "metadata": {},
     "output_type": "execute_result"
    }
   ],
   "source": [
    "obj3"
   ]
  },
  {
   "cell_type": "markdown",
   "metadata": {},
   "source": [
    "# Example sandwich sales of week"
   ]
  },
  {
   "cell_type": "code",
   "execution_count": 27,
   "metadata": {},
   "outputs": [],
   "source": [
    "sw=pd.Series([20,30,40,0,60,90,10],index=['mon','tues','wed','thurs','fri','sat','sun'],name='Weekly sandwich sales')"
   ]
  },
  {
   "cell_type": "code",
   "execution_count": 28,
   "metadata": {},
   "outputs": [
    {
     "name": "stdout",
     "output_type": "stream",
     "text": [
      "40\n"
     ]
    }
   ],
   "source": [
    "print(sw['wed'])"
   ]
  },
  {
   "cell_type": "code",
   "execution_count": 29,
   "metadata": {},
   "outputs": [
    {
     "name": "stdout",
     "output_type": "stream",
     "text": [
      "thurs     0\n",
      "sun      10\n",
      "Name: Weekly sandwich sales, dtype: int64\n"
     ]
    }
   ],
   "source": [
    "print(sw[[3,6]]) # we can access multiple element in the series with array notation and default index provided by pandas"
   ]
  },
  {
   "cell_type": "markdown",
   "metadata": {},
   "source": [
    "# Accessing multiple element in series with user define index name"
   ]
  },
  {
   "cell_type": "code",
   "execution_count": 30,
   "metadata": {},
   "outputs": [
    {
     "data": {
      "text/plain": [
       "mon      20\n",
       "tues     30\n",
       "wed      40\n",
       "thurs     0\n",
       "fri      60\n",
       "sat      90\n",
       "sun      10\n",
       "Name: Weekly sandwich sales, dtype: int64"
      ]
     },
     "execution_count": 30,
     "metadata": {},
     "output_type": "execute_result"
    }
   ],
   "source": [
    "sw"
   ]
  },
  {
   "cell_type": "code",
   "execution_count": 31,
   "metadata": {},
   "outputs": [
    {
     "name": "stdout",
     "output_type": "stream",
     "text": [
      "30\n",
      "30\n"
     ]
    }
   ],
   "source": [
    "print(sw['tues'])\n",
    "print(sw[1])"
   ]
  },
  {
   "cell_type": "code",
   "execution_count": 32,
   "metadata": {},
   "outputs": [
    {
     "name": "stdout",
     "output_type": "stream",
     "text": [
      "tues    30\n",
      "mon     20\n",
      "Name: Weekly sandwich sales, dtype: int64\n"
     ]
    }
   ],
   "source": [
    "print(sw[['tues','mon']])\n"
   ]
  },
  {
   "cell_type": "code",
   "execution_count": 33,
   "metadata": {},
   "outputs": [
    {
     "name": "stdout",
     "output_type": "stream",
     "text": [
      "tues    30\n",
      "wed     40\n",
      "fri     60\n",
      "sat     90\n",
      "Name: Weekly sandwich sales, dtype: int64\n"
     ]
    }
   ],
   "source": [
    "print(sw[sw>20])"
   ]
  },
  {
   "cell_type": "code",
   "execution_count": 34,
   "metadata": {},
   "outputs": [
    {
     "name": "stdout",
     "output_type": "stream",
     "text": [
      "mon       40\n",
      "tues      60\n",
      "wed       80\n",
      "thurs      0\n",
      "fri      120\n",
      "sat      180\n",
      "sun       20\n",
      "Name: Weekly sandwich sales, dtype: int64\n"
     ]
    }
   ],
   "source": [
    "print(sw*2)"
   ]
  },
  {
   "cell_type": "code",
   "execution_count": 35,
   "metadata": {},
   "outputs": [
    {
     "data": {
      "text/plain": [
       "mon      20\n",
       "tues     30\n",
       "wed      40\n",
       "thurs     0\n",
       "fri      60\n",
       "sat      90\n",
       "sun      10\n",
       "Name: Weekly sandwich sales, dtype: int64"
      ]
     },
     "execution_count": 35,
     "metadata": {},
     "output_type": "execute_result"
    }
   ],
   "source": [
    "sw"
   ]
  },
  {
   "cell_type": "code",
   "execution_count": 36,
   "metadata": {},
   "outputs": [
    {
     "name": "stdout",
     "output_type": "stream",
     "text": [
      "mon       40\n",
      "tues      60\n",
      "wed       80\n",
      "thurs      0\n",
      "fri      120\n",
      "sat      180\n",
      "sun       20\n",
      "Name: Weekly sandwich sales, dtype: int64\n"
     ]
    }
   ],
   "source": [
    "sw=sw*2\n",
    "print(sw\n",
    "     )"
   ]
  },
  {
   "cell_type": "code",
   "execution_count": 37,
   "metadata": {},
   "outputs": [
    {
     "name": "stdout",
     "output_type": "stream",
     "text": [
      "mon      20.0\n",
      "tues     30.0\n",
      "wed      40.0\n",
      "thurs     0.0\n",
      "fri      60.0\n",
      "sat      90.0\n",
      "sun      10.0\n",
      "Name: Weekly sandwich sales, dtype: float64\n"
     ]
    }
   ],
   "source": [
    "sw=sw/2\n",
    "print(sw)"
   ]
  },
  {
   "cell_type": "code",
   "execution_count": 38,
   "metadata": {},
   "outputs": [],
   "source": [
    "#making array in numpy and using in pandas as series value and index\n"
   ]
  },
  {
   "cell_type": "code",
   "execution_count": 39,
   "metadata": {},
   "outputs": [],
   "source": [
    "import numpy as np"
   ]
  },
  {
   "cell_type": "code",
   "execution_count": 40,
   "metadata": {},
   "outputs": [],
   "source": [
    "ar=np.array([1,2,3,4,5,6])\n",
    "ind=np.array(['a','b','c','d','e','f'])"
   ]
  },
  {
   "cell_type": "code",
   "execution_count": 41,
   "metadata": {},
   "outputs": [],
   "source": [
    "obj_np=pd.Series(ar,index=ind)"
   ]
  },
  {
   "cell_type": "code",
   "execution_count": 42,
   "metadata": {},
   "outputs": [
    {
     "name": "stdout",
     "output_type": "stream",
     "text": [
      "a    1\n",
      "b    2\n",
      "c    3\n",
      "d    4\n",
      "e    5\n",
      "f    6\n",
      "dtype: int32\n"
     ]
    }
   ],
   "source": [
    "print(obj_np)"
   ]
  },
  {
   "cell_type": "code",
   "execution_count": 43,
   "metadata": {},
   "outputs": [
    {
     "data": {
      "text/plain": [
       "True"
      ]
     },
     "execution_count": 43,
     "metadata": {},
     "output_type": "execute_result"
    }
   ],
   "source": [
    "'tues' in sw"
   ]
  },
  {
   "cell_type": "markdown",
   "metadata": {},
   "source": [
    "# Series taking input as Dictionary"
   ]
  },
  {
   "cell_type": "code",
   "execution_count": 44,
   "metadata": {},
   "outputs": [],
   "source": [
    "sdata={'punjab':35000,'kpk':4000,'balochistan':5000,'sindh':6000}"
   ]
  },
  {
   "cell_type": "code",
   "execution_count": 45,
   "metadata": {},
   "outputs": [],
   "source": [
    "tax_by_state=pd.Series(sdata)"
   ]
  },
  {
   "cell_type": "code",
   "execution_count": 46,
   "metadata": {},
   "outputs": [
    {
     "name": "stdout",
     "output_type": "stream",
     "text": [
      "punjab         35000\n",
      "kpk             4000\n",
      "balochistan     5000\n",
      "sindh           6000\n",
      "dtype: int64\n"
     ]
    }
   ],
   "source": [
    "print(tax_by_state)"
   ]
  },
  {
   "cell_type": "code",
   "execution_count": 47,
   "metadata": {},
   "outputs": [],
   "source": [
    "tax_by_state1=pd.Series(sdata,index=['kpk','punjab','sindh','balochistan','gb'])"
   ]
  },
  {
   "cell_type": "code",
   "execution_count": 48,
   "metadata": {},
   "outputs": [
    {
     "name": "stdout",
     "output_type": "stream",
     "text": [
      "kpk             4000.0\n",
      "punjab         35000.0\n",
      "sindh           6000.0\n",
      "balochistan     5000.0\n",
      "gb                 NaN\n",
      "dtype: float64\n"
     ]
    }
   ],
   "source": [
    "print(tax_by_state1)"
   ]
  },
  {
   "cell_type": "code",
   "execution_count": 49,
   "metadata": {},
   "outputs": [
    {
     "data": {
      "text/plain": [
       "punjab         False\n",
       "kpk            False\n",
       "balochistan    False\n",
       "sindh          False\n",
       "dtype: bool"
      ]
     },
     "execution_count": 49,
     "metadata": {},
     "output_type": "execute_result"
    }
   ],
   "source": [
    "#two method to check missing values in series\n",
    "pd.isnull(tax_by_state1)\n",
    "tax_by_state.isnull()"
   ]
  },
  {
   "cell_type": "code",
   "execution_count": 50,
   "metadata": {},
   "outputs": [
    {
     "data": {
      "text/plain": [
       "punjab         True\n",
       "kpk            True\n",
       "balochistan    True\n",
       "sindh          True\n",
       "dtype: bool"
      ]
     },
     "execution_count": 50,
     "metadata": {},
     "output_type": "execute_result"
    }
   ],
   "source": [
    "#two method to check value which are non-missing\n",
    "pd.notnull(tax_by_state1)\n",
    "tax_by_state.notnull()"
   ]
  },
  {
   "cell_type": "code",
   "execution_count": 51,
   "metadata": {},
   "outputs": [
    {
     "data": {
      "text/plain": [
       "balochistan    10000.0\n",
       "gb                 NaN\n",
       "kpk             8000.0\n",
       "punjab         70000.0\n",
       "sindh          12000.0\n",
       "dtype: float64"
      ]
     },
     "execution_count": 51,
     "metadata": {},
     "output_type": "execute_result"
    }
   ],
   "source": [
    "tax_by_state1+tax_by_state"
   ]
  },
  {
   "cell_type": "markdown",
   "metadata": {},
   "source": [
    "# overriding index name"
   ]
  },
  {
   "cell_type": "code",
   "execution_count": 52,
   "metadata": {},
   "outputs": [],
   "source": [
    "tax_by_state1.index=['k','p','s','b','gb']"
   ]
  },
  {
   "cell_type": "code",
   "execution_count": 53,
   "metadata": {},
   "outputs": [
    {
     "name": "stdout",
     "output_type": "stream",
     "text": [
      "k      4000.0\n",
      "p     35000.0\n",
      "s      6000.0\n",
      "b      5000.0\n",
      "gb        NaN\n",
      "dtype: float64\n"
     ]
    }
   ],
   "source": [
    "print(tax_by_state1)"
   ]
  },
  {
   "cell_type": "code",
   "execution_count": null,
   "metadata": {},
   "outputs": [],
   "source": []
  },
  {
   "cell_type": "markdown",
   "metadata": {},
   "source": [
    "# DataFrame"
   ]
  },
  {
   "cell_type": "code",
   "execution_count": 54,
   "metadata": {},
   "outputs": [],
   "source": [
    "apple=pd.Series([1,2,3,4])\n",
    "orange=pd.Series([5,6,7,8])"
   ]
  },
  {
   "cell_type": "code",
   "execution_count": 55,
   "metadata": {},
   "outputs": [],
   "source": [
    "fruit={'apple':apple,'orange':orange}"
   ]
  },
  {
   "cell_type": "code",
   "execution_count": 56,
   "metadata": {},
   "outputs": [
    {
     "name": "stdout",
     "output_type": "stream",
     "text": [
      "{'apple': 0    1\n",
      "1    2\n",
      "2    3\n",
      "3    4\n",
      "dtype: int64, 'orange': 0    5\n",
      "1    6\n",
      "2    7\n",
      "3    8\n",
      "dtype: int64}\n"
     ]
    }
   ],
   "source": [
    "print(fruit)"
   ]
  },
  {
   "cell_type": "code",
   "execution_count": 57,
   "metadata": {},
   "outputs": [],
   "source": [
    "fruit_df=pd.DataFrame(fruit)"
   ]
  },
  {
   "cell_type": "code",
   "execution_count": 58,
   "metadata": {},
   "outputs": [
    {
     "name": "stdout",
     "output_type": "stream",
     "text": [
      "   apple  orange\n",
      "0      1       5\n",
      "1      2       6\n",
      "2      3       7\n",
      "3      4       8\n"
     ]
    }
   ],
   "source": [
    "print(fruit_df)"
   ]
  },
  {
   "cell_type": "code",
   "execution_count": 59,
   "metadata": {},
   "outputs": [
    {
     "data": {
      "text/plain": [
       "0     2.718282\n",
       "1     7.389056\n",
       "2    20.085537\n",
       "3    54.598150\n",
       "4     0.006738\n",
       "dtype: float64"
      ]
     },
     "execution_count": 59,
     "metadata": {},
     "output_type": "execute_result"
    }
   ],
   "source": [
    "np.exp(obj)"
   ]
  },
  {
   "cell_type": "code",
   "execution_count": 60,
   "metadata": {},
   "outputs": [
    {
     "data": {
      "text/plain": [
       "7.38905609893065"
      ]
     },
     "execution_count": 60,
     "metadata": {},
     "output_type": "execute_result"
    }
   ],
   "source": [
    "np.exp(2)"
   ]
  },
  {
   "cell_type": "code",
   "execution_count": 61,
   "metadata": {},
   "outputs": [
    {
     "data": {
      "text/plain": [
       "array(['1', 'a'], dtype='<U11')"
      ]
     },
     "execution_count": 61,
     "metadata": {},
     "output_type": "execute_result"
    }
   ],
   "source": [
    "np.array([1,'a'])"
   ]
  },
  {
   "cell_type": "code",
   "execution_count": 62,
   "metadata": {},
   "outputs": [
    {
     "data": {
      "text/plain": [
       "5"
      ]
     },
     "execution_count": 62,
     "metadata": {},
     "output_type": "execute_result"
    }
   ],
   "source": [
    "len(obj)"
   ]
  },
  {
   "cell_type": "markdown",
   "metadata": {},
   "source": [
    "# DataFrame"
   ]
  },
  {
   "cell_type": "code",
   "execution_count": 63,
   "metadata": {},
   "outputs": [],
   "source": [
    "data={'states':['punj','sindh','kpk','bal'],\n",
    "      'years':[2000,2001,2002,2003],\n",
    "      'pop':[1.8,1.7,0.8,0.5]\n",
    "     }"
   ]
  },
  {
   "cell_type": "code",
   "execution_count": 64,
   "metadata": {},
   "outputs": [],
   "source": [
    "frame=pd.DataFrame(data)"
   ]
  },
  {
   "cell_type": "code",
   "execution_count": 65,
   "metadata": {},
   "outputs": [
    {
     "name": "stdout",
     "output_type": "stream",
     "text": [
      "  states  years  pop\n",
      "0   punj   2000  1.8\n",
      "1  sindh   2001  1.7\n",
      "2    kpk   2002  0.8\n",
      "3    bal   2003  0.5\n"
     ]
    }
   ],
   "source": [
    "print(frame)"
   ]
  },
  {
   "cell_type": "code",
   "execution_count": 66,
   "metadata": {},
   "outputs": [
    {
     "data": {
      "text/html": [
       "<div>\n",
       "<style scoped>\n",
       "    .dataframe tbody tr th:only-of-type {\n",
       "        vertical-align: middle;\n",
       "    }\n",
       "\n",
       "    .dataframe tbody tr th {\n",
       "        vertical-align: top;\n",
       "    }\n",
       "\n",
       "    .dataframe thead th {\n",
       "        text-align: right;\n",
       "    }\n",
       "</style>\n",
       "<table border=\"1\" class=\"dataframe\">\n",
       "  <thead>\n",
       "    <tr style=\"text-align: right;\">\n",
       "      <th></th>\n",
       "      <th>states</th>\n",
       "      <th>years</th>\n",
       "      <th>pop</th>\n",
       "    </tr>\n",
       "  </thead>\n",
       "  <tbody>\n",
       "    <tr>\n",
       "      <td>0</td>\n",
       "      <td>punj</td>\n",
       "      <td>2000</td>\n",
       "      <td>1.8</td>\n",
       "    </tr>\n",
       "    <tr>\n",
       "      <td>1</td>\n",
       "      <td>sindh</td>\n",
       "      <td>2001</td>\n",
       "      <td>1.7</td>\n",
       "    </tr>\n",
       "    <tr>\n",
       "      <td>2</td>\n",
       "      <td>kpk</td>\n",
       "      <td>2002</td>\n",
       "      <td>0.8</td>\n",
       "    </tr>\n",
       "    <tr>\n",
       "      <td>3</td>\n",
       "      <td>bal</td>\n",
       "      <td>2003</td>\n",
       "      <td>0.5</td>\n",
       "    </tr>\n",
       "  </tbody>\n",
       "</table>\n",
       "</div>"
      ],
      "text/plain": [
       "  states  years  pop\n",
       "0   punj   2000  1.8\n",
       "1  sindh   2001  1.7\n",
       "2    kpk   2002  0.8\n",
       "3    bal   2003  0.5"
      ]
     },
     "execution_count": 66,
     "metadata": {},
     "output_type": "execute_result"
    }
   ],
   "source": [
    "frame.head()"
   ]
  },
  {
   "cell_type": "code",
   "execution_count": 67,
   "metadata": {},
   "outputs": [],
   "source": [
    "#arranging column according to own desire\n",
    "frame2=pd.DataFrame(data,columns=['years','states','pop'])"
   ]
  },
  {
   "cell_type": "code",
   "execution_count": 68,
   "metadata": {},
   "outputs": [],
   "source": [
    "#adding index name of own choice and adding extra column with missing values\n",
    "frame2=pd.DataFrame(data,columns=['years','states','pop','debt'], index=['1st','2nd','3rd','4rth'])"
   ]
  },
  {
   "cell_type": "code",
   "execution_count": 69,
   "metadata": {},
   "outputs": [
    {
     "data": {
      "text/html": [
       "<div>\n",
       "<style scoped>\n",
       "    .dataframe tbody tr th:only-of-type {\n",
       "        vertical-align: middle;\n",
       "    }\n",
       "\n",
       "    .dataframe tbody tr th {\n",
       "        vertical-align: top;\n",
       "    }\n",
       "\n",
       "    .dataframe thead th {\n",
       "        text-align: right;\n",
       "    }\n",
       "</style>\n",
       "<table border=\"1\" class=\"dataframe\">\n",
       "  <thead>\n",
       "    <tr style=\"text-align: right;\">\n",
       "      <th></th>\n",
       "      <th>years</th>\n",
       "      <th>states</th>\n",
       "      <th>pop</th>\n",
       "      <th>debt</th>\n",
       "    </tr>\n",
       "  </thead>\n",
       "  <tbody>\n",
       "    <tr>\n",
       "      <td>1st</td>\n",
       "      <td>2000</td>\n",
       "      <td>punj</td>\n",
       "      <td>1.8</td>\n",
       "      <td>NaN</td>\n",
       "    </tr>\n",
       "    <tr>\n",
       "      <td>2nd</td>\n",
       "      <td>2001</td>\n",
       "      <td>sindh</td>\n",
       "      <td>1.7</td>\n",
       "      <td>NaN</td>\n",
       "    </tr>\n",
       "    <tr>\n",
       "      <td>3rd</td>\n",
       "      <td>2002</td>\n",
       "      <td>kpk</td>\n",
       "      <td>0.8</td>\n",
       "      <td>NaN</td>\n",
       "    </tr>\n",
       "    <tr>\n",
       "      <td>4rth</td>\n",
       "      <td>2003</td>\n",
       "      <td>bal</td>\n",
       "      <td>0.5</td>\n",
       "      <td>NaN</td>\n",
       "    </tr>\n",
       "  </tbody>\n",
       "</table>\n",
       "</div>"
      ],
      "text/plain": [
       "      years states  pop debt\n",
       "1st    2000   punj  1.8  NaN\n",
       "2nd    2001  sindh  1.7  NaN\n",
       "3rd    2002    kpk  0.8  NaN\n",
       "4rth   2003    bal  0.5  NaN"
      ]
     },
     "execution_count": 69,
     "metadata": {},
     "output_type": "execute_result"
    }
   ],
   "source": [
    "frame2.head()"
   ]
  },
  {
   "cell_type": "code",
   "execution_count": 70,
   "metadata": {},
   "outputs": [
    {
     "data": {
      "text/plain": [
       "Index(['years', 'states', 'pop', 'debt'], dtype='object')"
      ]
     },
     "execution_count": 70,
     "metadata": {},
     "output_type": "execute_result"
    }
   ],
   "source": [
    "frame2.columns"
   ]
  },
  {
   "cell_type": "code",
   "execution_count": 71,
   "metadata": {},
   "outputs": [
    {
     "data": {
      "text/plain": [
       "Index(['1st', '2nd', '3rd', '4rth'], dtype='object')"
      ]
     },
     "execution_count": 71,
     "metadata": {},
     "output_type": "execute_result"
    }
   ],
   "source": [
    "frame2.index"
   ]
  },
  {
   "cell_type": "code",
   "execution_count": 72,
   "metadata": {},
   "outputs": [],
   "source": [
    "# assigning constant to debt column\n",
    "frame2['debt']=16.5"
   ]
  },
  {
   "cell_type": "code",
   "execution_count": 73,
   "metadata": {},
   "outputs": [
    {
     "data": {
      "text/html": [
       "<div>\n",
       "<style scoped>\n",
       "    .dataframe tbody tr th:only-of-type {\n",
       "        vertical-align: middle;\n",
       "    }\n",
       "\n",
       "    .dataframe tbody tr th {\n",
       "        vertical-align: top;\n",
       "    }\n",
       "\n",
       "    .dataframe thead th {\n",
       "        text-align: right;\n",
       "    }\n",
       "</style>\n",
       "<table border=\"1\" class=\"dataframe\">\n",
       "  <thead>\n",
       "    <tr style=\"text-align: right;\">\n",
       "      <th></th>\n",
       "      <th>years</th>\n",
       "      <th>states</th>\n",
       "      <th>pop</th>\n",
       "      <th>debt</th>\n",
       "    </tr>\n",
       "  </thead>\n",
       "  <tbody>\n",
       "    <tr>\n",
       "      <td>1st</td>\n",
       "      <td>2000</td>\n",
       "      <td>punj</td>\n",
       "      <td>1.8</td>\n",
       "      <td>16.5</td>\n",
       "    </tr>\n",
       "    <tr>\n",
       "      <td>2nd</td>\n",
       "      <td>2001</td>\n",
       "      <td>sindh</td>\n",
       "      <td>1.7</td>\n",
       "      <td>16.5</td>\n",
       "    </tr>\n",
       "    <tr>\n",
       "      <td>3rd</td>\n",
       "      <td>2002</td>\n",
       "      <td>kpk</td>\n",
       "      <td>0.8</td>\n",
       "      <td>16.5</td>\n",
       "    </tr>\n",
       "    <tr>\n",
       "      <td>4rth</td>\n",
       "      <td>2003</td>\n",
       "      <td>bal</td>\n",
       "      <td>0.5</td>\n",
       "      <td>16.5</td>\n",
       "    </tr>\n",
       "  </tbody>\n",
       "</table>\n",
       "</div>"
      ],
      "text/plain": [
       "      years states  pop  debt\n",
       "1st    2000   punj  1.8  16.5\n",
       "2nd    2001  sindh  1.7  16.5\n",
       "3rd    2002    kpk  0.8  16.5\n",
       "4rth   2003    bal  0.5  16.5"
      ]
     },
     "execution_count": 73,
     "metadata": {},
     "output_type": "execute_result"
    }
   ],
   "source": [
    "frame2.head()"
   ]
  },
  {
   "cell_type": "code",
   "execution_count": 74,
   "metadata": {},
   "outputs": [
    {
     "data": {
      "text/plain": [
       "1st     16.5\n",
       "2nd     16.5\n",
       "3rd     16.5\n",
       "4rth    16.5\n",
       "Name: debt, dtype: float64"
      ]
     },
     "execution_count": 74,
     "metadata": {},
     "output_type": "execute_result"
    }
   ],
   "source": [
    "frame2.debt"
   ]
  },
  {
   "cell_type": "code",
   "execution_count": 75,
   "metadata": {},
   "outputs": [],
   "source": [
    "frame2.debt=1"
   ]
  },
  {
   "cell_type": "code",
   "execution_count": 76,
   "metadata": {},
   "outputs": [
    {
     "data": {
      "text/html": [
       "<div>\n",
       "<style scoped>\n",
       "    .dataframe tbody tr th:only-of-type {\n",
       "        vertical-align: middle;\n",
       "    }\n",
       "\n",
       "    .dataframe tbody tr th {\n",
       "        vertical-align: top;\n",
       "    }\n",
       "\n",
       "    .dataframe thead th {\n",
       "        text-align: right;\n",
       "    }\n",
       "</style>\n",
       "<table border=\"1\" class=\"dataframe\">\n",
       "  <thead>\n",
       "    <tr style=\"text-align: right;\">\n",
       "      <th></th>\n",
       "      <th>years</th>\n",
       "      <th>states</th>\n",
       "      <th>pop</th>\n",
       "      <th>debt</th>\n",
       "    </tr>\n",
       "  </thead>\n",
       "  <tbody>\n",
       "    <tr>\n",
       "      <td>1st</td>\n",
       "      <td>2000</td>\n",
       "      <td>punj</td>\n",
       "      <td>1.8</td>\n",
       "      <td>1</td>\n",
       "    </tr>\n",
       "    <tr>\n",
       "      <td>2nd</td>\n",
       "      <td>2001</td>\n",
       "      <td>sindh</td>\n",
       "      <td>1.7</td>\n",
       "      <td>1</td>\n",
       "    </tr>\n",
       "    <tr>\n",
       "      <td>3rd</td>\n",
       "      <td>2002</td>\n",
       "      <td>kpk</td>\n",
       "      <td>0.8</td>\n",
       "      <td>1</td>\n",
       "    </tr>\n",
       "    <tr>\n",
       "      <td>4rth</td>\n",
       "      <td>2003</td>\n",
       "      <td>bal</td>\n",
       "      <td>0.5</td>\n",
       "      <td>1</td>\n",
       "    </tr>\n",
       "  </tbody>\n",
       "</table>\n",
       "</div>"
      ],
      "text/plain": [
       "      years states  pop  debt\n",
       "1st    2000   punj  1.8     1\n",
       "2nd    2001  sindh  1.7     1\n",
       "3rd    2002    kpk  0.8     1\n",
       "4rth   2003    bal  0.5     1"
      ]
     },
     "execution_count": 76,
     "metadata": {},
     "output_type": "execute_result"
    }
   ],
   "source": [
    "frame2.head()"
   ]
  },
  {
   "cell_type": "code",
   "execution_count": 77,
   "metadata": {},
   "outputs": [
    {
     "name": "stdout",
     "output_type": "stream",
     "text": [
      "      years  debt\n",
      "1st    2000     1\n",
      "2nd    2001     1\n",
      "3rd    2002     1\n",
      "4rth   2003     1\n"
     ]
    }
   ],
   "source": [
    "#dictionary like notation \n",
    "print(frame2[['years','debt']])"
   ]
  },
  {
   "cell_type": "code",
   "execution_count": 78,
   "metadata": {},
   "outputs": [
    {
     "name": "stdout",
     "output_type": "stream",
     "text": [
      "1st     1\n",
      "2nd     1\n",
      "3rd     1\n",
      "4rth    1\n",
      "Name: debt, dtype: int64\n"
     ]
    }
   ],
   "source": [
    "print(frame2.debt)"
   ]
  },
  {
   "cell_type": "code",
   "execution_count": 79,
   "metadata": {},
   "outputs": [],
   "source": [
    "#assigning value to debt with arange() of numpy \n",
    "frame2['debt']=np.arange(len(frame2))"
   ]
  },
  {
   "cell_type": "code",
   "execution_count": 80,
   "metadata": {},
   "outputs": [
    {
     "name": "stdout",
     "output_type": "stream",
     "text": [
      "      years states  pop  debt\n",
      "1st    2000   punj  1.8     0\n",
      "2nd    2001  sindh  1.7     1\n",
      "3rd    2002    kpk  0.8     2\n",
      "4rth   2003    bal  0.5     3\n"
     ]
    }
   ],
   "source": [
    "print(frame2)"
   ]
  },
  {
   "cell_type": "code",
   "execution_count": 81,
   "metadata": {},
   "outputs": [],
   "source": [
    "frame2['eastern']=frame2.states=='punj'"
   ]
  },
  {
   "cell_type": "code",
   "execution_count": 82,
   "metadata": {},
   "outputs": [
    {
     "data": {
      "text/html": [
       "<div>\n",
       "<style scoped>\n",
       "    .dataframe tbody tr th:only-of-type {\n",
       "        vertical-align: middle;\n",
       "    }\n",
       "\n",
       "    .dataframe tbody tr th {\n",
       "        vertical-align: top;\n",
       "    }\n",
       "\n",
       "    .dataframe thead th {\n",
       "        text-align: right;\n",
       "    }\n",
       "</style>\n",
       "<table border=\"1\" class=\"dataframe\">\n",
       "  <thead>\n",
       "    <tr style=\"text-align: right;\">\n",
       "      <th></th>\n",
       "      <th>years</th>\n",
       "      <th>states</th>\n",
       "      <th>pop</th>\n",
       "      <th>debt</th>\n",
       "      <th>eastern</th>\n",
       "    </tr>\n",
       "  </thead>\n",
       "  <tbody>\n",
       "    <tr>\n",
       "      <td>1st</td>\n",
       "      <td>2000</td>\n",
       "      <td>punj</td>\n",
       "      <td>1.8</td>\n",
       "      <td>0</td>\n",
       "      <td>True</td>\n",
       "    </tr>\n",
       "    <tr>\n",
       "      <td>2nd</td>\n",
       "      <td>2001</td>\n",
       "      <td>sindh</td>\n",
       "      <td>1.7</td>\n",
       "      <td>1</td>\n",
       "      <td>False</td>\n",
       "    </tr>\n",
       "    <tr>\n",
       "      <td>3rd</td>\n",
       "      <td>2002</td>\n",
       "      <td>kpk</td>\n",
       "      <td>0.8</td>\n",
       "      <td>2</td>\n",
       "      <td>False</td>\n",
       "    </tr>\n",
       "    <tr>\n",
       "      <td>4rth</td>\n",
       "      <td>2003</td>\n",
       "      <td>bal</td>\n",
       "      <td>0.5</td>\n",
       "      <td>3</td>\n",
       "      <td>False</td>\n",
       "    </tr>\n",
       "  </tbody>\n",
       "</table>\n",
       "</div>"
      ],
      "text/plain": [
       "      years states  pop  debt  eastern\n",
       "1st    2000   punj  1.8     0     True\n",
       "2nd    2001  sindh  1.7     1    False\n",
       "3rd    2002    kpk  0.8     2    False\n",
       "4rth   2003    bal  0.5     3    False"
      ]
     },
     "execution_count": 82,
     "metadata": {},
     "output_type": "execute_result"
    }
   ],
   "source": [
    "frame2.head()"
   ]
  },
  {
   "cell_type": "code",
   "execution_count": 83,
   "metadata": {},
   "outputs": [],
   "source": [
    "#del method use to delete column\n",
    "del frame2['eastern']"
   ]
  },
  {
   "cell_type": "code",
   "execution_count": 84,
   "metadata": {},
   "outputs": [
    {
     "data": {
      "text/html": [
       "<div>\n",
       "<style scoped>\n",
       "    .dataframe tbody tr th:only-of-type {\n",
       "        vertical-align: middle;\n",
       "    }\n",
       "\n",
       "    .dataframe tbody tr th {\n",
       "        vertical-align: top;\n",
       "    }\n",
       "\n",
       "    .dataframe thead th {\n",
       "        text-align: right;\n",
       "    }\n",
       "</style>\n",
       "<table border=\"1\" class=\"dataframe\">\n",
       "  <thead>\n",
       "    <tr style=\"text-align: right;\">\n",
       "      <th></th>\n",
       "      <th>years</th>\n",
       "      <th>states</th>\n",
       "      <th>pop</th>\n",
       "      <th>debt</th>\n",
       "    </tr>\n",
       "  </thead>\n",
       "  <tbody>\n",
       "    <tr>\n",
       "      <td>1st</td>\n",
       "      <td>2000</td>\n",
       "      <td>punj</td>\n",
       "      <td>1.8</td>\n",
       "      <td>0</td>\n",
       "    </tr>\n",
       "    <tr>\n",
       "      <td>2nd</td>\n",
       "      <td>2001</td>\n",
       "      <td>sindh</td>\n",
       "      <td>1.7</td>\n",
       "      <td>1</td>\n",
       "    </tr>\n",
       "    <tr>\n",
       "      <td>3rd</td>\n",
       "      <td>2002</td>\n",
       "      <td>kpk</td>\n",
       "      <td>0.8</td>\n",
       "      <td>2</td>\n",
       "    </tr>\n",
       "    <tr>\n",
       "      <td>4rth</td>\n",
       "      <td>2003</td>\n",
       "      <td>bal</td>\n",
       "      <td>0.5</td>\n",
       "      <td>3</td>\n",
       "    </tr>\n",
       "  </tbody>\n",
       "</table>\n",
       "</div>"
      ],
      "text/plain": [
       "      years states  pop  debt\n",
       "1st    2000   punj  1.8     0\n",
       "2nd    2001  sindh  1.7     1\n",
       "3rd    2002    kpk  0.8     2\n",
       "4rth   2003    bal  0.5     3"
      ]
     },
     "execution_count": 84,
     "metadata": {},
     "output_type": "execute_result"
    }
   ],
   "source": [
    "frame2.head()"
   ]
  },
  {
   "cell_type": "code",
   "execution_count": 85,
   "metadata": {},
   "outputs": [
    {
     "data": {
      "text/plain": [
       "Index(['years', 'states', 'pop', 'debt'], dtype='object')"
      ]
     },
     "execution_count": 85,
     "metadata": {},
     "output_type": "execute_result"
    }
   ],
   "source": [
    "frame2.columns"
   ]
  },
  {
   "cell_type": "code",
   "execution_count": 86,
   "metadata": {},
   "outputs": [],
   "source": [
    "#creating dataframe with dic with in dic\n",
    "pop={'england':{2000:'4M',2001:'5M',2002:'5.5M'},\n",
    "    'pakistan':{2000:'6M',2001:'6.6M',2002:'7M'},\n",
    "     'india':{2001:'15M',2002:'20M'}\n",
    "    }"
   ]
  },
  {
   "cell_type": "code",
   "execution_count": 87,
   "metadata": {},
   "outputs": [],
   "source": [
    "frame3=pd.DataFrame(pop,index=[2001,2000,2002])"
   ]
  },
  {
   "cell_type": "code",
   "execution_count": 88,
   "metadata": {},
   "outputs": [
    {
     "data": {
      "text/html": [
       "<div>\n",
       "<style scoped>\n",
       "    .dataframe tbody tr th:only-of-type {\n",
       "        vertical-align: middle;\n",
       "    }\n",
       "\n",
       "    .dataframe tbody tr th {\n",
       "        vertical-align: top;\n",
       "    }\n",
       "\n",
       "    .dataframe thead th {\n",
       "        text-align: right;\n",
       "    }\n",
       "</style>\n",
       "<table border=\"1\" class=\"dataframe\">\n",
       "  <thead>\n",
       "    <tr style=\"text-align: right;\">\n",
       "      <th></th>\n",
       "      <th>england</th>\n",
       "      <th>pakistan</th>\n",
       "      <th>india</th>\n",
       "    </tr>\n",
       "  </thead>\n",
       "  <tbody>\n",
       "    <tr>\n",
       "      <td>2001</td>\n",
       "      <td>5M</td>\n",
       "      <td>6.6M</td>\n",
       "      <td>15M</td>\n",
       "    </tr>\n",
       "    <tr>\n",
       "      <td>2000</td>\n",
       "      <td>4M</td>\n",
       "      <td>6M</td>\n",
       "      <td>NaN</td>\n",
       "    </tr>\n",
       "    <tr>\n",
       "      <td>2002</td>\n",
       "      <td>5.5M</td>\n",
       "      <td>7M</td>\n",
       "      <td>20M</td>\n",
       "    </tr>\n",
       "  </tbody>\n",
       "</table>\n",
       "</div>"
      ],
      "text/plain": [
       "     england pakistan india\n",
       "2001      5M     6.6M   15M\n",
       "2000      4M       6M   NaN\n",
       "2002    5.5M       7M   20M"
      ]
     },
     "execution_count": 88,
     "metadata": {},
     "output_type": "execute_result"
    }
   ],
   "source": [
    "frame3\n"
   ]
  },
  {
   "cell_type": "code",
   "execution_count": 89,
   "metadata": {},
   "outputs": [],
   "source": [
    "frame3.index=[1,2,3]"
   ]
  },
  {
   "cell_type": "code",
   "execution_count": 90,
   "metadata": {},
   "outputs": [
    {
     "data": {
      "text/html": [
       "<div>\n",
       "<style scoped>\n",
       "    .dataframe tbody tr th:only-of-type {\n",
       "        vertical-align: middle;\n",
       "    }\n",
       "\n",
       "    .dataframe tbody tr th {\n",
       "        vertical-align: top;\n",
       "    }\n",
       "\n",
       "    .dataframe thead th {\n",
       "        text-align: right;\n",
       "    }\n",
       "</style>\n",
       "<table border=\"1\" class=\"dataframe\">\n",
       "  <thead>\n",
       "    <tr style=\"text-align: right;\">\n",
       "      <th></th>\n",
       "      <th>england</th>\n",
       "      <th>pakistan</th>\n",
       "      <th>india</th>\n",
       "    </tr>\n",
       "  </thead>\n",
       "  <tbody>\n",
       "    <tr>\n",
       "      <td>1</td>\n",
       "      <td>5M</td>\n",
       "      <td>6.6M</td>\n",
       "      <td>15M</td>\n",
       "    </tr>\n",
       "    <tr>\n",
       "      <td>2</td>\n",
       "      <td>4M</td>\n",
       "      <td>6M</td>\n",
       "      <td>NaN</td>\n",
       "    </tr>\n",
       "    <tr>\n",
       "      <td>3</td>\n",
       "      <td>5.5M</td>\n",
       "      <td>7M</td>\n",
       "      <td>20M</td>\n",
       "    </tr>\n",
       "  </tbody>\n",
       "</table>\n",
       "</div>"
      ],
      "text/plain": [
       "  england pakistan india\n",
       "1      5M     6.6M   15M\n",
       "2      4M       6M   NaN\n",
       "3    5.5M       7M   20M"
      ]
     },
     "execution_count": 90,
     "metadata": {},
     "output_type": "execute_result"
    }
   ],
   "source": [
    "frame3"
   ]
  },
  {
   "cell_type": "code",
   "execution_count": 93,
   "metadata": {},
   "outputs": [
    {
     "data": {
      "text/html": [
       "<div>\n",
       "<style scoped>\n",
       "    .dataframe tbody tr th:only-of-type {\n",
       "        vertical-align: middle;\n",
       "    }\n",
       "\n",
       "    .dataframe tbody tr th {\n",
       "        vertical-align: top;\n",
       "    }\n",
       "\n",
       "    .dataframe thead th {\n",
       "        text-align: right;\n",
       "    }\n",
       "</style>\n",
       "<table border=\"1\" class=\"dataframe\">\n",
       "  <thead>\n",
       "    <tr style=\"text-align: right;\">\n",
       "      <th></th>\n",
       "      <th>1</th>\n",
       "      <th>2</th>\n",
       "      <th>3</th>\n",
       "    </tr>\n",
       "  </thead>\n",
       "  <tbody>\n",
       "    <tr>\n",
       "      <td>eng</td>\n",
       "      <td>5M</td>\n",
       "      <td>4M</td>\n",
       "      <td>5.5M</td>\n",
       "    </tr>\n",
       "    <tr>\n",
       "      <td>pak</td>\n",
       "      <td>6.6M</td>\n",
       "      <td>6M</td>\n",
       "      <td>7M</td>\n",
       "    </tr>\n",
       "    <tr>\n",
       "      <td>ind</td>\n",
       "      <td>15M</td>\n",
       "      <td>NaN</td>\n",
       "      <td>20M</td>\n",
       "    </tr>\n",
       "  </tbody>\n",
       "</table>\n",
       "</div>"
      ],
      "text/plain": [
       "        1    2     3\n",
       "eng    5M   4M  5.5M\n",
       "pak  6.6M   6M    7M\n",
       "ind   15M  NaN   20M"
      ]
     },
     "execution_count": 93,
     "metadata": {},
     "output_type": "execute_result"
    }
   ],
   "source": [
    "frame3.T"
   ]
  },
  {
   "cell_type": "code",
   "execution_count": 98,
   "metadata": {},
   "outputs": [],
   "source": [
    "frame3.columns=['eng','pak','ind']"
   ]
  },
  {
   "cell_type": "code",
   "execution_count": 99,
   "metadata": {},
   "outputs": [
    {
     "data": {
      "text/html": [
       "<div>\n",
       "<style scoped>\n",
       "    .dataframe tbody tr th:only-of-type {\n",
       "        vertical-align: middle;\n",
       "    }\n",
       "\n",
       "    .dataframe tbody tr th {\n",
       "        vertical-align: top;\n",
       "    }\n",
       "\n",
       "    .dataframe thead th {\n",
       "        text-align: right;\n",
       "    }\n",
       "</style>\n",
       "<table border=\"1\" class=\"dataframe\">\n",
       "  <thead>\n",
       "    <tr style=\"text-align: right;\">\n",
       "      <th></th>\n",
       "      <th>eng</th>\n",
       "      <th>pak</th>\n",
       "      <th>ind</th>\n",
       "    </tr>\n",
       "  </thead>\n",
       "  <tbody>\n",
       "    <tr>\n",
       "      <td>1</td>\n",
       "      <td>5M</td>\n",
       "      <td>6.6M</td>\n",
       "      <td>15M</td>\n",
       "    </tr>\n",
       "    <tr>\n",
       "      <td>2</td>\n",
       "      <td>4M</td>\n",
       "      <td>6M</td>\n",
       "      <td>NaN</td>\n",
       "    </tr>\n",
       "    <tr>\n",
       "      <td>3</td>\n",
       "      <td>5.5M</td>\n",
       "      <td>7M</td>\n",
       "      <td>20M</td>\n",
       "    </tr>\n",
       "  </tbody>\n",
       "</table>\n",
       "</div>"
      ],
      "text/plain": [
       "    eng   pak  ind\n",
       "1    5M  6.6M  15M\n",
       "2    4M    6M  NaN\n",
       "3  5.5M    7M  20M"
      ]
     },
     "execution_count": 99,
     "metadata": {},
     "output_type": "execute_result"
    }
   ],
   "source": [
    "frame3.head()"
   ]
  },
  {
   "cell_type": "code",
   "execution_count": 100,
   "metadata": {},
   "outputs": [],
   "source": [
    "pdata={'england':frame3['eng'][:-1],\n",
    "       'pakistan':frame3['pak'][:2]\n",
    "      }"
   ]
  },
  {
   "cell_type": "code",
   "execution_count": 101,
   "metadata": {},
   "outputs": [],
   "source": [
    "frame4=pd.DataFrame(pdata)"
   ]
  },
  {
   "cell_type": "code",
   "execution_count": 102,
   "metadata": {},
   "outputs": [
    {
     "data": {
      "text/html": [
       "<div>\n",
       "<style scoped>\n",
       "    .dataframe tbody tr th:only-of-type {\n",
       "        vertical-align: middle;\n",
       "    }\n",
       "\n",
       "    .dataframe tbody tr th {\n",
       "        vertical-align: top;\n",
       "    }\n",
       "\n",
       "    .dataframe thead th {\n",
       "        text-align: right;\n",
       "    }\n",
       "</style>\n",
       "<table border=\"1\" class=\"dataframe\">\n",
       "  <thead>\n",
       "    <tr style=\"text-align: right;\">\n",
       "      <th></th>\n",
       "      <th>england</th>\n",
       "      <th>pakistan</th>\n",
       "    </tr>\n",
       "  </thead>\n",
       "  <tbody>\n",
       "    <tr>\n",
       "      <td>1</td>\n",
       "      <td>5M</td>\n",
       "      <td>6.6M</td>\n",
       "    </tr>\n",
       "    <tr>\n",
       "      <td>2</td>\n",
       "      <td>4M</td>\n",
       "      <td>6M</td>\n",
       "    </tr>\n",
       "  </tbody>\n",
       "</table>\n",
       "</div>"
      ],
      "text/plain": [
       "  england pakistan\n",
       "1      5M     6.6M\n",
       "2      4M       6M"
      ]
     },
     "execution_count": 102,
     "metadata": {},
     "output_type": "execute_result"
    }
   ],
   "source": [
    "frame4.head()"
   ]
  },
  {
   "cell_type": "code",
   "execution_count": 481,
   "metadata": {},
   "outputs": [],
   "source": [
    "frame4.index.name='years'\n"
   ]
  },
  {
   "cell_type": "code",
   "execution_count": 482,
   "metadata": {},
   "outputs": [],
   "source": [
    "frame4.columns.name='country'"
   ]
  },
  {
   "cell_type": "code",
   "execution_count": 483,
   "metadata": {},
   "outputs": [
    {
     "data": {
      "text/html": [
       "<div>\n",
       "<style scoped>\n",
       "    .dataframe tbody tr th:only-of-type {\n",
       "        vertical-align: middle;\n",
       "    }\n",
       "\n",
       "    .dataframe tbody tr th {\n",
       "        vertical-align: top;\n",
       "    }\n",
       "\n",
       "    .dataframe thead th {\n",
       "        text-align: right;\n",
       "    }\n",
       "</style>\n",
       "<table border=\"1\" class=\"dataframe\">\n",
       "  <thead>\n",
       "    <tr style=\"text-align: right;\">\n",
       "      <th>country</th>\n",
       "      <th>england</th>\n",
       "      <th>pakistan</th>\n",
       "    </tr>\n",
       "    <tr>\n",
       "      <th>years</th>\n",
       "      <th></th>\n",
       "      <th></th>\n",
       "    </tr>\n",
       "  </thead>\n",
       "  <tbody>\n",
       "    <tr>\n",
       "      <td>1</td>\n",
       "      <td>5M</td>\n",
       "      <td>15M</td>\n",
       "    </tr>\n",
       "    <tr>\n",
       "      <td>2</td>\n",
       "      <td>4M</td>\n",
       "      <td>NaN</td>\n",
       "    </tr>\n",
       "  </tbody>\n",
       "</table>\n",
       "</div>"
      ],
      "text/plain": [
       "country england pakistan\n",
       "years                   \n",
       "1            5M      15M\n",
       "2            4M      NaN"
      ]
     },
     "execution_count": 483,
     "metadata": {},
     "output_type": "execute_result"
    }
   ],
   "source": [
    "frame4.head()"
   ]
  },
  {
   "cell_type": "code",
   "execution_count": 484,
   "metadata": {},
   "outputs": [
    {
     "data": {
      "text/plain": [
       "array([['5M', '15M'],\n",
       "       ['4M', nan]], dtype=object)"
      ]
     },
     "execution_count": 484,
     "metadata": {},
     "output_type": "execute_result"
    }
   ],
   "source": [
    "frame4.values"
   ]
  },
  {
   "cell_type": "code",
   "execution_count": 485,
   "metadata": {},
   "outputs": [],
   "source": [
    "list_of_dic=[{1,2,3,9},{4,5,6,7}]"
   ]
  },
  {
   "cell_type": "code",
   "execution_count": 494,
   "metadata": {},
   "outputs": [],
   "source": [
    "frame5=pd.DataFrame(list_of_dic)"
   ]
  },
  {
   "cell_type": "code",
   "execution_count": 499,
   "metadata": {},
   "outputs": [
    {
     "data": {
      "text/html": [
       "<div>\n",
       "<style scoped>\n",
       "    .dataframe tbody tr th:only-of-type {\n",
       "        vertical-align: middle;\n",
       "    }\n",
       "\n",
       "    .dataframe tbody tr th {\n",
       "        vertical-align: top;\n",
       "    }\n",
       "\n",
       "    .dataframe thead th {\n",
       "        text-align: right;\n",
       "    }\n",
       "</style>\n",
       "<table border=\"1\" class=\"dataframe\">\n",
       "  <thead>\n",
       "    <tr style=\"text-align: right;\">\n",
       "      <th></th>\n",
       "      <th>0</th>\n",
       "      <th>1</th>\n",
       "      <th>2</th>\n",
       "      <th>3</th>\n",
       "    </tr>\n",
       "  </thead>\n",
       "  <tbody>\n",
       "    <tr>\n",
       "      <td>0</td>\n",
       "      <td>1</td>\n",
       "      <td>2</td>\n",
       "      <td>3</td>\n",
       "      <td>9</td>\n",
       "    </tr>\n",
       "    <tr>\n",
       "      <td>1</td>\n",
       "      <td>4</td>\n",
       "      <td>5</td>\n",
       "      <td>6</td>\n",
       "      <td>7</td>\n",
       "    </tr>\n",
       "  </tbody>\n",
       "</table>\n",
       "</div>"
      ],
      "text/plain": [
       "   0  1  2  3\n",
       "0  1  2  3  9\n",
       "1  4  5  6  7"
      ]
     },
     "execution_count": 499,
     "metadata": {},
     "output_type": "execute_result"
    }
   ],
   "source": [
    "\n",
    "frame5.head()"
   ]
  },
  {
   "cell_type": "code",
   "execution_count": 3,
   "metadata": {},
   "outputs": [],
   "source": [
    "dFrame=pd.DataFrame(np.random.rand(4,3),columns=list('abc'), index=[1,2,3,4])"
   ]
  },
  {
   "cell_type": "code",
   "execution_count": 4,
   "metadata": {},
   "outputs": [
    {
     "name": "stdout",
     "output_type": "stream",
     "text": [
      "          a         b         c\n",
      "1  0.576491  0.631145  0.371985\n",
      "2  0.658084  0.325008  0.896026\n",
      "3  0.197975  0.083885  0.934492\n",
      "4  0.431863  0.287033  0.696914\n"
     ]
    }
   ],
   "source": [
    "print(dFrame)"
   ]
  },
  {
   "cell_type": "code",
   "execution_count": 6,
   "metadata": {},
   "outputs": [
    {
     "name": "stdout",
     "output_type": "stream",
     "text": [
      "          a         b         c\n",
      "1  0.576491  0.631145  0.371985\n",
      "2  0.658084  0.325008  0.896026\n",
      "3  0.197975  0.083885  0.934492\n",
      "4  0.431863  0.287033  0.696914\n"
     ]
    }
   ],
   "source": [
    "#use to print positive values only\n",
    "print(np.abs(dFrame))"
   ]
  },
  {
   "cell_type": "code",
   "execution_count": 75,
   "metadata": {},
   "outputs": [],
   "source": [
    "mini=dFrame['b'].min()"
   ]
  },
  {
   "cell_type": "code",
   "execution_count": 76,
   "metadata": {},
   "outputs": [],
   "source": [
    "maxi=dFrame['b'].max()"
   ]
  },
  {
   "cell_type": "code",
   "execution_count": 78,
   "metadata": {},
   "outputs": [
    {
     "name": "stdout",
     "output_type": "stream",
     "text": [
      "0.5472602557781271\n"
     ]
    }
   ],
   "source": [
    "print(maxi-mini)"
   ]
  },
  {
   "cell_type": "code",
   "execution_count": 79,
   "metadata": {},
   "outputs": [],
   "source": [
    "f=lambda x:x.max() - x.min()\n",
    "df=dFrame.apply(f)"
   ]
  },
  {
   "cell_type": "code",
   "execution_count": 80,
   "metadata": {},
   "outputs": [
    {
     "name": "stdout",
     "output_type": "stream",
     "text": [
      "a    0.460109\n",
      "b    0.547260\n",
      "c    0.562507\n",
      "dtype: float64 <class 'pandas.core.series.Series'>\n"
     ]
    }
   ],
   "source": [
    "print(df,type(df))"
   ]
  },
  {
   "cell_type": "code",
   "execution_count": 81,
   "metadata": {},
   "outputs": [
    {
     "name": "stdout",
     "output_type": "stream",
     "text": [
      "1    0.259161\n",
      "2    0.571018\n",
      "3    0.850607\n",
      "4    0.409881\n",
      "dtype: float64\n"
     ]
    }
   ],
   "source": [
    "df=dFrame.apply(f,axis=1)\n",
    "print(df)"
   ]
  },
  {
   "cell_type": "code",
   "execution_count": null,
   "metadata": {},
   "outputs": [],
   "source": []
  },
  {
   "cell_type": "code",
   "execution_count": 82,
   "metadata": {},
   "outputs": [],
   "source": [
    "def min_max(x):\n",
    "    \n",
    "    return pd.Series([x.max() , x.min()],index=['max','min'])"
   ]
  },
  {
   "cell_type": "code",
   "execution_count": 83,
   "metadata": {},
   "outputs": [
    {
     "name": "stdout",
     "output_type": "stream",
     "text": [
      "            a         b         c\n",
      "max  0.658084  0.631145  0.934492\n",
      "min  0.197975  0.083885  0.371985\n"
     ]
    }
   ],
   "source": [
    "dfi=dFrame.apply(min_max)\n",
    "print(dfi)"
   ]
  },
  {
   "cell_type": "code",
   "execution_count": 97,
   "metadata": {},
   "outputs": [],
   "source": [
    "frame=pd.DataFrame(np.arange(8).reshape(2,4),index=['three','one'],columns=['d','a','b','c'])"
   ]
  },
  {
   "cell_type": "code",
   "execution_count": 98,
   "metadata": {},
   "outputs": [
    {
     "data": {
      "text/html": [
       "<div>\n",
       "<style scoped>\n",
       "    .dataframe tbody tr th:only-of-type {\n",
       "        vertical-align: middle;\n",
       "    }\n",
       "\n",
       "    .dataframe tbody tr th {\n",
       "        vertical-align: top;\n",
       "    }\n",
       "\n",
       "    .dataframe thead th {\n",
       "        text-align: right;\n",
       "    }\n",
       "</style>\n",
       "<table border=\"1\" class=\"dataframe\">\n",
       "  <thead>\n",
       "    <tr style=\"text-align: right;\">\n",
       "      <th></th>\n",
       "      <th>d</th>\n",
       "      <th>a</th>\n",
       "      <th>b</th>\n",
       "      <th>c</th>\n",
       "    </tr>\n",
       "  </thead>\n",
       "  <tbody>\n",
       "    <tr>\n",
       "      <td>three</td>\n",
       "      <td>0</td>\n",
       "      <td>1</td>\n",
       "      <td>2</td>\n",
       "      <td>3</td>\n",
       "    </tr>\n",
       "    <tr>\n",
       "      <td>one</td>\n",
       "      <td>4</td>\n",
       "      <td>5</td>\n",
       "      <td>6</td>\n",
       "      <td>7</td>\n",
       "    </tr>\n",
       "  </tbody>\n",
       "</table>\n",
       "</div>"
      ],
      "text/plain": [
       "       d  a  b  c\n",
       "three  0  1  2  3\n",
       "one    4  5  6  7"
      ]
     },
     "execution_count": 98,
     "metadata": {},
     "output_type": "execute_result"
    }
   ],
   "source": [
    "frame"
   ]
  },
  {
   "cell_type": "code",
   "execution_count": 99,
   "metadata": {},
   "outputs": [
    {
     "name": "stdout",
     "output_type": "stream",
     "text": [
      "       d  c  b  a\n",
      "three  0  3  2  1\n",
      "one    4  7  6  5\n"
     ]
    }
   ],
   "source": [
    "print(frame.sort_index(axis=1,ascending=False))"
   ]
  },
  {
   "cell_type": "code",
   "execution_count": 100,
   "metadata": {},
   "outputs": [
    {
     "name": "stdout",
     "output_type": "stream",
     "text": [
      "       a  b  c  d\n",
      "three  1  2  3  0\n",
      "one    5  6  7  4\n"
     ]
    }
   ],
   "source": [
    "print(frame.sort_index(axis=1))"
   ]
  },
  {
   "cell_type": "code",
   "execution_count": 101,
   "metadata": {},
   "outputs": [
    {
     "name": "stdout",
     "output_type": "stream",
     "text": [
      "       d  a  b  c\n",
      "three  0  1  2  3\n",
      "one    4  5  6  7\n"
     ]
    }
   ],
   "source": [
    "print(frame.sort_index(axis=0,ascending=False))"
   ]
  },
  {
   "cell_type": "code",
   "execution_count": 102,
   "metadata": {},
   "outputs": [
    {
     "name": "stdout",
     "output_type": "stream",
     "text": [
      "       d  a  b  c\n",
      "one    4  5  6  7\n",
      "three  0  1  2  3\n"
     ]
    }
   ],
   "source": [
    "print(frame.sort_index(axis=0,ascending=True))"
   ]
  },
  {
   "cell_type": "code",
   "execution_count": 103,
   "metadata": {},
   "outputs": [
    {
     "name": "stdout",
     "output_type": "stream",
     "text": [
      "       d  a  b  c\n",
      "three  0  1  2  3\n",
      "one    4  5  6  7\n"
     ]
    }
   ],
   "source": [
    "print(frame.sort_values(by='d'))"
   ]
  },
  {
   "cell_type": "code",
   "execution_count": 105,
   "metadata": {},
   "outputs": [
    {
     "name": "stdout",
     "output_type": "stream",
     "text": [
      "         d    a    b    c\n",
      "three  2.0  2.0  2.0  2.0\n",
      "one    1.0  1.0  1.0  1.0\n"
     ]
    }
   ],
   "source": [
    "print(frame.rank(ascending=False,method='max'))"
   ]
  },
  {
   "cell_type": "code",
   "execution_count": 106,
   "metadata": {},
   "outputs": [
    {
     "name": "stdout",
     "output_type": "stream",
     "text": [
      "         d    a    b    c\n",
      "three  1.0  1.0  1.0  1.0\n",
      "one    2.0  2.0  2.0  2.0\n"
     ]
    }
   ],
   "source": [
    "print(frame.rank(ascending=True,method='min'))"
   ]
  },
  {
   "cell_type": "markdown",
   "metadata": {},
   "source": [
    "# Arthimetic and Data Alignment"
   ]
  },
  {
   "cell_type": "code",
   "execution_count": 107,
   "metadata": {},
   "outputs": [],
   "source": [
    "df1=pd.DataFrame(np.arange(9).reshape(3,3),columns=list('bcd'),index=['pun','sindh','bal'])"
   ]
  },
  {
   "cell_type": "code",
   "execution_count": 108,
   "metadata": {},
   "outputs": [],
   "source": [
    "df2=pd.DataFrame(np.arange(12).reshape(4,3),columns=list('bde'),index=['pun','sindh','bal','kpk'])"
   ]
  },
  {
   "cell_type": "code",
   "execution_count": 110,
   "metadata": {},
   "outputs": [
    {
     "name": "stdout",
     "output_type": "stream",
     "text": [
      "       b  c  d\n",
      "pun    0  1  2\n",
      "sindh  3  4  5\n",
      "bal    6  7  8\n",
      "       b   d   e\n",
      "pun    0   1   2\n",
      "sindh  3   4   5\n",
      "bal    6   7   8\n",
      "kpk    9  10  11\n",
      "          b   c     d   e\n",
      "bal    12.0 NaN  15.0 NaN\n",
      "kpk     NaN NaN   NaN NaN\n",
      "pun     0.0 NaN   3.0 NaN\n",
      "sindh   6.0 NaN   9.0 NaN\n"
     ]
    }
   ],
   "source": [
    "print(df1)\n",
    "print(df2)\n",
    "df3=df1+df2\n",
    "print(df3)"
   ]
  },
  {
   "cell_type": "markdown",
   "metadata": {},
   "source": [
    "# Arithmetic method with fill values"
   ]
  },
  {
   "cell_type": "code",
   "execution_count": 111,
   "metadata": {},
   "outputs": [
    {
     "name": "stdout",
     "output_type": "stream",
     "text": [
      "          b    c     d     e\n",
      "bal    12.0  7.0  15.0   8.0\n",
      "kpk     9.0  NaN  10.0  11.0\n",
      "pun     0.0  1.0   3.0   2.0\n",
      "sindh   6.0  4.0   9.0   5.0\n"
     ]
    }
   ],
   "source": [
    "df3=df1.add(df2, fill_value=0)\n",
    "print(df3)"
   ]
  },
  {
   "cell_type": "markdown",
   "metadata": {},
   "source": [
    "# Operation Between DataFrame and Series"
   ]
  },
  {
   "cell_type": "code",
   "execution_count": 130,
   "metadata": {},
   "outputs": [],
   "source": [
    "dataFrame1=pd.DataFrame(np.arange(12).reshape(4,3),index=list('1234'),columns=['a','b','c'])"
   ]
  },
  {
   "cell_type": "code",
   "execution_count": 131,
   "metadata": {},
   "outputs": [
    {
     "data": {
      "text/html": [
       "<div>\n",
       "<style scoped>\n",
       "    .dataframe tbody tr th:only-of-type {\n",
       "        vertical-align: middle;\n",
       "    }\n",
       "\n",
       "    .dataframe tbody tr th {\n",
       "        vertical-align: top;\n",
       "    }\n",
       "\n",
       "    .dataframe thead th {\n",
       "        text-align: right;\n",
       "    }\n",
       "</style>\n",
       "<table border=\"1\" class=\"dataframe\">\n",
       "  <thead>\n",
       "    <tr style=\"text-align: right;\">\n",
       "      <th></th>\n",
       "      <th>a</th>\n",
       "      <th>b</th>\n",
       "      <th>c</th>\n",
       "    </tr>\n",
       "  </thead>\n",
       "  <tbody>\n",
       "    <tr>\n",
       "      <td>1</td>\n",
       "      <td>0</td>\n",
       "      <td>1</td>\n",
       "      <td>2</td>\n",
       "    </tr>\n",
       "    <tr>\n",
       "      <td>2</td>\n",
       "      <td>3</td>\n",
       "      <td>4</td>\n",
       "      <td>5</td>\n",
       "    </tr>\n",
       "    <tr>\n",
       "      <td>3</td>\n",
       "      <td>6</td>\n",
       "      <td>7</td>\n",
       "      <td>8</td>\n",
       "    </tr>\n",
       "    <tr>\n",
       "      <td>4</td>\n",
       "      <td>9</td>\n",
       "      <td>10</td>\n",
       "      <td>11</td>\n",
       "    </tr>\n",
       "  </tbody>\n",
       "</table>\n",
       "</div>"
      ],
      "text/plain": [
       "   a   b   c\n",
       "1  0   1   2\n",
       "2  3   4   5\n",
       "3  6   7   8\n",
       "4  9  10  11"
      ]
     },
     "execution_count": 131,
     "metadata": {},
     "output_type": "execute_result"
    }
   ],
   "source": [
    "dataFrame1"
   ]
  },
  {
   "cell_type": "code",
   "execution_count": 132,
   "metadata": {},
   "outputs": [
    {
     "name": "stdout",
     "output_type": "stream",
     "text": [
      "a    0\n",
      "b    1\n",
      "c    2\n",
      "dtype: int32\n"
     ]
    }
   ],
   "source": [
    "series1=pd.Series(np.arange(3),index=list('abc'))\n",
    "print(series1)"
   ]
  },
  {
   "cell_type": "code",
   "execution_count": 133,
   "metadata": {},
   "outputs": [
    {
     "data": {
      "text/html": [
       "<div>\n",
       "<style scoped>\n",
       "    .dataframe tbody tr th:only-of-type {\n",
       "        vertical-align: middle;\n",
       "    }\n",
       "\n",
       "    .dataframe tbody tr th {\n",
       "        vertical-align: top;\n",
       "    }\n",
       "\n",
       "    .dataframe thead th {\n",
       "        text-align: right;\n",
       "    }\n",
       "</style>\n",
       "<table border=\"1\" class=\"dataframe\">\n",
       "  <thead>\n",
       "    <tr style=\"text-align: right;\">\n",
       "      <th></th>\n",
       "      <th>a</th>\n",
       "      <th>b</th>\n",
       "      <th>c</th>\n",
       "    </tr>\n",
       "  </thead>\n",
       "  <tbody>\n",
       "    <tr>\n",
       "      <td>1</td>\n",
       "      <td>0</td>\n",
       "      <td>0</td>\n",
       "      <td>0</td>\n",
       "    </tr>\n",
       "    <tr>\n",
       "      <td>2</td>\n",
       "      <td>3</td>\n",
       "      <td>3</td>\n",
       "      <td>3</td>\n",
       "    </tr>\n",
       "    <tr>\n",
       "      <td>3</td>\n",
       "      <td>6</td>\n",
       "      <td>6</td>\n",
       "      <td>6</td>\n",
       "    </tr>\n",
       "    <tr>\n",
       "      <td>4</td>\n",
       "      <td>9</td>\n",
       "      <td>9</td>\n",
       "      <td>9</td>\n",
       "    </tr>\n",
       "  </tbody>\n",
       "</table>\n",
       "</div>"
      ],
      "text/plain": [
       "   a  b  c\n",
       "1  0  0  0\n",
       "2  3  3  3\n",
       "3  6  6  6\n",
       "4  9  9  9"
      ]
     },
     "execution_count": 133,
     "metadata": {},
     "output_type": "execute_result"
    }
   ],
   "source": [
    "dataFrame1-series1"
   ]
  },
  {
   "cell_type": "code",
   "execution_count": 134,
   "metadata": {},
   "outputs": [
    {
     "data": {
      "text/html": [
       "<div>\n",
       "<style scoped>\n",
       "    .dataframe tbody tr th:only-of-type {\n",
       "        vertical-align: middle;\n",
       "    }\n",
       "\n",
       "    .dataframe tbody tr th {\n",
       "        vertical-align: top;\n",
       "    }\n",
       "\n",
       "    .dataframe thead th {\n",
       "        text-align: right;\n",
       "    }\n",
       "</style>\n",
       "<table border=\"1\" class=\"dataframe\">\n",
       "  <thead>\n",
       "    <tr style=\"text-align: right;\">\n",
       "      <th></th>\n",
       "      <th>a</th>\n",
       "      <th>b</th>\n",
       "      <th>c</th>\n",
       "    </tr>\n",
       "  </thead>\n",
       "  <tbody>\n",
       "    <tr>\n",
       "      <td>1</td>\n",
       "      <td>0</td>\n",
       "      <td>1</td>\n",
       "      <td>4</td>\n",
       "    </tr>\n",
       "    <tr>\n",
       "      <td>2</td>\n",
       "      <td>0</td>\n",
       "      <td>4</td>\n",
       "      <td>10</td>\n",
       "    </tr>\n",
       "    <tr>\n",
       "      <td>3</td>\n",
       "      <td>0</td>\n",
       "      <td>7</td>\n",
       "      <td>16</td>\n",
       "    </tr>\n",
       "    <tr>\n",
       "      <td>4</td>\n",
       "      <td>0</td>\n",
       "      <td>10</td>\n",
       "      <td>22</td>\n",
       "    </tr>\n",
       "  </tbody>\n",
       "</table>\n",
       "</div>"
      ],
      "text/plain": [
       "   a   b   c\n",
       "1  0   1   4\n",
       "2  0   4  10\n",
       "3  0   7  16\n",
       "4  0  10  22"
      ]
     },
     "execution_count": 134,
     "metadata": {},
     "output_type": "execute_result"
    }
   ],
   "source": [
    "dataFrame1*series1"
   ]
  },
  {
   "cell_type": "markdown",
   "metadata": {},
   "source": [
    "# Deleting row and columns in Dataframe"
   ]
  },
  {
   "cell_type": "code",
   "execution_count": 135,
   "metadata": {},
   "outputs": [
    {
     "data": {
      "text/html": [
       "<div>\n",
       "<style scoped>\n",
       "    .dataframe tbody tr th:only-of-type {\n",
       "        vertical-align: middle;\n",
       "    }\n",
       "\n",
       "    .dataframe tbody tr th {\n",
       "        vertical-align: top;\n",
       "    }\n",
       "\n",
       "    .dataframe thead th {\n",
       "        text-align: right;\n",
       "    }\n",
       "</style>\n",
       "<table border=\"1\" class=\"dataframe\">\n",
       "  <thead>\n",
       "    <tr style=\"text-align: right;\">\n",
       "      <th></th>\n",
       "      <th>a</th>\n",
       "      <th>b</th>\n",
       "      <th>c</th>\n",
       "    </tr>\n",
       "  </thead>\n",
       "  <tbody>\n",
       "    <tr>\n",
       "      <td>1</td>\n",
       "      <td>0</td>\n",
       "      <td>1</td>\n",
       "      <td>2</td>\n",
       "    </tr>\n",
       "    <tr>\n",
       "      <td>2</td>\n",
       "      <td>3</td>\n",
       "      <td>4</td>\n",
       "      <td>5</td>\n",
       "    </tr>\n",
       "    <tr>\n",
       "      <td>3</td>\n",
       "      <td>6</td>\n",
       "      <td>7</td>\n",
       "      <td>8</td>\n",
       "    </tr>\n",
       "    <tr>\n",
       "      <td>4</td>\n",
       "      <td>9</td>\n",
       "      <td>10</td>\n",
       "      <td>11</td>\n",
       "    </tr>\n",
       "  </tbody>\n",
       "</table>\n",
       "</div>"
      ],
      "text/plain": [
       "   a   b   c\n",
       "1  0   1   2\n",
       "2  3   4   5\n",
       "3  6   7   8\n",
       "4  9  10  11"
      ]
     },
     "execution_count": 135,
     "metadata": {},
     "output_type": "execute_result"
    }
   ],
   "source": [
    "dataFrame1"
   ]
  },
  {
   "cell_type": "code",
   "execution_count": 136,
   "metadata": {},
   "outputs": [
    {
     "data": {
      "text/html": [
       "<div>\n",
       "<style scoped>\n",
       "    .dataframe tbody tr th:only-of-type {\n",
       "        vertical-align: middle;\n",
       "    }\n",
       "\n",
       "    .dataframe tbody tr th {\n",
       "        vertical-align: top;\n",
       "    }\n",
       "\n",
       "    .dataframe thead th {\n",
       "        text-align: right;\n",
       "    }\n",
       "</style>\n",
       "<table border=\"1\" class=\"dataframe\">\n",
       "  <thead>\n",
       "    <tr style=\"text-align: right;\">\n",
       "      <th></th>\n",
       "      <th>a</th>\n",
       "      <th>b</th>\n",
       "    </tr>\n",
       "  </thead>\n",
       "  <tbody>\n",
       "    <tr>\n",
       "      <td>1</td>\n",
       "      <td>0</td>\n",
       "      <td>1</td>\n",
       "    </tr>\n",
       "    <tr>\n",
       "      <td>2</td>\n",
       "      <td>3</td>\n",
       "      <td>4</td>\n",
       "    </tr>\n",
       "    <tr>\n",
       "      <td>3</td>\n",
       "      <td>6</td>\n",
       "      <td>7</td>\n",
       "    </tr>\n",
       "    <tr>\n",
       "      <td>4</td>\n",
       "      <td>9</td>\n",
       "      <td>10</td>\n",
       "    </tr>\n",
       "  </tbody>\n",
       "</table>\n",
       "</div>"
      ],
      "text/plain": [
       "   a   b\n",
       "1  0   1\n",
       "2  3   4\n",
       "3  6   7\n",
       "4  9  10"
      ]
     },
     "execution_count": 136,
     "metadata": {},
     "output_type": "execute_result"
    }
   ],
   "source": [
    "#DELETING COLUMN WITHOUT INPLACE METHOD\n",
    "dataFrame1.drop('c',axis=1)"
   ]
  },
  {
   "cell_type": "code",
   "execution_count": 137,
   "metadata": {},
   "outputs": [
    {
     "data": {
      "text/html": [
       "<div>\n",
       "<style scoped>\n",
       "    .dataframe tbody tr th:only-of-type {\n",
       "        vertical-align: middle;\n",
       "    }\n",
       "\n",
       "    .dataframe tbody tr th {\n",
       "        vertical-align: top;\n",
       "    }\n",
       "\n",
       "    .dataframe thead th {\n",
       "        text-align: right;\n",
       "    }\n",
       "</style>\n",
       "<table border=\"1\" class=\"dataframe\">\n",
       "  <thead>\n",
       "    <tr style=\"text-align: right;\">\n",
       "      <th></th>\n",
       "      <th>a</th>\n",
       "      <th>b</th>\n",
       "      <th>c</th>\n",
       "    </tr>\n",
       "  </thead>\n",
       "  <tbody>\n",
       "    <tr>\n",
       "      <td>1</td>\n",
       "      <td>0</td>\n",
       "      <td>1</td>\n",
       "      <td>2</td>\n",
       "    </tr>\n",
       "    <tr>\n",
       "      <td>2</td>\n",
       "      <td>3</td>\n",
       "      <td>4</td>\n",
       "      <td>5</td>\n",
       "    </tr>\n",
       "    <tr>\n",
       "      <td>3</td>\n",
       "      <td>6</td>\n",
       "      <td>7</td>\n",
       "      <td>8</td>\n",
       "    </tr>\n",
       "    <tr>\n",
       "      <td>4</td>\n",
       "      <td>9</td>\n",
       "      <td>10</td>\n",
       "      <td>11</td>\n",
       "    </tr>\n",
       "  </tbody>\n",
       "</table>\n",
       "</div>"
      ],
      "text/plain": [
       "   a   b   c\n",
       "1  0   1   2\n",
       "2  3   4   5\n",
       "3  6   7   8\n",
       "4  9  10  11"
      ]
     },
     "execution_count": 137,
     "metadata": {},
     "output_type": "execute_result"
    }
   ],
   "source": [
    "dataFrame1"
   ]
  },
  {
   "cell_type": "code",
   "execution_count": 138,
   "metadata": {},
   "outputs": [],
   "source": [
    "#DELETING COLUMN WITH INPLACE METHOD\n",
    "dataFrame1.drop('c',axis=1,inplace=True)"
   ]
  },
  {
   "cell_type": "code",
   "execution_count": 139,
   "metadata": {},
   "outputs": [
    {
     "data": {
      "text/html": [
       "<div>\n",
       "<style scoped>\n",
       "    .dataframe tbody tr th:only-of-type {\n",
       "        vertical-align: middle;\n",
       "    }\n",
       "\n",
       "    .dataframe tbody tr th {\n",
       "        vertical-align: top;\n",
       "    }\n",
       "\n",
       "    .dataframe thead th {\n",
       "        text-align: right;\n",
       "    }\n",
       "</style>\n",
       "<table border=\"1\" class=\"dataframe\">\n",
       "  <thead>\n",
       "    <tr style=\"text-align: right;\">\n",
       "      <th></th>\n",
       "      <th>a</th>\n",
       "      <th>b</th>\n",
       "    </tr>\n",
       "  </thead>\n",
       "  <tbody>\n",
       "    <tr>\n",
       "      <td>1</td>\n",
       "      <td>0</td>\n",
       "      <td>1</td>\n",
       "    </tr>\n",
       "    <tr>\n",
       "      <td>2</td>\n",
       "      <td>3</td>\n",
       "      <td>4</td>\n",
       "    </tr>\n",
       "    <tr>\n",
       "      <td>3</td>\n",
       "      <td>6</td>\n",
       "      <td>7</td>\n",
       "    </tr>\n",
       "    <tr>\n",
       "      <td>4</td>\n",
       "      <td>9</td>\n",
       "      <td>10</td>\n",
       "    </tr>\n",
       "  </tbody>\n",
       "</table>\n",
       "</div>"
      ],
      "text/plain": [
       "   a   b\n",
       "1  0   1\n",
       "2  3   4\n",
       "3  6   7\n",
       "4  9  10"
      ]
     },
     "execution_count": 139,
     "metadata": {},
     "output_type": "execute_result"
    }
   ],
   "source": [
    "dataFrame1"
   ]
  },
  {
   "cell_type": "code",
   "execution_count": 144,
   "metadata": {},
   "outputs": [
    {
     "data": {
      "text/html": [
       "<div>\n",
       "<style scoped>\n",
       "    .dataframe tbody tr th:only-of-type {\n",
       "        vertical-align: middle;\n",
       "    }\n",
       "\n",
       "    .dataframe tbody tr th {\n",
       "        vertical-align: top;\n",
       "    }\n",
       "\n",
       "    .dataframe thead th {\n",
       "        text-align: right;\n",
       "    }\n",
       "</style>\n",
       "<table border=\"1\" class=\"dataframe\">\n",
       "  <thead>\n",
       "    <tr style=\"text-align: right;\">\n",
       "      <th></th>\n",
       "      <th>a</th>\n",
       "      <th>b</th>\n",
       "    </tr>\n",
       "  </thead>\n",
       "  <tbody>\n",
       "    <tr>\n",
       "      <td>2</td>\n",
       "      <td>3</td>\n",
       "      <td>4</td>\n",
       "    </tr>\n",
       "    <tr>\n",
       "      <td>3</td>\n",
       "      <td>6</td>\n",
       "      <td>7</td>\n",
       "    </tr>\n",
       "    <tr>\n",
       "      <td>4</td>\n",
       "      <td>9</td>\n",
       "      <td>10</td>\n",
       "    </tr>\n",
       "  </tbody>\n",
       "</table>\n",
       "</div>"
      ],
      "text/plain": [
       "   a   b\n",
       "2  3   4\n",
       "3  6   7\n",
       "4  9  10"
      ]
     },
     "execution_count": 144,
     "metadata": {},
     "output_type": "execute_result"
    }
   ],
   "source": [
    "#DELETING ROW FROM DATAFRAME without inplace method\n",
    "dataFrame1.drop('1') # by DEFAULT DATAFRAME AXIS=0 AND DELEE ROW FROM DATAFRAME"
   ]
  },
  {
   "cell_type": "code",
   "execution_count": 145,
   "metadata": {},
   "outputs": [],
   "source": [
    "dataFrame1.drop('1',inplace=True)"
   ]
  },
  {
   "cell_type": "code",
   "execution_count": 146,
   "metadata": {},
   "outputs": [
    {
     "data": {
      "text/html": [
       "<div>\n",
       "<style scoped>\n",
       "    .dataframe tbody tr th:only-of-type {\n",
       "        vertical-align: middle;\n",
       "    }\n",
       "\n",
       "    .dataframe tbody tr th {\n",
       "        vertical-align: top;\n",
       "    }\n",
       "\n",
       "    .dataframe thead th {\n",
       "        text-align: right;\n",
       "    }\n",
       "</style>\n",
       "<table border=\"1\" class=\"dataframe\">\n",
       "  <thead>\n",
       "    <tr style=\"text-align: right;\">\n",
       "      <th></th>\n",
       "      <th>a</th>\n",
       "      <th>b</th>\n",
       "    </tr>\n",
       "  </thead>\n",
       "  <tbody>\n",
       "    <tr>\n",
       "      <td>2</td>\n",
       "      <td>3</td>\n",
       "      <td>4</td>\n",
       "    </tr>\n",
       "    <tr>\n",
       "      <td>3</td>\n",
       "      <td>6</td>\n",
       "      <td>7</td>\n",
       "    </tr>\n",
       "    <tr>\n",
       "      <td>4</td>\n",
       "      <td>9</td>\n",
       "      <td>10</td>\n",
       "    </tr>\n",
       "  </tbody>\n",
       "</table>\n",
       "</div>"
      ],
      "text/plain": [
       "   a   b\n",
       "2  3   4\n",
       "3  6   7\n",
       "4  9  10"
      ]
     },
     "execution_count": 146,
     "metadata": {},
     "output_type": "execute_result"
    }
   ],
   "source": [
    "dataFrame1"
   ]
  },
  {
   "cell_type": "markdown",
   "metadata": {},
   "source": [
    "# Indexing, Selection, and Filtering "
   ]
  },
  {
   "cell_type": "code",
   "execution_count": 147,
   "metadata": {},
   "outputs": [],
   "source": [
    "dataFrame1=pd.DataFrame(np.arange(12).reshape(4,3),index=list('1234'),columns=['a','b','c'])"
   ]
  },
  {
   "cell_type": "code",
   "execution_count": 148,
   "metadata": {},
   "outputs": [
    {
     "data": {
      "text/html": [
       "<div>\n",
       "<style scoped>\n",
       "    .dataframe tbody tr th:only-of-type {\n",
       "        vertical-align: middle;\n",
       "    }\n",
       "\n",
       "    .dataframe tbody tr th {\n",
       "        vertical-align: top;\n",
       "    }\n",
       "\n",
       "    .dataframe thead th {\n",
       "        text-align: right;\n",
       "    }\n",
       "</style>\n",
       "<table border=\"1\" class=\"dataframe\">\n",
       "  <thead>\n",
       "    <tr style=\"text-align: right;\">\n",
       "      <th></th>\n",
       "      <th>a</th>\n",
       "      <th>b</th>\n",
       "      <th>c</th>\n",
       "    </tr>\n",
       "  </thead>\n",
       "  <tbody>\n",
       "    <tr>\n",
       "      <td>1</td>\n",
       "      <td>0</td>\n",
       "      <td>1</td>\n",
       "      <td>2</td>\n",
       "    </tr>\n",
       "    <tr>\n",
       "      <td>2</td>\n",
       "      <td>3</td>\n",
       "      <td>4</td>\n",
       "      <td>5</td>\n",
       "    </tr>\n",
       "    <tr>\n",
       "      <td>3</td>\n",
       "      <td>6</td>\n",
       "      <td>7</td>\n",
       "      <td>8</td>\n",
       "    </tr>\n",
       "    <tr>\n",
       "      <td>4</td>\n",
       "      <td>9</td>\n",
       "      <td>10</td>\n",
       "      <td>11</td>\n",
       "    </tr>\n",
       "  </tbody>\n",
       "</table>\n",
       "</div>"
      ],
      "text/plain": [
       "   a   b   c\n",
       "1  0   1   2\n",
       "2  3   4   5\n",
       "3  6   7   8\n",
       "4  9  10  11"
      ]
     },
     "execution_count": 148,
     "metadata": {},
     "output_type": "execute_result"
    }
   ],
   "source": [
    "dataFrame1"
   ]
  },
  {
   "cell_type": "code",
   "execution_count": 151,
   "metadata": {},
   "outputs": [
    {
     "data": {
      "text/plain": [
       "1    0\n",
       "2    3\n",
       "3    6\n",
       "4    9\n",
       "Name: a, dtype: int32"
      ]
     },
     "execution_count": 151,
     "metadata": {},
     "output_type": "execute_result"
    }
   ],
   "source": [
    "dataFrame1['a']"
   ]
  },
  {
   "cell_type": "code",
   "execution_count": 153,
   "metadata": {},
   "outputs": [
    {
     "data": {
      "text/html": [
       "<div>\n",
       "<style scoped>\n",
       "    .dataframe tbody tr th:only-of-type {\n",
       "        vertical-align: middle;\n",
       "    }\n",
       "\n",
       "    .dataframe tbody tr th {\n",
       "        vertical-align: top;\n",
       "    }\n",
       "\n",
       "    .dataframe thead th {\n",
       "        text-align: right;\n",
       "    }\n",
       "</style>\n",
       "<table border=\"1\" class=\"dataframe\">\n",
       "  <thead>\n",
       "    <tr style=\"text-align: right;\">\n",
       "      <th></th>\n",
       "      <th>a</th>\n",
       "      <th>b</th>\n",
       "    </tr>\n",
       "  </thead>\n",
       "  <tbody>\n",
       "    <tr>\n",
       "      <td>1</td>\n",
       "      <td>0</td>\n",
       "      <td>1</td>\n",
       "    </tr>\n",
       "    <tr>\n",
       "      <td>2</td>\n",
       "      <td>3</td>\n",
       "      <td>4</td>\n",
       "    </tr>\n",
       "    <tr>\n",
       "      <td>3</td>\n",
       "      <td>6</td>\n",
       "      <td>7</td>\n",
       "    </tr>\n",
       "    <tr>\n",
       "      <td>4</td>\n",
       "      <td>9</td>\n",
       "      <td>10</td>\n",
       "    </tr>\n",
       "  </tbody>\n",
       "</table>\n",
       "</div>"
      ],
      "text/plain": [
       "   a   b\n",
       "1  0   1\n",
       "2  3   4\n",
       "3  6   7\n",
       "4  9  10"
      ]
     },
     "execution_count": 153,
     "metadata": {},
     "output_type": "execute_result"
    }
   ],
   "source": [
    "dataFrame1[['a','b']]"
   ]
  },
  {
   "cell_type": "code",
   "execution_count": 154,
   "metadata": {},
   "outputs": [
    {
     "data": {
      "text/html": [
       "<div>\n",
       "<style scoped>\n",
       "    .dataframe tbody tr th:only-of-type {\n",
       "        vertical-align: middle;\n",
       "    }\n",
       "\n",
       "    .dataframe tbody tr th {\n",
       "        vertical-align: top;\n",
       "    }\n",
       "\n",
       "    .dataframe thead th {\n",
       "        text-align: right;\n",
       "    }\n",
       "</style>\n",
       "<table border=\"1\" class=\"dataframe\">\n",
       "  <thead>\n",
       "    <tr style=\"text-align: right;\">\n",
       "      <th></th>\n",
       "      <th>a</th>\n",
       "      <th>b</th>\n",
       "      <th>c</th>\n",
       "    </tr>\n",
       "  </thead>\n",
       "  <tbody>\n",
       "    <tr>\n",
       "      <td>3</td>\n",
       "      <td>6</td>\n",
       "      <td>7</td>\n",
       "      <td>8</td>\n",
       "    </tr>\n",
       "    <tr>\n",
       "      <td>4</td>\n",
       "      <td>9</td>\n",
       "      <td>10</td>\n",
       "      <td>11</td>\n",
       "    </tr>\n",
       "  </tbody>\n",
       "</table>\n",
       "</div>"
      ],
      "text/plain": [
       "   a   b   c\n",
       "3  6   7   8\n",
       "4  9  10  11"
      ]
     },
     "execution_count": 154,
     "metadata": {},
     "output_type": "execute_result"
    }
   ],
   "source": [
    "dataFrame1[2:]"
   ]
  },
  {
   "cell_type": "code",
   "execution_count": 155,
   "metadata": {},
   "outputs": [
    {
     "data": {
      "text/html": [
       "<div>\n",
       "<style scoped>\n",
       "    .dataframe tbody tr th:only-of-type {\n",
       "        vertical-align: middle;\n",
       "    }\n",
       "\n",
       "    .dataframe tbody tr th {\n",
       "        vertical-align: top;\n",
       "    }\n",
       "\n",
       "    .dataframe thead th {\n",
       "        text-align: right;\n",
       "    }\n",
       "</style>\n",
       "<table border=\"1\" class=\"dataframe\">\n",
       "  <thead>\n",
       "    <tr style=\"text-align: right;\">\n",
       "      <th></th>\n",
       "      <th>a</th>\n",
       "      <th>b</th>\n",
       "      <th>c</th>\n",
       "    </tr>\n",
       "  </thead>\n",
       "  <tbody>\n",
       "    <tr>\n",
       "      <td>1</td>\n",
       "      <td>0</td>\n",
       "      <td>1</td>\n",
       "      <td>2</td>\n",
       "    </tr>\n",
       "    <tr>\n",
       "      <td>2</td>\n",
       "      <td>3</td>\n",
       "      <td>4</td>\n",
       "      <td>5</td>\n",
       "    </tr>\n",
       "    <tr>\n",
       "      <td>3</td>\n",
       "      <td>6</td>\n",
       "      <td>7</td>\n",
       "      <td>8</td>\n",
       "    </tr>\n",
       "  </tbody>\n",
       "</table>\n",
       "</div>"
      ],
      "text/plain": [
       "   a  b  c\n",
       "1  0  1  2\n",
       "2  3  4  5\n",
       "3  6  7  8"
      ]
     },
     "execution_count": 155,
     "metadata": {},
     "output_type": "execute_result"
    }
   ],
   "source": [
    "dataFrame1[:-1]"
   ]
  },
  {
   "cell_type": "code",
   "execution_count": 166,
   "metadata": {},
   "outputs": [
    {
     "data": {
      "text/html": [
       "<div>\n",
       "<style scoped>\n",
       "    .dataframe tbody tr th:only-of-type {\n",
       "        vertical-align: middle;\n",
       "    }\n",
       "\n",
       "    .dataframe tbody tr th {\n",
       "        vertical-align: top;\n",
       "    }\n",
       "\n",
       "    .dataframe thead th {\n",
       "        text-align: right;\n",
       "    }\n",
       "</style>\n",
       "<table border=\"1\" class=\"dataframe\">\n",
       "  <thead>\n",
       "    <tr style=\"text-align: right;\">\n",
       "      <th></th>\n",
       "      <th>a</th>\n",
       "      <th>b</th>\n",
       "      <th>c</th>\n",
       "    </tr>\n",
       "  </thead>\n",
       "  <tbody>\n",
       "    <tr>\n",
       "      <td>3</td>\n",
       "      <td>6</td>\n",
       "      <td>7</td>\n",
       "      <td>8</td>\n",
       "    </tr>\n",
       "    <tr>\n",
       "      <td>4</td>\n",
       "      <td>9</td>\n",
       "      <td>10</td>\n",
       "      <td>11</td>\n",
       "    </tr>\n",
       "  </tbody>\n",
       "</table>\n",
       "</div>"
      ],
      "text/plain": [
       "   a   b   c\n",
       "3  6   7   8\n",
       "4  9  10  11"
      ]
     },
     "execution_count": 166,
     "metadata": {},
     "output_type": "execute_result"
    }
   ],
   "source": [
    "dataFrame1[dataFrame1['a']>4]"
   ]
  },
  {
   "cell_type": "markdown",
   "metadata": {},
   "source": [
    "# reindex with method ffil"
   ]
  },
  {
   "cell_type": "code",
   "execution_count": 214,
   "metadata": {},
   "outputs": [
    {
     "name": "stdout",
     "output_type": "stream",
     "text": [
      "0      blue\n",
      "1    purple\n",
      "2    yellow\n",
      "dtype: object\n"
     ]
    }
   ],
   "source": [
    "#reindex series \n",
    "obj3 = pd.Series(['blue', 'purple', 'yellow'])\n",
    "print(obj3)"
   ]
  },
  {
   "cell_type": "code",
   "execution_count": 215,
   "metadata": {},
   "outputs": [],
   "source": [
    "#obj3=obj3.reindex(range(9))\n",
    "#print(obj3)"
   ]
  },
  {
   "cell_type": "code",
   "execution_count": 216,
   "metadata": {},
   "outputs": [
    {
     "data": {
      "text/plain": [
       "0      blue\n",
       "1    purple\n",
       "2    yellow\n",
       "3    yellow\n",
       "4    yellow\n",
       "5    yellow\n",
       "6    yellow\n",
       "7    yellow\n",
       "8    yellow\n",
       "dtype: object"
      ]
     },
     "execution_count": 216,
     "metadata": {},
     "output_type": "execute_result"
    }
   ],
   "source": [
    "#adding method=ffill to reindex function to avoid NAN values\n",
    "obj3.reindex(range(9), method='ffill') "
   ]
  },
  {
   "cell_type": "code",
   "execution_count": 217,
   "metadata": {},
   "outputs": [
    {
     "data": {
      "text/html": [
       "<div>\n",
       "<style scoped>\n",
       "    .dataframe tbody tr th:only-of-type {\n",
       "        vertical-align: middle;\n",
       "    }\n",
       "\n",
       "    .dataframe tbody tr th {\n",
       "        vertical-align: top;\n",
       "    }\n",
       "\n",
       "    .dataframe thead th {\n",
       "        text-align: right;\n",
       "    }\n",
       "</style>\n",
       "<table border=\"1\" class=\"dataframe\">\n",
       "  <thead>\n",
       "    <tr style=\"text-align: right;\">\n",
       "      <th></th>\n",
       "      <th>a</th>\n",
       "      <th>b</th>\n",
       "      <th>c</th>\n",
       "    </tr>\n",
       "  </thead>\n",
       "  <tbody>\n",
       "    <tr>\n",
       "      <td>1</td>\n",
       "      <td>0</td>\n",
       "      <td>1</td>\n",
       "      <td>2</td>\n",
       "    </tr>\n",
       "    <tr>\n",
       "      <td>2</td>\n",
       "      <td>3</td>\n",
       "      <td>4</td>\n",
       "      <td>5</td>\n",
       "    </tr>\n",
       "    <tr>\n",
       "      <td>3</td>\n",
       "      <td>6</td>\n",
       "      <td>7</td>\n",
       "      <td>8</td>\n",
       "    </tr>\n",
       "    <tr>\n",
       "      <td>4</td>\n",
       "      <td>9</td>\n",
       "      <td>10</td>\n",
       "      <td>11</td>\n",
       "    </tr>\n",
       "  </tbody>\n",
       "</table>\n",
       "</div>"
      ],
      "text/plain": [
       "   a   b   c\n",
       "1  0   1   2\n",
       "2  3   4   5\n",
       "3  6   7   8\n",
       "4  9  10  11"
      ]
     },
     "execution_count": 217,
     "metadata": {},
     "output_type": "execute_result"
    }
   ],
   "source": [
    "# reindex dataframe\n",
    "dataFrame1=pd.DataFrame(np.arange(12).reshape(4,3),index=list('1234'),columns=['a','b','c'])\n",
    "dataFrame1"
   ]
  },
  {
   "cell_type": "code",
   "execution_count": 221,
   "metadata": {},
   "outputs": [
    {
     "data": {
      "text/html": [
       "<div>\n",
       "<style scoped>\n",
       "    .dataframe tbody tr th:only-of-type {\n",
       "        vertical-align: middle;\n",
       "    }\n",
       "\n",
       "    .dataframe tbody tr th {\n",
       "        vertical-align: top;\n",
       "    }\n",
       "\n",
       "    .dataframe thead th {\n",
       "        text-align: right;\n",
       "    }\n",
       "</style>\n",
       "<table border=\"1\" class=\"dataframe\">\n",
       "  <thead>\n",
       "    <tr style=\"text-align: right;\">\n",
       "      <th></th>\n",
       "      <th>a</th>\n",
       "      <th>b</th>\n",
       "      <th>c</th>\n",
       "      <th>d</th>\n",
       "      <th>e</th>\n",
       "    </tr>\n",
       "  </thead>\n",
       "  <tbody>\n",
       "    <tr>\n",
       "      <td>1</td>\n",
       "      <td>0</td>\n",
       "      <td>1</td>\n",
       "      <td>2</td>\n",
       "      <td>2</td>\n",
       "      <td>2</td>\n",
       "    </tr>\n",
       "    <tr>\n",
       "      <td>2</td>\n",
       "      <td>3</td>\n",
       "      <td>4</td>\n",
       "      <td>5</td>\n",
       "      <td>5</td>\n",
       "      <td>5</td>\n",
       "    </tr>\n",
       "    <tr>\n",
       "      <td>3</td>\n",
       "      <td>6</td>\n",
       "      <td>7</td>\n",
       "      <td>8</td>\n",
       "      <td>8</td>\n",
       "      <td>8</td>\n",
       "    </tr>\n",
       "    <tr>\n",
       "      <td>4</td>\n",
       "      <td>9</td>\n",
       "      <td>10</td>\n",
       "      <td>11</td>\n",
       "      <td>11</td>\n",
       "      <td>11</td>\n",
       "    </tr>\n",
       "  </tbody>\n",
       "</table>\n",
       "</div>"
      ],
      "text/plain": [
       "   a   b   c   d   e\n",
       "1  0   1   2   2   2\n",
       "2  3   4   5   5   5\n",
       "3  6   7   8   8   8\n",
       "4  9  10  11  11  11"
      ]
     },
     "execution_count": 221,
     "metadata": {},
     "output_type": "execute_result"
    }
   ],
   "source": [
    "dataFrame1=dataFrame1.reindex(columns=['a','b','c','d','e'],method='ffill')\n",
    "dataFrame1"
   ]
  },
  {
   "cell_type": "code",
   "execution_count": 222,
   "metadata": {},
   "outputs": [
    {
     "data": {
      "text/html": [
       "<div>\n",
       "<style scoped>\n",
       "    .dataframe tbody tr th:only-of-type {\n",
       "        vertical-align: middle;\n",
       "    }\n",
       "\n",
       "    .dataframe tbody tr th {\n",
       "        vertical-align: top;\n",
       "    }\n",
       "\n",
       "    .dataframe thead th {\n",
       "        text-align: right;\n",
       "    }\n",
       "</style>\n",
       "<table border=\"1\" class=\"dataframe\">\n",
       "  <thead>\n",
       "    <tr style=\"text-align: right;\">\n",
       "      <th></th>\n",
       "      <th>a</th>\n",
       "      <th>b</th>\n",
       "      <th>c</th>\n",
       "      <th>d</th>\n",
       "      <th>e</th>\n",
       "    </tr>\n",
       "  </thead>\n",
       "  <tbody>\n",
       "    <tr>\n",
       "      <td>1</td>\n",
       "      <td>0</td>\n",
       "      <td>1</td>\n",
       "      <td>2</td>\n",
       "      <td>2</td>\n",
       "      <td>2</td>\n",
       "    </tr>\n",
       "    <tr>\n",
       "      <td>2</td>\n",
       "      <td>3</td>\n",
       "      <td>4</td>\n",
       "      <td>5</td>\n",
       "      <td>5</td>\n",
       "      <td>5</td>\n",
       "    </tr>\n",
       "    <tr>\n",
       "      <td>3</td>\n",
       "      <td>6</td>\n",
       "      <td>7</td>\n",
       "      <td>8</td>\n",
       "      <td>8</td>\n",
       "      <td>8</td>\n",
       "    </tr>\n",
       "    <tr>\n",
       "      <td>4</td>\n",
       "      <td>9</td>\n",
       "      <td>10</td>\n",
       "      <td>11</td>\n",
       "      <td>11</td>\n",
       "      <td>11</td>\n",
       "    </tr>\n",
       "  </tbody>\n",
       "</table>\n",
       "</div>"
      ],
      "text/plain": [
       "   a   b   c   d   e\n",
       "1  0   1   2   2   2\n",
       "2  3   4   5   5   5\n",
       "3  6   7   8   8   8\n",
       "4  9  10  11  11  11"
      ]
     },
     "execution_count": 222,
     "metadata": {},
     "output_type": "execute_result"
    }
   ],
   "source": [
    "\n",
    "dataFrame1.fillna(0)"
   ]
  },
  {
   "cell_type": "code",
   "execution_count": 228,
   "metadata": {},
   "outputs": [
    {
     "data": {
      "text/html": [
       "<div>\n",
       "<style scoped>\n",
       "    .dataframe tbody tr th:only-of-type {\n",
       "        vertical-align: middle;\n",
       "    }\n",
       "\n",
       "    .dataframe tbody tr th {\n",
       "        vertical-align: top;\n",
       "    }\n",
       "\n",
       "    .dataframe thead th {\n",
       "        text-align: right;\n",
       "    }\n",
       "</style>\n",
       "<table border=\"1\" class=\"dataframe\">\n",
       "  <thead>\n",
       "    <tr style=\"text-align: right;\">\n",
       "      <th></th>\n",
       "      <th>a</th>\n",
       "      <th>b</th>\n",
       "      <th>c</th>\n",
       "      <th>d</th>\n",
       "      <th>e</th>\n",
       "    </tr>\n",
       "  </thead>\n",
       "  <tbody>\n",
       "    <tr>\n",
       "      <td>1</td>\n",
       "      <td>0</td>\n",
       "      <td>1</td>\n",
       "      <td>2</td>\n",
       "      <td>2</td>\n",
       "      <td>2</td>\n",
       "    </tr>\n",
       "    <tr>\n",
       "      <td>2</td>\n",
       "      <td>3</td>\n",
       "      <td>4</td>\n",
       "      <td>5</td>\n",
       "      <td>5</td>\n",
       "      <td>5</td>\n",
       "    </tr>\n",
       "    <tr>\n",
       "      <td>3</td>\n",
       "      <td>6</td>\n",
       "      <td>7</td>\n",
       "      <td>8</td>\n",
       "      <td>8</td>\n",
       "      <td>8</td>\n",
       "    </tr>\n",
       "    <tr>\n",
       "      <td>4</td>\n",
       "      <td>9</td>\n",
       "      <td>10</td>\n",
       "      <td>11</td>\n",
       "      <td>11</td>\n",
       "      <td>11</td>\n",
       "    </tr>\n",
       "  </tbody>\n",
       "</table>\n",
       "</div>"
      ],
      "text/plain": [
       "   a   b   c   d   e\n",
       "1  0   1   2   2   2\n",
       "2  3   4   5   5   5\n",
       "3  6   7   8   8   8\n",
       "4  9  10  11  11  11"
      ]
     },
     "execution_count": 228,
     "metadata": {},
     "output_type": "execute_result"
    }
   ],
   "source": [
    "dataFrame1"
   ]
  },
  {
   "cell_type": "markdown",
   "metadata": {},
   "source": [
    "# Conditional Selection"
   ]
  },
  {
   "cell_type": "code",
   "execution_count": 224,
   "metadata": {},
   "outputs": [
    {
     "data": {
      "text/plain": [
       "1    0\n",
       "2    3\n",
       "3    6\n",
       "4    9\n",
       "Name: a, dtype: int32"
      ]
     },
     "execution_count": 224,
     "metadata": {},
     "output_type": "execute_result"
    }
   ],
   "source": [
    "#dictionary Like Style of accsessong data\n",
    "dataFrame1['a']"
   ]
  },
  {
   "cell_type": "code",
   "execution_count": 227,
   "metadata": {},
   "outputs": [
    {
     "data": {
      "text/html": [
       "<div>\n",
       "<style scoped>\n",
       "    .dataframe tbody tr th:only-of-type {\n",
       "        vertical-align: middle;\n",
       "    }\n",
       "\n",
       "    .dataframe tbody tr th {\n",
       "        vertical-align: top;\n",
       "    }\n",
       "\n",
       "    .dataframe thead th {\n",
       "        text-align: right;\n",
       "    }\n",
       "</style>\n",
       "<table border=\"1\" class=\"dataframe\">\n",
       "  <thead>\n",
       "    <tr style=\"text-align: right;\">\n",
       "      <th></th>\n",
       "      <th>a</th>\n",
       "      <th>b</th>\n",
       "    </tr>\n",
       "  </thead>\n",
       "  <tbody>\n",
       "    <tr>\n",
       "      <td>3</td>\n",
       "      <td>6</td>\n",
       "      <td>7</td>\n",
       "    </tr>\n",
       "    <tr>\n",
       "      <td>4</td>\n",
       "      <td>9</td>\n",
       "      <td>10</td>\n",
       "    </tr>\n",
       "  </tbody>\n",
       "</table>\n",
       "</div>"
      ],
      "text/plain": [
       "   a   b\n",
       "3  6   7\n",
       "4  9  10"
      ]
     },
     "execution_count": 227,
     "metadata": {},
     "output_type": "execute_result"
    }
   ],
   "source": [
    "#Dictionary like style to access both rows and columns\n",
    "dataFrame1[['a','b']][2:]"
   ]
  },
  {
   "cell_type": "code",
   "execution_count": 225,
   "metadata": {},
   "outputs": [
    {
     "data": {
      "text/plain": [
       "3    6\n",
       "4    9\n",
       "Name: a, dtype: int32"
      ]
     },
     "execution_count": 225,
     "metadata": {},
     "output_type": "execute_result"
    }
   ],
   "source": [
    "#attribute like style to access both rows and columns\n",
    "dataFrame1.a[2:]"
   ]
  },
  {
   "cell_type": "code",
   "execution_count": 229,
   "metadata": {},
   "outputs": [
    {
     "data": {
      "text/html": [
       "<div>\n",
       "<style scoped>\n",
       "    .dataframe tbody tr th:only-of-type {\n",
       "        vertical-align: middle;\n",
       "    }\n",
       "\n",
       "    .dataframe tbody tr th {\n",
       "        vertical-align: top;\n",
       "    }\n",
       "\n",
       "    .dataframe thead th {\n",
       "        text-align: right;\n",
       "    }\n",
       "</style>\n",
       "<table border=\"1\" class=\"dataframe\">\n",
       "  <thead>\n",
       "    <tr style=\"text-align: right;\">\n",
       "      <th></th>\n",
       "      <th>a</th>\n",
       "      <th>b</th>\n",
       "      <th>c</th>\n",
       "      <th>d</th>\n",
       "      <th>e</th>\n",
       "    </tr>\n",
       "  </thead>\n",
       "  <tbody>\n",
       "    <tr>\n",
       "      <td>3</td>\n",
       "      <td>6</td>\n",
       "      <td>7</td>\n",
       "      <td>8</td>\n",
       "      <td>8</td>\n",
       "      <td>8</td>\n",
       "    </tr>\n",
       "    <tr>\n",
       "      <td>4</td>\n",
       "      <td>9</td>\n",
       "      <td>10</td>\n",
       "      <td>11</td>\n",
       "      <td>11</td>\n",
       "      <td>11</td>\n",
       "    </tr>\n",
       "  </tbody>\n",
       "</table>\n",
       "</div>"
      ],
      "text/plain": [
       "   a   b   c   d   e\n",
       "3  6   7   8   8   8\n",
       "4  9  10  11  11  11"
      ]
     },
     "execution_count": 229,
     "metadata": {},
     "output_type": "execute_result"
    }
   ],
   "source": [
    "dataFrame1[dataFrame1['a']>3]"
   ]
  },
  {
   "cell_type": "code",
   "execution_count": 230,
   "metadata": {},
   "outputs": [
    {
     "data": {
      "text/plain": [
       "3    6\n",
       "4    9\n",
       "Name: a, dtype: int32"
      ]
     },
     "execution_count": 230,
     "metadata": {},
     "output_type": "execute_result"
    }
   ],
   "source": [
    "dataFrame1.a[dataFrame1['a']>3]"
   ]
  },
  {
   "cell_type": "code",
   "execution_count": 231,
   "metadata": {},
   "outputs": [
    {
     "data": {
      "text/plain": [
       "1    False\n",
       "2    False\n",
       "3     True\n",
       "4     True\n",
       "Name: a, dtype: bool"
      ]
     },
     "execution_count": 231,
     "metadata": {},
     "output_type": "execute_result"
    }
   ],
   "source": [
    "dataFrame1['a']>3"
   ]
  },
  {
   "cell_type": "markdown",
   "metadata": {},
   "source": [
    "# Selection with loc and iloc"
   ]
  },
  {
   "cell_type": "code",
   "execution_count": 240,
   "metadata": {},
   "outputs": [
    {
     "data": {
      "text/html": [
       "<div>\n",
       "<style scoped>\n",
       "    .dataframe tbody tr th:only-of-type {\n",
       "        vertical-align: middle;\n",
       "    }\n",
       "\n",
       "    .dataframe tbody tr th {\n",
       "        vertical-align: top;\n",
       "    }\n",
       "\n",
       "    .dataframe thead th {\n",
       "        text-align: right;\n",
       "    }\n",
       "</style>\n",
       "<table border=\"1\" class=\"dataframe\">\n",
       "  <thead>\n",
       "    <tr style=\"text-align: right;\">\n",
       "      <th></th>\n",
       "      <th>a</th>\n",
       "      <th>b</th>\n",
       "    </tr>\n",
       "  </thead>\n",
       "  <tbody>\n",
       "    <tr>\n",
       "      <td>1</td>\n",
       "      <td>0</td>\n",
       "      <td>1</td>\n",
       "    </tr>\n",
       "    <tr>\n",
       "      <td>2</td>\n",
       "      <td>3</td>\n",
       "      <td>4</td>\n",
       "    </tr>\n",
       "  </tbody>\n",
       "</table>\n",
       "</div>"
      ],
      "text/plain": [
       "   a  b\n",
       "1  0  1\n",
       "2  3  4"
      ]
     },
     "execution_count": 240,
     "metadata": {},
     "output_type": "execute_result"
    }
   ],
   "source": [
    "#remember in loc method specifies row labels and then column label\n",
    "dataFrame1.loc[['1','2'],['a','b']]"
   ]
  },
  {
   "cell_type": "code",
   "execution_count": 244,
   "metadata": {},
   "outputs": [
    {
     "data": {
      "text/html": [
       "<div>\n",
       "<style scoped>\n",
       "    .dataframe tbody tr th:only-of-type {\n",
       "        vertical-align: middle;\n",
       "    }\n",
       "\n",
       "    .dataframe tbody tr th {\n",
       "        vertical-align: top;\n",
       "    }\n",
       "\n",
       "    .dataframe thead th {\n",
       "        text-align: right;\n",
       "    }\n",
       "</style>\n",
       "<table border=\"1\" class=\"dataframe\">\n",
       "  <thead>\n",
       "    <tr style=\"text-align: right;\">\n",
       "      <th></th>\n",
       "      <th>a</th>\n",
       "      <th>b</th>\n",
       "      <th>c</th>\n",
       "    </tr>\n",
       "  </thead>\n",
       "  <tbody>\n",
       "    <tr>\n",
       "      <td>1</td>\n",
       "      <td>0</td>\n",
       "      <td>1</td>\n",
       "      <td>2</td>\n",
       "    </tr>\n",
       "    <tr>\n",
       "      <td>2</td>\n",
       "      <td>3</td>\n",
       "      <td>4</td>\n",
       "      <td>5</td>\n",
       "    </tr>\n",
       "    <tr>\n",
       "      <td>3</td>\n",
       "      <td>6</td>\n",
       "      <td>7</td>\n",
       "      <td>8</td>\n",
       "    </tr>\n",
       "    <tr>\n",
       "      <td>4</td>\n",
       "      <td>9</td>\n",
       "      <td>10</td>\n",
       "      <td>11</td>\n",
       "    </tr>\n",
       "  </tbody>\n",
       "</table>\n",
       "</div>"
      ],
      "text/plain": [
       "   a   b   c\n",
       "1  0   1   2\n",
       "2  3   4   5\n",
       "3  6   7   8\n",
       "4  9  10  11"
      ]
     },
     "execution_count": 244,
     "metadata": {},
     "output_type": "execute_result"
    }
   ],
   "source": [
    "#remember in iloc mehtod we only specifies the row index and then column index\n",
    "dataFrame1.iloc[:,:3]"
   ]
  },
  {
   "cell_type": "code",
   "execution_count": 245,
   "metadata": {},
   "outputs": [
    {
     "data": {
      "text/html": [
       "<div>\n",
       "<style scoped>\n",
       "    .dataframe tbody tr th:only-of-type {\n",
       "        vertical-align: middle;\n",
       "    }\n",
       "\n",
       "    .dataframe tbody tr th {\n",
       "        vertical-align: top;\n",
       "    }\n",
       "\n",
       "    .dataframe thead th {\n",
       "        text-align: right;\n",
       "    }\n",
       "</style>\n",
       "<table border=\"1\" class=\"dataframe\">\n",
       "  <thead>\n",
       "    <tr style=\"text-align: right;\">\n",
       "      <th></th>\n",
       "      <th>a</th>\n",
       "      <th>b</th>\n",
       "      <th>c</th>\n",
       "    </tr>\n",
       "  </thead>\n",
       "  <tbody>\n",
       "    <tr>\n",
       "      <td>1</td>\n",
       "      <td>0</td>\n",
       "      <td>1</td>\n",
       "      <td>2</td>\n",
       "    </tr>\n",
       "    <tr>\n",
       "      <td>2</td>\n",
       "      <td>3</td>\n",
       "      <td>4</td>\n",
       "      <td>5</td>\n",
       "    </tr>\n",
       "  </tbody>\n",
       "</table>\n",
       "</div>"
      ],
      "text/plain": [
       "   a  b  c\n",
       "1  0  1  2\n",
       "2  3  4  5"
      ]
     },
     "execution_count": 245,
     "metadata": {},
     "output_type": "execute_result"
    }
   ],
   "source": [
    "dataFrame1.iloc[[0,1],:3]"
   ]
  },
  {
   "cell_type": "code",
   "execution_count": 246,
   "metadata": {},
   "outputs": [
    {
     "data": {
      "text/html": [
       "<div>\n",
       "<style scoped>\n",
       "    .dataframe tbody tr th:only-of-type {\n",
       "        vertical-align: middle;\n",
       "    }\n",
       "\n",
       "    .dataframe tbody tr th {\n",
       "        vertical-align: top;\n",
       "    }\n",
       "\n",
       "    .dataframe thead th {\n",
       "        text-align: right;\n",
       "    }\n",
       "</style>\n",
       "<table border=\"1\" class=\"dataframe\">\n",
       "  <thead>\n",
       "    <tr style=\"text-align: right;\">\n",
       "      <th></th>\n",
       "      <th>b</th>\n",
       "      <th>c</th>\n",
       "    </tr>\n",
       "  </thead>\n",
       "  <tbody>\n",
       "    <tr>\n",
       "      <td>1</td>\n",
       "      <td>1</td>\n",
       "      <td>2</td>\n",
       "    </tr>\n",
       "    <tr>\n",
       "      <td>2</td>\n",
       "      <td>4</td>\n",
       "      <td>5</td>\n",
       "    </tr>\n",
       "  </tbody>\n",
       "</table>\n",
       "</div>"
      ],
      "text/plain": [
       "   b  c\n",
       "1  1  2\n",
       "2  4  5"
      ]
     },
     "execution_count": 246,
     "metadata": {},
     "output_type": "execute_result"
    }
   ],
   "source": [
    "dataFrame1.iloc[[0,1],1:3]"
   ]
  },
  {
   "cell_type": "markdown",
   "metadata": {},
   "source": [
    "# Data Loading, Storage, and File Formats\n"
   ]
  },
  {
   "cell_type": "code",
   "execution_count": 247,
   "metadata": {},
   "outputs": [],
   "source": [
    "sample_df=pd.read_csv(\"Desktop/examples/sample.csv\")"
   ]
  },
  {
   "cell_type": "code",
   "execution_count": 248,
   "metadata": {},
   "outputs": [
    {
     "data": {
      "text/html": [
       "<div>\n",
       "<style scoped>\n",
       "    .dataframe tbody tr th:only-of-type {\n",
       "        vertical-align: middle;\n",
       "    }\n",
       "\n",
       "    .dataframe tbody tr th {\n",
       "        vertical-align: top;\n",
       "    }\n",
       "\n",
       "    .dataframe thead th {\n",
       "        text-align: right;\n",
       "    }\n",
       "</style>\n",
       "<table border=\"1\" class=\"dataframe\">\n",
       "  <thead>\n",
       "    <tr style=\"text-align: right;\">\n",
       "      <th></th>\n",
       "      <th>studentid</th>\n",
       "      <th>name</th>\n",
       "      <th>chimestry</th>\n",
       "      <th>physics</th>\n",
       "      <th>english</th>\n",
       "      <th>math</th>\n",
       "    </tr>\n",
       "  </thead>\n",
       "  <tbody>\n",
       "    <tr>\n",
       "      <td>0</td>\n",
       "      <td>A01</td>\n",
       "      <td>arif ali</td>\n",
       "      <td>20</td>\n",
       "      <td>30</td>\n",
       "      <td>40</td>\n",
       "      <td>50</td>\n",
       "    </tr>\n",
       "    <tr>\n",
       "      <td>1</td>\n",
       "      <td>A02</td>\n",
       "      <td>kamran khan</td>\n",
       "      <td>30</td>\n",
       "      <td>40</td>\n",
       "      <td>50</td>\n",
       "      <td>60</td>\n",
       "    </tr>\n",
       "    <tr>\n",
       "      <td>2</td>\n",
       "      <td>A03</td>\n",
       "      <td>imran ali</td>\n",
       "      <td>40</td>\n",
       "      <td>50</td>\n",
       "      <td>60</td>\n",
       "      <td>70</td>\n",
       "    </tr>\n",
       "    <tr>\n",
       "      <td>3</td>\n",
       "      <td>A04</td>\n",
       "      <td>kashif khan</td>\n",
       "      <td>50</td>\n",
       "      <td>60</td>\n",
       "      <td>70</td>\n",
       "      <td>80</td>\n",
       "    </tr>\n",
       "  </tbody>\n",
       "</table>\n",
       "</div>"
      ],
      "text/plain": [
       "  studentid         name   chimestry   physics   english   math\n",
       "0       A01     arif ali          20        30        40     50\n",
       "1       A02  kamran khan          30        40        50     60\n",
       "2       A03   imran ali           40        50        60     70\n",
       "3       A04  kashif khan          50        60        70     80"
      ]
     },
     "execution_count": 248,
     "metadata": {},
     "output_type": "execute_result"
    }
   ],
   "source": [
    "sample_df"
   ]
  },
  {
   "cell_type": "code",
   "execution_count": 249,
   "metadata": {},
   "outputs": [],
   "source": [
    "sample_df=pd.read_csv(\"Desktop/examples/sample.csv\",names=['id','nam','chem','phy','eng','math'])"
   ]
  },
  {
   "cell_type": "code",
   "execution_count": 250,
   "metadata": {},
   "outputs": [
    {
     "data": {
      "text/html": [
       "<div>\n",
       "<style scoped>\n",
       "    .dataframe tbody tr th:only-of-type {\n",
       "        vertical-align: middle;\n",
       "    }\n",
       "\n",
       "    .dataframe tbody tr th {\n",
       "        vertical-align: top;\n",
       "    }\n",
       "\n",
       "    .dataframe thead th {\n",
       "        text-align: right;\n",
       "    }\n",
       "</style>\n",
       "<table border=\"1\" class=\"dataframe\">\n",
       "  <thead>\n",
       "    <tr style=\"text-align: right;\">\n",
       "      <th></th>\n",
       "      <th>id</th>\n",
       "      <th>nam</th>\n",
       "      <th>chem</th>\n",
       "      <th>phy</th>\n",
       "      <th>eng</th>\n",
       "      <th>math</th>\n",
       "    </tr>\n",
       "  </thead>\n",
       "  <tbody>\n",
       "    <tr>\n",
       "      <td>0</td>\n",
       "      <td>studentid</td>\n",
       "      <td>name</td>\n",
       "      <td>chimestry</td>\n",
       "      <td>physics</td>\n",
       "      <td>english</td>\n",
       "      <td>math</td>\n",
       "    </tr>\n",
       "    <tr>\n",
       "      <td>1</td>\n",
       "      <td>A01</td>\n",
       "      <td>arif ali</td>\n",
       "      <td>20</td>\n",
       "      <td>30</td>\n",
       "      <td>40</td>\n",
       "      <td>50</td>\n",
       "    </tr>\n",
       "    <tr>\n",
       "      <td>2</td>\n",
       "      <td>A02</td>\n",
       "      <td>kamran khan</td>\n",
       "      <td>30</td>\n",
       "      <td>40</td>\n",
       "      <td>50</td>\n",
       "      <td>60</td>\n",
       "    </tr>\n",
       "    <tr>\n",
       "      <td>3</td>\n",
       "      <td>A03</td>\n",
       "      <td>imran ali</td>\n",
       "      <td>40</td>\n",
       "      <td>50</td>\n",
       "      <td>60</td>\n",
       "      <td>70</td>\n",
       "    </tr>\n",
       "    <tr>\n",
       "      <td>4</td>\n",
       "      <td>A04</td>\n",
       "      <td>kashif khan</td>\n",
       "      <td>50</td>\n",
       "      <td>60</td>\n",
       "      <td>70</td>\n",
       "      <td>80</td>\n",
       "    </tr>\n",
       "  </tbody>\n",
       "</table>\n",
       "</div>"
      ],
      "text/plain": [
       "          id          nam        chem       phy       eng   math\n",
       "0  studentid         name   chimestry   physics   english   math\n",
       "1        A01     arif ali          20        30        40     50\n",
       "2        A02  kamran khan          30        40        50     60\n",
       "3        A03   imran ali           40        50        60     70\n",
       "4        A04  kashif khan          50        60        70     80"
      ]
     },
     "execution_count": 250,
     "metadata": {},
     "output_type": "execute_result"
    }
   ],
   "source": [
    "sample_df\n"
   ]
  },
  {
   "cell_type": "code",
   "execution_count": 255,
   "metadata": {},
   "outputs": [
    {
     "name": "stdout",
     "output_type": "stream",
     "text": [
      "          id          nam        chem       phy       eng   math\n",
      "0  studentid         name   chimestry   physics   english   math\n",
      "1        A01     arif ali          20        30        40     50\n",
      "2        A02  kamran khan          30        40        50     60\n",
      "3        A03   imran ali           40        50        60     70\n",
      "4        A04  kashif khan          50        60        70     80\n"
     ]
    }
   ],
   "source": [
    "sample_df=pd.read_csv(\"Desktop/examples/sample.csv\",names=['id','nam','chem','phy','eng','math'],header=None)\n",
    "print(sample_df)"
   ]
  },
  {
   "cell_type": "code",
   "execution_count": 262,
   "metadata": {},
   "outputs": [
    {
     "name": "stdout",
     "output_type": "stream",
     "text": [
      "   1   2   3   4  hello\n",
      "0  5   6   7   8  world\n",
      "1  9  10  11  12    foo\n"
     ]
    }
   ],
   "source": [
    "ex2_df=pd.read_csv(\"Desktop/examples/ex2.csv\")\n",
    "print(ex2_df)"
   ]
  },
  {
   "cell_type": "code",
   "execution_count": 264,
   "metadata": {},
   "outputs": [
    {
     "name": "stdout",
     "output_type": "stream",
     "text": [
      "   0   1   2   3      4\n",
      "0  1   2   3   4  hello\n",
      "1  5   6   7   8  world\n",
      "2  9  10  11  12    foo\n"
     ]
    }
   ],
   "source": [
    "ex2_df=pd.read_csv(\"Desktop/examples/ex2.csv\",header=None)\n",
    "print(ex2_df)"
   ]
  },
  {
   "cell_type": "code",
   "execution_count": 266,
   "metadata": {},
   "outputs": [
    {
     "data": {
      "text/html": [
       "<div>\n",
       "<style scoped>\n",
       "    .dataframe tbody tr th:only-of-type {\n",
       "        vertical-align: middle;\n",
       "    }\n",
       "\n",
       "    .dataframe tbody tr th {\n",
       "        vertical-align: top;\n",
       "    }\n",
       "\n",
       "    .dataframe thead th {\n",
       "        text-align: right;\n",
       "    }\n",
       "</style>\n",
       "<table border=\"1\" class=\"dataframe\">\n",
       "  <thead>\n",
       "    <tr style=\"text-align: right;\">\n",
       "      <th></th>\n",
       "      <th>key1</th>\n",
       "      <th>key2</th>\n",
       "      <th>value1</th>\n",
       "      <th>value2</th>\n",
       "    </tr>\n",
       "  </thead>\n",
       "  <tbody>\n",
       "    <tr>\n",
       "      <td>0</td>\n",
       "      <td>one</td>\n",
       "      <td>a</td>\n",
       "      <td>1</td>\n",
       "      <td>2</td>\n",
       "    </tr>\n",
       "    <tr>\n",
       "      <td>1</td>\n",
       "      <td>one</td>\n",
       "      <td>b</td>\n",
       "      <td>3</td>\n",
       "      <td>4</td>\n",
       "    </tr>\n",
       "    <tr>\n",
       "      <td>2</td>\n",
       "      <td>one</td>\n",
       "      <td>c</td>\n",
       "      <td>5</td>\n",
       "      <td>6</td>\n",
       "    </tr>\n",
       "    <tr>\n",
       "      <td>3</td>\n",
       "      <td>one</td>\n",
       "      <td>d</td>\n",
       "      <td>7</td>\n",
       "      <td>8</td>\n",
       "    </tr>\n",
       "    <tr>\n",
       "      <td>4</td>\n",
       "      <td>two</td>\n",
       "      <td>a</td>\n",
       "      <td>9</td>\n",
       "      <td>10</td>\n",
       "    </tr>\n",
       "    <tr>\n",
       "      <td>5</td>\n",
       "      <td>two</td>\n",
       "      <td>b</td>\n",
       "      <td>11</td>\n",
       "      <td>12</td>\n",
       "    </tr>\n",
       "    <tr>\n",
       "      <td>6</td>\n",
       "      <td>two</td>\n",
       "      <td>c</td>\n",
       "      <td>13</td>\n",
       "      <td>14</td>\n",
       "    </tr>\n",
       "    <tr>\n",
       "      <td>7</td>\n",
       "      <td>two</td>\n",
       "      <td>d</td>\n",
       "      <td>15</td>\n",
       "      <td>16</td>\n",
       "    </tr>\n",
       "  </tbody>\n",
       "</table>\n",
       "</div>"
      ],
      "text/plain": [
       "  key1 key2  value1  value2\n",
       "0  one    a       1       2\n",
       "1  one    b       3       4\n",
       "2  one    c       5       6\n",
       "3  one    d       7       8\n",
       "4  two    a       9      10\n",
       "5  two    b      11      12\n",
       "6  two    c      13      14\n",
       "7  two    d      15      16"
      ]
     },
     "execution_count": 266,
     "metadata": {},
     "output_type": "execute_result"
    }
   ],
   "source": [
    "sample2_df=pd.read_csv(\"Desktop/examples/sample2.csv\")\n",
    "sample2_df"
   ]
  },
  {
   "cell_type": "code",
   "execution_count": 269,
   "metadata": {},
   "outputs": [
    {
     "data": {
      "text/html": [
       "<div>\n",
       "<style scoped>\n",
       "    .dataframe tbody tr th:only-of-type {\n",
       "        vertical-align: middle;\n",
       "    }\n",
       "\n",
       "    .dataframe tbody tr th {\n",
       "        vertical-align: top;\n",
       "    }\n",
       "\n",
       "    .dataframe thead th {\n",
       "        text-align: right;\n",
       "    }\n",
       "</style>\n",
       "<table border=\"1\" class=\"dataframe\">\n",
       "  <thead>\n",
       "    <tr style=\"text-align: right;\">\n",
       "      <th></th>\n",
       "      <th>key2</th>\n",
       "      <th>value1</th>\n",
       "      <th>value2</th>\n",
       "    </tr>\n",
       "    <tr>\n",
       "      <th>key1</th>\n",
       "      <th></th>\n",
       "      <th></th>\n",
       "      <th></th>\n",
       "    </tr>\n",
       "  </thead>\n",
       "  <tbody>\n",
       "    <tr>\n",
       "      <td>one</td>\n",
       "      <td>a</td>\n",
       "      <td>1</td>\n",
       "      <td>2</td>\n",
       "    </tr>\n",
       "    <tr>\n",
       "      <td>one</td>\n",
       "      <td>b</td>\n",
       "      <td>3</td>\n",
       "      <td>4</td>\n",
       "    </tr>\n",
       "    <tr>\n",
       "      <td>one</td>\n",
       "      <td>c</td>\n",
       "      <td>5</td>\n",
       "      <td>6</td>\n",
       "    </tr>\n",
       "    <tr>\n",
       "      <td>one</td>\n",
       "      <td>d</td>\n",
       "      <td>7</td>\n",
       "      <td>8</td>\n",
       "    </tr>\n",
       "    <tr>\n",
       "      <td>two</td>\n",
       "      <td>a</td>\n",
       "      <td>9</td>\n",
       "      <td>10</td>\n",
       "    </tr>\n",
       "    <tr>\n",
       "      <td>two</td>\n",
       "      <td>b</td>\n",
       "      <td>11</td>\n",
       "      <td>12</td>\n",
       "    </tr>\n",
       "    <tr>\n",
       "      <td>two</td>\n",
       "      <td>c</td>\n",
       "      <td>13</td>\n",
       "      <td>14</td>\n",
       "    </tr>\n",
       "    <tr>\n",
       "      <td>two</td>\n",
       "      <td>d</td>\n",
       "      <td>15</td>\n",
       "      <td>16</td>\n",
       "    </tr>\n",
       "  </tbody>\n",
       "</table>\n",
       "</div>"
      ],
      "text/plain": [
       "     key2  value1  value2\n",
       "key1                     \n",
       "one     a       1       2\n",
       "one     b       3       4\n",
       "one     c       5       6\n",
       "one     d       7       8\n",
       "two     a       9      10\n",
       "two     b      11      12\n",
       "two     c      13      14\n",
       "two     d      15      16"
      ]
     },
     "execution_count": 269,
     "metadata": {},
     "output_type": "execute_result"
    }
   ],
   "source": [
    "sample2_df=pd.read_csv(\"Desktop/examples/sample2.csv\",index_col=['key1'])\n",
    "sample2_df"
   ]
  },
  {
   "cell_type": "code",
   "execution_count": 270,
   "metadata": {},
   "outputs": [
    {
     "data": {
      "text/html": [
       "<div>\n",
       "<style scoped>\n",
       "    .dataframe tbody tr th:only-of-type {\n",
       "        vertical-align: middle;\n",
       "    }\n",
       "\n",
       "    .dataframe tbody tr th {\n",
       "        vertical-align: top;\n",
       "    }\n",
       "\n",
       "    .dataframe thead th {\n",
       "        text-align: right;\n",
       "    }\n",
       "</style>\n",
       "<table border=\"1\" class=\"dataframe\">\n",
       "  <thead>\n",
       "    <tr style=\"text-align: right;\">\n",
       "      <th></th>\n",
       "      <th></th>\n",
       "      <th>value1</th>\n",
       "      <th>value2</th>\n",
       "    </tr>\n",
       "    <tr>\n",
       "      <th>key1</th>\n",
       "      <th>key2</th>\n",
       "      <th></th>\n",
       "      <th></th>\n",
       "    </tr>\n",
       "  </thead>\n",
       "  <tbody>\n",
       "    <tr>\n",
       "      <td rowspan=\"4\" valign=\"top\">one</td>\n",
       "      <td>a</td>\n",
       "      <td>1</td>\n",
       "      <td>2</td>\n",
       "    </tr>\n",
       "    <tr>\n",
       "      <td>b</td>\n",
       "      <td>3</td>\n",
       "      <td>4</td>\n",
       "    </tr>\n",
       "    <tr>\n",
       "      <td>c</td>\n",
       "      <td>5</td>\n",
       "      <td>6</td>\n",
       "    </tr>\n",
       "    <tr>\n",
       "      <td>d</td>\n",
       "      <td>7</td>\n",
       "      <td>8</td>\n",
       "    </tr>\n",
       "    <tr>\n",
       "      <td rowspan=\"4\" valign=\"top\">two</td>\n",
       "      <td>a</td>\n",
       "      <td>9</td>\n",
       "      <td>10</td>\n",
       "    </tr>\n",
       "    <tr>\n",
       "      <td>b</td>\n",
       "      <td>11</td>\n",
       "      <td>12</td>\n",
       "    </tr>\n",
       "    <tr>\n",
       "      <td>c</td>\n",
       "      <td>13</td>\n",
       "      <td>14</td>\n",
       "    </tr>\n",
       "    <tr>\n",
       "      <td>d</td>\n",
       "      <td>15</td>\n",
       "      <td>16</td>\n",
       "    </tr>\n",
       "  </tbody>\n",
       "</table>\n",
       "</div>"
      ],
      "text/plain": [
       "           value1  value2\n",
       "key1 key2                \n",
       "one  a          1       2\n",
       "     b          3       4\n",
       "     c          5       6\n",
       "     d          7       8\n",
       "two  a          9      10\n",
       "     b         11      12\n",
       "     c         13      14\n",
       "     d         15      16"
      ]
     },
     "execution_count": 270,
     "metadata": {},
     "output_type": "execute_result"
    }
   ],
   "source": [
    "sample2_df=pd.read_csv(\"Desktop/examples/sample2.csv\",index_col=['key1','key2'])\n",
    "sample2_df"
   ]
  },
  {
   "cell_type": "markdown",
   "metadata": {},
   "source": [
    "# Handling missing value in Pandas"
   ]
  },
  {
   "cell_type": "code",
   "execution_count": null,
   "metadata": {},
   "outputs": [],
   "source": [
    "sample3_df=pd.read_csv(\"Desktop/examples/sample3.csv\")\n",
    "print(sample3_df)"
   ]
  },
  {
   "cell_type": "code",
   "execution_count": 280,
   "metadata": {},
   "outputs": [
    {
     "data": {
      "text/html": [
       "<div>\n",
       "<style scoped>\n",
       "    .dataframe tbody tr th:only-of-type {\n",
       "        vertical-align: middle;\n",
       "    }\n",
       "\n",
       "    .dataframe tbody tr th {\n",
       "        vertical-align: top;\n",
       "    }\n",
       "\n",
       "    .dataframe thead th {\n",
       "        text-align: right;\n",
       "    }\n",
       "</style>\n",
       "<table border=\"1\" class=\"dataframe\">\n",
       "  <thead>\n",
       "    <tr style=\"text-align: right;\">\n",
       "      <th></th>\n",
       "      <th>something</th>\n",
       "      <th>a</th>\n",
       "      <th>b</th>\n",
       "      <th>c</th>\n",
       "      <th>d</th>\n",
       "      <th>message</th>\n",
       "    </tr>\n",
       "  </thead>\n",
       "  <tbody>\n",
       "    <tr>\n",
       "      <td>0</td>\n",
       "      <td>one</td>\n",
       "      <td>1</td>\n",
       "      <td>2</td>\n",
       "      <td>3.0</td>\n",
       "      <td>4</td>\n",
       "      <td>NaN</td>\n",
       "    </tr>\n",
       "    <tr>\n",
       "      <td>1</td>\n",
       "      <td>two</td>\n",
       "      <td>5</td>\n",
       "      <td>6</td>\n",
       "      <td>NaN</td>\n",
       "      <td>8</td>\n",
       "      <td>world</td>\n",
       "    </tr>\n",
       "    <tr>\n",
       "      <td>2</td>\n",
       "      <td>three</td>\n",
       "      <td>9</td>\n",
       "      <td>10</td>\n",
       "      <td>11.0</td>\n",
       "      <td>12</td>\n",
       "      <td>NaN</td>\n",
       "    </tr>\n",
       "  </tbody>\n",
       "</table>\n",
       "</div>"
      ],
      "text/plain": [
       "  something  a   b     c   d message\n",
       "0       one  1   2   3.0   4     NaN\n",
       "1       two  5   6   NaN   8   world\n",
       "2     three  9  10  11.0  12     NaN"
      ]
     },
     "execution_count": 280,
     "metadata": {},
     "output_type": "execute_result"
    }
   ],
   "source": [
    "sentinels={'message':['foo','NaN']}\n",
    "pd.read_csv(\"Desktop/examples/sample3.csv\", na_values=sentinels)"
   ]
  },
  {
   "cell_type": "markdown",
   "metadata": {},
   "source": [
    "# Reading and Text Files"
   ]
  },
  {
   "cell_type": "code",
   "execution_count": 286,
   "metadata": {},
   "outputs": [
    {
     "data": {
      "text/html": [
       "<div>\n",
       "<style scoped>\n",
       "    .dataframe tbody tr th:only-of-type {\n",
       "        vertical-align: middle;\n",
       "    }\n",
       "\n",
       "    .dataframe tbody tr th {\n",
       "        vertical-align: top;\n",
       "    }\n",
       "\n",
       "    .dataframe thead th {\n",
       "        text-align: right;\n",
       "    }\n",
       "</style>\n",
       "<table border=\"1\" class=\"dataframe\">\n",
       "  <thead>\n",
       "    <tr style=\"text-align: right;\">\n",
       "      <th></th>\n",
       "      <th>battery_power</th>\n",
       "      <th>blue</th>\n",
       "      <th>clock_speed</th>\n",
       "      <th>dual_sim</th>\n",
       "      <th>fc</th>\n",
       "      <th>four_g</th>\n",
       "      <th>int_memory</th>\n",
       "      <th>m_dep</th>\n",
       "      <th>mobile_wt</th>\n",
       "      <th>n_cores</th>\n",
       "      <th>...</th>\n",
       "      <th>px_height</th>\n",
       "      <th>px_width</th>\n",
       "      <th>ram</th>\n",
       "      <th>sc_h</th>\n",
       "      <th>sc_w</th>\n",
       "      <th>talk_time</th>\n",
       "      <th>three_g</th>\n",
       "      <th>touch_screen</th>\n",
       "      <th>wifi</th>\n",
       "      <th>price_range</th>\n",
       "    </tr>\n",
       "  </thead>\n",
       "  <tbody>\n",
       "    <tr>\n",
       "      <td>0</td>\n",
       "      <td>842</td>\n",
       "      <td>0</td>\n",
       "      <td>2.2</td>\n",
       "      <td>0</td>\n",
       "      <td>1</td>\n",
       "      <td>0</td>\n",
       "      <td>7</td>\n",
       "      <td>0.6</td>\n",
       "      <td>188</td>\n",
       "      <td>2</td>\n",
       "      <td>...</td>\n",
       "      <td>20</td>\n",
       "      <td>756</td>\n",
       "      <td>2549</td>\n",
       "      <td>9</td>\n",
       "      <td>7</td>\n",
       "      <td>19</td>\n",
       "      <td>0</td>\n",
       "      <td>0</td>\n",
       "      <td>1</td>\n",
       "      <td>1</td>\n",
       "    </tr>\n",
       "    <tr>\n",
       "      <td>1</td>\n",
       "      <td>1021</td>\n",
       "      <td>1</td>\n",
       "      <td>0.5</td>\n",
       "      <td>1</td>\n",
       "      <td>0</td>\n",
       "      <td>1</td>\n",
       "      <td>53</td>\n",
       "      <td>0.7</td>\n",
       "      <td>136</td>\n",
       "      <td>3</td>\n",
       "      <td>...</td>\n",
       "      <td>905</td>\n",
       "      <td>1988</td>\n",
       "      <td>2631</td>\n",
       "      <td>17</td>\n",
       "      <td>3</td>\n",
       "      <td>7</td>\n",
       "      <td>1</td>\n",
       "      <td>1</td>\n",
       "      <td>0</td>\n",
       "      <td>2</td>\n",
       "    </tr>\n",
       "    <tr>\n",
       "      <td>2</td>\n",
       "      <td>563</td>\n",
       "      <td>1</td>\n",
       "      <td>0.5</td>\n",
       "      <td>1</td>\n",
       "      <td>2</td>\n",
       "      <td>1</td>\n",
       "      <td>41</td>\n",
       "      <td>0.9</td>\n",
       "      <td>145</td>\n",
       "      <td>5</td>\n",
       "      <td>...</td>\n",
       "      <td>1263</td>\n",
       "      <td>1716</td>\n",
       "      <td>2603</td>\n",
       "      <td>11</td>\n",
       "      <td>2</td>\n",
       "      <td>9</td>\n",
       "      <td>1</td>\n",
       "      <td>1</td>\n",
       "      <td>0</td>\n",
       "      <td>2</td>\n",
       "    </tr>\n",
       "    <tr>\n",
       "      <td>3</td>\n",
       "      <td>615</td>\n",
       "      <td>1</td>\n",
       "      <td>2.5</td>\n",
       "      <td>0</td>\n",
       "      <td>0</td>\n",
       "      <td>0</td>\n",
       "      <td>10</td>\n",
       "      <td>0.8</td>\n",
       "      <td>131</td>\n",
       "      <td>6</td>\n",
       "      <td>...</td>\n",
       "      <td>1216</td>\n",
       "      <td>1786</td>\n",
       "      <td>2769</td>\n",
       "      <td>16</td>\n",
       "      <td>8</td>\n",
       "      <td>11</td>\n",
       "      <td>1</td>\n",
       "      <td>0</td>\n",
       "      <td>0</td>\n",
       "      <td>2</td>\n",
       "    </tr>\n",
       "    <tr>\n",
       "      <td>4</td>\n",
       "      <td>1821</td>\n",
       "      <td>1</td>\n",
       "      <td>1.2</td>\n",
       "      <td>0</td>\n",
       "      <td>13</td>\n",
       "      <td>1</td>\n",
       "      <td>44</td>\n",
       "      <td>0.6</td>\n",
       "      <td>141</td>\n",
       "      <td>2</td>\n",
       "      <td>...</td>\n",
       "      <td>1208</td>\n",
       "      <td>1212</td>\n",
       "      <td>1411</td>\n",
       "      <td>8</td>\n",
       "      <td>2</td>\n",
       "      <td>15</td>\n",
       "      <td>1</td>\n",
       "      <td>1</td>\n",
       "      <td>0</td>\n",
       "      <td>1</td>\n",
       "    </tr>\n",
       "  </tbody>\n",
       "</table>\n",
       "<p>5 rows × 21 columns</p>\n",
       "</div>"
      ],
      "text/plain": [
       "   battery_power  blue  clock_speed  dual_sim  fc  four_g  int_memory  m_dep  \\\n",
       "0            842     0          2.2         0   1       0           7    0.6   \n",
       "1           1021     1          0.5         1   0       1          53    0.7   \n",
       "2            563     1          0.5         1   2       1          41    0.9   \n",
       "3            615     1          2.5         0   0       0          10    0.8   \n",
       "4           1821     1          1.2         0  13       1          44    0.6   \n",
       "\n",
       "   mobile_wt  n_cores  ...  px_height  px_width   ram  sc_h  sc_w  talk_time  \\\n",
       "0        188        2  ...         20       756  2549     9     7         19   \n",
       "1        136        3  ...        905      1988  2631    17     3          7   \n",
       "2        145        5  ...       1263      1716  2603    11     2          9   \n",
       "3        131        6  ...       1216      1786  2769    16     8         11   \n",
       "4        141        2  ...       1208      1212  1411     8     2         15   \n",
       "\n",
       "   three_g  touch_screen  wifi  price_range  \n",
       "0        0             0     1            1  \n",
       "1        1             1     0            2  \n",
       "2        1             1     0            2  \n",
       "3        1             0     0            2  \n",
       "4        1             1     0            1  \n",
       "\n",
       "[5 rows x 21 columns]"
      ]
     },
     "execution_count": 286,
     "metadata": {},
     "output_type": "execute_result"
    }
   ],
   "source": [
    "mb_df=pd.read_csv(\"Desktop/datasets/train.csv\")\n",
    "mb_df.head()\n"
   ]
  },
  {
   "cell_type": "code",
   "execution_count": 303,
   "metadata": {
    "scrolled": true
   },
   "outputs": [
    {
     "data": {
      "text/html": [
       "<div>\n",
       "<style scoped>\n",
       "    .dataframe tbody tr th:only-of-type {\n",
       "        vertical-align: middle;\n",
       "    }\n",
       "\n",
       "    .dataframe tbody tr th {\n",
       "        vertical-align: top;\n",
       "    }\n",
       "\n",
       "    .dataframe thead th {\n",
       "        text-align: right;\n",
       "    }\n",
       "</style>\n",
       "<table border=\"1\" class=\"dataframe\">\n",
       "  <thead>\n",
       "    <tr style=\"text-align: right;\">\n",
       "      <th></th>\n",
       "      <th>battery_power</th>\n",
       "      <th>blue</th>\n",
       "      <th>clock_speed</th>\n",
       "      <th>dual_sim</th>\n",
       "      <th>fc</th>\n",
       "      <th>four_g</th>\n",
       "      <th>int_memory</th>\n",
       "      <th>m_dep</th>\n",
       "      <th>mobile_wt</th>\n",
       "      <th>n_cores</th>\n",
       "      <th>...</th>\n",
       "      <th>px_height</th>\n",
       "      <th>px_width</th>\n",
       "      <th>ram</th>\n",
       "      <th>sc_h</th>\n",
       "      <th>sc_w</th>\n",
       "      <th>talk_time</th>\n",
       "      <th>three_g</th>\n",
       "      <th>touch_screen</th>\n",
       "      <th>wifi</th>\n",
       "      <th>price_range</th>\n",
       "    </tr>\n",
       "  </thead>\n",
       "  <tbody>\n",
       "    <tr>\n",
       "      <td>400</td>\n",
       "      <td>1266</td>\n",
       "      <td>0</td>\n",
       "      <td>1.9</td>\n",
       "      <td>1</td>\n",
       "      <td>0</td>\n",
       "      <td>1</td>\n",
       "      <td>7</td>\n",
       "      <td>0.2</td>\n",
       "      <td>184</td>\n",
       "      <td>3</td>\n",
       "      <td>...</td>\n",
       "      <td>346</td>\n",
       "      <td>1468</td>\n",
       "      <td>2532</td>\n",
       "      <td>10</td>\n",
       "      <td>5</td>\n",
       "      <td>4</td>\n",
       "      <td>1</td>\n",
       "      <td>1</td>\n",
       "      <td>1</td>\n",
       "      <td>2</td>\n",
       "    </tr>\n",
       "    <tr>\n",
       "      <td>401</td>\n",
       "      <td>1042</td>\n",
       "      <td>0</td>\n",
       "      <td>2.7</td>\n",
       "      <td>1</td>\n",
       "      <td>16</td>\n",
       "      <td>1</td>\n",
       "      <td>50</td>\n",
       "      <td>0.8</td>\n",
       "      <td>93</td>\n",
       "      <td>7</td>\n",
       "      <td>...</td>\n",
       "      <td>727</td>\n",
       "      <td>1705</td>\n",
       "      <td>3215</td>\n",
       "      <td>18</td>\n",
       "      <td>0</td>\n",
       "      <td>20</td>\n",
       "      <td>1</td>\n",
       "      <td>1</td>\n",
       "      <td>1</td>\n",
       "      <td>3</td>\n",
       "    </tr>\n",
       "    <tr>\n",
       "      <td>402</td>\n",
       "      <td>1479</td>\n",
       "      <td>0</td>\n",
       "      <td>0.5</td>\n",
       "      <td>0</td>\n",
       "      <td>8</td>\n",
       "      <td>0</td>\n",
       "      <td>19</td>\n",
       "      <td>0.6</td>\n",
       "      <td>156</td>\n",
       "      <td>3</td>\n",
       "      <td>...</td>\n",
       "      <td>180</td>\n",
       "      <td>1476</td>\n",
       "      <td>3323</td>\n",
       "      <td>13</td>\n",
       "      <td>12</td>\n",
       "      <td>6</td>\n",
       "      <td>1</td>\n",
       "      <td>0</td>\n",
       "      <td>1</td>\n",
       "      <td>3</td>\n",
       "    </tr>\n",
       "    <tr>\n",
       "      <td>403</td>\n",
       "      <td>1476</td>\n",
       "      <td>1</td>\n",
       "      <td>1.2</td>\n",
       "      <td>1</td>\n",
       "      <td>0</td>\n",
       "      <td>1</td>\n",
       "      <td>55</td>\n",
       "      <td>0.1</td>\n",
       "      <td>171</td>\n",
       "      <td>4</td>\n",
       "      <td>...</td>\n",
       "      <td>1641</td>\n",
       "      <td>1666</td>\n",
       "      <td>1529</td>\n",
       "      <td>13</td>\n",
       "      <td>8</td>\n",
       "      <td>3</td>\n",
       "      <td>1</td>\n",
       "      <td>0</td>\n",
       "      <td>1</td>\n",
       "      <td>2</td>\n",
       "    </tr>\n",
       "    <tr>\n",
       "      <td>404</td>\n",
       "      <td>1552</td>\n",
       "      <td>1</td>\n",
       "      <td>2.2</td>\n",
       "      <td>0</td>\n",
       "      <td>6</td>\n",
       "      <td>1</td>\n",
       "      <td>13</td>\n",
       "      <td>0.2</td>\n",
       "      <td>123</td>\n",
       "      <td>6</td>\n",
       "      <td>...</td>\n",
       "      <td>269</td>\n",
       "      <td>1026</td>\n",
       "      <td>2403</td>\n",
       "      <td>9</td>\n",
       "      <td>2</td>\n",
       "      <td>9</td>\n",
       "      <td>1</td>\n",
       "      <td>1</td>\n",
       "      <td>1</td>\n",
       "      <td>2</td>\n",
       "    </tr>\n",
       "  </tbody>\n",
       "</table>\n",
       "<p>5 rows × 21 columns</p>\n",
       "</div>"
      ],
      "text/plain": [
       "     battery_power  blue  clock_speed  dual_sim  fc  four_g  int_memory  \\\n",
       "400           1266     0          1.9         1   0       1           7   \n",
       "401           1042     0          2.7         1  16       1          50   \n",
       "402           1479     0          0.5         0   8       0          19   \n",
       "403           1476     1          1.2         1   0       1          55   \n",
       "404           1552     1          2.2         0   6       1          13   \n",
       "\n",
       "     m_dep  mobile_wt  n_cores  ...  px_height  px_width   ram  sc_h  sc_w  \\\n",
       "400    0.2        184        3  ...        346      1468  2532    10     5   \n",
       "401    0.8         93        7  ...        727      1705  3215    18     0   \n",
       "402    0.6        156        3  ...        180      1476  3323    13    12   \n",
       "403    0.1        171        4  ...       1641      1666  1529    13     8   \n",
       "404    0.2        123        6  ...        269      1026  2403     9     2   \n",
       "\n",
       "     talk_time  three_g  touch_screen  wifi  price_range  \n",
       "400          4        1             1     1            2  \n",
       "401         20        1             1     1            3  \n",
       "402          6        1             0     1            3  \n",
       "403          3        1             0     1            2  \n",
       "404          9        1             1     1            2  \n",
       "\n",
       "[5 rows x 21 columns]"
      ]
     },
     "execution_count": 303,
     "metadata": {},
     "output_type": "execute_result"
    }
   ],
   "source": [
    "#making chunks of dataset\n",
    "mb_chunk=pd.read_csv(\"Desktop/datasets/train.csv\",chunksize=200)\n",
    "chunkList=[]\n",
    "for chunk in mb_chunk:\n",
    "    #print(chunk)\n",
    "    chunkList.append(chunk)\n",
    "chunkList[2].head()\n"
   ]
  },
  {
   "cell_type": "markdown",
   "metadata": {},
   "source": [
    "# Reading from Multispace"
   ]
  },
  {
   "cell_type": "code",
   "execution_count": 24,
   "metadata": {},
   "outputs": [
    {
     "name": "stdout",
     "output_type": "stream",
     "text": [
      "['            A         B         C\\n', 'aaa -0.264438 -1.026059 -0.619500\\n', 'bbb  0.927272  0.302904 -0.032399\\n', 'ccc -0.264273 -0.386314 -0.217601\\n', 'ddd -0.871858 -0.348382  1.100491\\n']\n",
      "            A         B         C\n",
      "aaa -0.264438 -1.026059 -0.619500\n",
      "bbb  0.927272  0.302904 -0.032399\n",
      "ccc -0.264273 -0.386314 -0.217601\n",
      "ddd -0.871858 -0.348382  1.100491\n"
     ]
    },
    {
     "data": {
      "text/html": [
       "<div>\n",
       "<style scoped>\n",
       "    .dataframe tbody tr th:only-of-type {\n",
       "        vertical-align: middle;\n",
       "    }\n",
       "\n",
       "    .dataframe tbody tr th {\n",
       "        vertical-align: top;\n",
       "    }\n",
       "\n",
       "    .dataframe thead th {\n",
       "        text-align: right;\n",
       "    }\n",
       "</style>\n",
       "<table border=\"1\" class=\"dataframe\">\n",
       "  <thead>\n",
       "    <tr style=\"text-align: right;\">\n",
       "      <th></th>\n",
       "      <th>A</th>\n",
       "      <th>B</th>\n",
       "      <th>C</th>\n",
       "    </tr>\n",
       "  </thead>\n",
       "  <tbody>\n",
       "    <tr>\n",
       "      <td>aaa</td>\n",
       "      <td>-0.264438</td>\n",
       "      <td>-1.026059</td>\n",
       "      <td>-0.619500</td>\n",
       "    </tr>\n",
       "    <tr>\n",
       "      <td>bbb</td>\n",
       "      <td>0.927272</td>\n",
       "      <td>0.302904</td>\n",
       "      <td>-0.032399</td>\n",
       "    </tr>\n",
       "    <tr>\n",
       "      <td>ccc</td>\n",
       "      <td>-0.264273</td>\n",
       "      <td>-0.386314</td>\n",
       "      <td>-0.217601</td>\n",
       "    </tr>\n",
       "    <tr>\n",
       "      <td>ddd</td>\n",
       "      <td>-0.871858</td>\n",
       "      <td>-0.348382</td>\n",
       "      <td>1.100491</td>\n",
       "    </tr>\n",
       "  </tbody>\n",
       "</table>\n",
       "</div>"
      ],
      "text/plain": [
       "            A         B         C\n",
       "aaa -0.264438 -1.026059 -0.619500\n",
       "bbb  0.927272  0.302904 -0.032399\n",
       "ccc -0.264273 -0.386314 -0.217601\n",
       "ddd -0.871858 -0.348382  1.100491"
      ]
     },
     "execution_count": 24,
     "metadata": {},
     "output_type": "execute_result"
    }
   ],
   "source": [
    "data=list(open(\"Desktop/examples/ex3.txt\"))\n",
    "print(data)\n",
    "df=pd.read_table(\"Desktop/examples/ex3.txt\", sep=\"\\s+\")\n",
    "print(df)\n",
    "df"
   ]
  },
  {
   "cell_type": "code",
   "execution_count": 22,
   "metadata": {},
   "outputs": [
    {
     "name": "stdout",
     "output_type": "stream",
     "text": [
      "   a   b   c   d message\n",
      "0  1   2   3   4   hello\n",
      "1  5   6   7   8   world\n",
      "2  9  10  11  12     foo\n"
     ]
    },
    {
     "data": {
      "text/html": [
       "<div>\n",
       "<style scoped>\n",
       "    .dataframe tbody tr th:only-of-type {\n",
       "        vertical-align: middle;\n",
       "    }\n",
       "\n",
       "    .dataframe tbody tr th {\n",
       "        vertical-align: top;\n",
       "    }\n",
       "\n",
       "    .dataframe thead th {\n",
       "        text-align: right;\n",
       "    }\n",
       "</style>\n",
       "<table border=\"1\" class=\"dataframe\">\n",
       "  <thead>\n",
       "    <tr style=\"text-align: right;\">\n",
       "      <th></th>\n",
       "      <th>a</th>\n",
       "      <th>b</th>\n",
       "      <th>c</th>\n",
       "      <th>d</th>\n",
       "      <th>message</th>\n",
       "    </tr>\n",
       "  </thead>\n",
       "  <tbody>\n",
       "    <tr>\n",
       "      <td>0</td>\n",
       "      <td>1</td>\n",
       "      <td>2</td>\n",
       "      <td>3</td>\n",
       "      <td>4</td>\n",
       "      <td>hello</td>\n",
       "    </tr>\n",
       "    <tr>\n",
       "      <td>1</td>\n",
       "      <td>5</td>\n",
       "      <td>6</td>\n",
       "      <td>7</td>\n",
       "      <td>8</td>\n",
       "      <td>world</td>\n",
       "    </tr>\n",
       "    <tr>\n",
       "      <td>2</td>\n",
       "      <td>9</td>\n",
       "      <td>10</td>\n",
       "      <td>11</td>\n",
       "      <td>12</td>\n",
       "      <td>foo</td>\n",
       "    </tr>\n",
       "  </tbody>\n",
       "</table>\n",
       "</div>"
      ],
      "text/plain": [
       "   a   b   c   d message\n",
       "0  1   2   3   4   hello\n",
       "1  5   6   7   8   world\n",
       "2  9  10  11  12     foo"
      ]
     },
     "execution_count": 22,
     "metadata": {},
     "output_type": "execute_result"
    }
   ],
   "source": [
    "df1=pd.read_csv(\"Desktop/examples/ex4.csv\",skiprows=[0,2,3])\n",
    "print(df1)\n",
    "df1"
   ]
  },
  {
   "cell_type": "markdown",
   "metadata": {},
   "source": [
    "# Writing data to text format"
   ]
  },
  {
   "cell_type": "code",
   "execution_count": 28,
   "metadata": {},
   "outputs": [],
   "source": [
    "data=pd.read_csv(\"Desktop/examples/sample.csv\")\n",
    "data\n",
    "#copying data from sampple.csv to copy.csv\n",
    "data.to_csv(\"Desktop/examples/copy.csv\")"
   ]
  },
  {
   "cell_type": "code",
   "execution_count": 33,
   "metadata": {},
   "outputs": [
    {
     "data": {
      "text/plain": [
       "DatetimeIndex(['2000-01-01', '2000-01-02', '2000-01-03', '2000-01-04',\n",
       "               '2000-01-05', '2000-01-06', '2000-01-07'],\n",
       "              dtype='datetime64[ns]', freq='D')"
      ]
     },
     "execution_count": 33,
     "metadata": {},
     "output_type": "execute_result"
    }
   ],
   "source": [
    "date=pd.date_range('01/01/2000',periods=7)\n",
    "date"
   ]
  },
  {
   "cell_type": "code",
   "execution_count": 34,
   "metadata": {},
   "outputs": [],
   "source": [
    "ts=pd.Series(date)"
   ]
  },
  {
   "cell_type": "code",
   "execution_count": 35,
   "metadata": {},
   "outputs": [
    {
     "data": {
      "text/plain": [
       "0   2000-01-01\n",
       "1   2000-01-02\n",
       "2   2000-01-03\n",
       "3   2000-01-04\n",
       "4   2000-01-05\n",
       "5   2000-01-06\n",
       "6   2000-01-07\n",
       "dtype: datetime64[ns]"
      ]
     },
     "execution_count": 35,
     "metadata": {},
     "output_type": "execute_result"
    }
   ],
   "source": [
    "ts"
   ]
  },
  {
   "cell_type": "code",
   "execution_count": 38,
   "metadata": {},
   "outputs": [
    {
     "name": "stderr",
     "output_type": "stream",
     "text": [
      "C:\\Users\\Aqeel\\Anaconda3\\lib\\site-packages\\ipykernel_launcher.py:1: FutureWarning: The signature of `Series.to_csv` was aligned to that of `DataFrame.to_csv`, and argument 'header' will change its default value from False to True: please pass an explicit value to suppress this warning.\n",
      "  \"\"\"Entry point for launching an IPython kernel.\n"
     ]
    }
   ],
   "source": [
    "ts.to_csv(\"Desktop/examples/copySeries.csv\" )"
   ]
  },
  {
   "cell_type": "markdown",
   "metadata": {},
   "source": [
    "# Working with Delimited Data"
   ]
  },
  {
   "cell_type": "code",
   "execution_count": 40,
   "metadata": {},
   "outputs": [
    {
     "name": "stdout",
     "output_type": "stream",
     "text": [
      "['a', 'b', 'c']\n",
      "['1', '2', '3']\n",
      "['1', '2', '3']\n"
     ]
    }
   ],
   "source": [
    "import csv\n",
    "f=open(\"Desktop/examples/ex7.csv\" )\n",
    "reader=csv.reader(f)\n",
    "for line in reader:\n",
    "    print(line)"
   ]
  },
  {
   "cell_type": "code",
   "execution_count": 44,
   "metadata": {},
   "outputs": [
    {
     "name": "stdout",
     "output_type": "stream",
     "text": [
      "   a  b  c\n",
      "0  1  2  3\n",
      "1  1  2  3\n"
     ]
    }
   ],
   "source": [
    "f=pd.read_csv(\"Desktop/examples/ex7.csv\" )\n",
    "print(f)"
   ]
  },
  {
   "cell_type": "code",
   "execution_count": 57,
   "metadata": {},
   "outputs": [
    {
     "name": "stdout",
     "output_type": "stream",
     "text": [
      "\n",
      "{'a':{1,'b':3,'a':2,'c':5,'a':6},\n",
      "'b':{1,'b':3,'a':2,'c':5,'a':6}\n",
      "}\n",
      "\n"
     ]
    },
    {
     "data": {
      "text/plain": [
       "0    \\n{'a':{1,'b':3,'a':2,'c':5,'a':6},\\n'b':{1,'b...\n",
       "dtype: object"
      ]
     },
     "execution_count": 57,
     "metadata": {},
     "output_type": "execute_result"
    }
   ],
   "source": [
    "obj=\"\"\"\n",
    "{'a':{1,'b':3,'a':2,'c':5,'a':6},\n",
    "'b':{1,'b':3,'a':2,'c':5,'a':6}\n",
    "}\n",
    "\"\"\"\n",
    "print(obj)\n",
    "obj1=pd.Series(obj)"
   ]
  },
  {
   "cell_type": "code",
   "execution_count": 59,
   "metadata": {},
   "outputs": [],
   "source": [
    "obj1.to_json(r'Desktop/examples/j.json')"
   ]
  },
  {
   "cell_type": "code",
   "execution_count": 65,
   "metadata": {},
   "outputs": [],
   "source": [
    "j=pd.read_json(r\"Desktop/examples/example.json\")"
   ]
  },
  {
   "cell_type": "code",
   "execution_count": 66,
   "metadata": {},
   "outputs": [
    {
     "data": {
      "text/html": [
       "<div>\n",
       "<style scoped>\n",
       "    .dataframe tbody tr th:only-of-type {\n",
       "        vertical-align: middle;\n",
       "    }\n",
       "\n",
       "    .dataframe tbody tr th {\n",
       "        vertical-align: top;\n",
       "    }\n",
       "\n",
       "    .dataframe thead th {\n",
       "        text-align: right;\n",
       "    }\n",
       "</style>\n",
       "<table border=\"1\" class=\"dataframe\">\n",
       "  <thead>\n",
       "    <tr style=\"text-align: right;\">\n",
       "      <th></th>\n",
       "      <th>a</th>\n",
       "      <th>b</th>\n",
       "      <th>c</th>\n",
       "    </tr>\n",
       "  </thead>\n",
       "  <tbody>\n",
       "    <tr>\n",
       "      <td>0</td>\n",
       "      <td>1</td>\n",
       "      <td>2</td>\n",
       "      <td>3</td>\n",
       "    </tr>\n",
       "    <tr>\n",
       "      <td>1</td>\n",
       "      <td>4</td>\n",
       "      <td>5</td>\n",
       "      <td>6</td>\n",
       "    </tr>\n",
       "    <tr>\n",
       "      <td>2</td>\n",
       "      <td>7</td>\n",
       "      <td>8</td>\n",
       "      <td>9</td>\n",
       "    </tr>\n",
       "  </tbody>\n",
       "</table>\n",
       "</div>"
      ],
      "text/plain": [
       "   a  b  c\n",
       "0  1  2  3\n",
       "1  4  5  6\n",
       "2  7  8  9"
      ]
     },
     "execution_count": 66,
     "metadata": {},
     "output_type": "execute_result"
    }
   ],
   "source": [
    "j"
   ]
  },
  {
   "cell_type": "code",
   "execution_count": 70,
   "metadata": {},
   "outputs": [],
   "source": [
    "#j=pd.read_json(r\"Desktop/examples/j.json\")"
   ]
  },
  {
   "cell_type": "markdown",
   "metadata": {},
   "source": [
    "# Web data Loading"
   ]
  },
  {
   "cell_type": "code",
   "execution_count": 76,
   "metadata": {},
   "outputs": [
    {
     "name": "stdout",
     "output_type": "stream",
     "text": [
      "[                             Bank Name             City  ST   CERT  \\\n",
      "0                          Allied Bank         Mulberry  AR     91   \n",
      "1         The Woodbury Banking Company         Woodbury  GA  11297   \n",
      "2               First CornerStone Bank  King of Prussia  PA  35312   \n",
      "3                   Trust Company Bank          Memphis  TN   9956   \n",
      "4           North Milwaukee State Bank        Milwaukee  WI  20364   \n",
      "..                                 ...              ...  ..    ...   \n",
      "542                 Superior Bank, FSB         Hinsdale  IL  32646   \n",
      "543                Malta National Bank            Malta  OH   6629   \n",
      "544    First Alliance Bank & Trust Co.       Manchester  NH  34264   \n",
      "545  National State Bank of Metropolis       Metropolis  IL   3815   \n",
      "546                   Bank of Honolulu         Honolulu  HI  21029   \n",
      "\n",
      "                   Acquiring Institution        Closing Date  \\\n",
      "0                           Today's Bank  September 23, 2016   \n",
      "1                            United Bank     August 19, 2016   \n",
      "2    First-Citizens Bank & Trust Company         May 6, 2016   \n",
      "3             The Bank of Fayette County      April 29, 2016   \n",
      "4    First-Citizens Bank & Trust Company      March 11, 2016   \n",
      "..                                   ...                 ...   \n",
      "542                Superior Federal, FSB       July 27, 2001   \n",
      "543                    North Valley Bank         May 3, 2001   \n",
      "544  Southern New Hampshire Bank & Trust    February 2, 2001   \n",
      "545              Banterra Bank of Marion   December 14, 2000   \n",
      "546                   Bank of the Orient    October 13, 2000   \n",
      "\n",
      "          Updated Date  \n",
      "0    November 17, 2016  \n",
      "1    November 17, 2016  \n",
      "2    September 6, 2016  \n",
      "3    September 6, 2016  \n",
      "4        June 16, 2016  \n",
      "..                 ...  \n",
      "542    August 19, 2014  \n",
      "543  November 18, 2002  \n",
      "544  February 18, 2003  \n",
      "545     March 17, 2005  \n",
      "546     March 17, 2005  \n",
      "\n",
      "[547 rows x 7 columns]]\n"
     ]
    }
   ],
   "source": [
    "table=pd.read_html(\"Desktop/examples/fdic_failed_bank_list.html\")\n",
    "print(table)"
   ]
  },
  {
   "cell_type": "code",
   "execution_count": 77,
   "metadata": {},
   "outputs": [
    {
     "name": "stdout",
     "output_type": "stream",
     "text": [
      "<class 'list'>\n"
     ]
    }
   ],
   "source": [
    "print(type(table))"
   ]
  },
  {
   "cell_type": "code",
   "execution_count": 78,
   "metadata": {},
   "outputs": [
    {
     "name": "stdout",
     "output_type": "stream",
     "text": [
      "1\n"
     ]
    }
   ],
   "source": [
    "print(len(table))"
   ]
  },
  {
   "cell_type": "code",
   "execution_count": 79,
   "metadata": {},
   "outputs": [],
   "source": [
    "failure_df=table[0]"
   ]
  },
  {
   "cell_type": "code",
   "execution_count": 80,
   "metadata": {},
   "outputs": [
    {
     "data": {
      "text/html": [
       "<div>\n",
       "<style scoped>\n",
       "    .dataframe tbody tr th:only-of-type {\n",
       "        vertical-align: middle;\n",
       "    }\n",
       "\n",
       "    .dataframe tbody tr th {\n",
       "        vertical-align: top;\n",
       "    }\n",
       "\n",
       "    .dataframe thead th {\n",
       "        text-align: right;\n",
       "    }\n",
       "</style>\n",
       "<table border=\"1\" class=\"dataframe\">\n",
       "  <thead>\n",
       "    <tr style=\"text-align: right;\">\n",
       "      <th></th>\n",
       "      <th>Bank Name</th>\n",
       "      <th>City</th>\n",
       "      <th>ST</th>\n",
       "      <th>CERT</th>\n",
       "      <th>Acquiring Institution</th>\n",
       "      <th>Closing Date</th>\n",
       "      <th>Updated Date</th>\n",
       "    </tr>\n",
       "  </thead>\n",
       "  <tbody>\n",
       "    <tr>\n",
       "      <td>0</td>\n",
       "      <td>Allied Bank</td>\n",
       "      <td>Mulberry</td>\n",
       "      <td>AR</td>\n",
       "      <td>91</td>\n",
       "      <td>Today's Bank</td>\n",
       "      <td>September 23, 2016</td>\n",
       "      <td>November 17, 2016</td>\n",
       "    </tr>\n",
       "    <tr>\n",
       "      <td>1</td>\n",
       "      <td>The Woodbury Banking Company</td>\n",
       "      <td>Woodbury</td>\n",
       "      <td>GA</td>\n",
       "      <td>11297</td>\n",
       "      <td>United Bank</td>\n",
       "      <td>August 19, 2016</td>\n",
       "      <td>November 17, 2016</td>\n",
       "    </tr>\n",
       "    <tr>\n",
       "      <td>2</td>\n",
       "      <td>First CornerStone Bank</td>\n",
       "      <td>King of Prussia</td>\n",
       "      <td>PA</td>\n",
       "      <td>35312</td>\n",
       "      <td>First-Citizens Bank &amp; Trust Company</td>\n",
       "      <td>May 6, 2016</td>\n",
       "      <td>September 6, 2016</td>\n",
       "    </tr>\n",
       "    <tr>\n",
       "      <td>3</td>\n",
       "      <td>Trust Company Bank</td>\n",
       "      <td>Memphis</td>\n",
       "      <td>TN</td>\n",
       "      <td>9956</td>\n",
       "      <td>The Bank of Fayette County</td>\n",
       "      <td>April 29, 2016</td>\n",
       "      <td>September 6, 2016</td>\n",
       "    </tr>\n",
       "    <tr>\n",
       "      <td>4</td>\n",
       "      <td>North Milwaukee State Bank</td>\n",
       "      <td>Milwaukee</td>\n",
       "      <td>WI</td>\n",
       "      <td>20364</td>\n",
       "      <td>First-Citizens Bank &amp; Trust Company</td>\n",
       "      <td>March 11, 2016</td>\n",
       "      <td>June 16, 2016</td>\n",
       "    </tr>\n",
       "  </tbody>\n",
       "</table>\n",
       "</div>"
      ],
      "text/plain": [
       "                      Bank Name             City  ST   CERT  \\\n",
       "0                   Allied Bank         Mulberry  AR     91   \n",
       "1  The Woodbury Banking Company         Woodbury  GA  11297   \n",
       "2        First CornerStone Bank  King of Prussia  PA  35312   \n",
       "3            Trust Company Bank          Memphis  TN   9956   \n",
       "4    North Milwaukee State Bank        Milwaukee  WI  20364   \n",
       "\n",
       "                 Acquiring Institution        Closing Date       Updated Date  \n",
       "0                         Today's Bank  September 23, 2016  November 17, 2016  \n",
       "1                          United Bank     August 19, 2016  November 17, 2016  \n",
       "2  First-Citizens Bank & Trust Company         May 6, 2016  September 6, 2016  \n",
       "3           The Bank of Fayette County      April 29, 2016  September 6, 2016  \n",
       "4  First-Citizens Bank & Trust Company      March 11, 2016      June 16, 2016  "
      ]
     },
     "execution_count": 80,
     "metadata": {},
     "output_type": "execute_result"
    }
   ],
   "source": [
    "failure_df.head()"
   ]
  },
  {
   "cell_type": "code",
   "execution_count": 81,
   "metadata": {},
   "outputs": [
    {
     "data": {
      "text/plain": [
       "(547, 7)"
      ]
     },
     "execution_count": 81,
     "metadata": {},
     "output_type": "execute_result"
    }
   ],
   "source": [
    "failure_df.shape"
   ]
  },
  {
   "cell_type": "code",
   "execution_count": 82,
   "metadata": {},
   "outputs": [
    {
     "data": {
      "text/plain": [
       "Index(['Bank Name', 'City', 'ST', 'CERT', 'Acquiring Institution',\n",
       "       'Closing Date', 'Updated Date'],\n",
       "      dtype='object')"
      ]
     },
     "execution_count": 82,
     "metadata": {},
     "output_type": "execute_result"
    }
   ],
   "source": [
    "failure_df.columns"
   ]
  },
  {
   "cell_type": "code",
   "execution_count": 85,
   "metadata": {},
   "outputs": [
    {
     "data": {
      "text/plain": [
       "0           Mulberry\n",
       "1           Woodbury\n",
       "2    King of Prussia\n",
       "3            Memphis\n",
       "4          Milwaukee\n",
       "Name: City, dtype: object"
      ]
     },
     "execution_count": 85,
     "metadata": {},
     "output_type": "execute_result"
    }
   ],
   "source": [
    "failure_df['City'].head()"
   ]
  },
  {
   "cell_type": "code",
   "execution_count": 86,
   "metadata": {},
   "outputs": [],
   "source": [
    "closing_date=pd.to_datetime(failure_df['Closing Date'])"
   ]
  },
  {
   "cell_type": "code",
   "execution_count": 87,
   "metadata": {},
   "outputs": [
    {
     "data": {
      "text/plain": [
       "0   2016-09-23\n",
       "1   2016-08-19\n",
       "2   2016-05-06\n",
       "3   2016-04-29\n",
       "4   2016-03-11\n",
       "Name: Closing Date, dtype: datetime64[ns]"
      ]
     },
     "execution_count": 87,
     "metadata": {},
     "output_type": "execute_result"
    }
   ],
   "source": [
    "closing_date.head()"
   ]
  },
  {
   "cell_type": "code",
   "execution_count": 88,
   "metadata": {},
   "outputs": [
    {
     "data": {
      "text/plain": [
       "0    September 23, 2016\n",
       "1       August 19, 2016\n",
       "2           May 6, 2016\n",
       "3        April 29, 2016\n",
       "4        March 11, 2016\n",
       "Name: Closing Date, dtype: object"
      ]
     },
     "execution_count": 88,
     "metadata": {},
     "output_type": "execute_result"
    }
   ],
   "source": [
    "failure_df['Closing Date'].head()"
   ]
  },
  {
   "cell_type": "markdown",
   "metadata": {},
   "source": [
    "# binary data Format"
   ]
  },
  {
   "cell_type": "code",
   "execution_count": 92,
   "metadata": {},
   "outputs": [],
   "source": [
    "#efficient way to store and retrieve data \n",
    "#not human readable\n",
    "frame=pd.read_csv(\"Desktop/examples/ex1.csv\")"
   ]
  },
  {
   "cell_type": "code",
   "execution_count": 93,
   "metadata": {},
   "outputs": [],
   "source": [
    "frame.to_pickle('Desktop/examples/pickle_frame')"
   ]
  },
  {
   "cell_type": "code",
   "execution_count": 94,
   "metadata": {},
   "outputs": [
    {
     "data": {
      "text/html": [
       "<div>\n",
       "<style scoped>\n",
       "    .dataframe tbody tr th:only-of-type {\n",
       "        vertical-align: middle;\n",
       "    }\n",
       "\n",
       "    .dataframe tbody tr th {\n",
       "        vertical-align: top;\n",
       "    }\n",
       "\n",
       "    .dataframe thead th {\n",
       "        text-align: right;\n",
       "    }\n",
       "</style>\n",
       "<table border=\"1\" class=\"dataframe\">\n",
       "  <thead>\n",
       "    <tr style=\"text-align: right;\">\n",
       "      <th></th>\n",
       "      <th>a</th>\n",
       "      <th>b</th>\n",
       "      <th>c</th>\n",
       "      <th>d</th>\n",
       "      <th>message</th>\n",
       "    </tr>\n",
       "  </thead>\n",
       "  <tbody>\n",
       "    <tr>\n",
       "      <td>0</td>\n",
       "      <td>1</td>\n",
       "      <td>2</td>\n",
       "      <td>3</td>\n",
       "      <td>4</td>\n",
       "      <td>hello</td>\n",
       "    </tr>\n",
       "    <tr>\n",
       "      <td>1</td>\n",
       "      <td>5</td>\n",
       "      <td>6</td>\n",
       "      <td>7</td>\n",
       "      <td>8</td>\n",
       "      <td>world</td>\n",
       "    </tr>\n",
       "    <tr>\n",
       "      <td>2</td>\n",
       "      <td>9</td>\n",
       "      <td>10</td>\n",
       "      <td>11</td>\n",
       "      <td>12</td>\n",
       "      <td>foo</td>\n",
       "    </tr>\n",
       "  </tbody>\n",
       "</table>\n",
       "</div>"
      ],
      "text/plain": [
       "   a   b   c   d message\n",
       "0  1   2   3   4   hello\n",
       "1  5   6   7   8   world\n",
       "2  9  10  11  12     foo"
      ]
     },
     "execution_count": 94,
     "metadata": {},
     "output_type": "execute_result"
    }
   ],
   "source": [
    "pd.read_pickle('Desktop/examples/pickle_frame')"
   ]
  },
  {
   "cell_type": "markdown",
   "metadata": {},
   "source": [
    "# HDF Format (Heirarical Data Format)"
   ]
  },
  {
   "cell_type": "code",
   "execution_count": 111,
   "metadata": {},
   "outputs": [
    {
     "name": "stdout",
     "output_type": "stream",
     "text": [
      "<class 'pandas.io.pytables.HDFStore'>\n",
      "File path: mydata.h5\n",
      "\n",
      "           a\n",
      "0   0.060979\n",
      "1  -0.734864\n",
      "2  -0.915477\n",
      "3   0.721147\n",
      "4  -0.997465\n",
      "..       ...\n",
      "95 -1.200011\n",
      "96 -0.049793\n",
      "97  0.576706\n",
      "98 -1.390544\n",
      "99 -0.568736\n",
      "\n",
      "[100 rows x 1 columns]\n",
      "<class 'pandas.core.frame.DataFrame'>\n",
      "          a\n",
      "0  0.060979\n",
      "1 -0.734864\n",
      "2 -0.915477\n",
      "3  0.721147\n",
      "4 -0.997465\n"
     ]
    }
   ],
   "source": [
    "#through HDf Format we can filter our data while reading from db\n",
    "frame=pd.DataFrame({'a':np.random.randn(100)})\n",
    "store=pd.HDFStore('mydata.h5')\n",
    "store['obj1']=frame\n",
    "store['obj1_col']=frame['a']\n",
    "print(store)\n",
    "x=store.obj1\n",
    "print(x)\n",
    "print(type(x))\n",
    "print(x.head())"
   ]
  },
  {
   "cell_type": "code",
   "execution_count": 112,
   "metadata": {},
   "outputs": [],
   "source": [
    "store.put('obj2',frame, format='table')"
   ]
  },
  {
   "cell_type": "code",
   "execution_count": 113,
   "metadata": {},
   "outputs": [
    {
     "data": {
      "text/html": [
       "<div>\n",
       "<style scoped>\n",
       "    .dataframe tbody tr th:only-of-type {\n",
       "        vertical-align: middle;\n",
       "    }\n",
       "\n",
       "    .dataframe tbody tr th {\n",
       "        vertical-align: top;\n",
       "    }\n",
       "\n",
       "    .dataframe thead th {\n",
       "        text-align: right;\n",
       "    }\n",
       "</style>\n",
       "<table border=\"1\" class=\"dataframe\">\n",
       "  <thead>\n",
       "    <tr style=\"text-align: right;\">\n",
       "      <th></th>\n",
       "      <th>a</th>\n",
       "    </tr>\n",
       "  </thead>\n",
       "  <tbody>\n",
       "    <tr>\n",
       "      <td>10</td>\n",
       "      <td>-0.051966</td>\n",
       "    </tr>\n",
       "    <tr>\n",
       "      <td>11</td>\n",
       "      <td>-0.850385</td>\n",
       "    </tr>\n",
       "    <tr>\n",
       "      <td>12</td>\n",
       "      <td>1.387550</td>\n",
       "    </tr>\n",
       "    <tr>\n",
       "      <td>13</td>\n",
       "      <td>-1.115927</td>\n",
       "    </tr>\n",
       "    <tr>\n",
       "      <td>14</td>\n",
       "      <td>0.752485</td>\n",
       "    </tr>\n",
       "    <tr>\n",
       "      <td>15</td>\n",
       "      <td>-0.410784</td>\n",
       "    </tr>\n",
       "  </tbody>\n",
       "</table>\n",
       "</div>"
      ],
      "text/plain": [
       "           a\n",
       "10 -0.051966\n",
       "11 -0.850385\n",
       "12  1.387550\n",
       "13 -1.115927\n",
       "14  0.752485\n",
       "15 -0.410784"
      ]
     },
     "execution_count": 113,
     "metadata": {},
     "output_type": "execute_result"
    }
   ],
   "source": [
    "store.select('obj2',where='index>=10 and index<=15')"
   ]
  },
  {
   "cell_type": "code",
   "execution_count": 114,
   "metadata": {},
   "outputs": [],
   "source": [
    "store.close()"
   ]
  },
  {
   "cell_type": "code",
   "execution_count": 115,
   "metadata": {},
   "outputs": [],
   "source": [
    "#direct way to save and retrive data with hdf\n",
    "frame.to_hdf('mydata1.h5','obj1',format='table')"
   ]
  },
  {
   "cell_type": "code",
   "execution_count": 116,
   "metadata": {},
   "outputs": [
    {
     "data": {
      "text/html": [
       "<div>\n",
       "<style scoped>\n",
       "    .dataframe tbody tr th:only-of-type {\n",
       "        vertical-align: middle;\n",
       "    }\n",
       "\n",
       "    .dataframe tbody tr th {\n",
       "        vertical-align: top;\n",
       "    }\n",
       "\n",
       "    .dataframe thead th {\n",
       "        text-align: right;\n",
       "    }\n",
       "</style>\n",
       "<table border=\"1\" class=\"dataframe\">\n",
       "  <thead>\n",
       "    <tr style=\"text-align: right;\">\n",
       "      <th></th>\n",
       "      <th>a</th>\n",
       "    </tr>\n",
       "  </thead>\n",
       "  <tbody>\n",
       "    <tr>\n",
       "      <td>0</td>\n",
       "      <td>0.060979</td>\n",
       "    </tr>\n",
       "    <tr>\n",
       "      <td>1</td>\n",
       "      <td>-0.734864</td>\n",
       "    </tr>\n",
       "    <tr>\n",
       "      <td>2</td>\n",
       "      <td>-0.915477</td>\n",
       "    </tr>\n",
       "    <tr>\n",
       "      <td>3</td>\n",
       "      <td>0.721147</td>\n",
       "    </tr>\n",
       "    <tr>\n",
       "      <td>4</td>\n",
       "      <td>-0.997465</td>\n",
       "    </tr>\n",
       "    <tr>\n",
       "      <td>...</td>\n",
       "      <td>...</td>\n",
       "    </tr>\n",
       "    <tr>\n",
       "      <td>95</td>\n",
       "      <td>-1.200011</td>\n",
       "    </tr>\n",
       "    <tr>\n",
       "      <td>96</td>\n",
       "      <td>-0.049793</td>\n",
       "    </tr>\n",
       "    <tr>\n",
       "      <td>97</td>\n",
       "      <td>0.576706</td>\n",
       "    </tr>\n",
       "    <tr>\n",
       "      <td>98</td>\n",
       "      <td>-1.390544</td>\n",
       "    </tr>\n",
       "    <tr>\n",
       "      <td>99</td>\n",
       "      <td>-0.568736</td>\n",
       "    </tr>\n",
       "  </tbody>\n",
       "</table>\n",
       "<p>100 rows × 1 columns</p>\n",
       "</div>"
      ],
      "text/plain": [
       "           a\n",
       "0   0.060979\n",
       "1  -0.734864\n",
       "2  -0.915477\n",
       "3   0.721147\n",
       "4  -0.997465\n",
       "..       ...\n",
       "95 -1.200011\n",
       "96 -0.049793\n",
       "97  0.576706\n",
       "98 -1.390544\n",
       "99 -0.568736\n",
       "\n",
       "[100 rows x 1 columns]"
      ]
     },
     "execution_count": 116,
     "metadata": {},
     "output_type": "execute_result"
    }
   ],
   "source": [
    "pd.read_hdf('mydata1.h5','obj1')"
   ]
  },
  {
   "cell_type": "markdown",
   "metadata": {},
   "source": [
    "# Reading Microsoft Excel data"
   ]
  },
  {
   "cell_type": "code",
   "execution_count": 117,
   "metadata": {},
   "outputs": [],
   "source": [
    "#reading\n",
    "frame=pd.read_excel('Desktop/examples/ex1.xlsx')"
   ]
  },
  {
   "cell_type": "code",
   "execution_count": 121,
   "metadata": {},
   "outputs": [
    {
     "data": {
      "text/html": [
       "<div>\n",
       "<style scoped>\n",
       "    .dataframe tbody tr th:only-of-type {\n",
       "        vertical-align: middle;\n",
       "    }\n",
       "\n",
       "    .dataframe tbody tr th {\n",
       "        vertical-align: top;\n",
       "    }\n",
       "\n",
       "    .dataframe thead th {\n",
       "        text-align: right;\n",
       "    }\n",
       "</style>\n",
       "<table border=\"1\" class=\"dataframe\">\n",
       "  <thead>\n",
       "    <tr style=\"text-align: right;\">\n",
       "      <th></th>\n",
       "      <th>Unnamed: 0</th>\n",
       "      <th>a</th>\n",
       "      <th>b</th>\n",
       "      <th>c</th>\n",
       "      <th>d</th>\n",
       "      <th>message</th>\n",
       "    </tr>\n",
       "  </thead>\n",
       "  <tbody>\n",
       "    <tr>\n",
       "      <td>0</td>\n",
       "      <td>0</td>\n",
       "      <td>1</td>\n",
       "      <td>2</td>\n",
       "      <td>3</td>\n",
       "      <td>4</td>\n",
       "      <td>hello</td>\n",
       "    </tr>\n",
       "    <tr>\n",
       "      <td>1</td>\n",
       "      <td>1</td>\n",
       "      <td>5</td>\n",
       "      <td>6</td>\n",
       "      <td>7</td>\n",
       "      <td>8</td>\n",
       "      <td>world</td>\n",
       "    </tr>\n",
       "    <tr>\n",
       "      <td>2</td>\n",
       "      <td>2</td>\n",
       "      <td>9</td>\n",
       "      <td>10</td>\n",
       "      <td>11</td>\n",
       "      <td>12</td>\n",
       "      <td>foo</td>\n",
       "    </tr>\n",
       "  </tbody>\n",
       "</table>\n",
       "</div>"
      ],
      "text/plain": [
       "   Unnamed: 0  a   b   c   d message\n",
       "0           0  1   2   3   4   hello\n",
       "1           1  5   6   7   8   world\n",
       "2           2  9  10  11  12     foo"
      ]
     },
     "execution_count": 121,
     "metadata": {},
     "output_type": "execute_result"
    }
   ],
   "source": [
    "frame.head()"
   ]
  },
  {
   "cell_type": "code",
   "execution_count": 122,
   "metadata": {},
   "outputs": [],
   "source": [
    "#writing to new excel sheet with single sheet\n",
    "frame.to_excel('Desktop/examples/ex2.xlsx')"
   ]
  },
  {
   "cell_type": "code",
   "execution_count": 124,
   "metadata": {},
   "outputs": [
    {
     "data": {
      "text/html": [
       "<div>\n",
       "<style scoped>\n",
       "    .dataframe tbody tr th:only-of-type {\n",
       "        vertical-align: middle;\n",
       "    }\n",
       "\n",
       "    .dataframe tbody tr th {\n",
       "        vertical-align: top;\n",
       "    }\n",
       "\n",
       "    .dataframe thead th {\n",
       "        text-align: right;\n",
       "    }\n",
       "</style>\n",
       "<table border=\"1\" class=\"dataframe\">\n",
       "  <thead>\n",
       "    <tr style=\"text-align: right;\">\n",
       "      <th></th>\n",
       "      <th>Unnamed: 0</th>\n",
       "      <th>Unnamed: 0.1</th>\n",
       "      <th>a</th>\n",
       "      <th>b</th>\n",
       "      <th>c</th>\n",
       "      <th>d</th>\n",
       "      <th>message</th>\n",
       "    </tr>\n",
       "  </thead>\n",
       "  <tbody>\n",
       "    <tr>\n",
       "      <td>0</td>\n",
       "      <td>0</td>\n",
       "      <td>0</td>\n",
       "      <td>1</td>\n",
       "      <td>2</td>\n",
       "      <td>3</td>\n",
       "      <td>4</td>\n",
       "      <td>hello</td>\n",
       "    </tr>\n",
       "    <tr>\n",
       "      <td>1</td>\n",
       "      <td>1</td>\n",
       "      <td>1</td>\n",
       "      <td>5</td>\n",
       "      <td>6</td>\n",
       "      <td>7</td>\n",
       "      <td>8</td>\n",
       "      <td>world</td>\n",
       "    </tr>\n",
       "    <tr>\n",
       "      <td>2</td>\n",
       "      <td>2</td>\n",
       "      <td>2</td>\n",
       "      <td>9</td>\n",
       "      <td>10</td>\n",
       "      <td>11</td>\n",
       "      <td>12</td>\n",
       "      <td>foo</td>\n",
       "    </tr>\n",
       "  </tbody>\n",
       "</table>\n",
       "</div>"
      ],
      "text/plain": [
       "   Unnamed: 0  Unnamed: 0.1  a   b   c   d message\n",
       "0           0             0  1   2   3   4   hello\n",
       "1           1             1  5   6   7   8   world\n",
       "2           2             2  9  10  11  12     foo"
      ]
     },
     "execution_count": 124,
     "metadata": {},
     "output_type": "execute_result"
    }
   ],
   "source": [
    "#reading the data from excel sheet which we write above\n",
    "pd.read_excel('Desktop/examples/ex2.xlsx')"
   ]
  },
  {
   "cell_type": "code",
   "execution_count": 126,
   "metadata": {},
   "outputs": [],
   "source": [
    "#writing in excel sheet with multiple pages\n",
    "writer=pd.ExcelWriter('Desktop/examples/ex2.xlsx')\n",
    "frame.to_excel(writer,'Sheet2')\n",
    "writer.save()"
   ]
  },
  {
   "cell_type": "markdown",
   "metadata": {},
   "source": [
    "# Interacting with web Api"
   ]
  },
  {
   "cell_type": "code",
   "execution_count": 127,
   "metadata": {},
   "outputs": [],
   "source": [
    "import requests\n",
    "url='https://api.github.com/repos/pandas-dev/pandas/issues'\n",
    "req=requests.get(url)"
   ]
  },
  {
   "cell_type": "code",
   "execution_count": 128,
   "metadata": {},
   "outputs": [
    {
     "name": "stdout",
     "output_type": "stream",
     "text": [
      "<Response [200]>\n"
     ]
    }
   ],
   "source": [
    "print(req)"
   ]
  },
  {
   "cell_type": "code",
   "execution_count": 129,
   "metadata": {},
   "outputs": [],
   "source": [
    "data=req.json()"
   ]
  },
  {
   "cell_type": "code",
   "execution_count": 132,
   "metadata": {},
   "outputs": [
    {
     "data": {
      "text/plain": [
       "[{'url': 'https://api.github.com/repos/pandas-dev/pandas/issues/35891',\n",
       "  'repository_url': 'https://api.github.com/repos/pandas-dev/pandas',\n",
       "  'labels_url': 'https://api.github.com/repos/pandas-dev/pandas/issues/35891/labels{/name}',\n",
       "  'comments_url': 'https://api.github.com/repos/pandas-dev/pandas/issues/35891/comments',\n",
       "  'events_url': 'https://api.github.com/repos/pandas-dev/pandas/issues/35891/events',\n",
       "  'html_url': 'https://github.com/pandas-dev/pandas/issues/35891',\n",
       "  'id': 685404307,\n",
       "  'node_id': 'MDU6SXNzdWU2ODU0MDQzMDc=',\n",
       "  'number': 35891,\n",
       "  'title': 'DOC: df.to_sql `chunksize` seems to be ignored by default.',\n",
       "  'user': {'login': 'gbrova',\n",
       "   'id': 1232895,\n",
       "   'node_id': 'MDQ6VXNlcjEyMzI4OTU=',\n",
       "   'avatar_url': 'https://avatars1.githubusercontent.com/u/1232895?v=4',\n",
       "   'gravatar_id': '',\n",
       "   'url': 'https://api.github.com/users/gbrova',\n",
       "   'html_url': 'https://github.com/gbrova',\n",
       "   'followers_url': 'https://api.github.com/users/gbrova/followers',\n",
       "   'following_url': 'https://api.github.com/users/gbrova/following{/other_user}',\n",
       "   'gists_url': 'https://api.github.com/users/gbrova/gists{/gist_id}',\n",
       "   'starred_url': 'https://api.github.com/users/gbrova/starred{/owner}{/repo}',\n",
       "   'subscriptions_url': 'https://api.github.com/users/gbrova/subscriptions',\n",
       "   'organizations_url': 'https://api.github.com/users/gbrova/orgs',\n",
       "   'repos_url': 'https://api.github.com/users/gbrova/repos',\n",
       "   'events_url': 'https://api.github.com/users/gbrova/events{/privacy}',\n",
       "   'received_events_url': 'https://api.github.com/users/gbrova/received_events',\n",
       "   'type': 'User',\n",
       "   'site_admin': False},\n",
       "  'labels': [{'id': 134699,\n",
       "    'node_id': 'MDU6TGFiZWwxMzQ2OTk=',\n",
       "    'url': 'https://api.github.com/repos/pandas-dev/pandas/labels/Docs',\n",
       "    'name': 'Docs',\n",
       "    'color': '3465A4',\n",
       "    'default': False,\n",
       "    'description': None},\n",
       "   {'id': 1954720290,\n",
       "    'node_id': 'MDU6TGFiZWwxOTU0NzIwMjkw',\n",
       "    'url': 'https://api.github.com/repos/pandas-dev/pandas/labels/Needs%20Triage',\n",
       "    'name': 'Needs Triage',\n",
       "    'color': '0052cc',\n",
       "    'default': False,\n",
       "    'description': 'Issue that has not been reviewed by a pandas team member'}],\n",
       "  'state': 'open',\n",
       "  'locked': False,\n",
       "  'assignee': None,\n",
       "  'assignees': [],\n",
       "  'milestone': None,\n",
       "  'comments': 1,\n",
       "  'created_at': '2020-08-25T11:26:26Z',\n",
       "  'updated_at': '2020-08-25T11:27:25Z',\n",
       "  'closed_at': None,\n",
       "  'author_association': 'NONE',\n",
       "  'active_lock_reason': None,\n",
       "  'body': '#### Location of the documentation\\r\\n\\r\\nhttps://dev.pandas.io/docs/reference/api/pandas.DataFrame.to_sql.html\\r\\n\\r\\n\\r\\n#### Documentation problem\\r\\n\\r\\nDocs for `chunksize` state that \"By default, all rows will be written at once\".  However, this seems to only be true if `method=\"multi\"`, even though `method=None` by default.\\r\\n\\r\\nExperimentally, I notice a substantial speedup if I set `method=\"multi\"` and `chunksize` is either unset or large, but `chunksize` seems to have no effect if I don\\'t set `method`. \\r\\n\\r\\n#### Suggested fix for documentation\\r\\n\\r\\nDocumentation for `chunksize` should also reference the `method` argument. For example. we could revise to: \\r\\n\\r\\n> chunksize : int, optional\\r\\n>  Specify the number of rows in each batch to be written at a time, **if batching is enabled via `method`**. By default, all rows will be written at once.\\r\\n\\r\\nAlso, are there many uses where users should avoid `method=\"multi\"`? If not, would it make sense to change the default?',\n",
       "  'performed_via_github_app': None},\n",
       " {'url': 'https://api.github.com/repos/pandas-dev/pandas/issues/35890',\n",
       "  'repository_url': 'https://api.github.com/repos/pandas-dev/pandas',\n",
       "  'labels_url': 'https://api.github.com/repos/pandas-dev/pandas/issues/35890/labels{/name}',\n",
       "  'comments_url': 'https://api.github.com/repos/pandas-dev/pandas/issues/35890/comments',\n",
       "  'events_url': 'https://api.github.com/repos/pandas-dev/pandas/issues/35890/events',\n",
       "  'html_url': 'https://github.com/pandas-dev/pandas/issues/35890',\n",
       "  'id': 685333577,\n",
       "  'node_id': 'MDU6SXNzdWU2ODUzMzM1Nzc=',\n",
       "  'number': 35890,\n",
       "  'title': 'BUG: ValueError: Of the four parameters: start, end, periods, and freq, exactly three must be specified',\n",
       "  'user': {'login': 'malapradej',\n",
       "   'id': 5550345,\n",
       "   'node_id': 'MDQ6VXNlcjU1NTAzNDU=',\n",
       "   'avatar_url': 'https://avatars1.githubusercontent.com/u/5550345?v=4',\n",
       "   'gravatar_id': '',\n",
       "   'url': 'https://api.github.com/users/malapradej',\n",
       "   'html_url': 'https://github.com/malapradej',\n",
       "   'followers_url': 'https://api.github.com/users/malapradej/followers',\n",
       "   'following_url': 'https://api.github.com/users/malapradej/following{/other_user}',\n",
       "   'gists_url': 'https://api.github.com/users/malapradej/gists{/gist_id}',\n",
       "   'starred_url': 'https://api.github.com/users/malapradej/starred{/owner}{/repo}',\n",
       "   'subscriptions_url': 'https://api.github.com/users/malapradej/subscriptions',\n",
       "   'organizations_url': 'https://api.github.com/users/malapradej/orgs',\n",
       "   'repos_url': 'https://api.github.com/users/malapradej/repos',\n",
       "   'events_url': 'https://api.github.com/users/malapradej/events{/privacy}',\n",
       "   'received_events_url': 'https://api.github.com/users/malapradej/received_events',\n",
       "   'type': 'User',\n",
       "   'site_admin': False},\n",
       "  'labels': [{'id': 76811,\n",
       "    'node_id': 'MDU6TGFiZWw3NjgxMQ==',\n",
       "    'url': 'https://api.github.com/repos/pandas-dev/pandas/labels/Bug',\n",
       "    'name': 'Bug',\n",
       "    'color': 'e10c02',\n",
       "    'default': False,\n",
       "    'description': None},\n",
       "   {'id': 1954720290,\n",
       "    'node_id': 'MDU6TGFiZWwxOTU0NzIwMjkw',\n",
       "    'url': 'https://api.github.com/repos/pandas-dev/pandas/labels/Needs%20Triage',\n",
       "    'name': 'Needs Triage',\n",
       "    'color': '0052cc',\n",
       "    'default': False,\n",
       "    'description': 'Issue that has not been reviewed by a pandas team member'}],\n",
       "  'state': 'open',\n",
       "  'locked': False,\n",
       "  'assignee': None,\n",
       "  'assignees': [],\n",
       "  'milestone': None,\n",
       "  'comments': 1,\n",
       "  'created_at': '2020-08-25T09:39:50Z',\n",
       "  'updated_at': '2020-08-25T09:44:31Z',\n",
       "  'closed_at': None,\n",
       "  'author_association': 'NONE',\n",
       "  'active_lock_reason': None,\n",
       "  'body': '- [x] I have checked that this issue has not already been reported.\\r\\n\\r\\n- [x] I have confirmed this bug exists on the latest version of pandas.\\r\\n\\r\\n- [ ] (optional) I have confirmed this bug exists on the master branch of pandas.\\r\\n\\r\\n---\\r\\n\\r\\n**Note**: Please read [this guide](https://matthewrocklin.com/blog/work/2018/02/28/minimal-bug-reports) detailing how to provide the necessary information for us to reproduce your bug.\\r\\n\\r\\n#### Code Sample, a copy-pastable example\\r\\n\\r\\n```python\\r\\n# Your code here\\r\\n\\r\\n```\\r\\n\\r\\n#### Problem description\\r\\n\\r\\n[this should explain **why** the current behaviour is a problem and why the expected output is a better solution]\\r\\n\\r\\n#### Expected Output\\r\\n\\r\\n#### Output of ``pd.show_versions()``\\r\\n\\r\\n<details>\\r\\n\\r\\n[paste the output of ``pd.show_versions()`` here leaving a blank line after the details tag]\\r\\n\\r\\n</details>\\r\\n',\n",
       "  'performed_via_github_app': None},\n",
       " {'url': 'https://api.github.com/repos/pandas-dev/pandas/issues/35889',\n",
       "  'repository_url': 'https://api.github.com/repos/pandas-dev/pandas',\n",
       "  'labels_url': 'https://api.github.com/repos/pandas-dev/pandas/issues/35889/labels{/name}',\n",
       "  'comments_url': 'https://api.github.com/repos/pandas-dev/pandas/issues/35889/comments',\n",
       "  'events_url': 'https://api.github.com/repos/pandas-dev/pandas/issues/35889/events',\n",
       "  'html_url': 'https://github.com/pandas-dev/pandas/issues/35889',\n",
       "  'id': 685309873,\n",
       "  'node_id': 'MDU6SXNzdWU2ODUzMDk4NzM=',\n",
       "  'number': 35889,\n",
       "  'title': 'BUG: groupby dropna=False with nan value in groupby causes ValueError when apply() ',\n",
       "  'user': {'login': 'cwkwong',\n",
       "   'id': 14267968,\n",
       "   'node_id': 'MDQ6VXNlcjE0MjY3OTY4',\n",
       "   'avatar_url': 'https://avatars0.githubusercontent.com/u/14267968?v=4',\n",
       "   'gravatar_id': '',\n",
       "   'url': 'https://api.github.com/users/cwkwong',\n",
       "   'html_url': 'https://github.com/cwkwong',\n",
       "   'followers_url': 'https://api.github.com/users/cwkwong/followers',\n",
       "   'following_url': 'https://api.github.com/users/cwkwong/following{/other_user}',\n",
       "   'gists_url': 'https://api.github.com/users/cwkwong/gists{/gist_id}',\n",
       "   'starred_url': 'https://api.github.com/users/cwkwong/starred{/owner}{/repo}',\n",
       "   'subscriptions_url': 'https://api.github.com/users/cwkwong/subscriptions',\n",
       "   'organizations_url': 'https://api.github.com/users/cwkwong/orgs',\n",
       "   'repos_url': 'https://api.github.com/users/cwkwong/repos',\n",
       "   'events_url': 'https://api.github.com/users/cwkwong/events{/privacy}',\n",
       "   'received_events_url': 'https://api.github.com/users/cwkwong/received_events',\n",
       "   'type': 'User',\n",
       "   'site_admin': False},\n",
       "  'labels': [{'id': 76811,\n",
       "    'node_id': 'MDU6TGFiZWw3NjgxMQ==',\n",
       "    'url': 'https://api.github.com/repos/pandas-dev/pandas/labels/Bug',\n",
       "    'name': 'Bug',\n",
       "    'color': 'e10c02',\n",
       "    'default': False,\n",
       "    'description': None},\n",
       "   {'id': 233160,\n",
       "    'node_id': 'MDU6TGFiZWwyMzMxNjA=',\n",
       "    'url': 'https://api.github.com/repos/pandas-dev/pandas/labels/Groupby',\n",
       "    'name': 'Groupby',\n",
       "    'color': '729FCF',\n",
       "    'default': False,\n",
       "    'description': None}],\n",
       "  'state': 'open',\n",
       "  'locked': False,\n",
       "  'assignee': None,\n",
       "  'assignees': [],\n",
       "  'milestone': None,\n",
       "  'comments': 2,\n",
       "  'created_at': '2020-08-25T09:04:32Z',\n",
       "  'updated_at': '2020-08-25T13:03:57Z',\n",
       "  'closed_at': None,\n",
       "  'author_association': 'NONE',\n",
       "  'active_lock_reason': None,\n",
       "  'body': '- [X] I have checked that this issue has not already been reported.\\r\\n\\r\\n- [X] I have confirmed this bug exists on the latest version of pandas, version `1.1.1`\\r\\n\\r\\n- [ ] (optional) I have confirmed this bug exists on the master branch of pandas.\\r\\n\\r\\n---\\r\\n\\r\\n#### Code Sample, a copy-pastable example\\r\\n\\r\\n```python\\r\\nimport pandas as pd\\r\\nimport numpy as np\\r\\n\\r\\ndf = pd.DataFrame({\\r\\n    \\'groups\\': [\\'a\\', \\'a\\', \\'b\\', np.nan],\\r\\n    \\'tonnages\\': [10, 10, 20, 30]\\r\\n})\\r\\ndfg = df.groupby(\\'groups\\', dropna=False)\\r\\nrv = dfg.apply(lambda grp: pd.DataFrame({\\'values\\': list(range(len(grp)))}))\\r\\n```\\r\\n\\r\\n#### Problem description\\r\\n\\r\\n`ValueError` raised on `dfg.apply(lambda grp: ...)`; with the following stacktrace:\\r\\n<details>\\r\\n\\r\\n```python\\r\\n../../env3.8/lib/python3.8/site-packages/pandas/core/groupby/groupby.py:859: in apply\\r\\n    result = self._python_apply_general(f, self._selected_obj)\\r\\n../../env3.8/lib/python3.8/site-packages/pandas/core/groupby/groupby.py:894: in _python_apply_general\\r\\n    return self._wrap_applied_output(\\r\\n../../env3.8/lib/python3.8/site-packages/pandas/core/groupby/generic.py:1230: in _wrap_applied_output\\r\\n    return self._concat_objects(keys, values, not_indexed_same=not_indexed_same)\\r\\n../../env3.8/lib/python3.8/site-packages/pandas/core/groupby/groupby.py:1145: in _concat_objects\\r\\n    result = concat(\\r\\n../../env3.8/lib/python3.8/site-packages/pandas/core/reshape/concat.py:274: in concat\\r\\n    op = _Concatenator(\\r\\n../../env3.8/lib/python3.8/site-packages/pandas/core/reshape/concat.py:454: in __init__\\r\\n    self.new_axes = self._get_new_axes()\\r\\n../../env3.8/lib/python3.8/site-packages/pandas/core/reshape/concat.py:519: in _get_new_axes\\r\\n    return [\\r\\n../../env3.8/lib/python3.8/site-packages/pandas/core/reshape/concat.py:520: in <listcomp>\\r\\n    self._get_concat_axis() if i == self.bm_axis else self._get_comb_axis(i)\\r\\n../../env3.8/lib/python3.8/site-packages/pandas/core/reshape/concat.py:576: in _get_concat_axis\\r\\n    concat_axis = _make_concat_multiindex(\\r\\n_ _ _ _ _ _ _ _ _ _ _ _ _ _ _ _ _ _ _ _ _ _ _ _ _ _ _ _ _ _ _ _ _ _ _ _ _ _ _ _ \\r\\n\\r\\nindexes = [RangeIndex(start=0, stop=2, step=1), RangeIndex(start=0, stop=1, step=1), RangeIndex(start=0, stop=1, step=1)]\\r\\nkeys = Index([\\'a\\', \\'b\\', nan], dtype=\\'object\\', name=\\'groups\\')\\r\\nlevels = [Index([\\'a\\', \\'b\\', nan], dtype=\\'object\\', name=\\'groups\\')]\\r\\nnames = [\\'groups\\']\\r\\n\\r\\n    def _make_concat_multiindex(indexes, keys, levels=None, names=None) -> MultiIndex:\\r\\n    \\r\\n        if (levels is None and isinstance(keys[0], tuple)) or (\\r\\n            levels is not None and len(levels) > 1\\r\\n        ):\\r\\n            zipped = list(zip(*keys))\\r\\n            if names is None:\\r\\n                names = [None] * len(zipped)\\r\\n    \\r\\n            if levels is None:\\r\\n                _, levels = factorize_from_iterables(zipped)\\r\\n            else:\\r\\n                levels = [ensure_index(x) for x in levels]\\r\\n        else:\\r\\n            zipped = [keys]\\r\\n            if names is None:\\r\\n                names = [None]\\r\\n    \\r\\n            if levels is None:\\r\\n                levels = [ensure_index(keys)]\\r\\n            else:\\r\\n                levels = [ensure_index(x) for x in levels]\\r\\n    \\r\\n        if not all_indexes_same(indexes):\\r\\n            codes_list = []\\r\\n    \\r\\n            # things are potentially different sizes, so compute the exact codes\\r\\n            # for each level and pass those to MultiIndex.from_arrays\\r\\n    \\r\\n            for hlevel, level in zip(zipped, levels):\\r\\n                to_concat = []\\r\\n                for key, index in zip(hlevel, indexes):\\r\\n                    mask = level == key\\r\\n                    if not mask.any():\\r\\n>                       raise ValueError(f\"Key {key} not in level {level}\")\\r\\nE                       ValueError: Key nan not in level Index([\\'a\\', \\'b\\', nan], dtype=\\'object\\', name=\\'groups\\')\\r\\n\\r\\n../../env3.8/lib/python3.8/site-packages/pandas/core/reshape/concat.py:631: ValueError\\r\\n```\\r\\n\\r\\n</details>\\r\\n\\r\\n#### Expected Output\\r\\n\\r\\nNo error should be raised. With the above, if i omit the `nan`:\\r\\n\\r\\n```python\\r\\ndf = pd.DataFrame({\\r\\n    \\'groups\\': [\\'a\\', \\'a\\', \\'b\\'],\\r\\n    \\'tonnages\\': [10, 10, 20]\\r\\n})\\r\\ndfg = df.groupby(\\'groups\\', dropna=False)\\r\\nrv = dfg.apply(lambda grp: pd.DataFrame({\\'values\\': list(range(len(grp)))}))\\r\\n```\\r\\nThen it works successfully with `rv` being:\\r\\n\\r\\n```python\\r\\n          values\\r\\ngroups          \\r\\na      0       0\\r\\n       1       1\\r\\nb      0       0\\r\\n```\\r\\n\\r\\n\\r\\n#### Output of ``pd.show_versions()``\\r\\n\\r\\n<details>\\r\\n\\r\\nINSTALLED VERSIONS\\r\\n------------------\\r\\ncommit           : f2ca0a2665b2d169c97de87b8e778dbed86aea07\\r\\npython           : 3.8.2.final.0\\r\\npython-bits      : 64\\r\\nOS               : Darwin\\r\\nOS-release       : 18.7.0\\r\\nVersion          : Darwin Kernel Version 18.7.0: Thu Jun 18 20:50:10 PDT 2020; root:xnu-4903.278.43~1/RELEASE_X86_64\\r\\nmachine          : x86_64\\r\\nprocessor        : i386\\r\\nbyteorder        : little\\r\\nLC_ALL           : None\\r\\nLANG             : en_AU.UTF-8\\r\\nLOCALE           : en_AU.UTF-8\\r\\n\\r\\npandas           : 1.1.1\\r\\nnumpy            : 1.18.4\\r\\npytz             : 2019.3\\r\\ndateutil         : 2.8.1\\r\\npip              : 20.1.1\\r\\nsetuptools       : 46.4.0\\r\\nCython           : 0.29.17\\r\\npytest           : 5.1.1\\r\\nhypothesis       : None\\r\\nsphinx           : None\\r\\nblosc            : None\\r\\nfeather          : None\\r\\nxlsxwriter       : 0.9.6\\r\\nlxml.etree       : None\\r\\nhtml5lib         : None\\r\\npymysql          : None\\r\\npsycopg2         : 2.8.3 (dt dec pq3 ext lo64)\\r\\njinja2           : 2.11.2\\r\\nIPython          : None\\r\\npandas_datareader: None\\r\\nbs4              : None\\r\\nbottleneck       : 1.3.1\\r\\nfsspec           : None\\r\\nfastparquet      : None\\r\\ngcsfs            : None\\r\\nmatplotlib       : None\\r\\nnumexpr          : 2.7.1\\r\\nodfpy            : None\\r\\nopenpyxl         : 1.8.6\\r\\npandas_gbq       : None\\r\\npyarrow          : None\\r\\npytables         : None\\r\\npyxlsb           : None\\r\\ns3fs             : None\\r\\nscipy            : 1.4.1\\r\\nsqlalchemy       : 1.3.12\\r\\ntables           : 3.6.1\\r\\ntabulate         : None\\r\\nxarray           : None\\r\\nxlrd             : 1.2.0\\r\\nxlwt             : None\\r\\nnumba            : None\\r\\n\\r\\n</details>\\r\\n',\n",
       "  'performed_via_github_app': None},\n",
       " {'url': 'https://api.github.com/repos/pandas-dev/pandas/issues/35888',\n",
       "  'repository_url': 'https://api.github.com/repos/pandas-dev/pandas',\n",
       "  'labels_url': 'https://api.github.com/repos/pandas-dev/pandas/issues/35888/labels{/name}',\n",
       "  'comments_url': 'https://api.github.com/repos/pandas-dev/pandas/issues/35888/comments',\n",
       "  'events_url': 'https://api.github.com/repos/pandas-dev/pandas/issues/35888/events',\n",
       "  'html_url': 'https://github.com/pandas-dev/pandas/issues/35888',\n",
       "  'id': 685251593,\n",
       "  'node_id': 'MDU6SXNzdWU2ODUyNTE1OTM=',\n",
       "  'number': 35888,\n",
       "  'title': 'BUG: pd.to_datetime() throws with Null-like arguments',\n",
       "  'user': {'login': 'blinkseb',\n",
       "   'id': 386274,\n",
       "   'node_id': 'MDQ6VXNlcjM4NjI3NA==',\n",
       "   'avatar_url': 'https://avatars2.githubusercontent.com/u/386274?v=4',\n",
       "   'gravatar_id': '',\n",
       "   'url': 'https://api.github.com/users/blinkseb',\n",
       "   'html_url': 'https://github.com/blinkseb',\n",
       "   'followers_url': 'https://api.github.com/users/blinkseb/followers',\n",
       "   'following_url': 'https://api.github.com/users/blinkseb/following{/other_user}',\n",
       "   'gists_url': 'https://api.github.com/users/blinkseb/gists{/gist_id}',\n",
       "   'starred_url': 'https://api.github.com/users/blinkseb/starred{/owner}{/repo}',\n",
       "   'subscriptions_url': 'https://api.github.com/users/blinkseb/subscriptions',\n",
       "   'organizations_url': 'https://api.github.com/users/blinkseb/orgs',\n",
       "   'repos_url': 'https://api.github.com/users/blinkseb/repos',\n",
       "   'events_url': 'https://api.github.com/users/blinkseb/events{/privacy}',\n",
       "   'received_events_url': 'https://api.github.com/users/blinkseb/received_events',\n",
       "   'type': 'User',\n",
       "   'site_admin': False},\n",
       "  'labels': [{'id': 76811,\n",
       "    'node_id': 'MDU6TGFiZWw3NjgxMQ==',\n",
       "    'url': 'https://api.github.com/repos/pandas-dev/pandas/labels/Bug',\n",
       "    'name': 'Bug',\n",
       "    'color': 'e10c02',\n",
       "    'default': False,\n",
       "    'description': None},\n",
       "   {'id': 1954720290,\n",
       "    'node_id': 'MDU6TGFiZWwxOTU0NzIwMjkw',\n",
       "    'url': 'https://api.github.com/repos/pandas-dev/pandas/labels/Needs%20Triage',\n",
       "    'name': 'Needs Triage',\n",
       "    'color': '0052cc',\n",
       "    'default': False,\n",
       "    'description': 'Issue that has not been reviewed by a pandas team member'}],\n",
       "  'state': 'open',\n",
       "  'locked': False,\n",
       "  'assignee': None,\n",
       "  'assignees': [],\n",
       "  'milestone': None,\n",
       "  'comments': 0,\n",
       "  'created_at': '2020-08-25T07:37:44Z',\n",
       "  'updated_at': '2020-08-25T07:37:44Z',\n",
       "  'closed_at': None,\n",
       "  'author_association': 'NONE',\n",
       "  'active_lock_reason': None,\n",
       "  'body': '- [x] I have checked that this issue has not already been reported.\\r\\n\\r\\n- [x] I have confirmed this bug exists on the latest version of pandas.\\r\\n\\r\\n- [ ] (optional) I have confirmed this bug exists on the master branch of pandas.\\r\\n\\r\\n---\\r\\n\\r\\n**Note**: Please read [this guide](https://matthewrocklin.com/blog/work/2018/02/28/minimal-bug-reports) detailing how to provide the necessary information for us to reproduce your bug.\\r\\n\\r\\n#### Code Sample, a copy-pastable example\\r\\n\\r\\n```python\\r\\nimport pandas as pd\\r\\n\\r\\ns = pd.Series([pd.NaT] * 2000 + [None] * 2000, dtype=\\'object\\')\\r\\npd.to_datetime(s)\\r\\n\\r\\nTraceback (most recent call last):\\r\\n  File \"<stdin>\", line 1, in <module>\\r\\n  File \"/home/sbrochet/venvs/tmp-fa372ee62ee9bef/lib64/python3.8/site-packages/pandas/core/tools/datetimes.py\", line 801, in to_datetime\\r\\n    result = arg.map(cache_array)\\r\\n  File \"/home/sbrochet/venvs/tmp-fa372ee62ee9bef/lib64/python3.8/site-packages/pandas/core/series.py\", line 3970, in map\\r\\n    new_values = super()._map_values(arg, na_action=na_action)\\r\\n  File \"/home/sbrochet/venvs/tmp-fa372ee62ee9bef/lib64/python3.8/site-packages/pandas/core/base.py\", line 1131, in _map_values\\r\\n    indexer = mapper.index.get_indexer(values)\\r\\n  File \"/home/sbrochet/venvs/tmp-fa372ee62ee9bef/lib64/python3.8/site-packages/pandas/core/indexes/base.py\", line 2980, in get_indexer\\r\\n    raise InvalidIndexError(\\r\\npandas.errors.InvalidIndexError: Reindexing only valid with uniquely valued Index objects\\r\\n```\\r\\n\\r\\n#### Problem description\\r\\n\\r\\n`pd.to_datetime()` crash if the input contains a mix of `NaT` and `None` with a `pandas.errors.InvalidIndexError: Reindexing only valid with uniquely valued Index objects` exception.\\r\\nThis issue is similar to https://github.com/pandas-dev/pandas/issues/22305 which was fixed a while ago. It only occurs if the input is large enough to force the caching mechanism.\\r\\n\\r\\n#### Expected Output\\r\\n\\r\\nNo crash\\r\\n\\r\\n#### Output of ``pd.show_versions()``\\r\\n\\r\\n<details>\\r\\n\\r\\nINSTALLED VERSIONS\\r\\n------------------\\r\\ncommit           : f2ca0a2665b2d169c97de87b8e778dbed86aea07\\r\\npython           : 3.8.5.final.0\\r\\npython-bits      : 64\\r\\nOS               : Linux\\r\\nOS-release       : 5.7.15-200.fc32.x86_64\\r\\nVersion          : #1 SMP Tue Aug 11 16:36:14 UTC 2020\\r\\nmachine          : x86_64\\r\\nprocessor        : x86_64\\r\\nbyteorder        : little\\r\\nLC_ALL           : None\\r\\nLANG             : en_GB.UTF-8\\r\\nLOCALE           : en_GB.UTF-8\\r\\n\\r\\npandas           : 1.1.1\\r\\nnumpy            : 1.19.1\\r\\npytz             : 2020.1\\r\\ndateutil         : 2.8.1\\r\\npip              : 20.0.2\\r\\nsetuptools       : 46.1.3\\r\\nCython           : None\\r\\npytest           : None\\r\\nhypothesis       : None\\r\\nsphinx           : None\\r\\nblosc            : None\\r\\nfeather          : None\\r\\nxlsxwriter       : None\\r\\nlxml.etree       : None\\r\\nhtml5lib         : None\\r\\npymysql          : 0.10.0\\r\\npsycopg2         : None\\r\\njinja2           : None\\r\\nIPython          : None\\r\\npandas_datareader: None\\r\\nbs4              : None\\r\\nbottleneck       : None\\r\\nfsspec           : None\\r\\nfastparquet      : None\\r\\ngcsfs            : None\\r\\nmatplotlib       : None\\r\\nnumexpr          : None\\r\\nodfpy            : None\\r\\nopenpyxl         : None\\r\\npandas_gbq       : None\\r\\npyarrow          : None\\r\\npytables         : None\\r\\npyxlsb           : None\\r\\ns3fs             : None\\r\\nscipy            : None\\r\\nsqlalchemy       : 1.3.19\\r\\ntables           : None\\r\\ntabulate         : 0.8.7\\r\\nxarray           : None\\r\\nxlrd             : None\\r\\nxlwt             : None\\r\\nnumba            : None\\r\\n\\r\\n</details>\\r\\n',\n",
       "  'performed_via_github_app': None},\n",
       " {'url': 'https://api.github.com/repos/pandas-dev/pandas/issues/35886',\n",
       "  'repository_url': 'https://api.github.com/repos/pandas-dev/pandas',\n",
       "  'labels_url': 'https://api.github.com/repos/pandas-dev/pandas/issues/35886/labels{/name}',\n",
       "  'comments_url': 'https://api.github.com/repos/pandas-dev/pandas/issues/35886/comments',\n",
       "  'events_url': 'https://api.github.com/repos/pandas-dev/pandas/issues/35886/events',\n",
       "  'html_url': 'https://github.com/pandas-dev/pandas/issues/35886',\n",
       "  'id': 685156845,\n",
       "  'node_id': 'MDU6SXNzdWU2ODUxNTY4NDU=',\n",
       "  'number': 35886,\n",
       "  'title': 'QST:',\n",
       "  'user': {'login': '1994Shankar',\n",
       "   'id': 54267639,\n",
       "   'node_id': 'MDQ6VXNlcjU0MjY3NjM5',\n",
       "   'avatar_url': 'https://avatars1.githubusercontent.com/u/54267639?v=4',\n",
       "   'gravatar_id': '',\n",
       "   'url': 'https://api.github.com/users/1994Shankar',\n",
       "   'html_url': 'https://github.com/1994Shankar',\n",
       "   'followers_url': 'https://api.github.com/users/1994Shankar/followers',\n",
       "   'following_url': 'https://api.github.com/users/1994Shankar/following{/other_user}',\n",
       "   'gists_url': 'https://api.github.com/users/1994Shankar/gists{/gist_id}',\n",
       "   'starred_url': 'https://api.github.com/users/1994Shankar/starred{/owner}{/repo}',\n",
       "   'subscriptions_url': 'https://api.github.com/users/1994Shankar/subscriptions',\n",
       "   'organizations_url': 'https://api.github.com/users/1994Shankar/orgs',\n",
       "   'repos_url': 'https://api.github.com/users/1994Shankar/repos',\n",
       "   'events_url': 'https://api.github.com/users/1994Shankar/events{/privacy}',\n",
       "   'received_events_url': 'https://api.github.com/users/1994Shankar/received_events',\n",
       "   'type': 'User',\n",
       "   'site_admin': False},\n",
       "  'labels': [{'id': 1954720290,\n",
       "    'node_id': 'MDU6TGFiZWwxOTU0NzIwMjkw',\n",
       "    'url': 'https://api.github.com/repos/pandas-dev/pandas/labels/Needs%20Triage',\n",
       "    'name': 'Needs Triage',\n",
       "    'color': '0052cc',\n",
       "    'default': False,\n",
       "    'description': 'Issue that has not been reviewed by a pandas team member'},\n",
       "   {'id': 34444536,\n",
       "    'node_id': 'MDU6TGFiZWwzNDQ0NDUzNg==',\n",
       "    'url': 'https://api.github.com/repos/pandas-dev/pandas/labels/Usage%20Question',\n",
       "    'name': 'Usage Question',\n",
       "    'color': '0052cc',\n",
       "    'default': False,\n",
       "    'description': None}],\n",
       "  'state': 'open',\n",
       "  'locked': False,\n",
       "  'assignee': None,\n",
       "  'assignees': [],\n",
       "  'milestone': None,\n",
       "  'comments': 0,\n",
       "  'created_at': '2020-08-25T04:18:23Z',\n",
       "  'updated_at': '2020-08-25T04:18:23Z',\n",
       "  'closed_at': None,\n",
       "  'author_association': 'NONE',\n",
       "  'active_lock_reason': None,\n",
       "  'body': 'import pandas as pd\\r\\nimport xlrd\\r\\nbook = xlrd.open_workbook(\"Excel_to_panda.xlsx\")\\r\\n\\r\\ngetting below error:-\\r\\n\\r\\n/usr/local/bin/python3.8 /Users/bhabanishankarkar/PycharmProjects/untitled/hello.py\\r\\nTraceback (most recent call last):\\r\\n  File \"/Users/bhabanishankarkar/PycharmProjects/untitled/hello.py\", line 71, in <module>\\r\\n    book = xlrd.open_workbook(\"Excel_to_panda.xlsx\")\\r\\n  File \"/Users/bhabanishankarkar/Library/Python/3.8/lib/python/site-packages/xlrd/__init__.py\", line 145, in open_workbook\\r\\n    raise XLRDError(\\'ZIP file contents not a known type of workbook\\')\\r\\nxlrd.biffh.XLRDError: ZIP file contents not a known type of workbook\\r\\n\\r\\nProcess finished with exit code 1\\r\\n\\r\\nCan anyone help with this?\\r\\n',\n",
       "  'performed_via_github_app': None},\n",
       " {'url': 'https://api.github.com/repos/pandas-dev/pandas/issues/35883',\n",
       "  'repository_url': 'https://api.github.com/repos/pandas-dev/pandas',\n",
       "  'labels_url': 'https://api.github.com/repos/pandas-dev/pandas/issues/35883/labels{/name}',\n",
       "  'comments_url': 'https://api.github.com/repos/pandas-dev/pandas/issues/35883/comments',\n",
       "  'events_url': 'https://api.github.com/repos/pandas-dev/pandas/issues/35883/events',\n",
       "  'html_url': 'https://github.com/pandas-dev/pandas/pull/35883',\n",
       "  'id': 685102098,\n",
       "  'node_id': 'MDExOlB1bGxSZXF1ZXN0NDcyODgwMTM4',\n",
       "  'number': 35883,\n",
       "  'title': 'REF: use BlockManager.apply for Rolling.count',\n",
       "  'user': {'login': 'jbrockmendel',\n",
       "   'id': 8078968,\n",
       "   'node_id': 'MDQ6VXNlcjgwNzg5Njg=',\n",
       "   'avatar_url': 'https://avatars1.githubusercontent.com/u/8078968?v=4',\n",
       "   'gravatar_id': '',\n",
       "   'url': 'https://api.github.com/users/jbrockmendel',\n",
       "   'html_url': 'https://github.com/jbrockmendel',\n",
       "   'followers_url': 'https://api.github.com/users/jbrockmendel/followers',\n",
       "   'following_url': 'https://api.github.com/users/jbrockmendel/following{/other_user}',\n",
       "   'gists_url': 'https://api.github.com/users/jbrockmendel/gists{/gist_id}',\n",
       "   'starred_url': 'https://api.github.com/users/jbrockmendel/starred{/owner}{/repo}',\n",
       "   'subscriptions_url': 'https://api.github.com/users/jbrockmendel/subscriptions',\n",
       "   'organizations_url': 'https://api.github.com/users/jbrockmendel/orgs',\n",
       "   'repos_url': 'https://api.github.com/users/jbrockmendel/repos',\n",
       "   'events_url': 'https://api.github.com/users/jbrockmendel/events{/privacy}',\n",
       "   'received_events_url': 'https://api.github.com/users/jbrockmendel/received_events',\n",
       "   'type': 'User',\n",
       "   'site_admin': False},\n",
       "  'labels': [],\n",
       "  'state': 'open',\n",
       "  'locked': False,\n",
       "  'assignee': None,\n",
       "  'assignees': [],\n",
       "  'milestone': None,\n",
       "  'comments': 0,\n",
       "  'created_at': '2020-08-25T02:12:19Z',\n",
       "  'updated_at': '2020-08-25T05:46:47Z',\n",
       "  'closed_at': None,\n",
       "  'author_association': 'MEMBER',\n",
       "  'active_lock_reason': None,\n",
       "  'pull_request': {'url': 'https://api.github.com/repos/pandas-dev/pandas/pulls/35883',\n",
       "   'html_url': 'https://github.com/pandas-dev/pandas/pull/35883',\n",
       "   'diff_url': 'https://github.com/pandas-dev/pandas/pull/35883.diff',\n",
       "   'patch_url': 'https://github.com/pandas-dev/pandas/pull/35883.patch'},\n",
       "  'body': '- [ ] closes #xxxx\\r\\n- [ ] tests added / passed\\r\\n- [x] passes `black pandas`\\r\\n- [x] passes `git diff upstream/master -u -- \"*.py\" | flake8 --diff`\\r\\n- [ ] whatsnew entry\\r\\n',\n",
       "  'performed_via_github_app': None},\n",
       " {'url': 'https://api.github.com/repos/pandas-dev/pandas/issues/35882',\n",
       "  'repository_url': 'https://api.github.com/repos/pandas-dev/pandas',\n",
       "  'labels_url': 'https://api.github.com/repos/pandas-dev/pandas/issues/35882/labels{/name}',\n",
       "  'comments_url': 'https://api.github.com/repos/pandas-dev/pandas/issues/35882/comments',\n",
       "  'events_url': 'https://api.github.com/repos/pandas-dev/pandas/issues/35882/events',\n",
       "  'html_url': 'https://github.com/pandas-dev/pandas/pull/35882',\n",
       "  'id': 685083193,\n",
       "  'node_id': 'MDExOlB1bGxSZXF1ZXN0NDcyODY1NTA0',\n",
       "  'number': 35882,\n",
       "  'title': 'BUG: item_cache invalidation in get_numeric_data',\n",
       "  'user': {'login': 'jbrockmendel',\n",
       "   'id': 8078968,\n",
       "   'node_id': 'MDQ6VXNlcjgwNzg5Njg=',\n",
       "   'avatar_url': 'https://avatars1.githubusercontent.com/u/8078968?v=4',\n",
       "   'gravatar_id': '',\n",
       "   'url': 'https://api.github.com/users/jbrockmendel',\n",
       "   'html_url': 'https://github.com/jbrockmendel',\n",
       "   'followers_url': 'https://api.github.com/users/jbrockmendel/followers',\n",
       "   'following_url': 'https://api.github.com/users/jbrockmendel/following{/other_user}',\n",
       "   'gists_url': 'https://api.github.com/users/jbrockmendel/gists{/gist_id}',\n",
       "   'starred_url': 'https://api.github.com/users/jbrockmendel/starred{/owner}{/repo}',\n",
       "   'subscriptions_url': 'https://api.github.com/users/jbrockmendel/subscriptions',\n",
       "   'organizations_url': 'https://api.github.com/users/jbrockmendel/orgs',\n",
       "   'repos_url': 'https://api.github.com/users/jbrockmendel/repos',\n",
       "   'events_url': 'https://api.github.com/users/jbrockmendel/events{/privacy}',\n",
       "   'received_events_url': 'https://api.github.com/users/jbrockmendel/received_events',\n",
       "   'type': 'User',\n",
       "   'site_admin': False},\n",
       "  'labels': [],\n",
       "  'state': 'open',\n",
       "  'locked': False,\n",
       "  'assignee': None,\n",
       "  'assignees': [],\n",
       "  'milestone': None,\n",
       "  'comments': 0,\n",
       "  'created_at': '2020-08-25T01:13:32Z',\n",
       "  'updated_at': '2020-08-25T01:13:32Z',\n",
       "  'closed_at': None,\n",
       "  'author_association': 'MEMBER',\n",
       "  'active_lock_reason': None,\n",
       "  'pull_request': {'url': 'https://api.github.com/repos/pandas-dev/pandas/pulls/35882',\n",
       "   'html_url': 'https://github.com/pandas-dev/pandas/pull/35882',\n",
       "   'diff_url': 'https://github.com/pandas-dev/pandas/pull/35882.diff',\n",
       "   'patch_url': 'https://github.com/pandas-dev/pandas/pull/35882.patch'},\n",
       "  'body': '- [ ] closes #xxxx\\r\\n- [x] tests added / passed\\r\\n- [x] passes `black pandas`\\r\\n- [x] passes `git diff upstream/master -u -- \"*.py\" | flake8 --diff`\\r\\n- [ ] whatsnew entry\\r\\n',\n",
       "  'performed_via_github_app': None},\n",
       " {'url': 'https://api.github.com/repos/pandas-dev/pandas/issues/35881',\n",
       "  'repository_url': 'https://api.github.com/repos/pandas-dev/pandas',\n",
       "  'labels_url': 'https://api.github.com/repos/pandas-dev/pandas/issues/35881/labels{/name}',\n",
       "  'comments_url': 'https://api.github.com/repos/pandas-dev/pandas/issues/35881/comments',\n",
       "  'events_url': 'https://api.github.com/repos/pandas-dev/pandas/issues/35881/events',\n",
       "  'html_url': 'https://github.com/pandas-dev/pandas/pull/35881',\n",
       "  'id': 685077276,\n",
       "  'node_id': 'MDExOlB1bGxSZXF1ZXN0NDcyODYwNzk4',\n",
       "  'number': 35881,\n",
       "  'title': 'REF: ignore_failures in BlockManager.reduce',\n",
       "  'user': {'login': 'jbrockmendel',\n",
       "   'id': 8078968,\n",
       "   'node_id': 'MDQ6VXNlcjgwNzg5Njg=',\n",
       "   'avatar_url': 'https://avatars1.githubusercontent.com/u/8078968?v=4',\n",
       "   'gravatar_id': '',\n",
       "   'url': 'https://api.github.com/users/jbrockmendel',\n",
       "   'html_url': 'https://github.com/jbrockmendel',\n",
       "   'followers_url': 'https://api.github.com/users/jbrockmendel/followers',\n",
       "   'following_url': 'https://api.github.com/users/jbrockmendel/following{/other_user}',\n",
       "   'gists_url': 'https://api.github.com/users/jbrockmendel/gists{/gist_id}',\n",
       "   'starred_url': 'https://api.github.com/users/jbrockmendel/starred{/owner}{/repo}',\n",
       "   'subscriptions_url': 'https://api.github.com/users/jbrockmendel/subscriptions',\n",
       "   'organizations_url': 'https://api.github.com/users/jbrockmendel/orgs',\n",
       "   'repos_url': 'https://api.github.com/users/jbrockmendel/repos',\n",
       "   'events_url': 'https://api.github.com/users/jbrockmendel/events{/privacy}',\n",
       "   'received_events_url': 'https://api.github.com/users/jbrockmendel/received_events',\n",
       "   'type': 'User',\n",
       "   'site_admin': False},\n",
       "  'labels': [{'id': 49094459,\n",
       "    'node_id': 'MDU6TGFiZWw0OTA5NDQ1OQ==',\n",
       "    'url': 'https://api.github.com/repos/pandas-dev/pandas/labels/Internals',\n",
       "    'name': 'Internals',\n",
       "    'color': 'fbca04',\n",
       "    'default': False,\n",
       "    'description': 'Related to non-user accessible pandas implementation'},\n",
       "   {'id': 127681,\n",
       "    'node_id': 'MDU6TGFiZWwxMjc2ODE=',\n",
       "    'url': 'https://api.github.com/repos/pandas-dev/pandas/labels/Refactor',\n",
       "    'name': 'Refactor',\n",
       "    'color': 'FCE94F',\n",
       "    'default': False,\n",
       "    'description': 'Internal refactoring of code'}],\n",
       "  'state': 'open',\n",
       "  'locked': False,\n",
       "  'assignee': None,\n",
       "  'assignees': [],\n",
       "  'milestone': None,\n",
       "  'comments': 0,\n",
       "  'created_at': '2020-08-25T00:54:54Z',\n",
       "  'updated_at': '2020-08-25T12:56:46Z',\n",
       "  'closed_at': None,\n",
       "  'author_association': 'MEMBER',\n",
       "  'active_lock_reason': None,\n",
       "  'pull_request': {'url': 'https://api.github.com/repos/pandas-dev/pandas/pulls/35881',\n",
       "   'html_url': 'https://github.com/pandas-dev/pandas/pull/35881',\n",
       "   'diff_url': 'https://github.com/pandas-dev/pandas/pull/35881.diff',\n",
       "   'patch_url': 'https://github.com/pandas-dev/pandas/pull/35881.patch'},\n",
       "  'body': 'Moving towards collecting all of the ignore_failures code in one place.\\r\\n\\r\\nThe case where we have object dtypes is kept separate in this PR, will be handled in the next pass.',\n",
       "  'performed_via_github_app': None},\n",
       " {'url': 'https://api.github.com/repos/pandas-dev/pandas/issues/35878',\n",
       "  'repository_url': 'https://api.github.com/repos/pandas-dev/pandas',\n",
       "  'labels_url': 'https://api.github.com/repos/pandas-dev/pandas/issues/35878/labels{/name}',\n",
       "  'comments_url': 'https://api.github.com/repos/pandas-dev/pandas/issues/35878/comments',\n",
       "  'events_url': 'https://api.github.com/repos/pandas-dev/pandas/issues/35878/events',\n",
       "  'html_url': 'https://github.com/pandas-dev/pandas/issues/35878',\n",
       "  'id': 685052078,\n",
       "  'node_id': 'MDU6SXNzdWU2ODUwNTIwNzg=',\n",
       "  'number': 35878,\n",
       "  'title': 'BUG: MultiIndex assignment via loc',\n",
       "  'user': {'login': 'matthewgilbert',\n",
       "   'id': 2401026,\n",
       "   'node_id': 'MDQ6VXNlcjI0MDEwMjY=',\n",
       "   'avatar_url': 'https://avatars1.githubusercontent.com/u/2401026?v=4',\n",
       "   'gravatar_id': '',\n",
       "   'url': 'https://api.github.com/users/matthewgilbert',\n",
       "   'html_url': 'https://github.com/matthewgilbert',\n",
       "   'followers_url': 'https://api.github.com/users/matthewgilbert/followers',\n",
       "   'following_url': 'https://api.github.com/users/matthewgilbert/following{/other_user}',\n",
       "   'gists_url': 'https://api.github.com/users/matthewgilbert/gists{/gist_id}',\n",
       "   'starred_url': 'https://api.github.com/users/matthewgilbert/starred{/owner}{/repo}',\n",
       "   'subscriptions_url': 'https://api.github.com/users/matthewgilbert/subscriptions',\n",
       "   'organizations_url': 'https://api.github.com/users/matthewgilbert/orgs',\n",
       "   'repos_url': 'https://api.github.com/users/matthewgilbert/repos',\n",
       "   'events_url': 'https://api.github.com/users/matthewgilbert/events{/privacy}',\n",
       "   'received_events_url': 'https://api.github.com/users/matthewgilbert/received_events',\n",
       "   'type': 'User',\n",
       "   'site_admin': False},\n",
       "  'labels': [{'id': 71268330,\n",
       "    'node_id': 'MDU6TGFiZWw3MTI2ODMzMA==',\n",
       "    'url': 'https://api.github.com/repos/pandas-dev/pandas/labels/MultiIndex',\n",
       "    'name': 'MultiIndex',\n",
       "    'color': '207de5',\n",
       "    'default': False,\n",
       "    'description': None},\n",
       "   {'id': 32815646,\n",
       "    'node_id': 'MDU6TGFiZWwzMjgxNTY0Ng==',\n",
       "    'url': 'https://api.github.com/repos/pandas-dev/pandas/labels/Regression',\n",
       "    'name': 'Regression',\n",
       "    'color': 'e11d21',\n",
       "    'default': False,\n",
       "    'description': 'Functionality that used to work in a prior pandas version'}],\n",
       "  'state': 'open',\n",
       "  'locked': False,\n",
       "  'assignee': None,\n",
       "  'assignees': [],\n",
       "  'milestone': None,\n",
       "  'comments': 0,\n",
       "  'created_at': '2020-08-24T23:38:04Z',\n",
       "  'updated_at': '2020-08-25T02:19:06Z',\n",
       "  'closed_at': None,\n",
       "  'author_association': 'CONTRIBUTOR',\n",
       "  'active_lock_reason': None,\n",
       "  'body': '- [x] I have checked that this issue has not already been reported.\\r\\n\\r\\n- [x] I have confirmed this bug exists on the latest version of pandas.\\r\\n\\r\\n- [x] (optional) I have confirmed this bug exists on the master branch of pandas.\\r\\n\\r\\n---\\r\\n\\r\\nThe behavior of assignment via `loc` seems to have changed as of `1.0.0`.\\r\\n\\r\\n```python\\r\\nimport pandas\\r\\n\\r\\nTS = pandas.Timestamp\\r\\n\\r\\ns = pandas.DataFrame([\\r\\n    [\"A1\", TS(\"2020-06-15\"), -573.75],\\r\\n    [\"A2\", TS(\"2020-06-15\"), -198.75],\\r\\n    [\"A3\", TS(\"2020-06-15\"), -1.25],\\r\\n], columns=[\"sid\", \"date\", \"price\"]).set_index([\"sid\", \"date\"])[\"price\"]\\r\\ns.loc[[]] = 0\\r\\nprint(s)\\r\\n```\\r\\n\\r\\n```\\r\\nsid  date      \\r\\nA1   2020-06-15    0.0\\r\\nA2   2020-06-15    0.0\\r\\nA3   2020-06-15    0.0\\r\\nName: price, dtype: float64\\r\\n```\\r\\n\\r\\nI would expect this to behave the same as in in `0.25.3` which would assign nothing. I assume this is a bug because I can\\'t find any discussion of the changed behavior in the [Changelog](https://pandas.pydata.org/pandas-docs/stable/whatsnew/v1.0.0.html).\\r\\n\\r\\nNote that selection or assignment without a `MultiIndex` behavior appears to be unchanged, i.e.\\r\\n\\r\\n```python\\r\\nprint(s.loc[[]])\\r\\n```\\r\\n```\\r\\nSeries([], dtype: int64)\\r\\n```\\r\\n```python\\r\\ns = pandas.DataFrame([\\r\\n    [\"A1\", -573.75],\\r\\n    [\"A2\", -198.75],\\r\\n    [\"A3\", -1.25],\\r\\n], columns=[\"sid\", \"price\"]).set_index([\"sid\"])[\"price\"]\\r\\ns.loc[[]] = 0\\r\\nprint(s)\\r\\n```\\r\\n```\\r\\nsid\\r\\nA1   -573.75\\r\\nA2   -198.75\\r\\nA3     -1.25\\r\\nName: price, dtype: float64\\r\\n```\\r\\n\\r\\n\\r\\n#### Output of ``pd.show_versions()``\\r\\n\\r\\n<details>\\r\\n\\r\\nINSTALLED VERSIONS\\r\\n------------------\\r\\ncommit           : 068e6542b0b28d80d8ea5953b6a49a2608f6a541\\r\\npython           : 3.8.5.final.0\\r\\npython-bits      : 64\\r\\nOS               : Linux\\r\\nOS-release       : 5.4.0-42-generic\\r\\nVersion          : #46~18.04.1-Ubuntu SMP Fri Jul 10 07:21:24 UTC 2020\\r\\nmachine          : x86_64\\r\\nprocessor        : x86_64\\r\\nbyteorder        : little\\r\\nLC_ALL           : None\\r\\nLANG             : en_US.UTF-8\\r\\nLOCALE           : en_US.UTF-8\\r\\n\\r\\npandas           : 1.2.0.dev0+141.g068e6542b\\r\\nnumpy            : 1.19.1\\r\\npytz             : 2020.1\\r\\ndateutil         : 2.8.1\\r\\npip              : 20.2.2\\r\\nsetuptools       : 49.6.0.post20200814\\r\\nCython           : 0.29.21\\r\\npytest           : 6.0.1\\r\\nhypothesis       : 5.27.0\\r\\nsphinx           : None\\r\\nblosc            : None\\r\\nfeather          : None\\r\\nxlsxwriter       : None\\r\\nlxml.etree       : None\\r\\nhtml5lib         : None\\r\\npymysql          : None\\r\\npsycopg2         : None\\r\\njinja2           : None\\r\\nIPython          : 7.17.0\\r\\npandas_datareader: None\\r\\nbs4              : None\\r\\nbottleneck       : None\\r\\nfsspec           : None\\r\\nfastparquet      : None\\r\\ngcsfs            : None\\r\\nmatplotlib       : None\\r\\nnumexpr          : None\\r\\nodfpy            : None\\r\\nopenpyxl         : None\\r\\npandas_gbq       : None\\r\\npyarrow          : None\\r\\npytables         : None\\r\\npyxlsb           : None\\r\\ns3fs             : None\\r\\nscipy            : None\\r\\nsqlalchemy       : None\\r\\ntables           : None\\r\\ntabulate         : None\\r\\nxarray           : None\\r\\nxlrd             : None\\r\\nxlwt             : None\\r\\n\\r\\n\\r\\n</details>\\r\\n',\n",
       "  'performed_via_github_app': None},\n",
       " {'url': 'https://api.github.com/repos/pandas-dev/pandas/issues/35873',\n",
       "  'repository_url': 'https://api.github.com/repos/pandas-dev/pandas',\n",
       "  'labels_url': 'https://api.github.com/repos/pandas-dev/pandas/issues/35873/labels{/name}',\n",
       "  'comments_url': 'https://api.github.com/repos/pandas-dev/pandas/issues/35873/comments',\n",
       "  'events_url': 'https://api.github.com/repos/pandas-dev/pandas/issues/35873/events',\n",
       "  'html_url': 'https://github.com/pandas-dev/pandas/issues/35873',\n",
       "  'id': 684760278,\n",
       "  'node_id': 'MDU6SXNzdWU2ODQ3NjAyNzg=',\n",
       "  'number': 35873,\n",
       "  'title': 'BUG: PythonParser does not use decimal separator when usecols and parse_date are specified',\n",
       "  'user': {'login': 'cmulders',\n",
       "   'id': 8112493,\n",
       "   'node_id': 'MDQ6VXNlcjgxMTI0OTM=',\n",
       "   'avatar_url': 'https://avatars1.githubusercontent.com/u/8112493?v=4',\n",
       "   'gravatar_id': '',\n",
       "   'url': 'https://api.github.com/users/cmulders',\n",
       "   'html_url': 'https://github.com/cmulders',\n",
       "   'followers_url': 'https://api.github.com/users/cmulders/followers',\n",
       "   'following_url': 'https://api.github.com/users/cmulders/following{/other_user}',\n",
       "   'gists_url': 'https://api.github.com/users/cmulders/gists{/gist_id}',\n",
       "   'starred_url': 'https://api.github.com/users/cmulders/starred{/owner}{/repo}',\n",
       "   'subscriptions_url': 'https://api.github.com/users/cmulders/subscriptions',\n",
       "   'organizations_url': 'https://api.github.com/users/cmulders/orgs',\n",
       "   'repos_url': 'https://api.github.com/users/cmulders/repos',\n",
       "   'events_url': 'https://api.github.com/users/cmulders/events{/privacy}',\n",
       "   'received_events_url': 'https://api.github.com/users/cmulders/received_events',\n",
       "   'type': 'User',\n",
       "   'site_admin': False},\n",
       "  'labels': [{'id': 76811,\n",
       "    'node_id': 'MDU6TGFiZWw3NjgxMQ==',\n",
       "    'url': 'https://api.github.com/repos/pandas-dev/pandas/labels/Bug',\n",
       "    'name': 'Bug',\n",
       "    'color': 'e10c02',\n",
       "    'default': False,\n",
       "    'description': None},\n",
       "   {'id': 47229171,\n",
       "    'node_id': 'MDU6TGFiZWw0NzIyOTE3MQ==',\n",
       "    'url': 'https://api.github.com/repos/pandas-dev/pandas/labels/IO%20CSV',\n",
       "    'name': 'IO CSV',\n",
       "    'color': '5319e7',\n",
       "    'default': False,\n",
       "    'description': None}],\n",
       "  'state': 'open',\n",
       "  'locked': False,\n",
       "  'assignee': None,\n",
       "  'assignees': [],\n",
       "  'milestone': None,\n",
       "  'comments': 3,\n",
       "  'created_at': '2020-08-24T15:25:06Z',\n",
       "  'updated_at': '2020-08-24T21:21:38Z',\n",
       "  'closed_at': None,\n",
       "  'author_association': 'NONE',\n",
       "  'active_lock_reason': None,\n",
       "  'body': '- [X] I have checked that this issue has not already been reported.\\r\\n\\r\\n- [X] I have confirmed this bug exists on the latest version of pandas.\\r\\n\\r\\n- [ ] (optional) I have confirmed this bug exists on the master branch of pandas.\\r\\n\\r\\n---\\r\\n\\r\\n**Note**: Please read [this guide](https://matthewrocklin.com/blog/work/2018/02/28/minimal-bug-reports) detailing how to provide the necessary information for us to reproduce your bug.\\r\\n\\r\\n#### Code Sample, a copy-pastable example\\r\\nRepl: https://repl.it/repls/TiredLightcyanNetworking#main.py\\r\\n\\r\\n```python\\r\\nimport pandas as pd\\r\\nimport io\\r\\n\\r\\ndata = io.StringIO(\\'\"dump\",\"-9,1\",20101010\\')\\r\\n\\r\\nread_options = {\\r\\n  \\'names\\': [\\'col\\', \\'col1\\', \\'col2\\'],\\r\\n  \\'usecols\\': [\\'col1\\', \\'col2\\'],\\r\\n  \\'parse_dates\\': [\"col2\"],\\r\\n  \\'decimal\\': \",\",\\r\\n}\\r\\n\\r\\ndata.seek(0)\\r\\nc_engine = pd.read_csv(\\r\\n  data,\\r\\n  engine=\"c\",\\r\\n  **read_options,\\r\\n)\\r\\n\\r\\nprint(c_engine[\\'col1\\'].dtype) # float64\\r\\n\\r\\ndata.seek(0)\\r\\npython_engine = pd.read_csv(\\r\\n  data,\\r\\n  engine=\"python\",\\r\\n  **read_options,\\r\\n)\\r\\n\\r\\nprint(python_engine[\\'col1\\'].dtype) # object instead of float64\\r\\n\\r\\npd.testing.assert_frame_equal(c_engine, python_engine)\\r\\n# Raises\\r\\n# Attribute \"dtype\" are different\\r\\n# [left]:  float64\\r\\n# [right]: object\\r\\n```\\r\\n\\r\\n#### Problem description\\r\\n\\r\\nThe PythonParser produces an invalid result when using a combination of options. It does not convert the comma correctly when the options \\'usecols\\' and \\'decimal\\' are used. The C engine does produce a correct result.\\r\\n\\r\\nIt seems that this check is wrong, the columns are shifted:\\r\\nhttps://github.com/pandas-dev/pandas/blob/v1.1.1/pandas/io/parsers.py#L3089\\r\\n\\r\\nThe columns specified in that list are adjusted for the \\'usecols\\' option (so shifted by 1 in the example), while the read line still has _all_ columns.\\r\\n\\r\\n#### Expected Output\\r\\n\\r\\nExpect that decimals are correctly converted for all columns. However, the python engine does not when there are columns specified for date parsing.\\r\\n\\r\\n#### Output of ``pd.show_versions()``\\r\\n\\r\\n<details>\\r\\n\\r\\nINSTALLED VERSIONS\\r\\n------------------\\r\\ncommit           : f2ca0a2665b2d169c97de87b8e778dbed86aea07\\r\\npython           : 3.8.3.final.0\\r\\npython-bits      : 64\\r\\nOS               : Linux\\r\\nOS-release       : 5.4.0-1019-gcp\\r\\nVersion          : #19-Ubuntu SMP Tue Jun 23 15:46:40 UTC 2020\\r\\nmachine          : x86_64\\r\\nprocessor        : x86_64\\r\\nbyteorder        : little\\r\\nLC_ALL           : en_US.UTF-8\\r\\nLANG             : en_US.UTF-8\\r\\nLOCALE           : en_US.UTF-8\\r\\n\\r\\npandas           : 1.1.1\\r\\nnumpy            : 1.19.1\\r\\npytz             : 2020.1\\r\\ndateutil         : 2.8.1\\r\\npip              : 20.1.1\\r\\nsetuptools       : 47.3.1\\r\\nCython           : None\\r\\npytest           : None\\r\\nhypothesis       : None\\r\\nsphinx           : None\\r\\nblosc            : None\\r\\nfeather          : None\\r\\nxlsxwriter       : None\\r\\nlxml.etree       : None\\r\\nhtml5lib         : 1.1\\r\\npymysql          : None\\r\\npsycopg2         : None\\r\\njinja2           : 2.11.2\\r\\nIPython          : None\\r\\npandas_datareader: None\\r\\nbs4              : None\\r\\nbottleneck       : None\\r\\nfsspec           : None\\r\\nfastparquet      : None\\r\\ngcsfs            : None\\r\\nmatplotlib       : 3.2.2\\r\\nnumexpr          : None\\r\\nodfpy            : None\\r\\nopenpyxl         : None\\r\\npandas_gbq       : None\\r\\npyarrow          : None\\r\\npytables         : None\\r\\npyxlsb           : None\\r\\ns3fs             : None\\r\\nscipy            : 1.5.0\\r\\nsqlalchemy       : 1.3.17\\r\\ntables           : None\\r\\ntabulate         : None\\r\\nxarray           : None\\r\\nxlrd             : None\\r\\nxlwt             : None\\r\\nnumba            : None\\r\\n\\r\\n</details>\\r\\n',\n",
       "  'performed_via_github_app': None},\n",
       " {'url': 'https://api.github.com/repos/pandas-dev/pandas/issues/35872',\n",
       "  'repository_url': 'https://api.github.com/repos/pandas-dev/pandas',\n",
       "  'labels_url': 'https://api.github.com/repos/pandas-dev/pandas/issues/35872/labels{/name}',\n",
       "  'comments_url': 'https://api.github.com/repos/pandas-dev/pandas/issues/35872/comments',\n",
       "  'events_url': 'https://api.github.com/repos/pandas-dev/pandas/issues/35872/events',\n",
       "  'html_url': 'https://github.com/pandas-dev/pandas/pull/35872',\n",
       "  'id': 684718601,\n",
       "  'node_id': 'MDExOlB1bGxSZXF1ZXN0NDcyNTYxMTQ3',\n",
       "  'number': 35872,\n",
       "  'title': 'REF: Implement polymorphism in latex formatting',\n",
       "  'user': {'login': 'ivanovmg',\n",
       "   'id': 41443370,\n",
       "   'node_id': 'MDQ6VXNlcjQxNDQzMzcw',\n",
       "   'avatar_url': 'https://avatars3.githubusercontent.com/u/41443370?v=4',\n",
       "   'gravatar_id': '',\n",
       "   'url': 'https://api.github.com/users/ivanovmg',\n",
       "   'html_url': 'https://github.com/ivanovmg',\n",
       "   'followers_url': 'https://api.github.com/users/ivanovmg/followers',\n",
       "   'following_url': 'https://api.github.com/users/ivanovmg/following{/other_user}',\n",
       "   'gists_url': 'https://api.github.com/users/ivanovmg/gists{/gist_id}',\n",
       "   'starred_url': 'https://api.github.com/users/ivanovmg/starred{/owner}{/repo}',\n",
       "   'subscriptions_url': 'https://api.github.com/users/ivanovmg/subscriptions',\n",
       "   'organizations_url': 'https://api.github.com/users/ivanovmg/orgs',\n",
       "   'repos_url': 'https://api.github.com/users/ivanovmg/repos',\n",
       "   'events_url': 'https://api.github.com/users/ivanovmg/events{/privacy}',\n",
       "   'received_events_url': 'https://api.github.com/users/ivanovmg/received_events',\n",
       "   'type': 'User',\n",
       "   'site_admin': False},\n",
       "  'labels': [],\n",
       "  'state': 'open',\n",
       "  'locked': False,\n",
       "  'assignee': None,\n",
       "  'assignees': [],\n",
       "  'milestone': None,\n",
       "  'comments': 0,\n",
       "  'created_at': '2020-08-24T14:32:13Z',\n",
       "  'updated_at': '2020-08-24T16:22:26Z',\n",
       "  'closed_at': None,\n",
       "  'author_association': 'NONE',\n",
       "  'active_lock_reason': None,\n",
       "  'pull_request': {'url': 'https://api.github.com/repos/pandas-dev/pandas/pulls/35872',\n",
       "   'html_url': 'https://github.com/pandas-dev/pandas/pull/35872',\n",
       "   'diff_url': 'https://github.com/pandas-dev/pandas/pull/35872.diff',\n",
       "   'patch_url': 'https://github.com/pandas-dev/pandas/pull/35872.patch'},\n",
       "  'body': '- [x] closes https://github.com/pandas-dev/pandas/issues/35790\\r\\n- [x] tests added ``pandas/tests/io/formats/test_latex.py``\\r\\n- [x] passes `black pandas`\\r\\n- [x] passes `git diff upstream/master -u -- \"*.py\" | flake8 --diff`\\r\\n\\r\\nRefactor ``to_latex`` using polymorphism and the builder design pattern.\\r\\n\\r\\nPolymorphism\\r\\n--------------\\r\\n\\r\\nPreviously there was a complicated logic in multiple methods\\r\\nfor either longtable or regular table.\\r\\nThis PR implements various builders:\\r\\n  - ``RegularTableBuilder``\\r\\n  - ``LongTableBuilder``\\r\\n  - ``TabularBuilder``\\r\\n\\r\\nSelection of the appropriate builder is carried out in ``LatexFormatter``,\\r\\ndepending on the kwargs provided.\\r\\n\\r\\nEach builder must implement construction of all the table\\'s components:\\r\\n  - Beginning and end of the environment,\\r\\n  - Separators (top, middle, bottom),\\r\\n  - Header,\\r\\n  - Body.\\r\\n\\r\\nThis allows one eliminate complex logic throughout multiple methods.\\r\\n\\r\\nSeparate Concerns\\r\\n------------------\\r\\n\\r\\nSeparated concerns: row formatting into string (separate class ``RowStringConverter``)\\r\\nis carried out independently of the table builder.\\r\\nDerived from ``RowStringConverter`` are two classes used to iterate over headers or body of the tables:\\r\\n  - ``RowHeaderIterator``\\r\\n  - ``RowBodyIterator``\\r\\n\\r\\nExtract Methods\\r\\n----------------\\r\\n\\r\\nMultiple methods were extracted to improve code readability.\\r\\n',\n",
       "  'performed_via_github_app': None},\n",
       " {'url': 'https://api.github.com/repos/pandas-dev/pandas/issues/35871',\n",
       "  'repository_url': 'https://api.github.com/repos/pandas-dev/pandas',\n",
       "  'labels_url': 'https://api.github.com/repos/pandas-dev/pandas/issues/35871/labels{/name}',\n",
       "  'comments_url': 'https://api.github.com/repos/pandas-dev/pandas/issues/35871/comments',\n",
       "  'events_url': 'https://api.github.com/repos/pandas-dev/pandas/issues/35871/events',\n",
       "  'html_url': 'https://github.com/pandas-dev/pandas/issues/35871',\n",
       "  'id': 684563260,\n",
       "  'node_id': 'MDU6SXNzdWU2ODQ1NjMyNjA=',\n",
       "  'number': 35871,\n",
       "  'title': 'BUG: Regression in pd.read_sql_query between 1.0.5 and 1.1.0',\n",
       "  'user': {'login': 'rbubley',\n",
       "   'id': 3025875,\n",
       "   'node_id': 'MDQ6VXNlcjMwMjU4NzU=',\n",
       "   'avatar_url': 'https://avatars3.githubusercontent.com/u/3025875?v=4',\n",
       "   'gravatar_id': '',\n",
       "   'url': 'https://api.github.com/users/rbubley',\n",
       "   'html_url': 'https://github.com/rbubley',\n",
       "   'followers_url': 'https://api.github.com/users/rbubley/followers',\n",
       "   'following_url': 'https://api.github.com/users/rbubley/following{/other_user}',\n",
       "   'gists_url': 'https://api.github.com/users/rbubley/gists{/gist_id}',\n",
       "   'starred_url': 'https://api.github.com/users/rbubley/starred{/owner}{/repo}',\n",
       "   'subscriptions_url': 'https://api.github.com/users/rbubley/subscriptions',\n",
       "   'organizations_url': 'https://api.github.com/users/rbubley/orgs',\n",
       "   'repos_url': 'https://api.github.com/users/rbubley/repos',\n",
       "   'events_url': 'https://api.github.com/users/rbubley/events{/privacy}',\n",
       "   'received_events_url': 'https://api.github.com/users/rbubley/received_events',\n",
       "   'type': 'User',\n",
       "   'site_admin': False},\n",
       "  'labels': [{'id': 76811,\n",
       "    'node_id': 'MDU6TGFiZWw3NjgxMQ==',\n",
       "    'url': 'https://api.github.com/repos/pandas-dev/pandas/labels/Bug',\n",
       "    'name': 'Bug',\n",
       "    'color': 'e10c02',\n",
       "    'default': False,\n",
       "    'description': None},\n",
       "   {'id': 1954720290,\n",
       "    'node_id': 'MDU6TGFiZWwxOTU0NzIwMjkw',\n",
       "    'url': 'https://api.github.com/repos/pandas-dev/pandas/labels/Needs%20Triage',\n",
       "    'name': 'Needs Triage',\n",
       "    'color': '0052cc',\n",
       "    'default': False,\n",
       "    'description': 'Issue that has not been reviewed by a pandas team member'}],\n",
       "  'state': 'open',\n",
       "  'locked': False,\n",
       "  'assignee': None,\n",
       "  'assignees': [],\n",
       "  'milestone': None,\n",
       "  'comments': 2,\n",
       "  'created_at': '2020-08-24T10:41:56Z',\n",
       "  'updated_at': '2020-08-24T18:26:38Z',\n",
       "  'closed_at': None,\n",
       "  'author_association': 'NONE',\n",
       "  'active_lock_reason': None,\n",
       "  'body': '- [ x] I have checked that this issue has not already been reported.\\r\\n\\r\\n- [ x] I have confirmed this bug exists on the latest version of pandas.\\r\\n\\r\\n- [ ] (optional) I have confirmed this bug exists on the master branch of pandas.\\r\\n\\r\\n---\\r\\n\\r\\n**Note**: Please read [this guide](https://matthewrocklin.com/blog/work/2018/02/28/minimal-bug-reports) detailing how to provide the necessary information for us to reproduce your bug.\\r\\n\\r\\n#### Code Sample, a copy-pastable example\\r\\n\\r\\n```python\\r\\nimport pandas as pd\\r\\nimport sqlalchemy\\r\\nfrom config import  credentials\\r\\n\\r\\nengine = sqlalchemy.create_engine(\\r\\n        \"mysql+mysqldb://%(user)s:%(password)s@%(host)s/%(default)s\" % credentials,\\r\\n        echo=False,\\r\\n    )\\r\\n\\r\\nsql_query = r\"\"\"\\r\\nSELECT \\r\\n  time_string,\\r\\n  STR_TO_DATE(time_string, \\'%%d/%%m/%%Y\\'),\\r\\n  data\\r\\nFROM\\r\\n  test_table\\r\\n\"\"\"\\r\\n\\r\\ndata = pd.read_sql_query(sql_query, engine)\\r\\n\\r\\nprint(data)\\r\\n```\\r\\n\\r\\n#### Problem description\\r\\n\\r\\nIn Pandas 1.0.5,  \\'%\\' in a sql query needed to be escaped as \\'%%\\'.\\r\\nThis changes in 1.1.0, but I couldn\\'t see any relevant comment in the release notes. (The behaviour is the same in 1.1.1).\\r\\n\\r\\nMy feeling is that the new behaviour is actually better, but this still seems to be a regression (or an undocumented change).\\r\\n\\r\\n#### Expected Output\\r\\n\\r\\n#### Output of ``pd.show_versions()``\\r\\n\\r\\n<details>\\r\\n\\r\\nINSTALLED VERSIONS\\r\\n------------------\\r\\ncommit           : d9fff2792bf16178d4e450fe7384244e50635733\\r\\npython           : 3.7.8.final.0\\r\\npython-bits      : 64\\r\\nOS               : Darwin\\r\\nOS-release       : 17.7.0\\r\\nVersion          : Darwin Kernel Version 17.7.0: Wed Feb 27 00:43:23 PST 2019; root:xnu-4570.71.35~1/RELEASE_X86_64\\r\\nmachine          : x86_64\\r\\nprocessor        : i386\\r\\nbyteorder        : little\\r\\nLC_ALL           : None\\r\\nLANG             : en_GB.UTF-8\\r\\nLOCALE           : en_GB.UTF-8\\r\\n\\r\\npandas           : 1.1.0\\r\\nnumpy            : 1.18.5\\r\\npytz             : 2018.9\\r\\ndateutil         : 2.8.0\\r\\npip              : 20.2.2\\r\\nsetuptools       : 40.8.0\\r\\nCython           : None\\r\\npytest           : None\\r\\nhypothesis       : None\\r\\nsphinx           : None\\r\\nblosc            : None\\r\\nfeather          : None\\r\\nxlsxwriter       : 1.2.9\\r\\nlxml.etree       : None\\r\\nhtml5lib         : None\\r\\npymysql          : None\\r\\npsycopg2         : None\\r\\njinja2           : None\\r\\nIPython          : None\\r\\npandas_datareader: None\\r\\nbs4              : None\\r\\nbottleneck       : None\\r\\nfsspec           : None\\r\\nfastparquet      : None\\r\\ngcsfs            : None\\r\\nmatplotlib       : None\\r\\nnumexpr          : None\\r\\nodfpy            : None\\r\\nopenpyxl         : None\\r\\npandas_gbq       : None\\r\\npyarrow          : None\\r\\npytables         : None\\r\\npyxlsb           : None\\r\\ns3fs             : None\\r\\nscipy            : None\\r\\nsqlalchemy       : 1.3.17\\r\\ntables           : None\\r\\ntabulate         : None\\r\\nxarray           : None\\r\\nxlrd             : 1.2.0\\r\\nxlwt             : None\\r\\nnumba            : None\\r\\n\\r\\n</details>\\r\\n',\n",
       "  'performed_via_github_app': None},\n",
       " {'url': 'https://api.github.com/repos/pandas-dev/pandas/issues/35869',\n",
       "  'repository_url': 'https://api.github.com/repos/pandas-dev/pandas',\n",
       "  'labels_url': 'https://api.github.com/repos/pandas-dev/pandas/issues/35869/labels{/name}',\n",
       "  'comments_url': 'https://api.github.com/repos/pandas-dev/pandas/issues/35869/comments',\n",
       "  'events_url': 'https://api.github.com/repos/pandas-dev/pandas/issues/35869/events',\n",
       "  'html_url': 'https://github.com/pandas-dev/pandas/issues/35869',\n",
       "  'id': 684531732,\n",
       "  'node_id': 'MDU6SXNzdWU2ODQ1MzE3MzI=',\n",
       "  'number': 35869,\n",
       "  'title': 'BUG: Groupby rolling count with datetime not working correctly',\n",
       "  'user': {'login': 'nrcjea001',\n",
       "   'id': 26452178,\n",
       "   'node_id': 'MDQ6VXNlcjI2NDUyMTc4',\n",
       "   'avatar_url': 'https://avatars1.githubusercontent.com/u/26452178?v=4',\n",
       "   'gravatar_id': '',\n",
       "   'url': 'https://api.github.com/users/nrcjea001',\n",
       "   'html_url': 'https://github.com/nrcjea001',\n",
       "   'followers_url': 'https://api.github.com/users/nrcjea001/followers',\n",
       "   'following_url': 'https://api.github.com/users/nrcjea001/following{/other_user}',\n",
       "   'gists_url': 'https://api.github.com/users/nrcjea001/gists{/gist_id}',\n",
       "   'starred_url': 'https://api.github.com/users/nrcjea001/starred{/owner}{/repo}',\n",
       "   'subscriptions_url': 'https://api.github.com/users/nrcjea001/subscriptions',\n",
       "   'organizations_url': 'https://api.github.com/users/nrcjea001/orgs',\n",
       "   'repos_url': 'https://api.github.com/users/nrcjea001/repos',\n",
       "   'events_url': 'https://api.github.com/users/nrcjea001/events{/privacy}',\n",
       "   'received_events_url': 'https://api.github.com/users/nrcjea001/received_events',\n",
       "   'type': 'User',\n",
       "   'site_admin': False},\n",
       "  'labels': [{'id': 76811,\n",
       "    'node_id': 'MDU6TGFiZWw3NjgxMQ==',\n",
       "    'url': 'https://api.github.com/repos/pandas-dev/pandas/labels/Bug',\n",
       "    'name': 'Bug',\n",
       "    'color': 'e10c02',\n",
       "    'default': False,\n",
       "    'description': None},\n",
       "   {'id': 1954720290,\n",
       "    'node_id': 'MDU6TGFiZWwxOTU0NzIwMjkw',\n",
       "    'url': 'https://api.github.com/repos/pandas-dev/pandas/labels/Needs%20Triage',\n",
       "    'name': 'Needs Triage',\n",
       "    'color': '0052cc',\n",
       "    'default': False,\n",
       "    'description': 'Issue that has not been reviewed by a pandas team member'}],\n",
       "  'state': 'open',\n",
       "  'locked': False,\n",
       "  'assignee': None,\n",
       "  'assignees': [],\n",
       "  'milestone': None,\n",
       "  'comments': 0,\n",
       "  'created_at': '2020-08-24T09:54:44Z',\n",
       "  'updated_at': '2020-08-24T09:54:44Z',\n",
       "  'closed_at': None,\n",
       "  'author_association': 'NONE',\n",
       "  'active_lock_reason': None,\n",
       "  'body': '- [x] I have checked that this issue has not already been reported.\\r\\n\\r\\n- [x] I have confirmed this bug exists on the latest version of pandas.\\r\\n\\r\\n- [ ] (optional) I have confirmed this bug exists on the master branch of pandas.\\r\\n\\r\\n---\\r\\n\\r\\n**Note**: Please read [this guide](https://matthewrocklin.com/blog/work/2018/02/28/minimal-bug-reports) detailing how to provide the necessary information for us to reproduce your bug.\\r\\n\\r\\n#### Code Sample, a copy-pastable example\\r\\n\\r\\n```python\\r\\ndf = pd.DataFrame({\"column1\": range(6), \\r\\n                   \"column2\": range(6), \\r\\n                   \\'group\\': 3*[\\'A\\',\\'B\\'], \\r\\n                   \\'date\\':pd.date_range(end=\"20190101\", periods=6)})\\r\\n\\r\\n## Without Closed Parameter\\r\\ndf.groupby(\\'group\\').rolling(\\'3d\\',on=\\'date\\')[\\'column1\\'].count()\\r\\n## Output\\r\\ngroup   \\r\\nA      0    1.0\\r\\n       2    2.0\\r\\n       4    3.0\\r\\nB      1    1.0\\r\\n       3    2.0\\r\\n       5    3.0\\r\\nName: column1, dtype: float64\\r\\n\\r\\n## With Closed Parameter\\r\\ndf.groupby(\\'group\\').rolling(\\'3d\\',on=\\'date\\',closed=\\'left\\')[\\'column1\\'].count()\\r\\n## Output\\r\\nValueError: closed only implemented for datetimelike and offset based windows\\r\\n```\\r\\n\\r\\n#### Problem description\\r\\n\\r\\nIn Pandas 1.1.1, although .sum() and .mean() are working correctly, the rolling groupby .count() is not working correctly with datetime. Furthermore, when closed parameter is added, ValueError is produced.\\r\\n\\r\\n#### Expected Output\\r\\n```\\r\\n## Without Closed Parameter\\r\\ngroup   \\r\\nA      0    1.0\\r\\n       2    2.0\\r\\n       4    2.0\\r\\nB      1    1.0\\r\\n       3    2.0\\r\\n       5    2.0\\r\\nName: column1, dtype: float64\\r\\n## With Closed Parameter\\r\\ngroup   \\r\\nA      0    NaN\\r\\n       2    1.0\\r\\n       4    1.0\\r\\nB      1    NaN\\r\\n       3    1.0\\r\\n       5    1.0\\r\\nName: column1, dtype: float64\\r\\n```\\r\\n#### Output of ``pd.show_versions()``\\r\\n\\r\\n<details>\\r\\n\\r\\nINSTALLED VERSIONS\\r\\n------------------\\r\\ncommit           : f2ca0a2665b2d169c97de87b8e778dbed86aea07\\r\\npython           : 3.8.5.final.0\\r\\npython-bits      : 64\\r\\nOS               : Windows\\r\\nOS-release       : 10\\r\\nVersion          : 10.0.18362\\r\\nmachine          : AMD64\\r\\nprocessor        : Intel64 Family 6 Model 142 Stepping 11, GenuineIntel\\r\\nbyteorder        : little\\r\\nLC_ALL           : None\\r\\nLANG             : None\\r\\nLOCALE           : English_United States.1252\\r\\n\\r\\npandas           : 1.1.1\\r\\nnumpy            : 1.18.5\\r\\npytz             : 2020.1\\r\\ndateutil         : 2.8.1\\r\\npip              : 20.2.1\\r\\nsetuptools       : 49.2.1.post20200802\\r\\nCython           : 0.29.21\\r\\npytest           : None\\r\\nhypothesis       : None\\r\\nsphinx           : None\\r\\nblosc            : None\\r\\nfeather          : None\\r\\nxlsxwriter       : None\\r\\nlxml.etree       : None\\r\\nhtml5lib         : None\\r\\npymysql          : None\\r\\npsycopg2         : None\\r\\njinja2           : 2.11.2\\r\\nIPython          : 7.17.0\\r\\npandas_datareader: None\\r\\nbs4              : 4.9.1\\r\\nbottleneck       : None\\r\\nfsspec           : 0.8.0\\r\\nfastparquet      : None\\r\\ngcsfs            : None\\r\\nmatplotlib       : 3.3.0\\r\\nnumexpr          : None\\r\\nodfpy            : None\\r\\nopenpyxl         : None\\r\\npandas_gbq       : None\\r\\npyarrow          : 1.0.0\\r\\npytables         : None\\r\\npyxlsb           : None\\r\\ns3fs             : None\\r\\nscipy            : 1.5.0\\r\\nsqlalchemy       : None\\r\\ntables           : None\\r\\ntabulate         : None\\r\\nxarray           : None\\r\\nxlrd             : None\\r\\nxlwt             : None\\r\\nnumba            : 0.48.0\\r\\n\\r\\n</details>\\r\\n',\n",
       "  'performed_via_github_app': None},\n",
       " {'url': 'https://api.github.com/repos/pandas-dev/pandas/issues/35865',\n",
       "  'repository_url': 'https://api.github.com/repos/pandas-dev/pandas',\n",
       "  'labels_url': 'https://api.github.com/repos/pandas-dev/pandas/issues/35865/labels{/name}',\n",
       "  'comments_url': 'https://api.github.com/repos/pandas-dev/pandas/issues/35865/comments',\n",
       "  'events_url': 'https://api.github.com/repos/pandas-dev/pandas/issues/35865/events',\n",
       "  'html_url': 'https://github.com/pandas-dev/pandas/issues/35865',\n",
       "  'id': 684278595,\n",
       "  'node_id': 'MDU6SXNzdWU2ODQyNzg1OTU=',\n",
       "  'number': 35865,\n",
       "  'title': 'BUG: ser[:] = [\"a\", 1] casts 1 to \"1\"',\n",
       "  'user': {'login': 'jbrockmendel',\n",
       "   'id': 8078968,\n",
       "   'node_id': 'MDQ6VXNlcjgwNzg5Njg=',\n",
       "   'avatar_url': 'https://avatars1.githubusercontent.com/u/8078968?v=4',\n",
       "   'gravatar_id': '',\n",
       "   'url': 'https://api.github.com/users/jbrockmendel',\n",
       "   'html_url': 'https://github.com/jbrockmendel',\n",
       "   'followers_url': 'https://api.github.com/users/jbrockmendel/followers',\n",
       "   'following_url': 'https://api.github.com/users/jbrockmendel/following{/other_user}',\n",
       "   'gists_url': 'https://api.github.com/users/jbrockmendel/gists{/gist_id}',\n",
       "   'starred_url': 'https://api.github.com/users/jbrockmendel/starred{/owner}{/repo}',\n",
       "   'subscriptions_url': 'https://api.github.com/users/jbrockmendel/subscriptions',\n",
       "   'organizations_url': 'https://api.github.com/users/jbrockmendel/orgs',\n",
       "   'repos_url': 'https://api.github.com/users/jbrockmendel/repos',\n",
       "   'events_url': 'https://api.github.com/users/jbrockmendel/events{/privacy}',\n",
       "   'received_events_url': 'https://api.github.com/users/jbrockmendel/received_events',\n",
       "   'type': 'User',\n",
       "   'site_admin': False},\n",
       "  'labels': [{'id': 76811,\n",
       "    'node_id': 'MDU6TGFiZWw3NjgxMQ==',\n",
       "    'url': 'https://api.github.com/repos/pandas-dev/pandas/labels/Bug',\n",
       "    'name': 'Bug',\n",
       "    'color': 'e10c02',\n",
       "    'default': False,\n",
       "    'description': None},\n",
       "   {'id': 1954720290,\n",
       "    'node_id': 'MDU6TGFiZWwxOTU0NzIwMjkw',\n",
       "    'url': 'https://api.github.com/repos/pandas-dev/pandas/labels/Needs%20Triage',\n",
       "    'name': 'Needs Triage',\n",
       "    'color': '0052cc',\n",
       "    'default': False,\n",
       "    'description': 'Issue that has not been reviewed by a pandas team member'}],\n",
       "  'state': 'open',\n",
       "  'locked': False,\n",
       "  'assignee': None,\n",
       "  'assignees': [],\n",
       "  'milestone': None,\n",
       "  'comments': 0,\n",
       "  'created_at': '2020-08-23T23:41:40Z',\n",
       "  'updated_at': '2020-08-23T23:41:40Z',\n",
       "  'closed_at': None,\n",
       "  'author_association': 'MEMBER',\n",
       "  'active_lock_reason': None,\n",
       "  'body': '```\\r\\nser = pd.Series([\"a\", 1])\\r\\nser[:] = list(ser.values))\\r\\n\\r\\n>>> ser[1]\\r\\n\\'1\\'\\r\\n```\\r\\n\\r\\nLooks like we call `np.array(ser.values)` and the cast happens in there.',\n",
       "  'performed_via_github_app': None},\n",
       " {'url': 'https://api.github.com/repos/pandas-dev/pandas/issues/35864',\n",
       "  'repository_url': 'https://api.github.com/repos/pandas-dev/pandas',\n",
       "  'labels_url': 'https://api.github.com/repos/pandas-dev/pandas/issues/35864/labels{/name}',\n",
       "  'comments_url': 'https://api.github.com/repos/pandas-dev/pandas/issues/35864/comments',\n",
       "  'events_url': 'https://api.github.com/repos/pandas-dev/pandas/issues/35864/events',\n",
       "  'html_url': 'https://github.com/pandas-dev/pandas/issues/35864',\n",
       "  'id': 684202372,\n",
       "  'node_id': 'MDU6SXNzdWU2ODQyMDIzNzI=',\n",
       "  'number': 35864,\n",
       "  'title': 'PERF: Vectorized string operations are slower than for-loops',\n",
       "  'user': {'login': 'Nick-Morgan',\n",
       "   'id': 23083692,\n",
       "   'node_id': 'MDQ6VXNlcjIzMDgzNjky',\n",
       "   'avatar_url': 'https://avatars3.githubusercontent.com/u/23083692?v=4',\n",
       "   'gravatar_id': '',\n",
       "   'url': 'https://api.github.com/users/Nick-Morgan',\n",
       "   'html_url': 'https://github.com/Nick-Morgan',\n",
       "   'followers_url': 'https://api.github.com/users/Nick-Morgan/followers',\n",
       "   'following_url': 'https://api.github.com/users/Nick-Morgan/following{/other_user}',\n",
       "   'gists_url': 'https://api.github.com/users/Nick-Morgan/gists{/gist_id}',\n",
       "   'starred_url': 'https://api.github.com/users/Nick-Morgan/starred{/owner}{/repo}',\n",
       "   'subscriptions_url': 'https://api.github.com/users/Nick-Morgan/subscriptions',\n",
       "   'organizations_url': 'https://api.github.com/users/Nick-Morgan/orgs',\n",
       "   'repos_url': 'https://api.github.com/users/Nick-Morgan/repos',\n",
       "   'events_url': 'https://api.github.com/users/Nick-Morgan/events{/privacy}',\n",
       "   'received_events_url': 'https://api.github.com/users/Nick-Morgan/received_events',\n",
       "   'type': 'User',\n",
       "   'site_admin': False},\n",
       "  'labels': [{'id': 31404521,\n",
       "    'node_id': 'MDU6TGFiZWwzMTQwNDUyMQ==',\n",
       "    'url': 'https://api.github.com/repos/pandas-dev/pandas/labels/Dtypes',\n",
       "    'name': 'Dtypes',\n",
       "    'color': 'e102d8',\n",
       "    'default': False,\n",
       "    'description': None},\n",
       "   {'id': 8935311,\n",
       "    'node_id': 'MDU6TGFiZWw4OTM1MzEx',\n",
       "    'url': 'https://api.github.com/repos/pandas-dev/pandas/labels/Performance',\n",
       "    'name': 'Performance',\n",
       "    'color': 'a10c02',\n",
       "    'default': False,\n",
       "    'description': 'Memory or execution speed performance'}],\n",
       "  'state': 'open',\n",
       "  'locked': False,\n",
       "  'assignee': None,\n",
       "  'assignees': [],\n",
       "  'milestone': None,\n",
       "  'comments': 4,\n",
       "  'created_at': '2020-08-23T15:18:57Z',\n",
       "  'updated_at': '2020-08-24T16:08:47Z',\n",
       "  'closed_at': None,\n",
       "  'author_association': 'NONE',\n",
       "  'active_lock_reason': None,\n",
       "  'body': '- [X] I have checked that this issue has not already been reported.\\r\\n\\r\\n- [X] I have confirmed this bug exists on the latest version of pandas.\\r\\n\\r\\n- [X] (optional) I have confirmed this bug exists on the master branch of pandas.\\r\\n\\r\\n---\\r\\n\\r\\n\\r\\n#### Code Sample, a copy-pastable example\\r\\n\\r\\n**In [1]:**\\r\\n```python\\r\\nimport pandas as pd\\r\\nimport numpy as np\\r\\nprint(pd.__version__)\\r\\n\\r\\nnon_padded = pd.Series(np.random.randint(100, 99999, size=10000))\\r\\n\\r\\ndef for_loop(series):\\r\\n    return pd.Series([str(zipcode).zfill(5) for zipcode in series])\\r\\n\\r\\ndef vectorized(series):\\r\\n    return series.astype(str).str.zfill(5)\\r\\n\\r\\n%timeit for_loop(non_padded)\\r\\n%timeit vectorized(non_padded)\\r\\n\\r\\n```\\r\\n\\r\\n**Out [1]:**\\r\\n```\\r\\n0.25.1\\r\\n3.32 ms ± 44.7 µs per loop (mean ± std. dev. of 7 runs, 100 loops each)\\r\\n7.18 ms ± 60.6 µs per loop (mean ± std. dev. of 7 runs, 100 loops each)\\r\\n```\\r\\n\\r\\n#### Problem description\\r\\n\\r\\nIn most cases, using a `for-loop` in pandas is much slower than its vectorized equivalent. However, the above operations takes over twice as long when using vectorization. I have replicated this issue on MacOS & Ubuntu.\\r\\n\\r\\n#### Output of ``pd.show_versions()``\\r\\n\\r\\n<details>\\r\\n\\r\\nINSTALLED VERSIONS\\r\\n------------------\\r\\ncommit           : None\\r\\npython           : 3.7.4.final.0\\r\\npython-bits      : 64\\r\\nOS               : Darwin\\r\\nOS-release       : 18.7.0\\r\\nmachine          : x86_64\\r\\nprocessor        : i386\\r\\nbyteorder        : little\\r\\nLC_ALL           : None\\r\\nLANG             : en_US.UTF-8\\r\\nLOCALE           : en_US.UTF-8\\r\\n\\r\\npandas           : 0.25.1\\r\\nnumpy            : 1.17.2\\r\\npytz             : 2019.3\\r\\ndateutil         : 2.8.0\\r\\npip              : 20.0.2\\r\\nsetuptools       : 41.4.0\\r\\nCython           : 0.29.13\\r\\npytest           : 5.2.1\\r\\nhypothesis       : None\\r\\nsphinx           : 2.2.0\\r\\nblosc            : None\\r\\nfeather          : None\\r\\nxlsxwriter       : 1.2.1\\r\\nlxml.etree       : 4.4.1\\r\\nhtml5lib         : 1.0.1\\r\\npymysql          : None\\r\\npsycopg2         : None\\r\\njinja2           : 2.10.3\\r\\nIPython          : 7.8.0\\r\\npandas_datareader: None\\r\\nbs4              : 4.8.0\\r\\nbottleneck       : 1.2.1\\r\\nfastparquet      : None\\r\\ngcsfs            : None\\r\\nlxml.etree       : 4.4.1\\r\\nmatplotlib       : 3.1.1\\r\\nnumexpr          : 2.7.0\\r\\nodfpy            : None\\r\\nopenpyxl         : 3.0.0\\r\\npandas_gbq       : None\\r\\npyarrow          : 0.15.1\\r\\npytables         : None\\r\\ns3fs             : None\\r\\nscipy            : 1.3.1\\r\\nsqlalchemy       : 1.3.9\\r\\ntables           : 3.5.2\\r\\nxarray           : 0.14.0\\r\\nxlrd             : 1.2.0\\r\\nxlwt             : 1.3.0\\r\\nxlsxwriter       : 1.2.1\\r\\n\\r\\n</details>\\r\\n\\r\\n',\n",
       "  'performed_via_github_app': None},\n",
       " {'url': 'https://api.github.com/repos/pandas-dev/pandas/issues/35863',\n",
       "  'repository_url': 'https://api.github.com/repos/pandas-dev/pandas',\n",
       "  'labels_url': 'https://api.github.com/repos/pandas-dev/pandas/issues/35863/labels{/name}',\n",
       "  'comments_url': 'https://api.github.com/repos/pandas-dev/pandas/issues/35863/comments',\n",
       "  'events_url': 'https://api.github.com/repos/pandas-dev/pandas/issues/35863/events',\n",
       "  'html_url': 'https://github.com/pandas-dev/pandas/issues/35863',\n",
       "  'id': 684175451,\n",
       "  'node_id': 'MDU6SXNzdWU2ODQxNzU0NTE=',\n",
       "  'number': 35863,\n",
       "  'title': 'KeyError using custom agg function',\n",
       "  'user': {'login': 'armeros',\n",
       "   'id': 33281792,\n",
       "   'node_id': 'MDQ6VXNlcjMzMjgxNzky',\n",
       "   'avatar_url': 'https://avatars0.githubusercontent.com/u/33281792?v=4',\n",
       "   'gravatar_id': '',\n",
       "   'url': 'https://api.github.com/users/armeros',\n",
       "   'html_url': 'https://github.com/armeros',\n",
       "   'followers_url': 'https://api.github.com/users/armeros/followers',\n",
       "   'following_url': 'https://api.github.com/users/armeros/following{/other_user}',\n",
       "   'gists_url': 'https://api.github.com/users/armeros/gists{/gist_id}',\n",
       "   'starred_url': 'https://api.github.com/users/armeros/starred{/owner}{/repo}',\n",
       "   'subscriptions_url': 'https://api.github.com/users/armeros/subscriptions',\n",
       "   'organizations_url': 'https://api.github.com/users/armeros/orgs',\n",
       "   'repos_url': 'https://api.github.com/users/armeros/repos',\n",
       "   'events_url': 'https://api.github.com/users/armeros/events{/privacy}',\n",
       "   'received_events_url': 'https://api.github.com/users/armeros/received_events',\n",
       "   'type': 'User',\n",
       "   'site_admin': False},\n",
       "  'labels': [{'id': 34444536,\n",
       "    'node_id': 'MDU6TGFiZWwzNDQ0NDUzNg==',\n",
       "    'url': 'https://api.github.com/repos/pandas-dev/pandas/labels/Usage%20Question',\n",
       "    'name': 'Usage Question',\n",
       "    'color': '0052cc',\n",
       "    'default': False,\n",
       "    'description': None}],\n",
       "  'state': 'open',\n",
       "  'locked': False,\n",
       "  'assignee': None,\n",
       "  'assignees': [],\n",
       "  'milestone': None,\n",
       "  'comments': 2,\n",
       "  'created_at': '2020-08-23T12:34:38Z',\n",
       "  'updated_at': '2020-08-24T11:50:05Z',\n",
       "  'closed_at': None,\n",
       "  'author_association': 'NONE',\n",
       "  'active_lock_reason': None,\n",
       "  'body': 'Hi,\\r\\n\\r\\nSuppose I have a dataframe of some stock price where the column \\'Open\\' is the 0th column and \\'Close\\' is the 3rd column. Suppose further that I want to find the maximum difference between Close and Open price. That can be done easily without using the agg method, but let me show what the error is when I use them.\\r\\n\\r\\n```\\r\\n!pip install quandl\\r\\nimport quandl\\r\\ndf = quandl.get(\"WIKI/AAPL\", start_date=\"2006-12-25\")\\r\\n\\r\\ndef daily_value(df):\\r\\n    df.iloc[:, 0] = df.iloc[:,3] - df.iloc[:, 0]\\r\\n    return df.max()\\r\\n\\r\\ndef daily_value(df):\\r\\n    df[\\'Open\\'] = df[\\'Close\\'] - df[\\'Open\\']\\r\\n    return df.max()\\r\\n\\r\\ndisplay(daily_value(df))\\r\\ndf.agg(dailly_value)\\r\\n```\\r\\n\\r\\nBoth work as to replace the 0th column, namely \\'Open\\', and return the maximum difference between Open and Close.\\r\\nThis works fine when I have df1 and I type daily_value(df1).\\r\\n\\r\\nHowever, when I try df1.agg(daily_value), both version fail. The first says IndexingError: Too many indexers while the latter say KeyError: Close.\\r\\n\\r\\nHow do I proceed if I indeed need to pass the function into *.agg method?\\r\\n\\r\\nThanks very much!',\n",
       "  'performed_via_github_app': None},\n",
       " {'url': 'https://api.github.com/repos/pandas-dev/pandas/issues/35860',\n",
       "  'repository_url': 'https://api.github.com/repos/pandas-dev/pandas',\n",
       "  'labels_url': 'https://api.github.com/repos/pandas-dev/pandas/issues/35860/labels{/name}',\n",
       "  'comments_url': 'https://api.github.com/repos/pandas-dev/pandas/issues/35860/comments',\n",
       "  'events_url': 'https://api.github.com/repos/pandas-dev/pandas/issues/35860/events',\n",
       "  'html_url': 'https://github.com/pandas-dev/pandas/issues/35860',\n",
       "  'id': 684080555,\n",
       "  'node_id': 'MDU6SXNzdWU2ODQwODA1NTU=',\n",
       "  'number': 35860,\n",
       "  'title': 'DEPR: Deprecate as_index in groupby',\n",
       "  'user': {'login': 'rhshadrach',\n",
       "   'id': 45562402,\n",
       "   'node_id': 'MDQ6VXNlcjQ1NTYyNDAy',\n",
       "   'avatar_url': 'https://avatars1.githubusercontent.com/u/45562402?v=4',\n",
       "   'gravatar_id': '',\n",
       "   'url': 'https://api.github.com/users/rhshadrach',\n",
       "   'html_url': 'https://github.com/rhshadrach',\n",
       "   'followers_url': 'https://api.github.com/users/rhshadrach/followers',\n",
       "   'following_url': 'https://api.github.com/users/rhshadrach/following{/other_user}',\n",
       "   'gists_url': 'https://api.github.com/users/rhshadrach/gists{/gist_id}',\n",
       "   'starred_url': 'https://api.github.com/users/rhshadrach/starred{/owner}{/repo}',\n",
       "   'subscriptions_url': 'https://api.github.com/users/rhshadrach/subscriptions',\n",
       "   'organizations_url': 'https://api.github.com/users/rhshadrach/orgs',\n",
       "   'repos_url': 'https://api.github.com/users/rhshadrach/repos',\n",
       "   'events_url': 'https://api.github.com/users/rhshadrach/events{/privacy}',\n",
       "   'received_events_url': 'https://api.github.com/users/rhshadrach/received_events',\n",
       "   'type': 'User',\n",
       "   'site_admin': False},\n",
       "  'labels': [{'id': 76811,\n",
       "    'node_id': 'MDU6TGFiZWw3NjgxMQ==',\n",
       "    'url': 'https://api.github.com/repos/pandas-dev/pandas/labels/Bug',\n",
       "    'name': 'Bug',\n",
       "    'color': 'e10c02',\n",
       "    'default': False,\n",
       "    'description': None},\n",
       "   {'id': 87485152,\n",
       "    'node_id': 'MDU6TGFiZWw4NzQ4NTE1Mg==',\n",
       "    'url': 'https://api.github.com/repos/pandas-dev/pandas/labels/Deprecate',\n",
       "    'name': 'Deprecate',\n",
       "    'color': '5319e7',\n",
       "    'default': False,\n",
       "    'description': 'Functionality to remove in pandas'},\n",
       "   {'id': 233160,\n",
       "    'node_id': 'MDU6TGFiZWwyMzMxNjA=',\n",
       "    'url': 'https://api.github.com/repos/pandas-dev/pandas/labels/Groupby',\n",
       "    'name': 'Groupby',\n",
       "    'color': '729FCF',\n",
       "    'default': False,\n",
       "    'description': None},\n",
       "   {'id': 219960758,\n",
       "    'node_id': 'MDU6TGFiZWwyMTk5NjA3NTg=',\n",
       "    'url': 'https://api.github.com/repos/pandas-dev/pandas/labels/Needs%20Discussion',\n",
       "    'name': 'Needs Discussion',\n",
       "    'color': '207de5',\n",
       "    'default': False,\n",
       "    'description': None}],\n",
       "  'state': 'open',\n",
       "  'locked': False,\n",
       "  'assignee': None,\n",
       "  'assignees': [],\n",
       "  'milestone': None,\n",
       "  'comments': 0,\n",
       "  'created_at': '2020-08-22T22:53:40Z',\n",
       "  'updated_at': '2020-08-22T22:54:17Z',\n",
       "  'closed_at': None,\n",
       "  'author_association': 'MEMBER',\n",
       "  'active_lock_reason': None,\n",
       "  'body': 'Should we deprecate using `as_index` in groupby? As the docs say, using `as_index=False` should only impact reductions. Here, my expectation is that a line such as\\r\\n\\r\\n    df.groupby(keys, as_index=False).op(...)\\r\\n\\r\\nshould always be equivalent to\\r\\n\\r\\n    df.groupby(keys, as_index=True).op(...).reset_index()\\r\\n\\r\\nIt seems quite easy for the user to do so if they desire, and this would simplify the groupby internals. ',\n",
       "  'performed_via_github_app': None},\n",
       " {'url': 'https://api.github.com/repos/pandas-dev/pandas/issues/35858',\n",
       "  'repository_url': 'https://api.github.com/repos/pandas-dev/pandas',\n",
       "  'labels_url': 'https://api.github.com/repos/pandas-dev/pandas/issues/35858/labels{/name}',\n",
       "  'comments_url': 'https://api.github.com/repos/pandas-dev/pandas/issues/35858/comments',\n",
       "  'events_url': 'https://api.github.com/repos/pandas-dev/pandas/issues/35858/events',\n",
       "  'html_url': 'https://github.com/pandas-dev/pandas/issues/35858',\n",
       "  'id': 684045013,\n",
       "  'node_id': 'MDU6SXNzdWU2ODQwNDUwMTM=',\n",
       "  'number': 35858,\n",
       "  'title': 'BUG: Datetime MultiIndex Regression',\n",
       "  'user': {'login': 'matthewgilbert',\n",
       "   'id': 2401026,\n",
       "   'node_id': 'MDQ6VXNlcjI0MDEwMjY=',\n",
       "   'avatar_url': 'https://avatars1.githubusercontent.com/u/2401026?v=4',\n",
       "   'gravatar_id': '',\n",
       "   'url': 'https://api.github.com/users/matthewgilbert',\n",
       "   'html_url': 'https://github.com/matthewgilbert',\n",
       "   'followers_url': 'https://api.github.com/users/matthewgilbert/followers',\n",
       "   'following_url': 'https://api.github.com/users/matthewgilbert/following{/other_user}',\n",
       "   'gists_url': 'https://api.github.com/users/matthewgilbert/gists{/gist_id}',\n",
       "   'starred_url': 'https://api.github.com/users/matthewgilbert/starred{/owner}{/repo}',\n",
       "   'subscriptions_url': 'https://api.github.com/users/matthewgilbert/subscriptions',\n",
       "   'organizations_url': 'https://api.github.com/users/matthewgilbert/orgs',\n",
       "   'repos_url': 'https://api.github.com/users/matthewgilbert/repos',\n",
       "   'events_url': 'https://api.github.com/users/matthewgilbert/events{/privacy}',\n",
       "   'received_events_url': 'https://api.github.com/users/matthewgilbert/received_events',\n",
       "   'type': 'User',\n",
       "   'site_admin': False},\n",
       "  'labels': [{'id': 76811,\n",
       "    'node_id': 'MDU6TGFiZWw3NjgxMQ==',\n",
       "    'url': 'https://api.github.com/repos/pandas-dev/pandas/labels/Bug',\n",
       "    'name': 'Bug',\n",
       "    'color': 'e10c02',\n",
       "    'default': False,\n",
       "    'description': None},\n",
       "   {'id': 1954720290,\n",
       "    'node_id': 'MDU6TGFiZWwxOTU0NzIwMjkw',\n",
       "    'url': 'https://api.github.com/repos/pandas-dev/pandas/labels/Needs%20Triage',\n",
       "    'name': 'Needs Triage',\n",
       "    'color': '0052cc',\n",
       "    'default': False,\n",
       "    'description': 'Issue that has not been reviewed by a pandas team member'}],\n",
       "  'state': 'open',\n",
       "  'locked': False,\n",
       "  'assignee': None,\n",
       "  'assignees': [],\n",
       "  'milestone': None,\n",
       "  'comments': 1,\n",
       "  'created_at': '2020-08-22T18:48:49Z',\n",
       "  'updated_at': '2020-08-22T20:30:31Z',\n",
       "  'closed_at': None,\n",
       "  'author_association': 'CONTRIBUTOR',\n",
       "  'active_lock_reason': None,\n",
       "  'body': '- [x] I have checked that this issue has not already been reported.\\r\\n\\r\\n- [x] I have confirmed this bug exists on the latest version of pandas.\\r\\n\\r\\n- [x] (optional) I have confirmed this bug exists on the master branch of pandas.\\r\\n\\r\\n---\\r\\n\\r\\n#### Code Sample, a copy-pastable example\\r\\n\\r\\n```python\\r\\nimport pandas\\r\\n\\r\\ndate = pandas.Timestamp(\"2000\")\\r\\nx = pandas.DataFrame([\\r\\n    [\"a\", date, 1],\\r\\n], columns=[\"a\", \"b\", \"c\"]).set_index([\"a\", \"b\"])[\"c\"]\\r\\nx.loc[:, [date]]\\r\\n\\r\\n\\r\\nInvalidIndexError: [Timestamp(\\'2000-01-01 00:00:00\\')]\\r\\n```\\r\\n\\r\\n#### Problem description\\r\\n\\r\\nThe problem stems from `pandas.DatetimeIndex.get_loc` raising a `InvalidIndexError` in `1.*` instead of a `TypeError` as in `0.25.3`\\r\\n\\r\\n#### 0.25.3\\r\\n\\r\\n```python                                                                                                                                                                                        \\r\\nimport pandas\\r\\nlevel_index = pandas.DatetimeIndex([\\'2000-01-01\\'], dtype=\\'datetime64[ns]\\', name=\\'b\\', freq=None)\\r\\nkey = [pandas.Timestamp(\\'2000-01-01 00:00:00\\')]\\r\\nlevel_index.get_loc(key)\\r\\n\\r\\n...\\r\\nTypeError: Cannot convert input [[Timestamp(\\'2000-01-01 00:00:00\\')]] of type <class \\'list\\'> to Timestamp\\r\\n```\\r\\n\\r\\n#### 1.1.0\\r\\n\\r\\n```python                                                                                                                                                                                        \\r\\nimport pandas\\r\\nlevel_index = pandas.DatetimeIndex([\\'2000-01-01\\'], dtype=\\'datetime64[ns]\\', name=\\'b\\', freq=None)\\r\\nkey = [pandas.Timestamp(\\'2000-01-01 00:00:00\\')]\\r\\nlevel_index.get_loc(key)\\r\\n\\r\\n...\\r\\nInvalidIndexError: [Timestamp(\\'2000-01-01 00:00:00\\')]\\r\\n```\\r\\n\\r\\nPreviously the `TypeError` was handled by https://github.com/pandas-dev/pandas/blob/23b1717a14f185e3512607d33cdba17bfddfd064/pandas/core/indexing.py#L1078\\r\\n\\r\\n#### Expected Output\\r\\n\\r\\nI would expect this to behave similar to `0.25.3` which is valid indexing synatx.\\r\\n\\r\\n#### Output of ``pd.show_versions()``\\r\\n\\r\\n<details>\\r\\n\\r\\nINSTALLED VERSIONS\\r\\n------------------\\r\\ncommit           : d9fff2792bf16178d4e450fe7384244e50635733\\r\\npython           : 3.6.11.final.0\\r\\npython-bits      : 64\\r\\nOS               : Linux\\r\\nOS-release       : 5.4.0-42-generic\\r\\nVersion          : #46~18.04.1-Ubuntu SMP Fri Jul 10 07:21:24 UTC 2020\\r\\nmachine          : x86_64\\r\\nprocessor        : x86_64\\r\\nbyteorder        : little\\r\\nLC_ALL           : C.UTF-8\\r\\nLANG             : C.UTF-8\\r\\nLOCALE           : en_US.UTF-8\\r\\n\\r\\npandas           : 1.1.0\\r\\nnumpy            : 1.16.2\\r\\npytz             : 2020.1\\r\\ndateutil         : 2.8.1\\r\\npip              : 20.2.2\\r\\nsetuptools       : 49.6.0.post20200814\\r\\nCython           : 0.29.21\\r\\npytest           : 5.3.5\\r\\nhypothesis       : None\\r\\nsphinx           : 3.2.1\\r\\nblosc            : None\\r\\nfeather          : None\\r\\nxlsxwriter       : None\\r\\nlxml.etree       : 4.5.2\\r\\nhtml5lib         : None\\r\\npymysql          : None\\r\\npsycopg2         : None\\r\\njinja2           : 2.11.2\\r\\nIPython          : 7.16.1\\r\\npandas_datareader: None\\r\\nbs4              : None\\r\\nbottleneck       : None\\r\\nfsspec           : None\\r\\nfastparquet      : None\\r\\ngcsfs            : None\\r\\nmatplotlib       : 3.3.1\\r\\nnumexpr          : 2.7.1\\r\\nodfpy            : None\\r\\nopenpyxl         : None\\r\\npandas_gbq       : None\\r\\npyarrow          : 0.12.0-RAY\\r\\npytables         : None\\r\\npyxlsb           : None\\r\\ns3fs             : None\\r\\nscipy            : 1.5.1\\r\\nsqlalchemy       : 1.3.19\\r\\ntables           : 3.5.1\\r\\ntabulate         : None\\r\\nxarray           : 0.15.0\\r\\nxlrd             : None\\r\\nxlwt             : None\\r\\nnumba            : None\\r\\n\\r\\n\\r\\n\\r\\n</details>\\r\\n',\n",
       "  'performed_via_github_app': None},\n",
       " {'url': 'https://api.github.com/repos/pandas-dev/pandas/issues/35856',\n",
       "  'repository_url': 'https://api.github.com/repos/pandas-dev/pandas',\n",
       "  'labels_url': 'https://api.github.com/repos/pandas-dev/pandas/issues/35856/labels{/name}',\n",
       "  'comments_url': 'https://api.github.com/repos/pandas-dev/pandas/issues/35856/comments',\n",
       "  'events_url': 'https://api.github.com/repos/pandas-dev/pandas/issues/35856/events',\n",
       "  'html_url': 'https://github.com/pandas-dev/pandas/issues/35856',\n",
       "  'id': 684038427,\n",
       "  'node_id': 'MDU6SXNzdWU2ODQwMzg0Mjc=',\n",
       "  'number': 35856,\n",
       "  'title': 'CI: specified bucket does not exist in TestParquetPyArrow.test_s3_roundtrip_explicit_fs',\n",
       "  'user': {'login': 'charlesdong1991',\n",
       "   'id': 9269816,\n",
       "   'node_id': 'MDQ6VXNlcjkyNjk4MTY=',\n",
       "   'avatar_url': 'https://avatars0.githubusercontent.com/u/9269816?v=4',\n",
       "   'gravatar_id': '',\n",
       "   'url': 'https://api.github.com/users/charlesdong1991',\n",
       "   'html_url': 'https://github.com/charlesdong1991',\n",
       "   'followers_url': 'https://api.github.com/users/charlesdong1991/followers',\n",
       "   'following_url': 'https://api.github.com/users/charlesdong1991/following{/other_user}',\n",
       "   'gists_url': 'https://api.github.com/users/charlesdong1991/gists{/gist_id}',\n",
       "   'starred_url': 'https://api.github.com/users/charlesdong1991/starred{/owner}{/repo}',\n",
       "   'subscriptions_url': 'https://api.github.com/users/charlesdong1991/subscriptions',\n",
       "   'organizations_url': 'https://api.github.com/users/charlesdong1991/orgs',\n",
       "   'repos_url': 'https://api.github.com/users/charlesdong1991/repos',\n",
       "   'events_url': 'https://api.github.com/users/charlesdong1991/events{/privacy}',\n",
       "   'received_events_url': 'https://api.github.com/users/charlesdong1991/received_events',\n",
       "   'type': 'User',\n",
       "   'site_admin': False},\n",
       "  'labels': [{'id': 48070600,\n",
       "    'node_id': 'MDU6TGFiZWw0ODA3MDYwMA==',\n",
       "    'url': 'https://api.github.com/repos/pandas-dev/pandas/labels/CI',\n",
       "    'name': 'CI',\n",
       "    'color': 'a2bca7',\n",
       "    'default': False,\n",
       "    'description': 'Related to Continuous Integration'}],\n",
       "  'state': 'open',\n",
       "  'locked': False,\n",
       "  'assignee': None,\n",
       "  'assignees': [],\n",
       "  'milestone': None,\n",
       "  'comments': 2,\n",
       "  'created_at': '2020-08-22T18:01:57Z',\n",
       "  'updated_at': '2020-08-25T11:01:51Z',\n",
       "  'closed_at': None,\n",
       "  'author_association': 'MEMBER',\n",
       "  'active_lock_reason': None,\n",
       "  'body': 'might be related to #35655\\r\\n\\r\\n```\\r\\n================================== FAILURES ===================================\\r\\n______________ TestParquetPyArrow.test_s3_roundtrip_explicit_fs _______________\\r\\n[gw2] win32 -- Python 3.8.5 C:\\\\Miniconda\\\\envs\\\\pandas-dev\\\\python.exe\\r\\n\\r\\nself = <pandas.tests.io.test_parquet.TestParquetPyArrow object at 0x000002B24268BF10>\\r\\ndf_compat =    A    B\\r\\n0  1  foo\\r\\n1  2  foo\\r\\n2  3  foo\\r\\ns3_resource = s3.ServiceResource(), pa = \\'pyarrow\\'\\r\\ns3so = {\\'client_kwargs\\': {\\'endpoint_url\\': \\'http://127.0.0.1:5555/\\'}}\\r\\n\\r\\n    def test_s3_roundtrip_explicit_fs(self, df_compat, s3_resource, pa, s3so):\\r\\n        s3fs = pytest.importorskip(\"s3fs\")\\r\\n        if LooseVersion(pyarrow.__version__) <= LooseVersion(\"0.17.0\"):\\r\\n            pytest.skip()\\r\\n        s3 = s3fs.S3FileSystem(**s3so)\\r\\n        kw = dict(filesystem=s3)\\r\\n>       check_round_trip(\\r\\n            df_compat,\\r\\n            pa,\\r\\n            path=\"pandas-test/pyarrow.parquet\",\\r\\n            read_kwargs=kw,\\r\\n            write_kwargs=kw,\\r\\n        )\\r\\n\\r\\n        service_id = self._service_model.service_id.hyphenize()\\r\\n        handler, event_response = self.meta.events.emit_until_response(\\r\\n            \\'before-call.{service_id}.{operation_name}\\'.format(\\r\\n                service_id=service_id,\\r\\n                operation_name=operation_name),\\r\\n            model=operation_model, params=request_dict,\\r\\n            request_signer=self._request_signer, context=request_context)\\r\\n    \\r\\n        if event_response is not None:\\r\\n            http, parsed_response = event_response\\r\\n        else:\\r\\n            http, parsed_response = self._make_request(\\r\\n                operation_model, request_dict, request_context)\\r\\n    \\r\\n        self.meta.events.emit(\\r\\n            \\'after-call.{service_id}.{operation_name}\\'.format(\\r\\n                service_id=service_id,\\r\\n                operation_name=operation_name),\\r\\n            http_response=http, parsed=parsed_response,\\r\\n            model=operation_model, context=request_context\\r\\n        )\\r\\n    \\r\\n        if http.status_code >= 300:\\r\\n            error_code = parsed_response.get(\"Error\", {}).get(\"Code\")\\r\\n            error_class = self.exceptions.from_code(error_code)\\r\\n>           raise error_class(parsed_response, operation_name)\\r\\nE           botocore.errorfactory.NoSuchBucket: An error occurred (NoSuchBucket) when calling the PutObject operation: The specified bucket does not exist\\r\\n```\\r\\n',\n",
       "  'performed_via_github_app': None},\n",
       " {'url': 'https://api.github.com/repos/pandas-dev/pandas/issues/35852',\n",
       "  'repository_url': 'https://api.github.com/repos/pandas-dev/pandas',\n",
       "  'labels_url': 'https://api.github.com/repos/pandas-dev/pandas/issues/35852/labels{/name}',\n",
       "  'comments_url': 'https://api.github.com/repos/pandas-dev/pandas/issues/35852/comments',\n",
       "  'events_url': 'https://api.github.com/repos/pandas-dev/pandas/issues/35852/events',\n",
       "  'html_url': 'https://github.com/pandas-dev/pandas/pull/35852',\n",
       "  'id': 683975844,\n",
       "  'node_id': 'MDExOlB1bGxSZXF1ZXN0NDcxOTcyMjE1',\n",
       "  'number': 35852,\n",
       "  'title': 'DOC: Add dropna documentation for pd.factorize and accept dropna keyword in Series.factorize',\n",
       "  'user': {'login': 'charlesdong1991',\n",
       "   'id': 9269816,\n",
       "   'node_id': 'MDQ6VXNlcjkyNjk4MTY=',\n",
       "   'avatar_url': 'https://avatars0.githubusercontent.com/u/9269816?v=4',\n",
       "   'gravatar_id': '',\n",
       "   'url': 'https://api.github.com/users/charlesdong1991',\n",
       "   'html_url': 'https://github.com/charlesdong1991',\n",
       "   'followers_url': 'https://api.github.com/users/charlesdong1991/followers',\n",
       "   'following_url': 'https://api.github.com/users/charlesdong1991/following{/other_user}',\n",
       "   'gists_url': 'https://api.github.com/users/charlesdong1991/gists{/gist_id}',\n",
       "   'starred_url': 'https://api.github.com/users/charlesdong1991/starred{/owner}{/repo}',\n",
       "   'subscriptions_url': 'https://api.github.com/users/charlesdong1991/subscriptions',\n",
       "   'organizations_url': 'https://api.github.com/users/charlesdong1991/orgs',\n",
       "   'repos_url': 'https://api.github.com/users/charlesdong1991/repos',\n",
       "   'events_url': 'https://api.github.com/users/charlesdong1991/events{/privacy}',\n",
       "   'received_events_url': 'https://api.github.com/users/charlesdong1991/received_events',\n",
       "   'type': 'User',\n",
       "   'site_admin': False},\n",
       "  'labels': [{'id': 134699,\n",
       "    'node_id': 'MDU6TGFiZWwxMzQ2OTk=',\n",
       "    'url': 'https://api.github.com/repos/pandas-dev/pandas/labels/Docs',\n",
       "    'name': 'Docs',\n",
       "    'color': '3465A4',\n",
       "    'default': False,\n",
       "    'description': None},\n",
       "   {'id': 127685,\n",
       "    'node_id': 'MDU6TGFiZWwxMjc2ODU=',\n",
       "    'url': 'https://api.github.com/repos/pandas-dev/pandas/labels/Testing',\n",
       "    'name': 'Testing',\n",
       "    'color': 'C4A000',\n",
       "    'default': False,\n",
       "    'description': 'Custom testing functions or related to the test suite'}],\n",
       "  'state': 'open',\n",
       "  'locked': False,\n",
       "  'assignee': None,\n",
       "  'assignees': [],\n",
       "  'milestone': None,\n",
       "  'comments': 4,\n",
       "  'created_at': '2020-08-22T10:50:31Z',\n",
       "  'updated_at': '2020-08-25T11:50:44Z',\n",
       "  'closed_at': None,\n",
       "  'author_association': 'MEMBER',\n",
       "  'active_lock_reason': None,\n",
       "  'pull_request': {'url': 'https://api.github.com/repos/pandas-dev/pandas/pulls/35852',\n",
       "   'html_url': 'https://github.com/pandas-dev/pandas/pull/35852',\n",
       "   'diff_url': 'https://github.com/pandas-dev/pandas/pull/35852.diff',\n",
       "   'patch_url': 'https://github.com/pandas-dev/pandas/pull/35852.patch'},\n",
       "  'body': '- [x] closes #35667\\r\\n- [x] tests added / passed\\r\\n- [x] passes `black pandas`\\r\\n- [x] passes `git diff upstream/master -u -- \"*.py\" | flake8 --diff`\\r\\n- [ ] whatsnew entry',\n",
       "  'performed_via_github_app': None},\n",
       " {'url': 'https://api.github.com/repos/pandas-dev/pandas/issues/35849',\n",
       "  'repository_url': 'https://api.github.com/repos/pandas-dev/pandas',\n",
       "  'labels_url': 'https://api.github.com/repos/pandas-dev/pandas/issues/35849/labels{/name}',\n",
       "  'comments_url': 'https://api.github.com/repos/pandas-dev/pandas/issues/35849/comments',\n",
       "  'events_url': 'https://api.github.com/repos/pandas-dev/pandas/issues/35849/events',\n",
       "  'html_url': 'https://github.com/pandas-dev/pandas/issues/35849',\n",
       "  'id': 683955498,\n",
       "  'node_id': 'MDU6SXNzdWU2ODM5NTU0OTg=',\n",
       "  'number': 35849,\n",
       "  'title': 'ENH: Enable `append mode` to JSON lines',\n",
       "  'user': {'login': 'nullhack',\n",
       "   'id': 11466701,\n",
       "   'node_id': 'MDQ6VXNlcjExNDY2NzAx',\n",
       "   'avatar_url': 'https://avatars2.githubusercontent.com/u/11466701?v=4',\n",
       "   'gravatar_id': '',\n",
       "   'url': 'https://api.github.com/users/nullhack',\n",
       "   'html_url': 'https://github.com/nullhack',\n",
       "   'followers_url': 'https://api.github.com/users/nullhack/followers',\n",
       "   'following_url': 'https://api.github.com/users/nullhack/following{/other_user}',\n",
       "   'gists_url': 'https://api.github.com/users/nullhack/gists{/gist_id}',\n",
       "   'starred_url': 'https://api.github.com/users/nullhack/starred{/owner}{/repo}',\n",
       "   'subscriptions_url': 'https://api.github.com/users/nullhack/subscriptions',\n",
       "   'organizations_url': 'https://api.github.com/users/nullhack/orgs',\n",
       "   'repos_url': 'https://api.github.com/users/nullhack/repos',\n",
       "   'events_url': 'https://api.github.com/users/nullhack/events{/privacy}',\n",
       "   'received_events_url': 'https://api.github.com/users/nullhack/received_events',\n",
       "   'type': 'User',\n",
       "   'site_admin': False},\n",
       "  'labels': [{'id': 76812,\n",
       "    'node_id': 'MDU6TGFiZWw3NjgxMg==',\n",
       "    'url': 'https://api.github.com/repos/pandas-dev/pandas/labels/Enhancement',\n",
       "    'name': 'Enhancement',\n",
       "    'color': '4E9A06',\n",
       "    'default': False,\n",
       "    'description': None},\n",
       "   {'id': 49379259,\n",
       "    'node_id': 'MDU6TGFiZWw0OTM3OTI1OQ==',\n",
       "    'url': 'https://api.github.com/repos/pandas-dev/pandas/labels/IO%20JSON',\n",
       "    'name': 'IO JSON',\n",
       "    'color': '207de5',\n",
       "    'default': False,\n",
       "    'description': 'read_json, to_json, json_normalize'},\n",
       "   {'id': 1954720290,\n",
       "    'node_id': 'MDU6TGFiZWwxOTU0NzIwMjkw',\n",
       "    'url': 'https://api.github.com/repos/pandas-dev/pandas/labels/Needs%20Triage',\n",
       "    'name': 'Needs Triage',\n",
       "    'color': '0052cc',\n",
       "    'default': False,\n",
       "    'description': 'Issue that has not been reviewed by a pandas team member'}],\n",
       "  'state': 'open',\n",
       "  'locked': False,\n",
       "  'assignee': None,\n",
       "  'assignees': [],\n",
       "  'milestone': None,\n",
       "  'comments': 2,\n",
       "  'created_at': '2020-08-22T08:18:37Z',\n",
       "  'updated_at': '2020-08-23T01:54:06Z',\n",
       "  'closed_at': None,\n",
       "  'author_association': 'NONE',\n",
       "  'active_lock_reason': None,\n",
       "  'body': '#### Is your feature request related to a problem?\\r\\n\\r\\n[JSON Lines](http://jsonlines.org/) format allow appending to an existing file in a easy way (new line with valid JSON string). Historically `DataFrame().to_json` didn\\'t allow`mode=\"a\"` because It would introduce complications of reading/parsing/changing pure JSON strings. But for JSON lines It\\'s done in an elegant way, as easy as a CSV files. \\r\\n\\r\\nThe pandas way of using JSON lines is setting `orient=\\'records\\'` together with `lines=True`, but It lacks a `mode=\"a\"` for append mode. My feature proposal (PR already done, just need review) is simple: include the capability of append mode (`mode=\"a\"`) on `to_json` IF `orient=\\'records\\'` and `lines=True`\\r\\n\\r\\n#### Describe the solution you\\'d like\\r\\n\\r\\nThe PR: https://github.com/pandas-dev/pandas/pull/35832\\r\\n\\r\\nIf I got It right, the solution is simple:\\r\\n1. Include the [argument](https://github.com/pandas-dev/pandas/blob/dc5c1f5e3b85239bc8507cfb4b0d0a7f5f250bb5/pandas/io/json/_json.py#L53) `mode: str = \"w\"`on `to_json` this will NOT break anything as the default behavior continues as write mode\\r\\n2. Include a [conditional](https://github.com/pandas-dev/pandas/blob/dc5c1f5e3b85239bc8507cfb4b0d0a7f5f250bb5/pandas/io/json/_json.py#L72) in case `mode=\"a\"`, checking if `orient=\\'records\\'` and `lines=True`, raising an Exception otherwise\\r\\n3. In case `mode=\"a\"` and the file already exists and is not empty, then add a new line to the [JSON string](https://github.com/pandas-dev/pandas/blob/dc5c1f5e3b85239bc8507cfb4b0d0a7f5f250bb5/pandas/io/json/_json.py#L103) (`s = convert_to_line_delimits(s)`) before sending to `handler`\\r\\n4. Create the [handler using the correct mode](https://github.com/pandas-dev/pandas/blob/dc5c1f5e3b85239bc8507cfb4b0d0a7f5f250bb5/pandas/io/json/_json.py#L116) (`get_handle(path_or_buf, mode, compression=compression)` instead of the hardcoded `get_handle(path_or_buf, \"w\", compression=compression)` )\\r\\n\\r\\n',\n",
       "  'performed_via_github_app': None},\n",
       " {'url': 'https://api.github.com/repos/pandas-dev/pandas/issues/35848',\n",
       "  'repository_url': 'https://api.github.com/repos/pandas-dev/pandas',\n",
       "  'labels_url': 'https://api.github.com/repos/pandas-dev/pandas/issues/35848/labels{/name}',\n",
       "  'comments_url': 'https://api.github.com/repos/pandas-dev/pandas/issues/35848/comments',\n",
       "  'events_url': 'https://api.github.com/repos/pandas-dev/pandas/issues/35848/events',\n",
       "  'html_url': 'https://github.com/pandas-dev/pandas/pull/35848',\n",
       "  'id': 683943579,\n",
       "  'node_id': 'MDExOlB1bGxSZXF1ZXN0NDcxOTQ4MzAx',\n",
       "  'number': 35848,\n",
       "  'title': 'BUG: Index.get_slice_bounds does not accept datetime.date or tz naive datetime.datetimes',\n",
       "  'user': {'login': 'mroeschke',\n",
       "   'id': 10647082,\n",
       "   'node_id': 'MDQ6VXNlcjEwNjQ3MDgy',\n",
       "   'avatar_url': 'https://avatars0.githubusercontent.com/u/10647082?v=4',\n",
       "   'gravatar_id': '',\n",
       "   'url': 'https://api.github.com/users/mroeschke',\n",
       "   'html_url': 'https://github.com/mroeschke',\n",
       "   'followers_url': 'https://api.github.com/users/mroeschke/followers',\n",
       "   'following_url': 'https://api.github.com/users/mroeschke/following{/other_user}',\n",
       "   'gists_url': 'https://api.github.com/users/mroeschke/gists{/gist_id}',\n",
       "   'starred_url': 'https://api.github.com/users/mroeschke/starred{/owner}{/repo}',\n",
       "   'subscriptions_url': 'https://api.github.com/users/mroeschke/subscriptions',\n",
       "   'organizations_url': 'https://api.github.com/users/mroeschke/orgs',\n",
       "   'repos_url': 'https://api.github.com/users/mroeschke/repos',\n",
       "   'events_url': 'https://api.github.com/users/mroeschke/events{/privacy}',\n",
       "   'received_events_url': 'https://api.github.com/users/mroeschke/received_events',\n",
       "   'type': 'User',\n",
       "   'site_admin': False},\n",
       "  'labels': [{'id': 76811,\n",
       "    'node_id': 'MDU6TGFiZWw3NjgxMQ==',\n",
       "    'url': 'https://api.github.com/repos/pandas-dev/pandas/labels/Bug',\n",
       "    'name': 'Bug',\n",
       "    'color': 'e10c02',\n",
       "    'default': False,\n",
       "    'description': None},\n",
       "   {'id': 211840,\n",
       "    'node_id': 'MDU6TGFiZWwyMTE4NDA=',\n",
       "    'url': 'https://api.github.com/repos/pandas-dev/pandas/labels/Timeseries',\n",
       "    'name': 'Timeseries',\n",
       "    'color': 'AFEEEE',\n",
       "    'default': False,\n",
       "    'description': None}],\n",
       "  'state': 'open',\n",
       "  'locked': False,\n",
       "  'assignee': None,\n",
       "  'assignees': [],\n",
       "  'milestone': {'url': 'https://api.github.com/repos/pandas-dev/pandas/milestones/73',\n",
       "   'html_url': 'https://github.com/pandas-dev/pandas/milestone/73',\n",
       "   'labels_url': 'https://api.github.com/repos/pandas-dev/pandas/milestones/73/labels',\n",
       "   'id': 5479819,\n",
       "   'node_id': 'MDk6TWlsZXN0b25lNTQ3OTgxOQ==',\n",
       "   'number': 73,\n",
       "   'title': '1.2',\n",
       "   'description': '',\n",
       "   'creator': {'login': 'jreback',\n",
       "    'id': 953992,\n",
       "    'node_id': 'MDQ6VXNlcjk1Mzk5Mg==',\n",
       "    'avatar_url': 'https://avatars2.githubusercontent.com/u/953992?v=4',\n",
       "    'gravatar_id': '',\n",
       "    'url': 'https://api.github.com/users/jreback',\n",
       "    'html_url': 'https://github.com/jreback',\n",
       "    'followers_url': 'https://api.github.com/users/jreback/followers',\n",
       "    'following_url': 'https://api.github.com/users/jreback/following{/other_user}',\n",
       "    'gists_url': 'https://api.github.com/users/jreback/gists{/gist_id}',\n",
       "    'starred_url': 'https://api.github.com/users/jreback/starred{/owner}{/repo}',\n",
       "    'subscriptions_url': 'https://api.github.com/users/jreback/subscriptions',\n",
       "    'organizations_url': 'https://api.github.com/users/jreback/orgs',\n",
       "    'repos_url': 'https://api.github.com/users/jreback/repos',\n",
       "    'events_url': 'https://api.github.com/users/jreback/events{/privacy}',\n",
       "    'received_events_url': 'https://api.github.com/users/jreback/received_events',\n",
       "    'type': 'User',\n",
       "    'site_admin': False},\n",
       "   'open_issues': 41,\n",
       "   'closed_issues': 166,\n",
       "   'state': 'open',\n",
       "   'created_at': '2020-05-29T23:47:32Z',\n",
       "   'updated_at': '2020-08-25T12:59:42Z',\n",
       "   'due_on': '2020-11-29T08:00:00Z',\n",
       "   'closed_at': None},\n",
       "  'comments': 2,\n",
       "  'created_at': '2020-08-22T06:47:21Z',\n",
       "  'updated_at': '2020-08-25T05:14:12Z',\n",
       "  'closed_at': None,\n",
       "  'author_association': 'MEMBER',\n",
       "  'active_lock_reason': None,\n",
       "  'pull_request': {'url': 'https://api.github.com/repos/pandas-dev/pandas/pulls/35848',\n",
       "   'html_url': 'https://github.com/pandas-dev/pandas/pull/35848',\n",
       "   'diff_url': 'https://github.com/pandas-dev/pandas/pull/35848.diff',\n",
       "   'patch_url': 'https://github.com/pandas-dev/pandas/pull/35848.patch'},\n",
       "  'body': '- [x] closes #35690\\r\\n- [x] closes #34077\\r\\n- [x] tests added / passed\\r\\n- [x] passes `black pandas`\\r\\n- [x] passes `git diff upstream/master -u -- \"*.py\" | flake8 --diff`\\r\\n- [x] whatsnew entry\\r\\n\\r\\nThis method appeared under tested so added some additional tests for numeric and object `Index`\\r\\n',\n",
       "  'performed_via_github_app': None},\n",
       " {'url': 'https://api.github.com/repos/pandas-dev/pandas/issues/35847',\n",
       "  'repository_url': 'https://api.github.com/repos/pandas-dev/pandas',\n",
       "  'labels_url': 'https://api.github.com/repos/pandas-dev/pandas/issues/35847/labels{/name}',\n",
       "  'comments_url': 'https://api.github.com/repos/pandas-dev/pandas/issues/35847/comments',\n",
       "  'events_url': 'https://api.github.com/repos/pandas-dev/pandas/issues/35847/events',\n",
       "  'html_url': 'https://github.com/pandas-dev/pandas/issues/35847',\n",
       "  'id': 683935884,\n",
       "  'node_id': 'MDU6SXNzdWU2ODM5MzU4ODQ=',\n",
       "  'number': 35847,\n",
       "  'title': 'BUG: inconsistent naming when combining indices of various types',\n",
       "  'user': {'login': 'iamlemec',\n",
       "   'id': 953300,\n",
       "   'node_id': 'MDQ6VXNlcjk1MzMwMA==',\n",
       "   'avatar_url': 'https://avatars0.githubusercontent.com/u/953300?v=4',\n",
       "   'gravatar_id': '',\n",
       "   'url': 'https://api.github.com/users/iamlemec',\n",
       "   'html_url': 'https://github.com/iamlemec',\n",
       "   'followers_url': 'https://api.github.com/users/iamlemec/followers',\n",
       "   'following_url': 'https://api.github.com/users/iamlemec/following{/other_user}',\n",
       "   'gists_url': 'https://api.github.com/users/iamlemec/gists{/gist_id}',\n",
       "   'starred_url': 'https://api.github.com/users/iamlemec/starred{/owner}{/repo}',\n",
       "   'subscriptions_url': 'https://api.github.com/users/iamlemec/subscriptions',\n",
       "   'organizations_url': 'https://api.github.com/users/iamlemec/orgs',\n",
       "   'repos_url': 'https://api.github.com/users/iamlemec/repos',\n",
       "   'events_url': 'https://api.github.com/users/iamlemec/events{/privacy}',\n",
       "   'received_events_url': 'https://api.github.com/users/iamlemec/received_events',\n",
       "   'type': 'User',\n",
       "   'site_admin': False},\n",
       "  'labels': [{'id': 1741841389,\n",
       "    'node_id': 'MDU6TGFiZWwxNzQxODQxMzg5',\n",
       "    'url': 'https://api.github.com/repos/pandas-dev/pandas/labels/API%20-%20Consistency',\n",
       "    'name': 'API - Consistency',\n",
       "    'color': 'b60205',\n",
       "    'default': False,\n",
       "    'description': 'Internal Consistency of API/Behavior'},\n",
       "   {'id': 219960758,\n",
       "    'node_id': 'MDU6TGFiZWwyMTk5NjA3NTg=',\n",
       "    'url': 'https://api.github.com/repos/pandas-dev/pandas/labels/Needs%20Discussion',\n",
       "    'name': 'Needs Discussion',\n",
       "    'color': '207de5',\n",
       "    'default': False,\n",
       "    'description': None}],\n",
       "  'state': 'open',\n",
       "  'locked': False,\n",
       "  'assignee': None,\n",
       "  'assignees': [],\n",
       "  'milestone': None,\n",
       "  'comments': 2,\n",
       "  'created_at': '2020-08-22T05:52:00Z',\n",
       "  'updated_at': '2020-08-23T07:14:26Z',\n",
       "  'closed_at': None,\n",
       "  'author_association': 'CONTRIBUTOR',\n",
       "  'active_lock_reason': None,\n",
       "  'body': \"This is building off of some issues seen in #13475 and subsequent PR. Essentially, the resulting index name when combining existing named indices with `union_indexes` is not consistent across index types. This primarily affects `concat` and the `DataFrame` constructor, which call `union_indexes`.\\r\\n\\r\\nWhen combining named indices, there are three main name resolution rules I can think of:\\r\\n- `ignore`: assign no name to output\\r\\n- `unanimous`: assign name if all names agree\\r\\n- `consensus`: assign name only if one unique non-null name\\r\\n\\r\\nWith some testing, below is my best understanding of what resolution rule the various index types use. Note that the behavior may differ depending on whether the indices are numerically equal or not, as with RangeIndex. For the not numerically equal case:\\r\\n- `Index`: consensus\\r\\n- `RangeIndex`: ignore\\r\\n- `Int64Index`: unanimous\\r\\n- `Float64Index`: unanimous\\r\\n- `DateTimeIndex`: consensus\\r\\n- `TimeDeltaIndex`: consensus\\r\\n- `PeriodIndex`: unanimous\\r\\n- `CategoricalIndex`: unanimous\\r\\n- `MultiIndex`: unanimous (over all levels)\\r\\n\\r\\nI'm not really taking a stand on the correct name resolution rule, but I think they should at least be consistent across index type! And of course MultiIndex is a bit more complicated. Seems possible things could be implemented in common for non-multi-indices in the higher level `union` function? I'm not really sure, but I'm happy to put some work into it.\\r\\n\\r\\nThe test is slightly different for each index type, but for the RangeIndex case, here's an MWE:\\r\\n``` python\\r\\nidx1 = pd.RangeIndex(0, 5, name='idx')\\r\\nidx2 = pd.RangeIndex(2, 7, name='idx')\\r\\npd.core.indexes.api.union_indexes([idx1, idx2])\\r\\n```\\r\\nand the result will have no name (checked on master).\",\n",
       "  'performed_via_github_app': None},\n",
       " {'url': 'https://api.github.com/repos/pandas-dev/pandas/issues/35845',\n",
       "  'repository_url': 'https://api.github.com/repos/pandas-dev/pandas',\n",
       "  'labels_url': 'https://api.github.com/repos/pandas-dev/pandas/issues/35845/labels{/name}',\n",
       "  'comments_url': 'https://api.github.com/repos/pandas-dev/pandas/issues/35845/comments',\n",
       "  'events_url': 'https://api.github.com/repos/pandas-dev/pandas/issues/35845/events',\n",
       "  'html_url': 'https://github.com/pandas-dev/pandas/pull/35845',\n",
       "  'id': 683781554,\n",
       "  'node_id': 'MDExOlB1bGxSZXF1ZXN0NDcxODE3NjU3',\n",
       "  'number': 35845,\n",
       "  'title': 'CI: Revert 31323 for deprecation warning from Jedi',\n",
       "  'user': {'login': 'charlesdong1991',\n",
       "   'id': 9269816,\n",
       "   'node_id': 'MDQ6VXNlcjkyNjk4MTY=',\n",
       "   'avatar_url': 'https://avatars0.githubusercontent.com/u/9269816?v=4',\n",
       "   'gravatar_id': '',\n",
       "   'url': 'https://api.github.com/users/charlesdong1991',\n",
       "   'html_url': 'https://github.com/charlesdong1991',\n",
       "   'followers_url': 'https://api.github.com/users/charlesdong1991/followers',\n",
       "   'following_url': 'https://api.github.com/users/charlesdong1991/following{/other_user}',\n",
       "   'gists_url': 'https://api.github.com/users/charlesdong1991/gists{/gist_id}',\n",
       "   'starred_url': 'https://api.github.com/users/charlesdong1991/starred{/owner}{/repo}',\n",
       "   'subscriptions_url': 'https://api.github.com/users/charlesdong1991/subscriptions',\n",
       "   'organizations_url': 'https://api.github.com/users/charlesdong1991/orgs',\n",
       "   'repos_url': 'https://api.github.com/users/charlesdong1991/repos',\n",
       "   'events_url': 'https://api.github.com/users/charlesdong1991/events{/privacy}',\n",
       "   'received_events_url': 'https://api.github.com/users/charlesdong1991/received_events',\n",
       "   'type': 'User',\n",
       "   'site_admin': False},\n",
       "  'labels': [{'id': 527603109,\n",
       "    'node_id': 'MDU6TGFiZWw1Mjc2MDMxMDk=',\n",
       "    'url': 'https://api.github.com/repos/pandas-dev/pandas/labels/Dependencies',\n",
       "    'name': 'Dependencies',\n",
       "    'color': 'd93f0b',\n",
       "    'default': False,\n",
       "    'description': 'Related to pandas required and optional  dependencies'}],\n",
       "  'state': 'open',\n",
       "  'locked': False,\n",
       "  'assignee': None,\n",
       "  'assignees': [],\n",
       "  'milestone': None,\n",
       "  'comments': 1,\n",
       "  'created_at': '2020-08-21T19:24:07Z',\n",
       "  'updated_at': '2020-08-23T01:16:00Z',\n",
       "  'closed_at': None,\n",
       "  'author_association': 'MEMBER',\n",
       "  'active_lock_reason': None,\n",
       "  'pull_request': {'url': 'https://api.github.com/repos/pandas-dev/pandas/pulls/35845',\n",
       "   'html_url': 'https://github.com/pandas-dev/pandas/pull/35845',\n",
       "   'diff_url': 'https://github.com/pandas-dev/pandas/pull/35845.diff',\n",
       "   'patch_url': 'https://github.com/pandas-dev/pandas/pull/35845.patch'},\n",
       "  'body': '- [x] closes #31407\\r\\n\\r\\nipython/ipython#12102 has been solved, and the new release came out a couple weeks ago, so revert should be fine according to https://github.com/ipython/ipython/issues/12102#issuecomment-670987484\\r\\n',\n",
       "  'performed_via_github_app': None},\n",
       " {'url': 'https://api.github.com/repos/pandas-dev/pandas/issues/35843',\n",
       "  'repository_url': 'https://api.github.com/repos/pandas-dev/pandas',\n",
       "  'labels_url': 'https://api.github.com/repos/pandas-dev/pandas/issues/35843/labels{/name}',\n",
       "  'comments_url': 'https://api.github.com/repos/pandas-dev/pandas/issues/35843/comments',\n",
       "  'events_url': 'https://api.github.com/repos/pandas-dev/pandas/issues/35843/events',\n",
       "  'html_url': 'https://github.com/pandas-dev/pandas/issues/35843',\n",
       "  'id': 683683726,\n",
       "  'node_id': 'MDU6SXNzdWU2ODM2ODM3MjY=',\n",
       "  'number': 35843,\n",
       "  'title': 'REGR: Series.__repr__ is broken for SparseDtype(\"datetime64[ns]\")',\n",
       "  'user': {'login': 'dsaxton',\n",
       "   'id': 2658661,\n",
       "   'node_id': 'MDQ6VXNlcjI2NTg2NjE=',\n",
       "   'avatar_url': 'https://avatars0.githubusercontent.com/u/2658661?v=4',\n",
       "   'gravatar_id': '',\n",
       "   'url': 'https://api.github.com/users/dsaxton',\n",
       "   'html_url': 'https://github.com/dsaxton',\n",
       "   'followers_url': 'https://api.github.com/users/dsaxton/followers',\n",
       "   'following_url': 'https://api.github.com/users/dsaxton/following{/other_user}',\n",
       "   'gists_url': 'https://api.github.com/users/dsaxton/gists{/gist_id}',\n",
       "   'starred_url': 'https://api.github.com/users/dsaxton/starred{/owner}{/repo}',\n",
       "   'subscriptions_url': 'https://api.github.com/users/dsaxton/subscriptions',\n",
       "   'organizations_url': 'https://api.github.com/users/dsaxton/orgs',\n",
       "   'repos_url': 'https://api.github.com/users/dsaxton/repos',\n",
       "   'events_url': 'https://api.github.com/users/dsaxton/events{/privacy}',\n",
       "   'received_events_url': 'https://api.github.com/users/dsaxton/received_events',\n",
       "   'type': 'User',\n",
       "   'site_admin': False},\n",
       "  'labels': [{'id': 13101118,\n",
       "    'node_id': 'MDU6TGFiZWwxMzEwMTExOA==',\n",
       "    'url': 'https://api.github.com/repos/pandas-dev/pandas/labels/Output-Formatting',\n",
       "    'name': 'Output-Formatting',\n",
       "    'color': 'ededed',\n",
       "    'default': False,\n",
       "    'description': '__repr__ of pandas objects, to_string'},\n",
       "   {'id': 32815646,\n",
       "    'node_id': 'MDU6TGFiZWwzMjgxNTY0Ng==',\n",
       "    'url': 'https://api.github.com/repos/pandas-dev/pandas/labels/Regression',\n",
       "    'name': 'Regression',\n",
       "    'color': 'e11d21',\n",
       "    'default': False,\n",
       "    'description': 'Functionality that used to work in a prior pandas version'},\n",
       "   {'id': 49182326,\n",
       "    'node_id': 'MDU6TGFiZWw0OTE4MjMyNg==',\n",
       "    'url': 'https://api.github.com/repos/pandas-dev/pandas/labels/Sparse',\n",
       "    'name': 'Sparse',\n",
       "    'color': '009800',\n",
       "    'default': False,\n",
       "    'description': 'Sparse Data Type'},\n",
       "   {'id': 211840,\n",
       "    'node_id': 'MDU6TGFiZWwyMTE4NDA=',\n",
       "    'url': 'https://api.github.com/repos/pandas-dev/pandas/labels/Timeseries',\n",
       "    'name': 'Timeseries',\n",
       "    'color': 'AFEEEE',\n",
       "    'default': False,\n",
       "    'description': None}],\n",
       "  'state': 'open',\n",
       "  'locked': False,\n",
       "  'assignee': None,\n",
       "  'assignees': [],\n",
       "  'milestone': {'url': 'https://api.github.com/repos/pandas-dev/pandas/milestones/76',\n",
       "   'html_url': 'https://github.com/pandas-dev/pandas/milestone/76',\n",
       "   'labels_url': 'https://api.github.com/repos/pandas-dev/pandas/milestones/76/labels',\n",
       "   'id': 5781056,\n",
       "   'node_id': 'MDk6TWlsZXN0b25lNTc4MTA1Ng==',\n",
       "   'number': 76,\n",
       "   'title': '1.1.2',\n",
       "   'description': 'on-merge: backport to 1.1.x',\n",
       "   'creator': {'login': 'simonjayhawkins',\n",
       "    'id': 13159005,\n",
       "    'node_id': 'MDQ6VXNlcjEzMTU5MDA1',\n",
       "    'avatar_url': 'https://avatars0.githubusercontent.com/u/13159005?v=4',\n",
       "    'gravatar_id': '',\n",
       "    'url': 'https://api.github.com/users/simonjayhawkins',\n",
       "    'html_url': 'https://github.com/simonjayhawkins',\n",
       "    'followers_url': 'https://api.github.com/users/simonjayhawkins/followers',\n",
       "    'following_url': 'https://api.github.com/users/simonjayhawkins/following{/other_user}',\n",
       "    'gists_url': 'https://api.github.com/users/simonjayhawkins/gists{/gist_id}',\n",
       "    'starred_url': 'https://api.github.com/users/simonjayhawkins/starred{/owner}{/repo}',\n",
       "    'subscriptions_url': 'https://api.github.com/users/simonjayhawkins/subscriptions',\n",
       "    'organizations_url': 'https://api.github.com/users/simonjayhawkins/orgs',\n",
       "    'repos_url': 'https://api.github.com/users/simonjayhawkins/repos',\n",
       "    'events_url': 'https://api.github.com/users/simonjayhawkins/events{/privacy}',\n",
       "    'received_events_url': 'https://api.github.com/users/simonjayhawkins/received_events',\n",
       "    'type': 'User',\n",
       "    'site_admin': False},\n",
       "   'open_issues': 27,\n",
       "   'closed_issues': 13,\n",
       "   'state': 'open',\n",
       "   'created_at': '2020-08-17T19:11:56Z',\n",
       "   'updated_at': '2020-08-25T11:55:18Z',\n",
       "   'due_on': '2020-09-06T07:00:00Z',\n",
       "   'closed_at': None},\n",
       "  'comments': 3,\n",
       "  'created_at': '2020-08-21T16:42:32Z',\n",
       "  'updated_at': '2020-08-25T07:12:47Z',\n",
       "  'closed_at': None,\n",
       "  'author_association': 'CONTRIBUTOR',\n",
       "  'active_lock_reason': None,\n",
       "  'body': 'Regression due to https://github.com/pandas-dev/pandas/commit/1fa063552eef57ecec9c6a867ff2ae4bb3961e3d :\\r\\n\\r\\n```python\\r\\nimport pandas as pd\\r\\n\\r\\nprint(pd.__version__)\\r\\n\\r\\nvalues = [pd.Timestamp(\\'2012-05-01T01:00:00.000000\\'), pd.Timestamp(\\'2016-05-01T01:00:00.000000\\')]\\r\\narr = pd.arrays.SparseArray(values)\\r\\nser = pd.Series(arr)\\r\\nser\\r\\n```\\r\\n\\r\\n```python\\r\\n1.2.0.dev0+147.g07983803b\\r\\nOut[1]: ---------------------------------------------------------------------------\\r\\nAttributeError                            Traceback (most recent call last)\\r\\n~/opt/miniconda3/envs/pandas-dev/lib/python3.8/site-packages/IPython/core/formatters.py in __call__(self, obj)\\r\\n    700                 type_pprinters=self.type_printers,\\r\\n    701                 deferred_pprinters=self.deferred_printers)\\r\\n--> 702             printer.pretty(obj)\\r\\n    703             printer.flush()\\r\\n    704             return stream.getvalue()\\r\\n\\r\\n~/opt/miniconda3/envs/pandas-dev/lib/python3.8/site-packages/IPython/lib/pretty.py in pretty(self, obj)\\r\\n    392                         if cls is not object \\\\\\r\\n    393                                 and callable(cls.__dict__.get(\\'__repr__\\')):\\r\\n--> 394                             return _repr_pprint(obj, self, cycle)\\r\\n    395\\r\\n    396             return _default_pprint(obj, self, cycle)\\r\\n\\r\\n~/opt/miniconda3/envs/pandas-dev/lib/python3.8/site-packages/IPython/lib/pretty.py in _repr_pprint(obj, p, cycle)\\r\\n    698     \"\"\"A pprint that just redirects to the normal repr function.\"\"\"\\r\\n    699     # Find newlines and replace them with p.break_()\\r\\n--> 700     output = repr(obj)\\r\\n    701     lines = output.splitlines()\\r\\n    702     with p.group():\\r\\n\\r\\n~/pandas/pandas/core/series.py in __repr__(self)\\r\\n   1315         show_dimensions = get_option(\"display.show_dimensions\")\\r\\n   1316\\r\\n-> 1317         self.to_string(\\r\\n   1318             buf=buf,\\r\\n   1319             name=self.name,\\r\\n\\r\\n~/pandas/pandas/core/series.py in to_string(self, buf, na_rep, float_format, header, index, length, dtype, name, max_rows, min_rows)\\r\\n   1386             max_rows=max_rows,\\r\\n   1387         )\\r\\n-> 1388         result = formatter.to_string()\\r\\n   1389\\r\\n   1390         # catch contract violations\\r\\n\\r\\n~/pandas/pandas/io/formats/format.py in to_string(self)\\r\\n    356\\r\\n    357         fmt_index, have_header = self._get_formatted_index()\\r\\n--> 358         fmt_values = self._get_formatted_values()\\r\\n    359\\r\\n    360         if self.truncate_v:\\r\\n\\r\\n~/pandas/pandas/io/formats/format.py in _get_formatted_values(self)\\r\\n    341\\r\\n    342     def _get_formatted_values(self) -> List[str]:\\r\\n--> 343         return format_array(\\r\\n    344             self.tr_series._values,\\r\\n    345             None,\\r\\n\\r\\n~/pandas/pandas/io/formats/format.py in format_array(values, formatter, float_format, na_rep, digits, space, justify, decimal, leading_space, quoting)\\r\\n   1179     )\\r\\n   1180\\r\\n-> 1181     return fmt_obj.get_result()\\r\\n   1182\\r\\n   1183\\r\\n\\r\\n~/pandas/pandas/io/formats/format.py in get_result(self)\\r\\n   1210\\r\\n   1211     def get_result(self) -> List[str]:\\r\\n-> 1212         fmt_values = self._format_strings()\\r\\n   1213         return _make_fixed_width(fmt_values, self.justify)\\r\\n   1214\\r\\n\\r\\n~/pandas/pandas/io/formats/format.py in _format_strings(self)\\r\\n   1467\\r\\n   1468         if not isinstance(values, DatetimeIndex):\\r\\n-> 1469             values = DatetimeIndex(values)\\r\\n   1470\\r\\n   1471         if self.formatter is not None and callable(self.formatter):\\r\\n\\r\\n~/pandas/pandas/core/indexes/datetimes.py in __new__(cls, data, freq, tz, normalize, closed, ambiguous, dayfirst, yearfirst, dtype, copy, name)\\r\\n    269         name = maybe_extract_name(name, data, cls)\\r\\n    270\\r\\n--> 271         dtarr = DatetimeArray._from_sequence(\\r\\n    272             data,\\r\\n    273             dtype=dtype,\\r\\n\\r\\n~/pandas/pandas/core/arrays/datetimes.py in _from_sequence(cls, data, dtype, copy, tz, freq, dayfirst, yearfirst, ambiguous)\\r\\n    314         freq, freq_infer = dtl.maybe_infer_freq(freq)\\r\\n    315\\r\\n--> 316         subarr, tz, inferred_freq = sequence_to_dt64ns(\\r\\n    317             data,\\r\\n    318             dtype=dtype,\\r\\n\\r\\n~/pandas/pandas/core/arrays/datetimes.py in sequence_to_dt64ns(data, dtype, copy, tz, dayfirst, yearfirst, ambiguous)\\r\\n   1957     if is_datetime64tz_dtype(data_dtype):\\r\\n   1958         # DatetimeArray -> ndarray\\r\\n-> 1959         tz = _maybe_infer_tz(tz, data.tz)\\r\\n   1960         result = data._data\\r\\n   1961\\r\\n\\r\\nAttributeError: \\'SparseArray\\' object has no attribute \\'tz\\'\\r\\n```\\r\\n\\r\\nxref https://github.com/pandas-dev/pandas/issues/35762',\n",
       "  'performed_via_github_app': None},\n",
       " {'url': 'https://api.github.com/repos/pandas-dev/pandas/issues/35838',\n",
       "  'repository_url': 'https://api.github.com/repos/pandas-dev/pandas',\n",
       "  'labels_url': 'https://api.github.com/repos/pandas-dev/pandas/issues/35838/labels{/name}',\n",
       "  'comments_url': 'https://api.github.com/repos/pandas-dev/pandas/issues/35838/comments',\n",
       "  'events_url': 'https://api.github.com/repos/pandas-dev/pandas/issues/35838/events',\n",
       "  'html_url': 'https://github.com/pandas-dev/pandas/pull/35838',\n",
       "  'id': 683227415,\n",
       "  'node_id': 'MDExOlB1bGxSZXF1ZXN0NDcxMzUwMjQy',\n",
       "  'number': 35838,\n",
       "  'title': 'Fix Series construction from Sparse[\"datetime64[ns]\"]',\n",
       "  'user': {'login': 'dsaxton',\n",
       "   'id': 2658661,\n",
       "   'node_id': 'MDQ6VXNlcjI2NTg2NjE=',\n",
       "   'avatar_url': 'https://avatars0.githubusercontent.com/u/2658661?v=4',\n",
       "   'gravatar_id': '',\n",
       "   'url': 'https://api.github.com/users/dsaxton',\n",
       "   'html_url': 'https://github.com/dsaxton',\n",
       "   'followers_url': 'https://api.github.com/users/dsaxton/followers',\n",
       "   'following_url': 'https://api.github.com/users/dsaxton/following{/other_user}',\n",
       "   'gists_url': 'https://api.github.com/users/dsaxton/gists{/gist_id}',\n",
       "   'starred_url': 'https://api.github.com/users/dsaxton/starred{/owner}{/repo}',\n",
       "   'subscriptions_url': 'https://api.github.com/users/dsaxton/subscriptions',\n",
       "   'organizations_url': 'https://api.github.com/users/dsaxton/orgs',\n",
       "   'repos_url': 'https://api.github.com/users/dsaxton/repos',\n",
       "   'events_url': 'https://api.github.com/users/dsaxton/events{/privacy}',\n",
       "   'received_events_url': 'https://api.github.com/users/dsaxton/received_events',\n",
       "   'type': 'User',\n",
       "   'site_admin': False},\n",
       "  'labels': [{'id': 76811,\n",
       "    'node_id': 'MDU6TGFiZWw3NjgxMQ==',\n",
       "    'url': 'https://api.github.com/repos/pandas-dev/pandas/labels/Bug',\n",
       "    'name': 'Bug',\n",
       "    'color': 'e10c02',\n",
       "    'default': False,\n",
       "    'description': None},\n",
       "   {'id': 1465286368,\n",
       "    'node_id': 'MDU6TGFiZWwxNDY1Mjg2MzY4',\n",
       "    'url': 'https://api.github.com/repos/pandas-dev/pandas/labels/Constructors',\n",
       "    'name': 'Constructors',\n",
       "    'color': 'd4c5f9',\n",
       "    'default': False,\n",
       "    'description': 'Series/DataFrame/Index/pd.array Constructors'},\n",
       "   {'id': 49182326,\n",
       "    'node_id': 'MDU6TGFiZWw0OTE4MjMyNg==',\n",
       "    'url': 'https://api.github.com/repos/pandas-dev/pandas/labels/Sparse',\n",
       "    'name': 'Sparse',\n",
       "    'color': '009800',\n",
       "    'default': False,\n",
       "    'description': 'Sparse Data Type'},\n",
       "   {'id': 211840,\n",
       "    'node_id': 'MDU6TGFiZWwyMTE4NDA=',\n",
       "    'url': 'https://api.github.com/repos/pandas-dev/pandas/labels/Timeseries',\n",
       "    'name': 'Timeseries',\n",
       "    'color': 'AFEEEE',\n",
       "    'default': False,\n",
       "    'description': None}],\n",
       "  'state': 'open',\n",
       "  'locked': False,\n",
       "  'assignee': None,\n",
       "  'assignees': [],\n",
       "  'milestone': {'url': 'https://api.github.com/repos/pandas-dev/pandas/milestones/76',\n",
       "   'html_url': 'https://github.com/pandas-dev/pandas/milestone/76',\n",
       "   'labels_url': 'https://api.github.com/repos/pandas-dev/pandas/milestones/76/labels',\n",
       "   'id': 5781056,\n",
       "   'node_id': 'MDk6TWlsZXN0b25lNTc4MTA1Ng==',\n",
       "   'number': 76,\n",
       "   'title': '1.1.2',\n",
       "   'description': 'on-merge: backport to 1.1.x',\n",
       "   'creator': {'login': 'simonjayhawkins',\n",
       "    'id': 13159005,\n",
       "    'node_id': 'MDQ6VXNlcjEzMTU5MDA1',\n",
       "    'avatar_url': 'https://avatars0.githubusercontent.com/u/13159005?v=4',\n",
       "    'gravatar_id': '',\n",
       "    'url': 'https://api.github.com/users/simonjayhawkins',\n",
       "    'html_url': 'https://github.com/simonjayhawkins',\n",
       "    'followers_url': 'https://api.github.com/users/simonjayhawkins/followers',\n",
       "    'following_url': 'https://api.github.com/users/simonjayhawkins/following{/other_user}',\n",
       "    'gists_url': 'https://api.github.com/users/simonjayhawkins/gists{/gist_id}',\n",
       "    'starred_url': 'https://api.github.com/users/simonjayhawkins/starred{/owner}{/repo}',\n",
       "    'subscriptions_url': 'https://api.github.com/users/simonjayhawkins/subscriptions',\n",
       "    'organizations_url': 'https://api.github.com/users/simonjayhawkins/orgs',\n",
       "    'repos_url': 'https://api.github.com/users/simonjayhawkins/repos',\n",
       "    'events_url': 'https://api.github.com/users/simonjayhawkins/events{/privacy}',\n",
       "    'received_events_url': 'https://api.github.com/users/simonjayhawkins/received_events',\n",
       "    'type': 'User',\n",
       "    'site_admin': False},\n",
       "   'open_issues': 27,\n",
       "   'closed_issues': 13,\n",
       "   'state': 'open',\n",
       "   'created_at': '2020-08-17T19:11:56Z',\n",
       "   'updated_at': '2020-08-25T11:55:18Z',\n",
       "   'due_on': '2020-09-06T07:00:00Z',\n",
       "   'closed_at': None},\n",
       "  'comments': 0,\n",
       "  'created_at': '2020-08-21T03:15:17Z',\n",
       "  'updated_at': '2020-08-25T11:54:13Z',\n",
       "  'closed_at': None,\n",
       "  'author_association': 'CONTRIBUTOR',\n",
       "  'active_lock_reason': None,\n",
       "  'pull_request': {'url': 'https://api.github.com/repos/pandas-dev/pandas/pulls/35838',\n",
       "   'html_url': 'https://github.com/pandas-dev/pandas/pull/35838',\n",
       "   'diff_url': 'https://github.com/pandas-dev/pandas/pull/35838.diff',\n",
       "   'patch_url': 'https://github.com/pandas-dev/pandas/pull/35838.patch'},\n",
       "  'body': '- [x] closes #35762\\r\\n- [x] tests added / passed\\r\\n- [x] passes `black pandas`\\r\\n- [x] passes `git diff upstream/master -u -- \"*.py\" | flake8 --diff`\\r\\n- [x] whatsnew entry',\n",
       "  'performed_via_github_app': None},\n",
       " {'url': 'https://api.github.com/repos/pandas-dev/pandas/issues/35837',\n",
       "  'repository_url': 'https://api.github.com/repos/pandas-dev/pandas',\n",
       "  'labels_url': 'https://api.github.com/repos/pandas-dev/pandas/issues/35837/labels{/name}',\n",
       "  'comments_url': 'https://api.github.com/repos/pandas-dev/pandas/issues/35837/comments',\n",
       "  'events_url': 'https://api.github.com/repos/pandas-dev/pandas/issues/35837/events',\n",
       "  'html_url': 'https://github.com/pandas-dev/pandas/pull/35837',\n",
       "  'id': 683178499,\n",
       "  'node_id': 'MDExOlB1bGxSZXF1ZXN0NDcxMzEwMzU4',\n",
       "  'number': 35837,\n",
       "  'title': 'Update SparseDtype user guide doc',\n",
       "  'user': {'login': 'dsaxton',\n",
       "   'id': 2658661,\n",
       "   'node_id': 'MDQ6VXNlcjI2NTg2NjE=',\n",
       "   'avatar_url': 'https://avatars0.githubusercontent.com/u/2658661?v=4',\n",
       "   'gravatar_id': '',\n",
       "   'url': 'https://api.github.com/users/dsaxton',\n",
       "   'html_url': 'https://github.com/dsaxton',\n",
       "   'followers_url': 'https://api.github.com/users/dsaxton/followers',\n",
       "   'following_url': 'https://api.github.com/users/dsaxton/following{/other_user}',\n",
       "   'gists_url': 'https://api.github.com/users/dsaxton/gists{/gist_id}',\n",
       "   'starred_url': 'https://api.github.com/users/dsaxton/starred{/owner}{/repo}',\n",
       "   'subscriptions_url': 'https://api.github.com/users/dsaxton/subscriptions',\n",
       "   'organizations_url': 'https://api.github.com/users/dsaxton/orgs',\n",
       "   'repos_url': 'https://api.github.com/users/dsaxton/repos',\n",
       "   'events_url': 'https://api.github.com/users/dsaxton/events{/privacy}',\n",
       "   'received_events_url': 'https://api.github.com/users/dsaxton/received_events',\n",
       "   'type': 'User',\n",
       "   'site_admin': False},\n",
       "  'labels': [{'id': 134699,\n",
       "    'node_id': 'MDU6TGFiZWwxMzQ2OTk=',\n",
       "    'url': 'https://api.github.com/repos/pandas-dev/pandas/labels/Docs',\n",
       "    'name': 'Docs',\n",
       "    'color': '3465A4',\n",
       "    'default': False,\n",
       "    'description': None},\n",
       "   {'id': 49182326,\n",
       "    'node_id': 'MDU6TGFiZWw0OTE4MjMyNg==',\n",
       "    'url': 'https://api.github.com/repos/pandas-dev/pandas/labels/Sparse',\n",
       "    'name': 'Sparse',\n",
       "    'color': '009800',\n",
       "    'default': False,\n",
       "    'description': 'Sparse Data Type'}],\n",
       "  'state': 'open',\n",
       "  'locked': False,\n",
       "  'assignee': None,\n",
       "  'assignees': [],\n",
       "  'milestone': {'url': 'https://api.github.com/repos/pandas-dev/pandas/milestones/73',\n",
       "   'html_url': 'https://github.com/pandas-dev/pandas/milestone/73',\n",
       "   'labels_url': 'https://api.github.com/repos/pandas-dev/pandas/milestones/73/labels',\n",
       "   'id': 5479819,\n",
       "   'node_id': 'MDk6TWlsZXN0b25lNTQ3OTgxOQ==',\n",
       "   'number': 73,\n",
       "   'title': '1.2',\n",
       "   'description': '',\n",
       "   'creator': {'login': 'jreback',\n",
       "    'id': 953992,\n",
       "    'node_id': 'MDQ6VXNlcjk1Mzk5Mg==',\n",
       "    'avatar_url': 'https://avatars2.githubusercontent.com/u/953992?v=4',\n",
       "    'gravatar_id': '',\n",
       "    'url': 'https://api.github.com/users/jreback',\n",
       "    'html_url': 'https://github.com/jreback',\n",
       "    'followers_url': 'https://api.github.com/users/jreback/followers',\n",
       "    'following_url': 'https://api.github.com/users/jreback/following{/other_user}',\n",
       "    'gists_url': 'https://api.github.com/users/jreback/gists{/gist_id}',\n",
       "    'starred_url': 'https://api.github.com/users/jreback/starred{/owner}{/repo}',\n",
       "    'subscriptions_url': 'https://api.github.com/users/jreback/subscriptions',\n",
       "    'organizations_url': 'https://api.github.com/users/jreback/orgs',\n",
       "    'repos_url': 'https://api.github.com/users/jreback/repos',\n",
       "    'events_url': 'https://api.github.com/users/jreback/events{/privacy}',\n",
       "    'received_events_url': 'https://api.github.com/users/jreback/received_events',\n",
       "    'type': 'User',\n",
       "    'site_admin': False},\n",
       "   'open_issues': 41,\n",
       "   'closed_issues': 166,\n",
       "   'state': 'open',\n",
       "   'created_at': '2020-05-29T23:47:32Z',\n",
       "   'updated_at': '2020-08-25T12:59:42Z',\n",
       "   'due_on': '2020-11-29T08:00:00Z',\n",
       "   'closed_at': None},\n",
       "  'comments': 2,\n",
       "  'created_at': '2020-08-21T00:40:57Z',\n",
       "  'updated_at': '2020-08-23T14:37:01Z',\n",
       "  'closed_at': None,\n",
       "  'author_association': 'CONTRIBUTOR',\n",
       "  'active_lock_reason': None,\n",
       "  'pull_request': {'url': 'https://api.github.com/repos/pandas-dev/pandas/pulls/35837',\n",
       "   'html_url': 'https://github.com/pandas-dev/pandas/pull/35837',\n",
       "   'diff_url': 'https://github.com/pandas-dev/pandas/pull/35837.diff',\n",
       "   'patch_url': 'https://github.com/pandas-dev/pandas/pull/35837.patch'},\n",
       "  'body': 'Tiny doc nit. The doc says you can pass both dtype and fill_value to SparseDtype then only passes one in the example.',\n",
       "  'performed_via_github_app': None},\n",
       " {'url': 'https://api.github.com/repos/pandas-dev/pandas/issues/35832',\n",
       "  'repository_url': 'https://api.github.com/repos/pandas-dev/pandas',\n",
       "  'labels_url': 'https://api.github.com/repos/pandas-dev/pandas/issues/35832/labels{/name}',\n",
       "  'comments_url': 'https://api.github.com/repos/pandas-dev/pandas/issues/35832/comments',\n",
       "  'events_url': 'https://api.github.com/repos/pandas-dev/pandas/issues/35832/events',\n",
       "  'html_url': 'https://github.com/pandas-dev/pandas/pull/35832',\n",
       "  'id': 683098647,\n",
       "  'node_id': 'MDExOlB1bGxSZXF1ZXN0NDcxMjQzNjM1',\n",
       "  'number': 35832,\n",
       "  'title': 'Jsonlines append mode',\n",
       "  'user': {'login': 'nullhack',\n",
       "   'id': 11466701,\n",
       "   'node_id': 'MDQ6VXNlcjExNDY2NzAx',\n",
       "   'avatar_url': 'https://avatars2.githubusercontent.com/u/11466701?v=4',\n",
       "   'gravatar_id': '',\n",
       "   'url': 'https://api.github.com/users/nullhack',\n",
       "   'html_url': 'https://github.com/nullhack',\n",
       "   'followers_url': 'https://api.github.com/users/nullhack/followers',\n",
       "   'following_url': 'https://api.github.com/users/nullhack/following{/other_user}',\n",
       "   'gists_url': 'https://api.github.com/users/nullhack/gists{/gist_id}',\n",
       "   'starred_url': 'https://api.github.com/users/nullhack/starred{/owner}{/repo}',\n",
       "   'subscriptions_url': 'https://api.github.com/users/nullhack/subscriptions',\n",
       "   'organizations_url': 'https://api.github.com/users/nullhack/orgs',\n",
       "   'repos_url': 'https://api.github.com/users/nullhack/repos',\n",
       "   'events_url': 'https://api.github.com/users/nullhack/events{/privacy}',\n",
       "   'received_events_url': 'https://api.github.com/users/nullhack/received_events',\n",
       "   'type': 'User',\n",
       "   'site_admin': False},\n",
       "  'labels': [{'id': 76812,\n",
       "    'node_id': 'MDU6TGFiZWw3NjgxMg==',\n",
       "    'url': 'https://api.github.com/repos/pandas-dev/pandas/labels/Enhancement',\n",
       "    'name': 'Enhancement',\n",
       "    'color': '4E9A06',\n",
       "    'default': False,\n",
       "    'description': None},\n",
       "   {'id': 49379259,\n",
       "    'node_id': 'MDU6TGFiZWw0OTM3OTI1OQ==',\n",
       "    'url': 'https://api.github.com/repos/pandas-dev/pandas/labels/IO%20JSON',\n",
       "    'name': 'IO JSON',\n",
       "    'color': '207de5',\n",
       "    'default': False,\n",
       "    'description': 'read_json, to_json, json_normalize'}],\n",
       "  'state': 'open',\n",
       "  'locked': False,\n",
       "  'assignee': None,\n",
       "  'assignees': [],\n",
       "  'milestone': None,\n",
       "  'comments': 0,\n",
       "  'created_at': '2020-08-20T21:10:35Z',\n",
       "  'updated_at': '2020-08-23T01:18:57Z',\n",
       "  'closed_at': None,\n",
       "  'author_association': 'NONE',\n",
       "  'active_lock_reason': None,\n",
       "  'pull_request': {'url': 'https://api.github.com/repos/pandas-dev/pandas/pulls/35832',\n",
       "   'html_url': 'https://github.com/pandas-dev/pandas/pull/35832',\n",
       "   'diff_url': 'https://github.com/pandas-dev/pandas/pull/35832.diff',\n",
       "   'patch_url': 'https://github.com/pandas-dev/pandas/pull/35832.patch'},\n",
       "  'body': '**Description**: Adding support to append mode for `to_json` when \\'orient\\' is `records` and \\'lines\\' is `True`\\r\\n\\r\\n**Motivation**: [jsonlines](http://jsonlines.org/) is a format that is gaining some space (e.g. [Cloud Storage](https://cloud.google.com/bigquery/docs/loading-data-cloud-storage-json)). In pandas It\\'s achieved using `to_json` with `orient=\\'records\\'` and `lines=True`. But `to_json` doesn\\'t have the option to use mode=\\'a\\' to append to a file, this PR aims to provide a simple append mode for jsonlines using pandas.\\r\\n\\r\\n---\\r\\n\\r\\n- [X] closes #35849\\r\\n- [X] tests added / passed\\r\\n- [X] passes `black pandas`\\r\\n- [X] passes `git diff upstream/master -u -- \"*.py\" | flake8 --diff`\\r\\n- [ ] whatsnew entry\\r\\n',\n",
       "  'performed_via_github_app': None},\n",
       " {'url': 'https://api.github.com/repos/pandas-dev/pandas/issues/35831',\n",
       "  'repository_url': 'https://api.github.com/repos/pandas-dev/pandas',\n",
       "  'labels_url': 'https://api.github.com/repos/pandas-dev/pandas/issues/35831/labels{/name}',\n",
       "  'comments_url': 'https://api.github.com/repos/pandas-dev/pandas/issues/35831/comments',\n",
       "  'events_url': 'https://api.github.com/repos/pandas-dev/pandas/issues/35831/events',\n",
       "  'html_url': 'https://github.com/pandas-dev/pandas/issues/35831',\n",
       "  'id': 683084189,\n",
       "  'node_id': 'MDU6SXNzdWU2ODMwODQxODk=',\n",
       "  'number': 35831,\n",
       "  'title': 'RLS: 1.1.2',\n",
       "  'user': {'login': 'simonjayhawkins',\n",
       "   'id': 13159005,\n",
       "   'node_id': 'MDQ6VXNlcjEzMTU5MDA1',\n",
       "   'avatar_url': 'https://avatars0.githubusercontent.com/u/13159005?v=4',\n",
       "   'gravatar_id': '',\n",
       "   'url': 'https://api.github.com/users/simonjayhawkins',\n",
       "   'html_url': 'https://github.com/simonjayhawkins',\n",
       "   'followers_url': 'https://api.github.com/users/simonjayhawkins/followers',\n",
       "   'following_url': 'https://api.github.com/users/simonjayhawkins/following{/other_user}',\n",
       "   'gists_url': 'https://api.github.com/users/simonjayhawkins/gists{/gist_id}',\n",
       "   'starred_url': 'https://api.github.com/users/simonjayhawkins/starred{/owner}{/repo}',\n",
       "   'subscriptions_url': 'https://api.github.com/users/simonjayhawkins/subscriptions',\n",
       "   'organizations_url': 'https://api.github.com/users/simonjayhawkins/orgs',\n",
       "   'repos_url': 'https://api.github.com/users/simonjayhawkins/repos',\n",
       "   'events_url': 'https://api.github.com/users/simonjayhawkins/events{/privacy}',\n",
       "   'received_events_url': 'https://api.github.com/users/simonjayhawkins/received_events',\n",
       "   'type': 'User',\n",
       "   'site_admin': False},\n",
       "  'labels': [{'id': 131473665,\n",
       "    'node_id': 'MDU6TGFiZWwxMzE0NzM2NjU=',\n",
       "    'url': 'https://api.github.com/repos/pandas-dev/pandas/labels/Release',\n",
       "    'name': 'Release',\n",
       "    'color': '006b75',\n",
       "    'default': False,\n",
       "    'description': None}],\n",
       "  'state': 'open',\n",
       "  'locked': False,\n",
       "  'assignee': None,\n",
       "  'assignees': [],\n",
       "  'milestone': {'url': 'https://api.github.com/repos/pandas-dev/pandas/milestones/76',\n",
       "   'html_url': 'https://github.com/pandas-dev/pandas/milestone/76',\n",
       "   'labels_url': 'https://api.github.com/repos/pandas-dev/pandas/milestones/76/labels',\n",
       "   'id': 5781056,\n",
       "   'node_id': 'MDk6TWlsZXN0b25lNTc4MTA1Ng==',\n",
       "   'number': 76,\n",
       "   'title': '1.1.2',\n",
       "   'description': 'on-merge: backport to 1.1.x',\n",
       "   'creator': {'login': 'simonjayhawkins',\n",
       "    'id': 13159005,\n",
       "    'node_id': 'MDQ6VXNlcjEzMTU5MDA1',\n",
       "    'avatar_url': 'https://avatars0.githubusercontent.com/u/13159005?v=4',\n",
       "    'gravatar_id': '',\n",
       "    'url': 'https://api.github.com/users/simonjayhawkins',\n",
       "    'html_url': 'https://github.com/simonjayhawkins',\n",
       "    'followers_url': 'https://api.github.com/users/simonjayhawkins/followers',\n",
       "    'following_url': 'https://api.github.com/users/simonjayhawkins/following{/other_user}',\n",
       "    'gists_url': 'https://api.github.com/users/simonjayhawkins/gists{/gist_id}',\n",
       "    'starred_url': 'https://api.github.com/users/simonjayhawkins/starred{/owner}{/repo}',\n",
       "    'subscriptions_url': 'https://api.github.com/users/simonjayhawkins/subscriptions',\n",
       "    'organizations_url': 'https://api.github.com/users/simonjayhawkins/orgs',\n",
       "    'repos_url': 'https://api.github.com/users/simonjayhawkins/repos',\n",
       "    'events_url': 'https://api.github.com/users/simonjayhawkins/events{/privacy}',\n",
       "    'received_events_url': 'https://api.github.com/users/simonjayhawkins/received_events',\n",
       "    'type': 'User',\n",
       "    'site_admin': False},\n",
       "   'open_issues': 27,\n",
       "   'closed_issues': 13,\n",
       "   'state': 'open',\n",
       "   'created_at': '2020-08-17T19:11:56Z',\n",
       "   'updated_at': '2020-08-25T11:55:18Z',\n",
       "   'due_on': '2020-09-06T07:00:00Z',\n",
       "   'closed_at': None},\n",
       "  'comments': 0,\n",
       "  'created_at': '2020-08-20T20:43:50Z',\n",
       "  'updated_at': '2020-08-20T20:43:50Z',\n",
       "  'closed_at': None,\n",
       "  'author_association': 'MEMBER',\n",
       "  'active_lock_reason': None,\n",
       "  'body': \"Tracking issue for the 1.1.2 release.\\r\\n\\r\\nhttps://github.com/pandas-dev/pandas/milestone/76\\r\\n\\r\\nPlease do not remove/change milestones from these issues without a note explaining the reasoning (changing milestones doesn't trigger notification)\\r\\n\\r\\nDuring issue triage, regressions from 1.0.5 or 1.1.0  to 1.1.0 or 1.1.1 should be milestoned 1.1.2 in the first instance.\\r\\n\",\n",
       "  'performed_via_github_app': None},\n",
       " {'url': 'https://api.github.com/repos/pandas-dev/pandas/issues/35830',\n",
       "  'repository_url': 'https://api.github.com/repos/pandas-dev/pandas',\n",
       "  'labels_url': 'https://api.github.com/repos/pandas-dev/pandas/issues/35830/labels{/name}',\n",
       "  'comments_url': 'https://api.github.com/repos/pandas-dev/pandas/issues/35830/comments',\n",
       "  'events_url': 'https://api.github.com/repos/pandas-dev/pandas/issues/35830/events',\n",
       "  'html_url': 'https://github.com/pandas-dev/pandas/issues/35830',\n",
       "  'id': 683082891,\n",
       "  'node_id': 'MDU6SXNzdWU2ODMwODI4OTE=',\n",
       "  'number': 35830,\n",
       "  'title': 'BUG: read_excel with index_col as as datetime',\n",
       "  'user': {'login': 'Macfly',\n",
       "   'id': 1222059,\n",
       "   'node_id': 'MDQ6VXNlcjEyMjIwNTk=',\n",
       "   'avatar_url': 'https://avatars3.githubusercontent.com/u/1222059?v=4',\n",
       "   'gravatar_id': '',\n",
       "   'url': 'https://api.github.com/users/Macfly',\n",
       "   'html_url': 'https://github.com/Macfly',\n",
       "   'followers_url': 'https://api.github.com/users/Macfly/followers',\n",
       "   'following_url': 'https://api.github.com/users/Macfly/following{/other_user}',\n",
       "   'gists_url': 'https://api.github.com/users/Macfly/gists{/gist_id}',\n",
       "   'starred_url': 'https://api.github.com/users/Macfly/starred{/owner}{/repo}',\n",
       "   'subscriptions_url': 'https://api.github.com/users/Macfly/subscriptions',\n",
       "   'organizations_url': 'https://api.github.com/users/Macfly/orgs',\n",
       "   'repos_url': 'https://api.github.com/users/Macfly/repos',\n",
       "   'events_url': 'https://api.github.com/users/Macfly/events{/privacy}',\n",
       "   'received_events_url': 'https://api.github.com/users/Macfly/received_events',\n",
       "   'type': 'User',\n",
       "   'site_admin': False},\n",
       "  'labels': [{'id': 76811,\n",
       "    'node_id': 'MDU6TGFiZWw3NjgxMQ==',\n",
       "    'url': 'https://api.github.com/repos/pandas-dev/pandas/labels/Bug',\n",
       "    'name': 'Bug',\n",
       "    'color': 'e10c02',\n",
       "    'default': False,\n",
       "    'description': None},\n",
       "   {'id': 1954720290,\n",
       "    'node_id': 'MDU6TGFiZWwxOTU0NzIwMjkw',\n",
       "    'url': 'https://api.github.com/repos/pandas-dev/pandas/labels/Needs%20Triage',\n",
       "    'name': 'Needs Triage',\n",
       "    'color': '0052cc',\n",
       "    'default': False,\n",
       "    'description': 'Issue that has not been reviewed by a pandas team member'}],\n",
       "  'state': 'open',\n",
       "  'locked': False,\n",
       "  'assignee': None,\n",
       "  'assignees': [],\n",
       "  'milestone': None,\n",
       "  'comments': 0,\n",
       "  'created_at': '2020-08-20T20:41:21Z',\n",
       "  'updated_at': '2020-08-20T22:08:28Z',\n",
       "  'closed_at': None,\n",
       "  'author_association': 'NONE',\n",
       "  'active_lock_reason': None,\n",
       "  'body': '- [x] I have checked that this issue has not already been reported.\\r\\n\\r\\n- [x] I have confirmed this bug exists on the latest version of pandas.\\r\\n\\r\\n- [ ] (optional) I have confirmed this bug exists on the master branch of pandas.\\r\\n\\r\\n---\\r\\n\\r\\n**Note**: Please read [this guide](https://matthewrocklin.com/blog/work/2018/02/28/minimal-bug-reports) detailing how to provide the necessary information for us to reproduce your bug.\\r\\n\\r\\n#### Code Sample, a copy-pastable example\\r\\ndown load this file \\r\\n[bug.xlsx](https://github.com/pandas-dev/pandas/files/5105345/bug.xlsx)\\r\\n\\r\\nor create an excel file with the follwoing:\\r\\n\\r\\ncol1 | 8/21/2020  12:00:00 AM\\r\\n-- | --\\r\\nvalue | 10.1\\r\\n\\r\\n\\r\\n\\r\\nthen run the following code\\r\\n\\r\\n```python\\r\\n    import pandas as pd\\r\\n    import datetime as dt\\r\\n\\r\\n    df = pd.read_excel(\"bug.xlsx\", index_col=0)\\r\\n    toto = df[dt.date(2020, 8, 21)]\\r\\n\\r\\n```\\r\\n\\r\\n#### Problem description\\r\\nI have this error on 1.1.0 and 1.1.1:\\r\\n```python\\r\\n  File \"C:/Users/snoof/PycharmProjects/palms_db_script/palms_db.py\", line 58, in <module>\\r\\n    toto = df[dt.date(2020, 8, 21)]\\r\\n  File \"C:\\\\Users\\\\snoof\\\\PycharmProjects\\\\palms_db_script\\\\venv\\\\lib\\\\site-packages\\\\pandas\\\\core\\\\frame.py\", line 2899, in __getitem__\\r\\n    indexer = self.columns.get_loc(key)\\r\\n  File \"C:\\\\Users\\\\snoof\\\\PycharmProjects\\\\palms_db_script\\\\venv\\\\lib\\\\site-packages\\\\pandas\\\\core\\\\indexes\\\\datetimes.py\", line 622, in get_loc\\r\\n    raise KeyError(key)\\r\\nKeyError: datetime.date(2020, 8, 21)\\r\\n```\\r\\n\\r\\n#### Expected Output\\r\\n\\r\\nno error, with pandas 1.0.5, it finds the element.\\r\\n\\r\\n#### Output of ``pd.show_versions()``\\r\\n\\r\\n<details>\\r\\n\\r\\nINSTALLED VERSIONS\\r\\n------------------\\r\\ncommit           : f2ca0a2665b2d169c97de87b8e778dbed86aea07\\r\\npython           : 3.7.3.final.0\\r\\npython-bits      : 64\\r\\nOS               : Windows\\r\\nOS-release       : 10\\r\\nVersion          : 10.0.19041\\r\\nmachine          : AMD64\\r\\nprocessor        : Intel64 Family 6 Model 94 Stepping 3, GenuineIntel\\r\\nbyteorder        : little\\r\\nLC_ALL           : None\\r\\nLANG             : None\\r\\nLOCALE           : None.None\\r\\npandas           : 1.1.1\\r\\nnumpy            : 1.19.1\\r\\npytz             : 2020.1\\r\\ndateutil         : 2.8.1\\r\\npip              : 20.1.1\\r\\nsetuptools       : 49.1.0\\r\\nCython           : None\\r\\npytest           : None\\r\\nhypothesis       : None\\r\\nsphinx           : None\\r\\nblosc            : None\\r\\nfeather          : None\\r\\nxlsxwriter       : None\\r\\nlxml.etree       : None\\r\\nhtml5lib         : None\\r\\npymysql          : None\\r\\npsycopg2         : None\\r\\njinja2           : None\\r\\nIPython          : None\\r\\npandas_datareader: None\\r\\nbs4              : None\\r\\nbottleneck       : None\\r\\nfsspec           : None\\r\\nfastparquet      : None\\r\\ngcsfs            : None\\r\\nmatplotlib       : None\\r\\nnumexpr          : None\\r\\nodfpy            : None\\r\\nopenpyxl         : None\\r\\npandas_gbq       : None\\r\\npyarrow          : None\\r\\npytables         : None\\r\\npyxlsb           : None\\r\\ns3fs             : None\\r\\nscipy            : None\\r\\nsqlalchemy       : None\\r\\ntables           : None\\r\\ntabulate         : None\\r\\nxarray           : None\\r\\nxlrd             : 1.2.0\\r\\nxlwt             : None\\r\\nnumba            : Non\\r\\n\\r\\n\\r\\n</details>\\r\\n',\n",
       "  'performed_via_github_app': None}]"
      ]
     },
     "execution_count": 132,
     "metadata": {},
     "output_type": "execute_result"
    }
   ],
   "source": [
    "data"
   ]
  },
  {
   "cell_type": "code",
   "execution_count": 135,
   "metadata": {},
   "outputs": [],
   "source": [
    "git_data_df=pd.DataFrame(data)"
   ]
  },
  {
   "cell_type": "code",
   "execution_count": 136,
   "metadata": {},
   "outputs": [
    {
     "data": {
      "text/plain": [
       "{'url': 'https://api.github.com/repos/pandas-dev/pandas/issues/35891',\n",
       " 'repository_url': 'https://api.github.com/repos/pandas-dev/pandas',\n",
       " 'labels_url': 'https://api.github.com/repos/pandas-dev/pandas/issues/35891/labels{/name}',\n",
       " 'comments_url': 'https://api.github.com/repos/pandas-dev/pandas/issues/35891/comments',\n",
       " 'events_url': 'https://api.github.com/repos/pandas-dev/pandas/issues/35891/events',\n",
       " 'html_url': 'https://github.com/pandas-dev/pandas/issues/35891',\n",
       " 'id': 685404307,\n",
       " 'node_id': 'MDU6SXNzdWU2ODU0MDQzMDc=',\n",
       " 'number': 35891,\n",
       " 'title': 'DOC: df.to_sql `chunksize` seems to be ignored by default.',\n",
       " 'user': {'login': 'gbrova',\n",
       "  'id': 1232895,\n",
       "  'node_id': 'MDQ6VXNlcjEyMzI4OTU=',\n",
       "  'avatar_url': 'https://avatars1.githubusercontent.com/u/1232895?v=4',\n",
       "  'gravatar_id': '',\n",
       "  'url': 'https://api.github.com/users/gbrova',\n",
       "  'html_url': 'https://github.com/gbrova',\n",
       "  'followers_url': 'https://api.github.com/users/gbrova/followers',\n",
       "  'following_url': 'https://api.github.com/users/gbrova/following{/other_user}',\n",
       "  'gists_url': 'https://api.github.com/users/gbrova/gists{/gist_id}',\n",
       "  'starred_url': 'https://api.github.com/users/gbrova/starred{/owner}{/repo}',\n",
       "  'subscriptions_url': 'https://api.github.com/users/gbrova/subscriptions',\n",
       "  'organizations_url': 'https://api.github.com/users/gbrova/orgs',\n",
       "  'repos_url': 'https://api.github.com/users/gbrova/repos',\n",
       "  'events_url': 'https://api.github.com/users/gbrova/events{/privacy}',\n",
       "  'received_events_url': 'https://api.github.com/users/gbrova/received_events',\n",
       "  'type': 'User',\n",
       "  'site_admin': False},\n",
       " 'labels': [{'id': 134699,\n",
       "   'node_id': 'MDU6TGFiZWwxMzQ2OTk=',\n",
       "   'url': 'https://api.github.com/repos/pandas-dev/pandas/labels/Docs',\n",
       "   'name': 'Docs',\n",
       "   'color': '3465A4',\n",
       "   'default': False,\n",
       "   'description': None},\n",
       "  {'id': 1954720290,\n",
       "   'node_id': 'MDU6TGFiZWwxOTU0NzIwMjkw',\n",
       "   'url': 'https://api.github.com/repos/pandas-dev/pandas/labels/Needs%20Triage',\n",
       "   'name': 'Needs Triage',\n",
       "   'color': '0052cc',\n",
       "   'default': False,\n",
       "   'description': 'Issue that has not been reviewed by a pandas team member'}],\n",
       " 'state': 'open',\n",
       " 'locked': False,\n",
       " 'assignee': None,\n",
       " 'assignees': [],\n",
       " 'milestone': None,\n",
       " 'comments': 1,\n",
       " 'created_at': '2020-08-25T11:26:26Z',\n",
       " 'updated_at': '2020-08-25T11:27:25Z',\n",
       " 'closed_at': None,\n",
       " 'author_association': 'NONE',\n",
       " 'active_lock_reason': None,\n",
       " 'body': '#### Location of the documentation\\r\\n\\r\\nhttps://dev.pandas.io/docs/reference/api/pandas.DataFrame.to_sql.html\\r\\n\\r\\n\\r\\n#### Documentation problem\\r\\n\\r\\nDocs for `chunksize` state that \"By default, all rows will be written at once\".  However, this seems to only be true if `method=\"multi\"`, even though `method=None` by default.\\r\\n\\r\\nExperimentally, I notice a substantial speedup if I set `method=\"multi\"` and `chunksize` is either unset or large, but `chunksize` seems to have no effect if I don\\'t set `method`. \\r\\n\\r\\n#### Suggested fix for documentation\\r\\n\\r\\nDocumentation for `chunksize` should also reference the `method` argument. For example. we could revise to: \\r\\n\\r\\n> chunksize : int, optional\\r\\n>  Specify the number of rows in each batch to be written at a time, **if batching is enabled via `method`**. By default, all rows will be written at once.\\r\\n\\r\\nAlso, are there many uses where users should avoid `method=\"multi\"`? If not, would it make sense to change the default?',\n",
       " 'performed_via_github_app': None}"
      ]
     },
     "execution_count": 136,
     "metadata": {},
     "output_type": "execute_result"
    }
   ],
   "source": [
    "data[0]"
   ]
  },
  {
   "cell_type": "code",
   "execution_count": 137,
   "metadata": {},
   "outputs": [
    {
     "data": {
      "text/html": [
       "<div>\n",
       "<style scoped>\n",
       "    .dataframe tbody tr th:only-of-type {\n",
       "        vertical-align: middle;\n",
       "    }\n",
       "\n",
       "    .dataframe tbody tr th {\n",
       "        vertical-align: top;\n",
       "    }\n",
       "\n",
       "    .dataframe thead th {\n",
       "        text-align: right;\n",
       "    }\n",
       "</style>\n",
       "<table border=\"1\" class=\"dataframe\">\n",
       "  <thead>\n",
       "    <tr style=\"text-align: right;\">\n",
       "      <th></th>\n",
       "      <th>url</th>\n",
       "      <th>repository_url</th>\n",
       "      <th>labels_url</th>\n",
       "      <th>comments_url</th>\n",
       "      <th>events_url</th>\n",
       "      <th>html_url</th>\n",
       "      <th>id</th>\n",
       "      <th>node_id</th>\n",
       "      <th>number</th>\n",
       "      <th>title</th>\n",
       "      <th>...</th>\n",
       "      <th>milestone</th>\n",
       "      <th>comments</th>\n",
       "      <th>created_at</th>\n",
       "      <th>updated_at</th>\n",
       "      <th>closed_at</th>\n",
       "      <th>author_association</th>\n",
       "      <th>active_lock_reason</th>\n",
       "      <th>body</th>\n",
       "      <th>performed_via_github_app</th>\n",
       "      <th>pull_request</th>\n",
       "    </tr>\n",
       "  </thead>\n",
       "  <tbody>\n",
       "    <tr>\n",
       "      <td>0</td>\n",
       "      <td>https://api.github.com/repos/pandas-dev/pandas...</td>\n",
       "      <td>https://api.github.com/repos/pandas-dev/pandas</td>\n",
       "      <td>https://api.github.com/repos/pandas-dev/pandas...</td>\n",
       "      <td>https://api.github.com/repos/pandas-dev/pandas...</td>\n",
       "      <td>https://api.github.com/repos/pandas-dev/pandas...</td>\n",
       "      <td>https://github.com/pandas-dev/pandas/issues/35891</td>\n",
       "      <td>685404307</td>\n",
       "      <td>MDU6SXNzdWU2ODU0MDQzMDc=</td>\n",
       "      <td>35891</td>\n",
       "      <td>DOC: df.to_sql `chunksize` seems to be ignored...</td>\n",
       "      <td>...</td>\n",
       "      <td>None</td>\n",
       "      <td>1</td>\n",
       "      <td>2020-08-25T11:26:26Z</td>\n",
       "      <td>2020-08-25T11:27:25Z</td>\n",
       "      <td>None</td>\n",
       "      <td>NONE</td>\n",
       "      <td>None</td>\n",
       "      <td>#### Location of the documentation\\r\\n\\r\\nhttp...</td>\n",
       "      <td>None</td>\n",
       "      <td>NaN</td>\n",
       "    </tr>\n",
       "    <tr>\n",
       "      <td>1</td>\n",
       "      <td>https://api.github.com/repos/pandas-dev/pandas...</td>\n",
       "      <td>https://api.github.com/repos/pandas-dev/pandas</td>\n",
       "      <td>https://api.github.com/repos/pandas-dev/pandas...</td>\n",
       "      <td>https://api.github.com/repos/pandas-dev/pandas...</td>\n",
       "      <td>https://api.github.com/repos/pandas-dev/pandas...</td>\n",
       "      <td>https://github.com/pandas-dev/pandas/issues/35890</td>\n",
       "      <td>685333577</td>\n",
       "      <td>MDU6SXNzdWU2ODUzMzM1Nzc=</td>\n",
       "      <td>35890</td>\n",
       "      <td>BUG: ValueError: Of the four parameters: start...</td>\n",
       "      <td>...</td>\n",
       "      <td>None</td>\n",
       "      <td>1</td>\n",
       "      <td>2020-08-25T09:39:50Z</td>\n",
       "      <td>2020-08-25T09:44:31Z</td>\n",
       "      <td>None</td>\n",
       "      <td>NONE</td>\n",
       "      <td>None</td>\n",
       "      <td>- [x] I have checked that this issue has not a...</td>\n",
       "      <td>None</td>\n",
       "      <td>NaN</td>\n",
       "    </tr>\n",
       "    <tr>\n",
       "      <td>2</td>\n",
       "      <td>https://api.github.com/repos/pandas-dev/pandas...</td>\n",
       "      <td>https://api.github.com/repos/pandas-dev/pandas</td>\n",
       "      <td>https://api.github.com/repos/pandas-dev/pandas...</td>\n",
       "      <td>https://api.github.com/repos/pandas-dev/pandas...</td>\n",
       "      <td>https://api.github.com/repos/pandas-dev/pandas...</td>\n",
       "      <td>https://github.com/pandas-dev/pandas/issues/35889</td>\n",
       "      <td>685309873</td>\n",
       "      <td>MDU6SXNzdWU2ODUzMDk4NzM=</td>\n",
       "      <td>35889</td>\n",
       "      <td>BUG: groupby dropna=False with nan value in gr...</td>\n",
       "      <td>...</td>\n",
       "      <td>None</td>\n",
       "      <td>2</td>\n",
       "      <td>2020-08-25T09:04:32Z</td>\n",
       "      <td>2020-08-25T13:03:57Z</td>\n",
       "      <td>None</td>\n",
       "      <td>NONE</td>\n",
       "      <td>None</td>\n",
       "      <td>- [X] I have checked that this issue has not a...</td>\n",
       "      <td>None</td>\n",
       "      <td>NaN</td>\n",
       "    </tr>\n",
       "    <tr>\n",
       "      <td>3</td>\n",
       "      <td>https://api.github.com/repos/pandas-dev/pandas...</td>\n",
       "      <td>https://api.github.com/repos/pandas-dev/pandas</td>\n",
       "      <td>https://api.github.com/repos/pandas-dev/pandas...</td>\n",
       "      <td>https://api.github.com/repos/pandas-dev/pandas...</td>\n",
       "      <td>https://api.github.com/repos/pandas-dev/pandas...</td>\n",
       "      <td>https://github.com/pandas-dev/pandas/issues/35888</td>\n",
       "      <td>685251593</td>\n",
       "      <td>MDU6SXNzdWU2ODUyNTE1OTM=</td>\n",
       "      <td>35888</td>\n",
       "      <td>BUG: pd.to_datetime() throws with Null-like ar...</td>\n",
       "      <td>...</td>\n",
       "      <td>None</td>\n",
       "      <td>0</td>\n",
       "      <td>2020-08-25T07:37:44Z</td>\n",
       "      <td>2020-08-25T07:37:44Z</td>\n",
       "      <td>None</td>\n",
       "      <td>NONE</td>\n",
       "      <td>None</td>\n",
       "      <td>- [x] I have checked that this issue has not a...</td>\n",
       "      <td>None</td>\n",
       "      <td>NaN</td>\n",
       "    </tr>\n",
       "    <tr>\n",
       "      <td>4</td>\n",
       "      <td>https://api.github.com/repos/pandas-dev/pandas...</td>\n",
       "      <td>https://api.github.com/repos/pandas-dev/pandas</td>\n",
       "      <td>https://api.github.com/repos/pandas-dev/pandas...</td>\n",
       "      <td>https://api.github.com/repos/pandas-dev/pandas...</td>\n",
       "      <td>https://api.github.com/repos/pandas-dev/pandas...</td>\n",
       "      <td>https://github.com/pandas-dev/pandas/issues/35886</td>\n",
       "      <td>685156845</td>\n",
       "      <td>MDU6SXNzdWU2ODUxNTY4NDU=</td>\n",
       "      <td>35886</td>\n",
       "      <td>QST:</td>\n",
       "      <td>...</td>\n",
       "      <td>None</td>\n",
       "      <td>0</td>\n",
       "      <td>2020-08-25T04:18:23Z</td>\n",
       "      <td>2020-08-25T04:18:23Z</td>\n",
       "      <td>None</td>\n",
       "      <td>NONE</td>\n",
       "      <td>None</td>\n",
       "      <td>import pandas as pd\\r\\nimport xlrd\\r\\nbook = x...</td>\n",
       "      <td>None</td>\n",
       "      <td>NaN</td>\n",
       "    </tr>\n",
       "  </tbody>\n",
       "</table>\n",
       "<p>5 rows × 26 columns</p>\n",
       "</div>"
      ],
      "text/plain": [
       "                                                 url  \\\n",
       "0  https://api.github.com/repos/pandas-dev/pandas...   \n",
       "1  https://api.github.com/repos/pandas-dev/pandas...   \n",
       "2  https://api.github.com/repos/pandas-dev/pandas...   \n",
       "3  https://api.github.com/repos/pandas-dev/pandas...   \n",
       "4  https://api.github.com/repos/pandas-dev/pandas...   \n",
       "\n",
       "                                   repository_url  \\\n",
       "0  https://api.github.com/repos/pandas-dev/pandas   \n",
       "1  https://api.github.com/repos/pandas-dev/pandas   \n",
       "2  https://api.github.com/repos/pandas-dev/pandas   \n",
       "3  https://api.github.com/repos/pandas-dev/pandas   \n",
       "4  https://api.github.com/repos/pandas-dev/pandas   \n",
       "\n",
       "                                          labels_url  \\\n",
       "0  https://api.github.com/repos/pandas-dev/pandas...   \n",
       "1  https://api.github.com/repos/pandas-dev/pandas...   \n",
       "2  https://api.github.com/repos/pandas-dev/pandas...   \n",
       "3  https://api.github.com/repos/pandas-dev/pandas...   \n",
       "4  https://api.github.com/repos/pandas-dev/pandas...   \n",
       "\n",
       "                                        comments_url  \\\n",
       "0  https://api.github.com/repos/pandas-dev/pandas...   \n",
       "1  https://api.github.com/repos/pandas-dev/pandas...   \n",
       "2  https://api.github.com/repos/pandas-dev/pandas...   \n",
       "3  https://api.github.com/repos/pandas-dev/pandas...   \n",
       "4  https://api.github.com/repos/pandas-dev/pandas...   \n",
       "\n",
       "                                          events_url  \\\n",
       "0  https://api.github.com/repos/pandas-dev/pandas...   \n",
       "1  https://api.github.com/repos/pandas-dev/pandas...   \n",
       "2  https://api.github.com/repos/pandas-dev/pandas...   \n",
       "3  https://api.github.com/repos/pandas-dev/pandas...   \n",
       "4  https://api.github.com/repos/pandas-dev/pandas...   \n",
       "\n",
       "                                            html_url         id  \\\n",
       "0  https://github.com/pandas-dev/pandas/issues/35891  685404307   \n",
       "1  https://github.com/pandas-dev/pandas/issues/35890  685333577   \n",
       "2  https://github.com/pandas-dev/pandas/issues/35889  685309873   \n",
       "3  https://github.com/pandas-dev/pandas/issues/35888  685251593   \n",
       "4  https://github.com/pandas-dev/pandas/issues/35886  685156845   \n",
       "\n",
       "                    node_id  number  \\\n",
       "0  MDU6SXNzdWU2ODU0MDQzMDc=   35891   \n",
       "1  MDU6SXNzdWU2ODUzMzM1Nzc=   35890   \n",
       "2  MDU6SXNzdWU2ODUzMDk4NzM=   35889   \n",
       "3  MDU6SXNzdWU2ODUyNTE1OTM=   35888   \n",
       "4  MDU6SXNzdWU2ODUxNTY4NDU=   35886   \n",
       "\n",
       "                                               title  ... milestone comments  \\\n",
       "0  DOC: df.to_sql `chunksize` seems to be ignored...  ...      None        1   \n",
       "1  BUG: ValueError: Of the four parameters: start...  ...      None        1   \n",
       "2  BUG: groupby dropna=False with nan value in gr...  ...      None        2   \n",
       "3  BUG: pd.to_datetime() throws with Null-like ar...  ...      None        0   \n",
       "4                                               QST:  ...      None        0   \n",
       "\n",
       "             created_at            updated_at closed_at author_association  \\\n",
       "0  2020-08-25T11:26:26Z  2020-08-25T11:27:25Z      None               NONE   \n",
       "1  2020-08-25T09:39:50Z  2020-08-25T09:44:31Z      None               NONE   \n",
       "2  2020-08-25T09:04:32Z  2020-08-25T13:03:57Z      None               NONE   \n",
       "3  2020-08-25T07:37:44Z  2020-08-25T07:37:44Z      None               NONE   \n",
       "4  2020-08-25T04:18:23Z  2020-08-25T04:18:23Z      None               NONE   \n",
       "\n",
       "  active_lock_reason                                               body  \\\n",
       "0               None  #### Location of the documentation\\r\\n\\r\\nhttp...   \n",
       "1               None  - [x] I have checked that this issue has not a...   \n",
       "2               None  - [X] I have checked that this issue has not a...   \n",
       "3               None  - [x] I have checked that this issue has not a...   \n",
       "4               None  import pandas as pd\\r\\nimport xlrd\\r\\nbook = x...   \n",
       "\n",
       "  performed_via_github_app pull_request  \n",
       "0                     None          NaN  \n",
       "1                     None          NaN  \n",
       "2                     None          NaN  \n",
       "3                     None          NaN  \n",
       "4                     None          NaN  \n",
       "\n",
       "[5 rows x 26 columns]"
      ]
     },
     "execution_count": 137,
     "metadata": {},
     "output_type": "execute_result"
    }
   ],
   "source": [
    "git_data_df.head()"
   ]
  },
  {
   "cell_type": "markdown",
   "metadata": {},
   "source": [
    "# Working with databases"
   ]
  },
  {
   "cell_type": "code",
   "execution_count": 139,
   "metadata": {},
   "outputs": [],
   "source": [
    "import sqlite3\n",
    "query=\"\"\"\n",
    "        CREATE TABLE test(a VARCHAR(20), b VARCHAR(20), c REAL, d INTEGER);\n",
    "\"\"\"\n",
    "con=sqlite3.connect(\"mydata.sqlite\")\n",
    "con.execute(query)\n",
    "con.commit()"
   ]
  },
  {
   "cell_type": "code",
   "execution_count": 158,
   "metadata": {},
   "outputs": [],
   "source": [
    "#inserting data in datatable name test\n",
    "data=[('a','b',1,2),\n",
    "     ('c','d','NaN',4),\n",
    "      ('e','f',5,6)\n",
    "     ]\n",
    "dt_insert=\"\"\"\n",
    "insert into test values(?,?,?,?)\n",
    "\"\"\"\n",
    "con.executemany(dt_insert,data)\n",
    "con.commit()"
   ]
  },
  {
   "cell_type": "code",
   "execution_count": 159,
   "metadata": {},
   "outputs": [
    {
     "name": "stdout",
     "output_type": "stream",
     "text": [
      "[('a', 'b', 1.0, 2), ('c', 'd', 3.0, 4), ('e', 'f', 5.0, 6), ('a', 'b', 1.0, 2), ('a', 'b', 1.0, 2), ('c', 'd', 'NaN', 4), ('e', 'f', 5.0, 6)] <class 'list'>\n",
      "<sqlite3.Cursor object at 0x00000246FD523110>\n"
     ]
    }
   ],
   "source": [
    "#extracting or fectching data from table\n",
    "cursor=con.execute(\"select * from test\")\n",
    "row=cursor.fetchall()\n",
    "print(row,type(row))\n",
    "print(cursor)"
   ]
  },
  {
   "cell_type": "code",
   "execution_count": 160,
   "metadata": {},
   "outputs": [],
   "source": [
    "#converting sql data into data frame\n",
    "data_df=pd.DataFrame(row, columns=[x[0] for x in cursor.description] )"
   ]
  },
  {
   "cell_type": "code",
   "execution_count": 161,
   "metadata": {},
   "outputs": [
    {
     "data": {
      "text/html": [
       "<div>\n",
       "<style scoped>\n",
       "    .dataframe tbody tr th:only-of-type {\n",
       "        vertical-align: middle;\n",
       "    }\n",
       "\n",
       "    .dataframe tbody tr th {\n",
       "        vertical-align: top;\n",
       "    }\n",
       "\n",
       "    .dataframe thead th {\n",
       "        text-align: right;\n",
       "    }\n",
       "</style>\n",
       "<table border=\"1\" class=\"dataframe\">\n",
       "  <thead>\n",
       "    <tr style=\"text-align: right;\">\n",
       "      <th></th>\n",
       "      <th>a</th>\n",
       "      <th>b</th>\n",
       "      <th>c</th>\n",
       "      <th>d</th>\n",
       "    </tr>\n",
       "  </thead>\n",
       "  <tbody>\n",
       "    <tr>\n",
       "      <td>0</td>\n",
       "      <td>a</td>\n",
       "      <td>b</td>\n",
       "      <td>1</td>\n",
       "      <td>2</td>\n",
       "    </tr>\n",
       "    <tr>\n",
       "      <td>1</td>\n",
       "      <td>c</td>\n",
       "      <td>d</td>\n",
       "      <td>3</td>\n",
       "      <td>4</td>\n",
       "    </tr>\n",
       "    <tr>\n",
       "      <td>2</td>\n",
       "      <td>e</td>\n",
       "      <td>f</td>\n",
       "      <td>5</td>\n",
       "      <td>6</td>\n",
       "    </tr>\n",
       "    <tr>\n",
       "      <td>3</td>\n",
       "      <td>a</td>\n",
       "      <td>b</td>\n",
       "      <td>1</td>\n",
       "      <td>2</td>\n",
       "    </tr>\n",
       "    <tr>\n",
       "      <td>4</td>\n",
       "      <td>a</td>\n",
       "      <td>b</td>\n",
       "      <td>1</td>\n",
       "      <td>2</td>\n",
       "    </tr>\n",
       "    <tr>\n",
       "      <td>5</td>\n",
       "      <td>c</td>\n",
       "      <td>d</td>\n",
       "      <td>NaN</td>\n",
       "      <td>4</td>\n",
       "    </tr>\n",
       "    <tr>\n",
       "      <td>6</td>\n",
       "      <td>e</td>\n",
       "      <td>f</td>\n",
       "      <td>5</td>\n",
       "      <td>6</td>\n",
       "    </tr>\n",
       "  </tbody>\n",
       "</table>\n",
       "</div>"
      ],
      "text/plain": [
       "   a  b    c  d\n",
       "0  a  b    1  2\n",
       "1  c  d    3  4\n",
       "2  e  f    5  6\n",
       "3  a  b    1  2\n",
       "4  a  b    1  2\n",
       "5  c  d  NaN  4\n",
       "6  e  f    5  6"
      ]
     },
     "execution_count": 161,
     "metadata": {},
     "output_type": "execute_result"
    }
   ],
   "source": [
    "data_df"
   ]
  },
  {
   "cell_type": "code",
   "execution_count": 162,
   "metadata": {},
   "outputs": [],
   "source": [
    "import sqlalchemy as sqla"
   ]
  },
  {
   "cell_type": "code",
   "execution_count": 163,
   "metadata": {},
   "outputs": [
    {
     "data": {
      "text/html": [
       "<div>\n",
       "<style scoped>\n",
       "    .dataframe tbody tr th:only-of-type {\n",
       "        vertical-align: middle;\n",
       "    }\n",
       "\n",
       "    .dataframe tbody tr th {\n",
       "        vertical-align: top;\n",
       "    }\n",
       "\n",
       "    .dataframe thead th {\n",
       "        text-align: right;\n",
       "    }\n",
       "</style>\n",
       "<table border=\"1\" class=\"dataframe\">\n",
       "  <thead>\n",
       "    <tr style=\"text-align: right;\">\n",
       "      <th></th>\n",
       "      <th>a</th>\n",
       "      <th>b</th>\n",
       "      <th>c</th>\n",
       "      <th>d</th>\n",
       "    </tr>\n",
       "  </thead>\n",
       "  <tbody>\n",
       "    <tr>\n",
       "      <td>0</td>\n",
       "      <td>a</td>\n",
       "      <td>b</td>\n",
       "      <td>1</td>\n",
       "      <td>2</td>\n",
       "    </tr>\n",
       "    <tr>\n",
       "      <td>1</td>\n",
       "      <td>c</td>\n",
       "      <td>d</td>\n",
       "      <td>3</td>\n",
       "      <td>4</td>\n",
       "    </tr>\n",
       "    <tr>\n",
       "      <td>2</td>\n",
       "      <td>e</td>\n",
       "      <td>f</td>\n",
       "      <td>5</td>\n",
       "      <td>6</td>\n",
       "    </tr>\n",
       "    <tr>\n",
       "      <td>3</td>\n",
       "      <td>a</td>\n",
       "      <td>b</td>\n",
       "      <td>1</td>\n",
       "      <td>2</td>\n",
       "    </tr>\n",
       "    <tr>\n",
       "      <td>4</td>\n",
       "      <td>a</td>\n",
       "      <td>b</td>\n",
       "      <td>1</td>\n",
       "      <td>2</td>\n",
       "    </tr>\n",
       "    <tr>\n",
       "      <td>5</td>\n",
       "      <td>c</td>\n",
       "      <td>d</td>\n",
       "      <td>NaN</td>\n",
       "      <td>4</td>\n",
       "    </tr>\n",
       "    <tr>\n",
       "      <td>6</td>\n",
       "      <td>e</td>\n",
       "      <td>f</td>\n",
       "      <td>5</td>\n",
       "      <td>6</td>\n",
       "    </tr>\n",
       "  </tbody>\n",
       "</table>\n",
       "</div>"
      ],
      "text/plain": [
       "   a  b    c  d\n",
       "0  a  b    1  2\n",
       "1  c  d    3  4\n",
       "2  e  f    5  6\n",
       "3  a  b    1  2\n",
       "4  a  b    1  2\n",
       "5  c  d  NaN  4\n",
       "6  e  f    5  6"
      ]
     },
     "execution_count": 163,
     "metadata": {},
     "output_type": "execute_result"
    }
   ],
   "source": [
    "db=sqla.create_engine('sqlite:///mydata.sqlite')\n",
    "pd.read_sql(\"select * from test\",db)"
   ]
  },
  {
   "cell_type": "code",
   "execution_count": 165,
   "metadata": {},
   "outputs": [],
   "source": [
    "from numpy import nan as NA"
   ]
  },
  {
   "cell_type": "code",
   "execution_count": 176,
   "metadata": {},
   "outputs": [],
   "source": [
    "data=pd.DataFrame([[1,6.5,4],[1,NA,NA],[NA,NA,NA],[NA,6.5,3]],columns=list('abc'))"
   ]
  },
  {
   "cell_type": "code",
   "execution_count": 177,
   "metadata": {},
   "outputs": [
    {
     "data": {
      "text/html": [
       "<div>\n",
       "<style scoped>\n",
       "    .dataframe tbody tr th:only-of-type {\n",
       "        vertical-align: middle;\n",
       "    }\n",
       "\n",
       "    .dataframe tbody tr th {\n",
       "        vertical-align: top;\n",
       "    }\n",
       "\n",
       "    .dataframe thead th {\n",
       "        text-align: right;\n",
       "    }\n",
       "</style>\n",
       "<table border=\"1\" class=\"dataframe\">\n",
       "  <thead>\n",
       "    <tr style=\"text-align: right;\">\n",
       "      <th></th>\n",
       "      <th>a</th>\n",
       "      <th>b</th>\n",
       "      <th>c</th>\n",
       "    </tr>\n",
       "  </thead>\n",
       "  <tbody>\n",
       "    <tr>\n",
       "      <td>0</td>\n",
       "      <td>1.0</td>\n",
       "      <td>6.5</td>\n",
       "      <td>4.0</td>\n",
       "    </tr>\n",
       "    <tr>\n",
       "      <td>1</td>\n",
       "      <td>1.0</td>\n",
       "      <td>NaN</td>\n",
       "      <td>NaN</td>\n",
       "    </tr>\n",
       "    <tr>\n",
       "      <td>2</td>\n",
       "      <td>NaN</td>\n",
       "      <td>NaN</td>\n",
       "      <td>NaN</td>\n",
       "    </tr>\n",
       "    <tr>\n",
       "      <td>3</td>\n",
       "      <td>NaN</td>\n",
       "      <td>6.5</td>\n",
       "      <td>3.0</td>\n",
       "    </tr>\n",
       "  </tbody>\n",
       "</table>\n",
       "</div>"
      ],
      "text/plain": [
       "     a    b    c\n",
       "0  1.0  6.5  4.0\n",
       "1  1.0  NaN  NaN\n",
       "2  NaN  NaN  NaN\n",
       "3  NaN  6.5  3.0"
      ]
     },
     "execution_count": 177,
     "metadata": {},
     "output_type": "execute_result"
    }
   ],
   "source": [
    "data"
   ]
  },
  {
   "cell_type": "code",
   "execution_count": 178,
   "metadata": {},
   "outputs": [],
   "source": [
    "cleaned=data.dropna()# Drop all the rows and columns contain even Single NaN"
   ]
  },
  {
   "cell_type": "code",
   "execution_count": 179,
   "metadata": {},
   "outputs": [
    {
     "data": {
      "text/html": [
       "<div>\n",
       "<style scoped>\n",
       "    .dataframe tbody tr th:only-of-type {\n",
       "        vertical-align: middle;\n",
       "    }\n",
       "\n",
       "    .dataframe tbody tr th {\n",
       "        vertical-align: top;\n",
       "    }\n",
       "\n",
       "    .dataframe thead th {\n",
       "        text-align: right;\n",
       "    }\n",
       "</style>\n",
       "<table border=\"1\" class=\"dataframe\">\n",
       "  <thead>\n",
       "    <tr style=\"text-align: right;\">\n",
       "      <th></th>\n",
       "      <th>a</th>\n",
       "      <th>b</th>\n",
       "      <th>c</th>\n",
       "    </tr>\n",
       "  </thead>\n",
       "  <tbody>\n",
       "    <tr>\n",
       "      <td>0</td>\n",
       "      <td>1.0</td>\n",
       "      <td>6.5</td>\n",
       "      <td>4.0</td>\n",
       "    </tr>\n",
       "  </tbody>\n",
       "</table>\n",
       "</div>"
      ],
      "text/plain": [
       "     a    b    c\n",
       "0  1.0  6.5  4.0"
      ]
     },
     "execution_count": 179,
     "metadata": {},
     "output_type": "execute_result"
    }
   ],
   "source": [
    "cleaned\n"
   ]
  },
  {
   "cell_type": "code",
   "execution_count": 180,
   "metadata": {},
   "outputs": [
    {
     "data": {
      "text/html": [
       "<div>\n",
       "<style scoped>\n",
       "    .dataframe tbody tr th:only-of-type {\n",
       "        vertical-align: middle;\n",
       "    }\n",
       "\n",
       "    .dataframe tbody tr th {\n",
       "        vertical-align: top;\n",
       "    }\n",
       "\n",
       "    .dataframe thead th {\n",
       "        text-align: right;\n",
       "    }\n",
       "</style>\n",
       "<table border=\"1\" class=\"dataframe\">\n",
       "  <thead>\n",
       "    <tr style=\"text-align: right;\">\n",
       "      <th></th>\n",
       "      <th>a</th>\n",
       "      <th>b</th>\n",
       "      <th>c</th>\n",
       "    </tr>\n",
       "  </thead>\n",
       "  <tbody>\n",
       "    <tr>\n",
       "      <td>0</td>\n",
       "      <td>1.0</td>\n",
       "      <td>6.5</td>\n",
       "      <td>4.0</td>\n",
       "    </tr>\n",
       "    <tr>\n",
       "      <td>1</td>\n",
       "      <td>1.0</td>\n",
       "      <td>NaN</td>\n",
       "      <td>NaN</td>\n",
       "    </tr>\n",
       "    <tr>\n",
       "      <td>3</td>\n",
       "      <td>NaN</td>\n",
       "      <td>6.5</td>\n",
       "      <td>3.0</td>\n",
       "    </tr>\n",
       "  </tbody>\n",
       "</table>\n",
       "</div>"
      ],
      "text/plain": [
       "     a    b    c\n",
       "0  1.0  6.5  4.0\n",
       "1  1.0  NaN  NaN\n",
       "3  NaN  6.5  3.0"
      ]
     },
     "execution_count": 180,
     "metadata": {},
     "output_type": "execute_result"
    }
   ],
   "source": [
    "data.dropna(how='all')"
   ]
  },
  {
   "cell_type": "code",
   "execution_count": 181,
   "metadata": {},
   "outputs": [],
   "source": [
    "data1=pd.DataFrame([[1,6.5,NA],[1,NA,NA],[NA,NA,NA],[NA,6.5,NA]],columns=list('abc'))"
   ]
  },
  {
   "cell_type": "code",
   "execution_count": 182,
   "metadata": {},
   "outputs": [
    {
     "data": {
      "text/html": [
       "<div>\n",
       "<style scoped>\n",
       "    .dataframe tbody tr th:only-of-type {\n",
       "        vertical-align: middle;\n",
       "    }\n",
       "\n",
       "    .dataframe tbody tr th {\n",
       "        vertical-align: top;\n",
       "    }\n",
       "\n",
       "    .dataframe thead th {\n",
       "        text-align: right;\n",
       "    }\n",
       "</style>\n",
       "<table border=\"1\" class=\"dataframe\">\n",
       "  <thead>\n",
       "    <tr style=\"text-align: right;\">\n",
       "      <th></th>\n",
       "      <th>a</th>\n",
       "      <th>b</th>\n",
       "    </tr>\n",
       "  </thead>\n",
       "  <tbody>\n",
       "    <tr>\n",
       "      <td>0</td>\n",
       "      <td>1.0</td>\n",
       "      <td>6.5</td>\n",
       "    </tr>\n",
       "    <tr>\n",
       "      <td>1</td>\n",
       "      <td>1.0</td>\n",
       "      <td>NaN</td>\n",
       "    </tr>\n",
       "    <tr>\n",
       "      <td>2</td>\n",
       "      <td>NaN</td>\n",
       "      <td>NaN</td>\n",
       "    </tr>\n",
       "    <tr>\n",
       "      <td>3</td>\n",
       "      <td>NaN</td>\n",
       "      <td>6.5</td>\n",
       "    </tr>\n",
       "  </tbody>\n",
       "</table>\n",
       "</div>"
      ],
      "text/plain": [
       "     a    b\n",
       "0  1.0  6.5\n",
       "1  1.0  NaN\n",
       "2  NaN  NaN\n",
       "3  NaN  6.5"
      ]
     },
     "execution_count": 182,
     "metadata": {},
     "output_type": "execute_result"
    }
   ],
   "source": [
    "data1.dropna(axis=1,how=\"all\")"
   ]
  },
  {
   "cell_type": "markdown",
   "metadata": {},
   "source": [
    "# Filling missing values"
   ]
  },
  {
   "cell_type": "code",
   "execution_count": 200,
   "metadata": {},
   "outputs": [
    {
     "data": {
      "text/html": [
       "<div>\n",
       "<style scoped>\n",
       "    .dataframe tbody tr th:only-of-type {\n",
       "        vertical-align: middle;\n",
       "    }\n",
       "\n",
       "    .dataframe tbody tr th {\n",
       "        vertical-align: top;\n",
       "    }\n",
       "\n",
       "    .dataframe thead th {\n",
       "        text-align: right;\n",
       "    }\n",
       "</style>\n",
       "<table border=\"1\" class=\"dataframe\">\n",
       "  <thead>\n",
       "    <tr style=\"text-align: right;\">\n",
       "      <th></th>\n",
       "      <th>a</th>\n",
       "      <th>b</th>\n",
       "      <th>c</th>\n",
       "    </tr>\n",
       "  </thead>\n",
       "  <tbody>\n",
       "    <tr>\n",
       "      <td>0</td>\n",
       "      <td>-1.179997</td>\n",
       "      <td>-1.507545</td>\n",
       "      <td>-0.062395</td>\n",
       "    </tr>\n",
       "    <tr>\n",
       "      <td>1</td>\n",
       "      <td>-0.286060</td>\n",
       "      <td>-1.046075</td>\n",
       "      <td>0.761594</td>\n",
       "    </tr>\n",
       "    <tr>\n",
       "      <td>2</td>\n",
       "      <td>-0.429862</td>\n",
       "      <td>0.486500</td>\n",
       "      <td>1.061592</td>\n",
       "    </tr>\n",
       "    <tr>\n",
       "      <td>3</td>\n",
       "      <td>-1.547903</td>\n",
       "      <td>1.027672</td>\n",
       "      <td>-0.380136</td>\n",
       "    </tr>\n",
       "    <tr>\n",
       "      <td>4</td>\n",
       "      <td>-2.187828</td>\n",
       "      <td>0.136190</td>\n",
       "      <td>0.271834</td>\n",
       "    </tr>\n",
       "    <tr>\n",
       "      <td>5</td>\n",
       "      <td>-0.587234</td>\n",
       "      <td>1.813163</td>\n",
       "      <td>-0.281087</td>\n",
       "    </tr>\n",
       "    <tr>\n",
       "      <td>6</td>\n",
       "      <td>-0.256605</td>\n",
       "      <td>-0.886150</td>\n",
       "      <td>0.362805</td>\n",
       "    </tr>\n",
       "  </tbody>\n",
       "</table>\n",
       "</div>"
      ],
      "text/plain": [
       "          a         b         c\n",
       "0 -1.179997 -1.507545 -0.062395\n",
       "1 -0.286060 -1.046075  0.761594\n",
       "2 -0.429862  0.486500  1.061592\n",
       "3 -1.547903  1.027672 -0.380136\n",
       "4 -2.187828  0.136190  0.271834\n",
       "5 -0.587234  1.813163 -0.281087\n",
       "6 -0.256605 -0.886150  0.362805"
      ]
     },
     "execution_count": 200,
     "metadata": {},
     "output_type": "execute_result"
    }
   ],
   "source": [
    "from numpy import nan as NA\n",
    "data_df=pd.DataFrame(np.random.randn(7,3),columns=list('abc'))\n",
    "data_df"
   ]
  },
  {
   "cell_type": "code",
   "execution_count": 201,
   "metadata": {},
   "outputs": [
    {
     "data": {
      "text/html": [
       "<div>\n",
       "<style scoped>\n",
       "    .dataframe tbody tr th:only-of-type {\n",
       "        vertical-align: middle;\n",
       "    }\n",
       "\n",
       "    .dataframe tbody tr th {\n",
       "        vertical-align: top;\n",
       "    }\n",
       "\n",
       "    .dataframe thead th {\n",
       "        text-align: right;\n",
       "    }\n",
       "</style>\n",
       "<table border=\"1\" class=\"dataframe\">\n",
       "  <thead>\n",
       "    <tr style=\"text-align: right;\">\n",
       "      <th></th>\n",
       "      <th>a</th>\n",
       "      <th>b</th>\n",
       "      <th>c</th>\n",
       "    </tr>\n",
       "  </thead>\n",
       "  <tbody>\n",
       "    <tr>\n",
       "      <td>0</td>\n",
       "      <td>-1.179997</td>\n",
       "      <td>NaN</td>\n",
       "      <td>NaN</td>\n",
       "    </tr>\n",
       "    <tr>\n",
       "      <td>1</td>\n",
       "      <td>-0.286060</td>\n",
       "      <td>NaN</td>\n",
       "      <td>NaN</td>\n",
       "    </tr>\n",
       "    <tr>\n",
       "      <td>2</td>\n",
       "      <td>-0.429862</td>\n",
       "      <td>NaN</td>\n",
       "      <td>1.061592</td>\n",
       "    </tr>\n",
       "    <tr>\n",
       "      <td>3</td>\n",
       "      <td>-1.547903</td>\n",
       "      <td>NaN</td>\n",
       "      <td>-0.380136</td>\n",
       "    </tr>\n",
       "    <tr>\n",
       "      <td>4</td>\n",
       "      <td>-2.187828</td>\n",
       "      <td>0.136190</td>\n",
       "      <td>0.271834</td>\n",
       "    </tr>\n",
       "    <tr>\n",
       "      <td>5</td>\n",
       "      <td>-0.587234</td>\n",
       "      <td>1.813163</td>\n",
       "      <td>-0.281087</td>\n",
       "    </tr>\n",
       "    <tr>\n",
       "      <td>6</td>\n",
       "      <td>-0.256605</td>\n",
       "      <td>-0.886150</td>\n",
       "      <td>0.362805</td>\n",
       "    </tr>\n",
       "  </tbody>\n",
       "</table>\n",
       "</div>"
      ],
      "text/plain": [
       "          a         b         c\n",
       "0 -1.179997       NaN       NaN\n",
       "1 -0.286060       NaN       NaN\n",
       "2 -0.429862       NaN  1.061592\n",
       "3 -1.547903       NaN -0.380136\n",
       "4 -2.187828  0.136190  0.271834\n",
       "5 -0.587234  1.813163 -0.281087\n",
       "6 -0.256605 -0.886150  0.362805"
      ]
     },
     "execution_count": 201,
     "metadata": {},
     "output_type": "execute_result"
    }
   ],
   "source": [
    "data_df.iloc[:4,1]=NA\n",
    "data_df.iloc[:2,2]=NA\n",
    "data_df"
   ]
  },
  {
   "cell_type": "code",
   "execution_count": 202,
   "metadata": {},
   "outputs": [
    {
     "data": {
      "text/html": [
       "<div>\n",
       "<style scoped>\n",
       "    .dataframe tbody tr th:only-of-type {\n",
       "        vertical-align: middle;\n",
       "    }\n",
       "\n",
       "    .dataframe tbody tr th {\n",
       "        vertical-align: top;\n",
       "    }\n",
       "\n",
       "    .dataframe thead th {\n",
       "        text-align: right;\n",
       "    }\n",
       "</style>\n",
       "<table border=\"1\" class=\"dataframe\">\n",
       "  <thead>\n",
       "    <tr style=\"text-align: right;\">\n",
       "      <th></th>\n",
       "      <th>a</th>\n",
       "      <th>b</th>\n",
       "      <th>c</th>\n",
       "    </tr>\n",
       "  </thead>\n",
       "  <tbody>\n",
       "    <tr>\n",
       "      <td>0</td>\n",
       "      <td>-1.179997</td>\n",
       "      <td>1.500000</td>\n",
       "      <td>1.500000</td>\n",
       "    </tr>\n",
       "    <tr>\n",
       "      <td>1</td>\n",
       "      <td>-0.286060</td>\n",
       "      <td>1.500000</td>\n",
       "      <td>1.500000</td>\n",
       "    </tr>\n",
       "    <tr>\n",
       "      <td>2</td>\n",
       "      <td>-0.429862</td>\n",
       "      <td>1.500000</td>\n",
       "      <td>1.061592</td>\n",
       "    </tr>\n",
       "    <tr>\n",
       "      <td>3</td>\n",
       "      <td>-1.547903</td>\n",
       "      <td>1.500000</td>\n",
       "      <td>-0.380136</td>\n",
       "    </tr>\n",
       "    <tr>\n",
       "      <td>4</td>\n",
       "      <td>-2.187828</td>\n",
       "      <td>0.136190</td>\n",
       "      <td>0.271834</td>\n",
       "    </tr>\n",
       "    <tr>\n",
       "      <td>5</td>\n",
       "      <td>-0.587234</td>\n",
       "      <td>1.813163</td>\n",
       "      <td>-0.281087</td>\n",
       "    </tr>\n",
       "    <tr>\n",
       "      <td>6</td>\n",
       "      <td>-0.256605</td>\n",
       "      <td>-0.886150</td>\n",
       "      <td>0.362805</td>\n",
       "    </tr>\n",
       "  </tbody>\n",
       "</table>\n",
       "</div>"
      ],
      "text/plain": [
       "          a         b         c\n",
       "0 -1.179997  1.500000  1.500000\n",
       "1 -0.286060  1.500000  1.500000\n",
       "2 -0.429862  1.500000  1.061592\n",
       "3 -1.547903  1.500000 -0.380136\n",
       "4 -2.187828  0.136190  0.271834\n",
       "5 -0.587234  1.813163 -0.281087\n",
       "6 -0.256605 -0.886150  0.362805"
      ]
     },
     "execution_count": 202,
     "metadata": {},
     "output_type": "execute_result"
    }
   ],
   "source": [
    "data_df.fillna(1.5)"
   ]
  },
  {
   "cell_type": "code",
   "execution_count": 203,
   "metadata": {},
   "outputs": [
    {
     "data": {
      "text/html": [
       "<div>\n",
       "<style scoped>\n",
       "    .dataframe tbody tr th:only-of-type {\n",
       "        vertical-align: middle;\n",
       "    }\n",
       "\n",
       "    .dataframe tbody tr th {\n",
       "        vertical-align: top;\n",
       "    }\n",
       "\n",
       "    .dataframe thead th {\n",
       "        text-align: right;\n",
       "    }\n",
       "</style>\n",
       "<table border=\"1\" class=\"dataframe\">\n",
       "  <thead>\n",
       "    <tr style=\"text-align: right;\">\n",
       "      <th></th>\n",
       "      <th>a</th>\n",
       "      <th>b</th>\n",
       "      <th>c</th>\n",
       "    </tr>\n",
       "  </thead>\n",
       "  <tbody>\n",
       "    <tr>\n",
       "      <td>0</td>\n",
       "      <td>-1.179997</td>\n",
       "      <td>1.500000</td>\n",
       "      <td>1.000000</td>\n",
       "    </tr>\n",
       "    <tr>\n",
       "      <td>1</td>\n",
       "      <td>-0.286060</td>\n",
       "      <td>1.500000</td>\n",
       "      <td>1.000000</td>\n",
       "    </tr>\n",
       "    <tr>\n",
       "      <td>2</td>\n",
       "      <td>-0.429862</td>\n",
       "      <td>1.500000</td>\n",
       "      <td>1.061592</td>\n",
       "    </tr>\n",
       "    <tr>\n",
       "      <td>3</td>\n",
       "      <td>-1.547903</td>\n",
       "      <td>1.500000</td>\n",
       "      <td>-0.380136</td>\n",
       "    </tr>\n",
       "    <tr>\n",
       "      <td>4</td>\n",
       "      <td>-2.187828</td>\n",
       "      <td>0.136190</td>\n",
       "      <td>0.271834</td>\n",
       "    </tr>\n",
       "    <tr>\n",
       "      <td>5</td>\n",
       "      <td>-0.587234</td>\n",
       "      <td>1.813163</td>\n",
       "      <td>-0.281087</td>\n",
       "    </tr>\n",
       "    <tr>\n",
       "      <td>6</td>\n",
       "      <td>-0.256605</td>\n",
       "      <td>-0.886150</td>\n",
       "      <td>0.362805</td>\n",
       "    </tr>\n",
       "  </tbody>\n",
       "</table>\n",
       "</div>"
      ],
      "text/plain": [
       "          a         b         c\n",
       "0 -1.179997  1.500000  1.000000\n",
       "1 -0.286060  1.500000  1.000000\n",
       "2 -0.429862  1.500000  1.061592\n",
       "3 -1.547903  1.500000 -0.380136\n",
       "4 -2.187828  0.136190  0.271834\n",
       "5 -0.587234  1.813163 -0.281087\n",
       "6 -0.256605 -0.886150  0.362805"
      ]
     },
     "execution_count": 203,
     "metadata": {},
     "output_type": "execute_result"
    }
   ],
   "source": [
    "data_df.fillna({\"b\":1.5,\"c\":1})"
   ]
  },
  {
   "cell_type": "code",
   "execution_count": 204,
   "metadata": {},
   "outputs": [
    {
     "data": {
      "text/html": [
       "<div>\n",
       "<style scoped>\n",
       "    .dataframe tbody tr th:only-of-type {\n",
       "        vertical-align: middle;\n",
       "    }\n",
       "\n",
       "    .dataframe tbody tr th {\n",
       "        vertical-align: top;\n",
       "    }\n",
       "\n",
       "    .dataframe thead th {\n",
       "        text-align: right;\n",
       "    }\n",
       "</style>\n",
       "<table border=\"1\" class=\"dataframe\">\n",
       "  <thead>\n",
       "    <tr style=\"text-align: right;\">\n",
       "      <th></th>\n",
       "      <th>a</th>\n",
       "      <th>b</th>\n",
       "      <th>c</th>\n",
       "    </tr>\n",
       "  </thead>\n",
       "  <tbody>\n",
       "    <tr>\n",
       "      <td>0</td>\n",
       "      <td>-1.179997</td>\n",
       "      <td>NaN</td>\n",
       "      <td>NaN</td>\n",
       "    </tr>\n",
       "    <tr>\n",
       "      <td>1</td>\n",
       "      <td>-0.286060</td>\n",
       "      <td>NaN</td>\n",
       "      <td>NaN</td>\n",
       "    </tr>\n",
       "    <tr>\n",
       "      <td>2</td>\n",
       "      <td>-0.429862</td>\n",
       "      <td>NaN</td>\n",
       "      <td>1.061592</td>\n",
       "    </tr>\n",
       "    <tr>\n",
       "      <td>3</td>\n",
       "      <td>-1.547903</td>\n",
       "      <td>NaN</td>\n",
       "      <td>-0.380136</td>\n",
       "    </tr>\n",
       "    <tr>\n",
       "      <td>4</td>\n",
       "      <td>-2.187828</td>\n",
       "      <td>0.136190</td>\n",
       "      <td>0.271834</td>\n",
       "    </tr>\n",
       "    <tr>\n",
       "      <td>5</td>\n",
       "      <td>-0.587234</td>\n",
       "      <td>1.813163</td>\n",
       "      <td>-0.281087</td>\n",
       "    </tr>\n",
       "    <tr>\n",
       "      <td>6</td>\n",
       "      <td>-0.256605</td>\n",
       "      <td>-0.886150</td>\n",
       "      <td>0.362805</td>\n",
       "    </tr>\n",
       "  </tbody>\n",
       "</table>\n",
       "</div>"
      ],
      "text/plain": [
       "          a         b         c\n",
       "0 -1.179997       NaN       NaN\n",
       "1 -0.286060       NaN       NaN\n",
       "2 -0.429862       NaN  1.061592\n",
       "3 -1.547903       NaN -0.380136\n",
       "4 -2.187828  0.136190  0.271834\n",
       "5 -0.587234  1.813163 -0.281087\n",
       "6 -0.256605 -0.886150  0.362805"
      ]
     },
     "execution_count": 204,
     "metadata": {},
     "output_type": "execute_result"
    }
   ],
   "source": [
    "data_df.fillna(method=\"ffill\")"
   ]
  },
  {
   "cell_type": "code",
   "execution_count": null,
   "metadata": {},
   "outputs": [],
   "source": [
    "pd.ca"
   ]
  },
  {
   "cell_type": "markdown",
   "metadata": {},
   "source": [
    "# Removing duplicate"
   ]
  },
  {
   "cell_type": "code",
   "execution_count": 205,
   "metadata": {},
   "outputs": [],
   "source": [
    "data_df=pd.DataFrame({'k1':['one','two']*3+['two'],'k2':[1,1,2,3,3,4,4]})"
   ]
  },
  {
   "cell_type": "code",
   "execution_count": 206,
   "metadata": {},
   "outputs": [
    {
     "data": {
      "text/html": [
       "<div>\n",
       "<style scoped>\n",
       "    .dataframe tbody tr th:only-of-type {\n",
       "        vertical-align: middle;\n",
       "    }\n",
       "\n",
       "    .dataframe tbody tr th {\n",
       "        vertical-align: top;\n",
       "    }\n",
       "\n",
       "    .dataframe thead th {\n",
       "        text-align: right;\n",
       "    }\n",
       "</style>\n",
       "<table border=\"1\" class=\"dataframe\">\n",
       "  <thead>\n",
       "    <tr style=\"text-align: right;\">\n",
       "      <th></th>\n",
       "      <th>k1</th>\n",
       "      <th>k2</th>\n",
       "    </tr>\n",
       "  </thead>\n",
       "  <tbody>\n",
       "    <tr>\n",
       "      <td>0</td>\n",
       "      <td>one</td>\n",
       "      <td>1</td>\n",
       "    </tr>\n",
       "    <tr>\n",
       "      <td>1</td>\n",
       "      <td>two</td>\n",
       "      <td>1</td>\n",
       "    </tr>\n",
       "    <tr>\n",
       "      <td>2</td>\n",
       "      <td>one</td>\n",
       "      <td>2</td>\n",
       "    </tr>\n",
       "    <tr>\n",
       "      <td>3</td>\n",
       "      <td>two</td>\n",
       "      <td>3</td>\n",
       "    </tr>\n",
       "    <tr>\n",
       "      <td>4</td>\n",
       "      <td>one</td>\n",
       "      <td>3</td>\n",
       "    </tr>\n",
       "    <tr>\n",
       "      <td>5</td>\n",
       "      <td>two</td>\n",
       "      <td>4</td>\n",
       "    </tr>\n",
       "    <tr>\n",
       "      <td>6</td>\n",
       "      <td>two</td>\n",
       "      <td>4</td>\n",
       "    </tr>\n",
       "  </tbody>\n",
       "</table>\n",
       "</div>"
      ],
      "text/plain": [
       "    k1  k2\n",
       "0  one   1\n",
       "1  two   1\n",
       "2  one   2\n",
       "3  two   3\n",
       "4  one   3\n",
       "5  two   4\n",
       "6  two   4"
      ]
     },
     "execution_count": 206,
     "metadata": {},
     "output_type": "execute_result"
    }
   ],
   "source": [
    "data_df"
   ]
  },
  {
   "cell_type": "code",
   "execution_count": 208,
   "metadata": {},
   "outputs": [
    {
     "data": {
      "text/plain": [
       "0    False\n",
       "1    False\n",
       "2    False\n",
       "3    False\n",
       "4    False\n",
       "5    False\n",
       "6     True\n",
       "dtype: bool"
      ]
     },
     "execution_count": 208,
     "metadata": {},
     "output_type": "execute_result"
    }
   ],
   "source": [
    "data_df.duplicated()"
   ]
  },
  {
   "cell_type": "code",
   "execution_count": 214,
   "metadata": {},
   "outputs": [
    {
     "data": {
      "text/html": [
       "<div>\n",
       "<style scoped>\n",
       "    .dataframe tbody tr th:only-of-type {\n",
       "        vertical-align: middle;\n",
       "    }\n",
       "\n",
       "    .dataframe tbody tr th {\n",
       "        vertical-align: top;\n",
       "    }\n",
       "\n",
       "    .dataframe thead th {\n",
       "        text-align: right;\n",
       "    }\n",
       "</style>\n",
       "<table border=\"1\" class=\"dataframe\">\n",
       "  <thead>\n",
       "    <tr style=\"text-align: right;\">\n",
       "      <th></th>\n",
       "      <th>k1</th>\n",
       "      <th>k2</th>\n",
       "    </tr>\n",
       "  </thead>\n",
       "  <tbody>\n",
       "    <tr>\n",
       "      <td>0</td>\n",
       "      <td>one</td>\n",
       "      <td>1</td>\n",
       "    </tr>\n",
       "    <tr>\n",
       "      <td>1</td>\n",
       "      <td>two</td>\n",
       "      <td>1</td>\n",
       "    </tr>\n",
       "    <tr>\n",
       "      <td>2</td>\n",
       "      <td>one</td>\n",
       "      <td>2</td>\n",
       "    </tr>\n",
       "    <tr>\n",
       "      <td>3</td>\n",
       "      <td>two</td>\n",
       "      <td>3</td>\n",
       "    </tr>\n",
       "    <tr>\n",
       "      <td>4</td>\n",
       "      <td>one</td>\n",
       "      <td>3</td>\n",
       "    </tr>\n",
       "    <tr>\n",
       "      <td>5</td>\n",
       "      <td>two</td>\n",
       "      <td>4</td>\n",
       "    </tr>\n",
       "  </tbody>\n",
       "</table>\n",
       "</div>"
      ],
      "text/plain": [
       "    k1  k2\n",
       "0  one   1\n",
       "1  two   1\n",
       "2  one   2\n",
       "3  two   3\n",
       "4  one   3\n",
       "5  two   4"
      ]
     },
     "execution_count": 214,
     "metadata": {},
     "output_type": "execute_result"
    }
   ],
   "source": [
    "data_df.drop_duplicates()"
   ]
  },
  {
   "cell_type": "code",
   "execution_count": 215,
   "metadata": {},
   "outputs": [],
   "source": [
    "data_df['v1']=['one','two','one','four','one','six','two']"
   ]
  },
  {
   "cell_type": "code",
   "execution_count": 216,
   "metadata": {},
   "outputs": [
    {
     "data": {
      "text/html": [
       "<div>\n",
       "<style scoped>\n",
       "    .dataframe tbody tr th:only-of-type {\n",
       "        vertical-align: middle;\n",
       "    }\n",
       "\n",
       "    .dataframe tbody tr th {\n",
       "        vertical-align: top;\n",
       "    }\n",
       "\n",
       "    .dataframe thead th {\n",
       "        text-align: right;\n",
       "    }\n",
       "</style>\n",
       "<table border=\"1\" class=\"dataframe\">\n",
       "  <thead>\n",
       "    <tr style=\"text-align: right;\">\n",
       "      <th></th>\n",
       "      <th>k1</th>\n",
       "      <th>k2</th>\n",
       "      <th>v1</th>\n",
       "    </tr>\n",
       "  </thead>\n",
       "  <tbody>\n",
       "    <tr>\n",
       "      <td>0</td>\n",
       "      <td>one</td>\n",
       "      <td>1</td>\n",
       "      <td>one</td>\n",
       "    </tr>\n",
       "    <tr>\n",
       "      <td>1</td>\n",
       "      <td>two</td>\n",
       "      <td>1</td>\n",
       "      <td>two</td>\n",
       "    </tr>\n",
       "    <tr>\n",
       "      <td>2</td>\n",
       "      <td>one</td>\n",
       "      <td>2</td>\n",
       "      <td>one</td>\n",
       "    </tr>\n",
       "    <tr>\n",
       "      <td>3</td>\n",
       "      <td>two</td>\n",
       "      <td>3</td>\n",
       "      <td>four</td>\n",
       "    </tr>\n",
       "    <tr>\n",
       "      <td>4</td>\n",
       "      <td>one</td>\n",
       "      <td>3</td>\n",
       "      <td>one</td>\n",
       "    </tr>\n",
       "    <tr>\n",
       "      <td>5</td>\n",
       "      <td>two</td>\n",
       "      <td>4</td>\n",
       "      <td>six</td>\n",
       "    </tr>\n",
       "    <tr>\n",
       "      <td>6</td>\n",
       "      <td>two</td>\n",
       "      <td>4</td>\n",
       "      <td>two</td>\n",
       "    </tr>\n",
       "  </tbody>\n",
       "</table>\n",
       "</div>"
      ],
      "text/plain": [
       "    k1  k2    v1\n",
       "0  one   1   one\n",
       "1  two   1   two\n",
       "2  one   2   one\n",
       "3  two   3  four\n",
       "4  one   3   one\n",
       "5  two   4   six\n",
       "6  two   4   two"
      ]
     },
     "execution_count": 216,
     "metadata": {},
     "output_type": "execute_result"
    }
   ],
   "source": [
    "data_df"
   ]
  },
  {
   "cell_type": "code",
   "execution_count": 217,
   "metadata": {},
   "outputs": [
    {
     "data": {
      "text/html": [
       "<div>\n",
       "<style scoped>\n",
       "    .dataframe tbody tr th:only-of-type {\n",
       "        vertical-align: middle;\n",
       "    }\n",
       "\n",
       "    .dataframe tbody tr th {\n",
       "        vertical-align: top;\n",
       "    }\n",
       "\n",
       "    .dataframe thead th {\n",
       "        text-align: right;\n",
       "    }\n",
       "</style>\n",
       "<table border=\"1\" class=\"dataframe\">\n",
       "  <thead>\n",
       "    <tr style=\"text-align: right;\">\n",
       "      <th></th>\n",
       "      <th>k1</th>\n",
       "      <th>k2</th>\n",
       "      <th>v1</th>\n",
       "    </tr>\n",
       "  </thead>\n",
       "  <tbody>\n",
       "    <tr>\n",
       "      <td>0</td>\n",
       "      <td>one</td>\n",
       "      <td>1</td>\n",
       "      <td>one</td>\n",
       "    </tr>\n",
       "    <tr>\n",
       "      <td>1</td>\n",
       "      <td>two</td>\n",
       "      <td>1</td>\n",
       "      <td>two</td>\n",
       "    </tr>\n",
       "    <tr>\n",
       "      <td>2</td>\n",
       "      <td>one</td>\n",
       "      <td>2</td>\n",
       "      <td>one</td>\n",
       "    </tr>\n",
       "    <tr>\n",
       "      <td>3</td>\n",
       "      <td>two</td>\n",
       "      <td>3</td>\n",
       "      <td>four</td>\n",
       "    </tr>\n",
       "    <tr>\n",
       "      <td>4</td>\n",
       "      <td>one</td>\n",
       "      <td>3</td>\n",
       "      <td>one</td>\n",
       "    </tr>\n",
       "    <tr>\n",
       "      <td>5</td>\n",
       "      <td>two</td>\n",
       "      <td>4</td>\n",
       "      <td>six</td>\n",
       "    </tr>\n",
       "    <tr>\n",
       "      <td>6</td>\n",
       "      <td>two</td>\n",
       "      <td>4</td>\n",
       "      <td>two</td>\n",
       "    </tr>\n",
       "  </tbody>\n",
       "</table>\n",
       "</div>"
      ],
      "text/plain": [
       "    k1  k2    v1\n",
       "0  one   1   one\n",
       "1  two   1   two\n",
       "2  one   2   one\n",
       "3  two   3  four\n",
       "4  one   3   one\n",
       "5  two   4   six\n",
       "6  two   4   two"
      ]
     },
     "execution_count": 217,
     "metadata": {},
     "output_type": "execute_result"
    }
   ],
   "source": [
    "data_df"
   ]
  },
  {
   "cell_type": "code",
   "execution_count": 221,
   "metadata": {},
   "outputs": [
    {
     "data": {
      "text/html": [
       "<div>\n",
       "<style scoped>\n",
       "    .dataframe tbody tr th:only-of-type {\n",
       "        vertical-align: middle;\n",
       "    }\n",
       "\n",
       "    .dataframe tbody tr th {\n",
       "        vertical-align: top;\n",
       "    }\n",
       "\n",
       "    .dataframe thead th {\n",
       "        text-align: right;\n",
       "    }\n",
       "</style>\n",
       "<table border=\"1\" class=\"dataframe\">\n",
       "  <thead>\n",
       "    <tr style=\"text-align: right;\">\n",
       "      <th></th>\n",
       "      <th>k1</th>\n",
       "      <th>v1</th>\n",
       "    </tr>\n",
       "  </thead>\n",
       "  <tbody>\n",
       "    <tr>\n",
       "      <td>0</td>\n",
       "      <td>one</td>\n",
       "      <td>one</td>\n",
       "    </tr>\n",
       "    <tr>\n",
       "      <td>1</td>\n",
       "      <td>two</td>\n",
       "      <td>two</td>\n",
       "    </tr>\n",
       "    <tr>\n",
       "      <td>3</td>\n",
       "      <td>two</td>\n",
       "      <td>four</td>\n",
       "    </tr>\n",
       "    <tr>\n",
       "      <td>5</td>\n",
       "      <td>two</td>\n",
       "      <td>six</td>\n",
       "    </tr>\n",
       "  </tbody>\n",
       "</table>\n",
       "</div>"
      ],
      "text/plain": [
       "    k1    v1\n",
       "0  one   one\n",
       "1  two   two\n",
       "3  two  four\n",
       "5  two   six"
      ]
     },
     "execution_count": 221,
     "metadata": {},
     "output_type": "execute_result"
    }
   ],
   "source": [
    "data_df[['k1','v1']].drop_duplicates()"
   ]
  },
  {
   "cell_type": "code",
   "execution_count": 224,
   "metadata": {},
   "outputs": [
    {
     "data": {
      "text/plain": [
       "0    False\n",
       "1    False\n",
       "2     True\n",
       "3    False\n",
       "4     True\n",
       "5    False\n",
       "6     True\n",
       "dtype: bool"
      ]
     },
     "execution_count": 224,
     "metadata": {},
     "output_type": "execute_result"
    }
   ],
   "source": [
    "data_df.duplicated(['k1','v1'])"
   ]
  },
  {
   "cell_type": "code",
   "execution_count": 223,
   "metadata": {},
   "outputs": [
    {
     "data": {
      "text/html": [
       "<div>\n",
       "<style scoped>\n",
       "    .dataframe tbody tr th:only-of-type {\n",
       "        vertical-align: middle;\n",
       "    }\n",
       "\n",
       "    .dataframe tbody tr th {\n",
       "        vertical-align: top;\n",
       "    }\n",
       "\n",
       "    .dataframe thead th {\n",
       "        text-align: right;\n",
       "    }\n",
       "</style>\n",
       "<table border=\"1\" class=\"dataframe\">\n",
       "  <thead>\n",
       "    <tr style=\"text-align: right;\">\n",
       "      <th></th>\n",
       "      <th>k1</th>\n",
       "      <th>k2</th>\n",
       "      <th>v1</th>\n",
       "    </tr>\n",
       "  </thead>\n",
       "  <tbody>\n",
       "    <tr>\n",
       "      <td>0</td>\n",
       "      <td>one</td>\n",
       "      <td>1</td>\n",
       "      <td>one</td>\n",
       "    </tr>\n",
       "    <tr>\n",
       "      <td>1</td>\n",
       "      <td>two</td>\n",
       "      <td>1</td>\n",
       "      <td>two</td>\n",
       "    </tr>\n",
       "    <tr>\n",
       "      <td>3</td>\n",
       "      <td>two</td>\n",
       "      <td>3</td>\n",
       "      <td>four</td>\n",
       "    </tr>\n",
       "    <tr>\n",
       "      <td>5</td>\n",
       "      <td>two</td>\n",
       "      <td>4</td>\n",
       "      <td>six</td>\n",
       "    </tr>\n",
       "  </tbody>\n",
       "</table>\n",
       "</div>"
      ],
      "text/plain": [
       "    k1  k2    v1\n",
       "0  one   1   one\n",
       "1  two   1   two\n",
       "3  two   3  four\n",
       "5  two   4   six"
      ]
     },
     "execution_count": 223,
     "metadata": {},
     "output_type": "execute_result"
    }
   ],
   "source": [
    "data_df.drop_duplicates(['k1','v1'])"
   ]
  },
  {
   "cell_type": "markdown",
   "metadata": {},
   "source": [
    "# Replacing values"
   ]
  },
  {
   "cell_type": "code",
   "execution_count": 225,
   "metadata": {},
   "outputs": [],
   "source": [
    "repl_df=pd.DataFrame(np.random.randn(7,3\n",
    "                                    ))"
   ]
  },
  {
   "cell_type": "code",
   "execution_count": 226,
   "metadata": {},
   "outputs": [
    {
     "data": {
      "text/html": [
       "<div>\n",
       "<style scoped>\n",
       "    .dataframe tbody tr th:only-of-type {\n",
       "        vertical-align: middle;\n",
       "    }\n",
       "\n",
       "    .dataframe tbody tr th {\n",
       "        vertical-align: top;\n",
       "    }\n",
       "\n",
       "    .dataframe thead th {\n",
       "        text-align: right;\n",
       "    }\n",
       "</style>\n",
       "<table border=\"1\" class=\"dataframe\">\n",
       "  <thead>\n",
       "    <tr style=\"text-align: right;\">\n",
       "      <th></th>\n",
       "      <th>0</th>\n",
       "      <th>1</th>\n",
       "      <th>2</th>\n",
       "    </tr>\n",
       "  </thead>\n",
       "  <tbody>\n",
       "    <tr>\n",
       "      <td>0</td>\n",
       "      <td>-0.582238</td>\n",
       "      <td>1.790512</td>\n",
       "      <td>-0.080945</td>\n",
       "    </tr>\n",
       "    <tr>\n",
       "      <td>1</td>\n",
       "      <td>-0.894097</td>\n",
       "      <td>-0.410966</td>\n",
       "      <td>-0.526034</td>\n",
       "    </tr>\n",
       "    <tr>\n",
       "      <td>2</td>\n",
       "      <td>-0.816269</td>\n",
       "      <td>0.878362</td>\n",
       "      <td>-0.686590</td>\n",
       "    </tr>\n",
       "    <tr>\n",
       "      <td>3</td>\n",
       "      <td>0.955546</td>\n",
       "      <td>0.753421</td>\n",
       "      <td>-0.275236</td>\n",
       "    </tr>\n",
       "    <tr>\n",
       "      <td>4</td>\n",
       "      <td>-1.049908</td>\n",
       "      <td>-0.644407</td>\n",
       "      <td>1.570252</td>\n",
       "    </tr>\n",
       "    <tr>\n",
       "      <td>5</td>\n",
       "      <td>-0.400027</td>\n",
       "      <td>-1.500354</td>\n",
       "      <td>-2.224903</td>\n",
       "    </tr>\n",
       "    <tr>\n",
       "      <td>6</td>\n",
       "      <td>-0.541269</td>\n",
       "      <td>-0.516068</td>\n",
       "      <td>0.003487</td>\n",
       "    </tr>\n",
       "  </tbody>\n",
       "</table>\n",
       "</div>"
      ],
      "text/plain": [
       "          0         1         2\n",
       "0 -0.582238  1.790512 -0.080945\n",
       "1 -0.894097 -0.410966 -0.526034\n",
       "2 -0.816269  0.878362 -0.686590\n",
       "3  0.955546  0.753421 -0.275236\n",
       "4 -1.049908 -0.644407  1.570252\n",
       "5 -0.400027 -1.500354 -2.224903\n",
       "6 -0.541269 -0.516068  0.003487"
      ]
     },
     "execution_count": 226,
     "metadata": {},
     "output_type": "execute_result"
    }
   ],
   "source": [
    "repl_df"
   ]
  },
  {
   "cell_type": "code",
   "execution_count": 230,
   "metadata": {},
   "outputs": [
    {
     "data": {
      "text/html": [
       "<div>\n",
       "<style scoped>\n",
       "    .dataframe tbody tr th:only-of-type {\n",
       "        vertical-align: middle;\n",
       "    }\n",
       "\n",
       "    .dataframe tbody tr th {\n",
       "        vertical-align: top;\n",
       "    }\n",
       "\n",
       "    .dataframe thead th {\n",
       "        text-align: right;\n",
       "    }\n",
       "</style>\n",
       "<table border=\"1\" class=\"dataframe\">\n",
       "  <thead>\n",
       "    <tr style=\"text-align: right;\">\n",
       "      <th></th>\n",
       "      <th>0</th>\n",
       "      <th>1</th>\n",
       "      <th>2</th>\n",
       "    </tr>\n",
       "  </thead>\n",
       "  <tbody>\n",
       "    <tr>\n",
       "      <td>0</td>\n",
       "      <td>-0.582238</td>\n",
       "      <td>1.790512</td>\n",
       "      <td>-0.080945</td>\n",
       "    </tr>\n",
       "    <tr>\n",
       "      <td>1</td>\n",
       "      <td>-0.894097</td>\n",
       "      <td>-0.410966</td>\n",
       "      <td>-0.526034</td>\n",
       "    </tr>\n",
       "    <tr>\n",
       "      <td>2</td>\n",
       "      <td>-0.816269</td>\n",
       "      <td>NaN</td>\n",
       "      <td>NaN</td>\n",
       "    </tr>\n",
       "    <tr>\n",
       "      <td>3</td>\n",
       "      <td>0.955546</td>\n",
       "      <td>NaN</td>\n",
       "      <td>NaN</td>\n",
       "    </tr>\n",
       "    <tr>\n",
       "      <td>4</td>\n",
       "      <td>-1.049908</td>\n",
       "      <td>NaN</td>\n",
       "      <td>NaN</td>\n",
       "    </tr>\n",
       "    <tr>\n",
       "      <td>5</td>\n",
       "      <td>-0.400027</td>\n",
       "      <td>-1.500354</td>\n",
       "      <td>-2.224903</td>\n",
       "    </tr>\n",
       "    <tr>\n",
       "      <td>6</td>\n",
       "      <td>-0.541269</td>\n",
       "      <td>-0.516068</td>\n",
       "      <td>0.003487</td>\n",
       "    </tr>\n",
       "  </tbody>\n",
       "</table>\n",
       "</div>"
      ],
      "text/plain": [
       "          0         1         2\n",
       "0 -0.582238  1.790512 -0.080945\n",
       "1 -0.894097 -0.410966 -0.526034\n",
       "2 -0.816269       NaN       NaN\n",
       "3  0.955546       NaN       NaN\n",
       "4 -1.049908       NaN       NaN\n",
       "5 -0.400027 -1.500354 -2.224903\n",
       "6 -0.541269 -0.516068  0.003487"
      ]
     },
     "execution_count": 230,
     "metadata": {},
     "output_type": "execute_result"
    }
   ],
   "source": [
    "repl_df.iloc[2:5,1]=np.nan\n",
    "repl_df.iloc[2:5,2]=np.nan\n",
    "repl_df"
   ]
  },
  {
   "cell_type": "code",
   "execution_count": 234,
   "metadata": {},
   "outputs": [],
   "source": [
    "repl_df=repl_df.replace(np.nan,9)"
   ]
  },
  {
   "cell_type": "code",
   "execution_count": 244,
   "metadata": {},
   "outputs": [],
   "source": [
    "repl_df.iloc[6,2]=5\n"
   ]
  },
  {
   "cell_type": "code",
   "execution_count": 246,
   "metadata": {},
   "outputs": [
    {
     "data": {
      "text/html": [
       "<div>\n",
       "<style scoped>\n",
       "    .dataframe tbody tr th:only-of-type {\n",
       "        vertical-align: middle;\n",
       "    }\n",
       "\n",
       "    .dataframe tbody tr th {\n",
       "        vertical-align: top;\n",
       "    }\n",
       "\n",
       "    .dataframe thead th {\n",
       "        text-align: right;\n",
       "    }\n",
       "</style>\n",
       "<table border=\"1\" class=\"dataframe\">\n",
       "  <thead>\n",
       "    <tr style=\"text-align: right;\">\n",
       "      <th></th>\n",
       "      <th>0</th>\n",
       "      <th>1</th>\n",
       "      <th>2</th>\n",
       "    </tr>\n",
       "  </thead>\n",
       "  <tbody>\n",
       "    <tr>\n",
       "      <td>0</td>\n",
       "      <td>-0.582238</td>\n",
       "      <td>1.790512</td>\n",
       "      <td>1.0</td>\n",
       "    </tr>\n",
       "    <tr>\n",
       "      <td>1</td>\n",
       "      <td>-0.894097</td>\n",
       "      <td>-0.410966</td>\n",
       "      <td>1.0</td>\n",
       "    </tr>\n",
       "    <tr>\n",
       "      <td>2</td>\n",
       "      <td>-0.816269</td>\n",
       "      <td>10.000000</td>\n",
       "      <td>1.0</td>\n",
       "    </tr>\n",
       "    <tr>\n",
       "      <td>3</td>\n",
       "      <td>0.955546</td>\n",
       "      <td>10.000000</td>\n",
       "      <td>1.0</td>\n",
       "    </tr>\n",
       "    <tr>\n",
       "      <td>4</td>\n",
       "      <td>-1.049908</td>\n",
       "      <td>10.000000</td>\n",
       "      <td>1.0</td>\n",
       "    </tr>\n",
       "    <tr>\n",
       "      <td>5</td>\n",
       "      <td>-0.400027</td>\n",
       "      <td>-1.500354</td>\n",
       "      <td>1.0</td>\n",
       "    </tr>\n",
       "    <tr>\n",
       "      <td>6</td>\n",
       "      <td>-0.541269</td>\n",
       "      <td>-0.516068</td>\n",
       "      <td>1.0</td>\n",
       "    </tr>\n",
       "  </tbody>\n",
       "</table>\n",
       "</div>"
      ],
      "text/plain": [
       "          0          1    2\n",
       "0 -0.582238   1.790512  1.0\n",
       "1 -0.894097  -0.410966  1.0\n",
       "2 -0.816269  10.000000  1.0\n",
       "3  0.955546  10.000000  1.0\n",
       "4 -1.049908  10.000000  1.0\n",
       "5 -0.400027  -1.500354  1.0\n",
       "6 -0.541269  -0.516068  1.0"
      ]
     },
     "execution_count": 246,
     "metadata": {},
     "output_type": "execute_result"
    }
   ],
   "source": [
    "repl_df.replace([9,5],[10,1])"
   ]
  },
  {
   "cell_type": "markdown",
   "metadata": {},
   "source": [
    "# Renaming index with function maping"
   ]
  },
  {
   "cell_type": "code",
   "execution_count": 273,
   "metadata": {},
   "outputs": [
    {
     "name": "stdout",
     "output_type": "stream",
     "text": [
      "   one  two  three\n",
      "a    0    1      2\n",
      "b    3    4      5\n",
      "c    6    7      8\n",
      "d    9   10     11\n"
     ]
    },
    {
     "data": {
      "text/html": [
       "<div>\n",
       "<style scoped>\n",
       "    .dataframe tbody tr th:only-of-type {\n",
       "        vertical-align: middle;\n",
       "    }\n",
       "\n",
       "    .dataframe tbody tr th {\n",
       "        vertical-align: top;\n",
       "    }\n",
       "\n",
       "    .dataframe thead th {\n",
       "        text-align: right;\n",
       "    }\n",
       "</style>\n",
       "<table border=\"1\" class=\"dataframe\">\n",
       "  <thead>\n",
       "    <tr style=\"text-align: right;\">\n",
       "      <th></th>\n",
       "      <th>one</th>\n",
       "      <th>two</th>\n",
       "      <th>three</th>\n",
       "    </tr>\n",
       "  </thead>\n",
       "  <tbody>\n",
       "    <tr>\n",
       "      <td>count</td>\n",
       "      <td>4.000000</td>\n",
       "      <td>4.000000</td>\n",
       "      <td>4.000000</td>\n",
       "    </tr>\n",
       "    <tr>\n",
       "      <td>mean</td>\n",
       "      <td>4.500000</td>\n",
       "      <td>5.500000</td>\n",
       "      <td>6.500000</td>\n",
       "    </tr>\n",
       "    <tr>\n",
       "      <td>std</td>\n",
       "      <td>3.872983</td>\n",
       "      <td>3.872983</td>\n",
       "      <td>3.872983</td>\n",
       "    </tr>\n",
       "    <tr>\n",
       "      <td>min</td>\n",
       "      <td>0.000000</td>\n",
       "      <td>1.000000</td>\n",
       "      <td>2.000000</td>\n",
       "    </tr>\n",
       "    <tr>\n",
       "      <td>25%</td>\n",
       "      <td>2.250000</td>\n",
       "      <td>3.250000</td>\n",
       "      <td>4.250000</td>\n",
       "    </tr>\n",
       "    <tr>\n",
       "      <td>50%</td>\n",
       "      <td>4.500000</td>\n",
       "      <td>5.500000</td>\n",
       "      <td>6.500000</td>\n",
       "    </tr>\n",
       "    <tr>\n",
       "      <td>75%</td>\n",
       "      <td>6.750000</td>\n",
       "      <td>7.750000</td>\n",
       "      <td>8.750000</td>\n",
       "    </tr>\n",
       "    <tr>\n",
       "      <td>max</td>\n",
       "      <td>9.000000</td>\n",
       "      <td>10.000000</td>\n",
       "      <td>11.000000</td>\n",
       "    </tr>\n",
       "  </tbody>\n",
       "</table>\n",
       "</div>"
      ],
      "text/plain": [
       "            one        two      three\n",
       "count  4.000000   4.000000   4.000000\n",
       "mean   4.500000   5.500000   6.500000\n",
       "std    3.872983   3.872983   3.872983\n",
       "min    0.000000   1.000000   2.000000\n",
       "25%    2.250000   3.250000   4.250000\n",
       "50%    4.500000   5.500000   6.500000\n",
       "75%    6.750000   7.750000   8.750000\n",
       "max    9.000000  10.000000  11.000000"
      ]
     },
     "execution_count": 273,
     "metadata": {},
     "output_type": "execute_result"
    }
   ],
   "source": [
    "data=pd.DataFrame(np.arange(12).reshape(4,3),\n",
    "                 index=['a','b','c','d'],\n",
    "                 columns=['one','two','three'])\n",
    "print(data)\n",
    "data.describe()"
   ]
  },
  {
   "cell_type": "code",
   "execution_count": 269,
   "metadata": {},
   "outputs": [
    {
     "data": {
      "text/plain": [
       "Index(['ONE', 'TWO', 'THREE'], dtype='object')"
      ]
     },
     "execution_count": 269,
     "metadata": {},
     "output_type": "execute_result"
    }
   ],
   "source": [
    "transform=lambda x: x[:].upper()\n",
    "data.index.map(transform)\n",
    "data.columns.map(transform)"
   ]
  },
  {
   "cell_type": "code",
   "execution_count": 257,
   "metadata": {},
   "outputs": [
    {
     "data": {
      "text/plain": [
       "Index(['A', 'B', 'C', 'D'], dtype='object')"
      ]
     },
     "execution_count": 257,
     "metadata": {},
     "output_type": "execute_result"
    }
   ],
   "source": [
    "data\n"
   ]
  },
  {
   "cell_type": "markdown",
   "metadata": {},
   "source": [
    "# Detecting and filtering outliers"
   ]
  },
  {
   "cell_type": "code",
   "execution_count": 287,
   "metadata": {},
   "outputs": [
    {
     "data": {
      "text/html": [
       "<div>\n",
       "<style scoped>\n",
       "    .dataframe tbody tr th:only-of-type {\n",
       "        vertical-align: middle;\n",
       "    }\n",
       "\n",
       "    .dataframe tbody tr th {\n",
       "        vertical-align: top;\n",
       "    }\n",
       "\n",
       "    .dataframe thead th {\n",
       "        text-align: right;\n",
       "    }\n",
       "</style>\n",
       "<table border=\"1\" class=\"dataframe\">\n",
       "  <thead>\n",
       "    <tr style=\"text-align: right;\">\n",
       "      <th></th>\n",
       "      <th>0</th>\n",
       "      <th>1</th>\n",
       "      <th>2</th>\n",
       "      <th>3</th>\n",
       "    </tr>\n",
       "  </thead>\n",
       "  <tbody>\n",
       "    <tr>\n",
       "      <td>0</td>\n",
       "      <td>-0.335191</td>\n",
       "      <td>0.702888</td>\n",
       "      <td>-0.067037</td>\n",
       "      <td>0.183493</td>\n",
       "    </tr>\n",
       "    <tr>\n",
       "      <td>1</td>\n",
       "      <td>1.249931</td>\n",
       "      <td>0.961254</td>\n",
       "      <td>0.746605</td>\n",
       "      <td>-2.244406</td>\n",
       "    </tr>\n",
       "    <tr>\n",
       "      <td>2</td>\n",
       "      <td>1.651186</td>\n",
       "      <td>-0.762159</td>\n",
       "      <td>-0.498791</td>\n",
       "      <td>-0.277137</td>\n",
       "    </tr>\n",
       "    <tr>\n",
       "      <td>3</td>\n",
       "      <td>-0.250659</td>\n",
       "      <td>-1.099730</td>\n",
       "      <td>0.070074</td>\n",
       "      <td>0.844479</td>\n",
       "    </tr>\n",
       "    <tr>\n",
       "      <td>4</td>\n",
       "      <td>0.217261</td>\n",
       "      <td>-0.043502</td>\n",
       "      <td>0.264582</td>\n",
       "      <td>0.275611</td>\n",
       "    </tr>\n",
       "    <tr>\n",
       "      <td>...</td>\n",
       "      <td>...</td>\n",
       "      <td>...</td>\n",
       "      <td>...</td>\n",
       "      <td>...</td>\n",
       "    </tr>\n",
       "    <tr>\n",
       "      <td>995</td>\n",
       "      <td>-1.182775</td>\n",
       "      <td>-0.793871</td>\n",
       "      <td>-0.293151</td>\n",
       "      <td>0.008913</td>\n",
       "    </tr>\n",
       "    <tr>\n",
       "      <td>996</td>\n",
       "      <td>0.576111</td>\n",
       "      <td>0.050315</td>\n",
       "      <td>-1.329696</td>\n",
       "      <td>-1.350172</td>\n",
       "    </tr>\n",
       "    <tr>\n",
       "      <td>997</td>\n",
       "      <td>-0.271131</td>\n",
       "      <td>0.168158</td>\n",
       "      <td>0.621673</td>\n",
       "      <td>-0.537072</td>\n",
       "    </tr>\n",
       "    <tr>\n",
       "      <td>998</td>\n",
       "      <td>0.837129</td>\n",
       "      <td>-1.550384</td>\n",
       "      <td>-2.235224</td>\n",
       "      <td>-0.587454</td>\n",
       "    </tr>\n",
       "    <tr>\n",
       "      <td>999</td>\n",
       "      <td>-1.241848</td>\n",
       "      <td>0.557987</td>\n",
       "      <td>-0.193505</td>\n",
       "      <td>-0.114381</td>\n",
       "    </tr>\n",
       "  </tbody>\n",
       "</table>\n",
       "<p>1000 rows × 4 columns</p>\n",
       "</div>"
      ],
      "text/plain": [
       "            0         1         2         3\n",
       "0   -0.335191  0.702888 -0.067037  0.183493\n",
       "1    1.249931  0.961254  0.746605 -2.244406\n",
       "2    1.651186 -0.762159 -0.498791 -0.277137\n",
       "3   -0.250659 -1.099730  0.070074  0.844479\n",
       "4    0.217261 -0.043502  0.264582  0.275611\n",
       "..        ...       ...       ...       ...\n",
       "995 -1.182775 -0.793871 -0.293151  0.008913\n",
       "996  0.576111  0.050315 -1.329696 -1.350172\n",
       "997 -0.271131  0.168158  0.621673 -0.537072\n",
       "998  0.837129 -1.550384 -2.235224 -0.587454\n",
       "999 -1.241848  0.557987 -0.193505 -0.114381\n",
       "\n",
       "[1000 rows x 4 columns]"
      ]
     },
     "execution_count": 287,
     "metadata": {},
     "output_type": "execute_result"
    }
   ],
   "source": [
    "data=pd.DataFrame(np.random.randn(1000,4))\n",
    "data"
   ]
  },
  {
   "cell_type": "code",
   "execution_count": 288,
   "metadata": {},
   "outputs": [],
   "source": [
    "col=data[2]"
   ]
  },
  {
   "cell_type": "code",
   "execution_count": 289,
   "metadata": {},
   "outputs": [
    {
     "data": {
      "text/plain": [
       "0      0.067037\n",
       "1      0.746605\n",
       "2      0.498791\n",
       "3      0.070074\n",
       "4      0.264582\n",
       "         ...   \n",
       "995    0.293151\n",
       "996    1.329696\n",
       "997    0.621673\n",
       "998    2.235224\n",
       "999    0.193505\n",
       "Name: 2, Length: 1000, dtype: float64"
      ]
     },
     "execution_count": 289,
     "metadata": {},
     "output_type": "execute_result"
    }
   ],
   "source": [
    "np.abs(col)"
   ]
  },
  {
   "cell_type": "code",
   "execution_count": 290,
   "metadata": {},
   "outputs": [
    {
     "data": {
      "text/plain": [
       "186    3.050641\n",
       "334   -3.243025\n",
       "676   -3.535451\n",
       "992   -3.522255\n",
       "Name: 2, dtype: float64"
      ]
     },
     "execution_count": 290,
     "metadata": {},
     "output_type": "execute_result"
    }
   ],
   "source": [
    "col[np.abs(col)>3]"
   ]
  },
  {
   "cell_type": "code",
   "execution_count": 301,
   "metadata": {},
   "outputs": [
    {
     "data": {
      "text/html": [
       "<div>\n",
       "<style scoped>\n",
       "    .dataframe tbody tr th:only-of-type {\n",
       "        vertical-align: middle;\n",
       "    }\n",
       "\n",
       "    .dataframe tbody tr th {\n",
       "        vertical-align: top;\n",
       "    }\n",
       "\n",
       "    .dataframe thead th {\n",
       "        text-align: right;\n",
       "    }\n",
       "</style>\n",
       "<table border=\"1\" class=\"dataframe\">\n",
       "  <thead>\n",
       "    <tr style=\"text-align: right;\">\n",
       "      <th></th>\n",
       "      <th>0</th>\n",
       "      <th>1</th>\n",
       "      <th>2</th>\n",
       "      <th>3</th>\n",
       "    </tr>\n",
       "  </thead>\n",
       "  <tbody>\n",
       "    <tr>\n",
       "      <td>165</td>\n",
       "      <td>-0.493975</td>\n",
       "      <td>-0.398643</td>\n",
       "      <td>-0.394863</td>\n",
       "      <td>-3.398331</td>\n",
       "    </tr>\n",
       "    <tr>\n",
       "      <td>186</td>\n",
       "      <td>0.032386</td>\n",
       "      <td>0.539504</td>\n",
       "      <td>3.050641</td>\n",
       "      <td>0.279241</td>\n",
       "    </tr>\n",
       "    <tr>\n",
       "      <td>246</td>\n",
       "      <td>3.075680</td>\n",
       "      <td>-0.772414</td>\n",
       "      <td>1.204954</td>\n",
       "      <td>0.419119</td>\n",
       "    </tr>\n",
       "    <tr>\n",
       "      <td>283</td>\n",
       "      <td>0.179557</td>\n",
       "      <td>0.376840</td>\n",
       "      <td>0.614678</td>\n",
       "      <td>-3.214514</td>\n",
       "    </tr>\n",
       "    <tr>\n",
       "      <td>334</td>\n",
       "      <td>-2.033017</td>\n",
       "      <td>0.796487</td>\n",
       "      <td>-3.243025</td>\n",
       "      <td>0.964259</td>\n",
       "    </tr>\n",
       "    <tr>\n",
       "      <td>475</td>\n",
       "      <td>3.003277</td>\n",
       "      <td>0.547974</td>\n",
       "      <td>-2.249223</td>\n",
       "      <td>2.420441</td>\n",
       "    </tr>\n",
       "    <tr>\n",
       "      <td>551</td>\n",
       "      <td>0.258463</td>\n",
       "      <td>0.450924</td>\n",
       "      <td>-0.883541</td>\n",
       "      <td>-3.008377</td>\n",
       "    </tr>\n",
       "    <tr>\n",
       "      <td>676</td>\n",
       "      <td>0.783667</td>\n",
       "      <td>0.783593</td>\n",
       "      <td>-3.535451</td>\n",
       "      <td>0.688025</td>\n",
       "    </tr>\n",
       "    <tr>\n",
       "      <td>705</td>\n",
       "      <td>-3.307206</td>\n",
       "      <td>0.361508</td>\n",
       "      <td>0.406720</td>\n",
       "      <td>-0.797121</td>\n",
       "    </tr>\n",
       "    <tr>\n",
       "      <td>766</td>\n",
       "      <td>-3.099286</td>\n",
       "      <td>-1.141317</td>\n",
       "      <td>-0.397717</td>\n",
       "      <td>2.367717</td>\n",
       "    </tr>\n",
       "    <tr>\n",
       "      <td>963</td>\n",
       "      <td>4.470474</td>\n",
       "      <td>-1.000112</td>\n",
       "      <td>-1.251363</td>\n",
       "      <td>0.489234</td>\n",
       "    </tr>\n",
       "    <tr>\n",
       "      <td>992</td>\n",
       "      <td>0.519705</td>\n",
       "      <td>0.231916</td>\n",
       "      <td>-3.522255</td>\n",
       "      <td>0.608668</td>\n",
       "    </tr>\n",
       "  </tbody>\n",
       "</table>\n",
       "</div>"
      ],
      "text/plain": [
       "            0         1         2         3\n",
       "165 -0.493975 -0.398643 -0.394863 -3.398331\n",
       "186  0.032386  0.539504  3.050641  0.279241\n",
       "246  3.075680 -0.772414  1.204954  0.419119\n",
       "283  0.179557  0.376840  0.614678 -3.214514\n",
       "334 -2.033017  0.796487 -3.243025  0.964259\n",
       "475  3.003277  0.547974 -2.249223  2.420441\n",
       "551  0.258463  0.450924 -0.883541 -3.008377\n",
       "676  0.783667  0.783593 -3.535451  0.688025\n",
       "705 -3.307206  0.361508  0.406720 -0.797121\n",
       "766 -3.099286 -1.141317 -0.397717  2.367717\n",
       "963  4.470474 -1.000112 -1.251363  0.489234\n",
       "992  0.519705  0.231916 -3.522255  0.608668"
      ]
     },
     "execution_count": 301,
     "metadata": {},
     "output_type": "execute_result"
    }
   ],
   "source": [
    "#to select all the rows having value exceeding 3 or -3\n",
    "outliers=data[(np.abs(data)>3).any(1)]\n",
    "outliers"
   ]
  },
  {
   "cell_type": "code",
   "execution_count": 302,
   "metadata": {},
   "outputs": [],
   "source": [
    "data[np.abs(data) > 3] = np.sign(data) * 3\n"
   ]
  },
  {
   "cell_type": "code",
   "execution_count": 311,
   "metadata": {},
   "outputs": [
    {
     "data": {
      "text/html": [
       "<div>\n",
       "<style scoped>\n",
       "    .dataframe tbody tr th:only-of-type {\n",
       "        vertical-align: middle;\n",
       "    }\n",
       "\n",
       "    .dataframe tbody tr th {\n",
       "        vertical-align: top;\n",
       "    }\n",
       "\n",
       "    .dataframe thead th {\n",
       "        text-align: right;\n",
       "    }\n",
       "</style>\n",
       "<table border=\"1\" class=\"dataframe\">\n",
       "  <thead>\n",
       "    <tr style=\"text-align: right;\">\n",
       "      <th></th>\n",
       "      <th>0</th>\n",
       "      <th>1</th>\n",
       "      <th>2</th>\n",
       "      <th>3</th>\n",
       "    </tr>\n",
       "  </thead>\n",
       "  <tbody>\n",
       "  </tbody>\n",
       "</table>\n",
       "</div>"
      ],
      "text/plain": [
       "Empty DataFrame\n",
       "Columns: [0, 1, 2, 3]\n",
       "Index: []"
      ]
     },
     "execution_count": 311,
     "metadata": {},
     "output_type": "execute_result"
    }
   ],
   "source": [
    "data[(np.abs(data)==1).any(1)]"
   ]
  },
  {
   "cell_type": "code",
   "execution_count": 316,
   "metadata": {},
   "outputs": [
    {
     "data": {
      "text/plain": [
       "array([ 3., -3.])"
      ]
     },
     "execution_count": 316,
     "metadata": {},
     "output_type": "execute_result"
    }
   ],
   "source": [
    "# this would return -1 for value less than 0, 1 for value greater than 0 and 0 for value equal to 0\n",
    "np.sign([2, -4.5])*3 "
   ]
  },
  {
   "cell_type": "code",
   "execution_count": 317,
   "metadata": {},
   "outputs": [
    {
     "data": {
      "text/plain": [
       "3.0"
      ]
     },
     "execution_count": 317,
     "metadata": {},
     "output_type": "execute_result"
    }
   ],
   "source": [
    "data.iloc[475,0]"
   ]
  },
  {
   "cell_type": "code",
   "execution_count": 318,
   "metadata": {},
   "outputs": [
    {
     "name": "stdout",
     "output_type": "stream",
     "text": [
      "12 1000\n"
     ]
    }
   ],
   "source": [
    "print(len(outliers),len(data))"
   ]
  },
  {
   "cell_type": "markdown",
   "metadata": {},
   "source": [
    "# Permutation and Rnadom Sampling"
   ]
  },
  {
   "cell_type": "code",
   "execution_count": 320,
   "metadata": {},
   "outputs": [],
   "source": [
    "df=pd.DataFrame(np.arange(5*4).reshape(5,4))"
   ]
  },
  {
   "cell_type": "code",
   "execution_count": 321,
   "metadata": {},
   "outputs": [
    {
     "data": {
      "text/html": [
       "<div>\n",
       "<style scoped>\n",
       "    .dataframe tbody tr th:only-of-type {\n",
       "        vertical-align: middle;\n",
       "    }\n",
       "\n",
       "    .dataframe tbody tr th {\n",
       "        vertical-align: top;\n",
       "    }\n",
       "\n",
       "    .dataframe thead th {\n",
       "        text-align: right;\n",
       "    }\n",
       "</style>\n",
       "<table border=\"1\" class=\"dataframe\">\n",
       "  <thead>\n",
       "    <tr style=\"text-align: right;\">\n",
       "      <th></th>\n",
       "      <th>0</th>\n",
       "      <th>1</th>\n",
       "      <th>2</th>\n",
       "      <th>3</th>\n",
       "    </tr>\n",
       "  </thead>\n",
       "  <tbody>\n",
       "    <tr>\n",
       "      <td>0</td>\n",
       "      <td>0</td>\n",
       "      <td>1</td>\n",
       "      <td>2</td>\n",
       "      <td>3</td>\n",
       "    </tr>\n",
       "    <tr>\n",
       "      <td>1</td>\n",
       "      <td>4</td>\n",
       "      <td>5</td>\n",
       "      <td>6</td>\n",
       "      <td>7</td>\n",
       "    </tr>\n",
       "    <tr>\n",
       "      <td>2</td>\n",
       "      <td>8</td>\n",
       "      <td>9</td>\n",
       "      <td>10</td>\n",
       "      <td>11</td>\n",
       "    </tr>\n",
       "    <tr>\n",
       "      <td>3</td>\n",
       "      <td>12</td>\n",
       "      <td>13</td>\n",
       "      <td>14</td>\n",
       "      <td>15</td>\n",
       "    </tr>\n",
       "    <tr>\n",
       "      <td>4</td>\n",
       "      <td>16</td>\n",
       "      <td>17</td>\n",
       "      <td>18</td>\n",
       "      <td>19</td>\n",
       "    </tr>\n",
       "  </tbody>\n",
       "</table>\n",
       "</div>"
      ],
      "text/plain": [
       "    0   1   2   3\n",
       "0   0   1   2   3\n",
       "1   4   5   6   7\n",
       "2   8   9  10  11\n",
       "3  12  13  14  15\n",
       "4  16  17  18  19"
      ]
     },
     "execution_count": 321,
     "metadata": {},
     "output_type": "execute_result"
    }
   ],
   "source": [
    "df"
   ]
  },
  {
   "cell_type": "code",
   "execution_count": 325,
   "metadata": {},
   "outputs": [
    {
     "data": {
      "text/html": [
       "<div>\n",
       "<style scoped>\n",
       "    .dataframe tbody tr th:only-of-type {\n",
       "        vertical-align: middle;\n",
       "    }\n",
       "\n",
       "    .dataframe tbody tr th {\n",
       "        vertical-align: top;\n",
       "    }\n",
       "\n",
       "    .dataframe thead th {\n",
       "        text-align: right;\n",
       "    }\n",
       "</style>\n",
       "<table border=\"1\" class=\"dataframe\">\n",
       "  <thead>\n",
       "    <tr style=\"text-align: right;\">\n",
       "      <th></th>\n",
       "      <th>0</th>\n",
       "      <th>3</th>\n",
       "      <th>1</th>\n",
       "      <th>2</th>\n",
       "    </tr>\n",
       "  </thead>\n",
       "  <tbody>\n",
       "    <tr>\n",
       "      <td>0</td>\n",
       "      <td>0</td>\n",
       "      <td>3</td>\n",
       "      <td>1</td>\n",
       "      <td>2</td>\n",
       "    </tr>\n",
       "    <tr>\n",
       "      <td>1</td>\n",
       "      <td>4</td>\n",
       "      <td>7</td>\n",
       "      <td>5</td>\n",
       "      <td>6</td>\n",
       "    </tr>\n",
       "    <tr>\n",
       "      <td>2</td>\n",
       "      <td>8</td>\n",
       "      <td>11</td>\n",
       "      <td>9</td>\n",
       "      <td>10</td>\n",
       "    </tr>\n",
       "    <tr>\n",
       "      <td>3</td>\n",
       "      <td>12</td>\n",
       "      <td>15</td>\n",
       "      <td>13</td>\n",
       "      <td>14</td>\n",
       "    </tr>\n",
       "    <tr>\n",
       "      <td>4</td>\n",
       "      <td>16</td>\n",
       "      <td>19</td>\n",
       "      <td>17</td>\n",
       "      <td>18</td>\n",
       "    </tr>\n",
       "  </tbody>\n",
       "</table>\n",
       "</div>"
      ],
      "text/plain": [
       "    0   3   1   2\n",
       "0   0   3   1   2\n",
       "1   4   7   5   6\n",
       "2   8  11   9  10\n",
       "3  12  15  13  14\n",
       "4  16  19  17  18"
      ]
     },
     "execution_count": 325,
     "metadata": {},
     "output_type": "execute_result"
    }
   ],
   "source": [
    "sampler=np.random.permutation(4)\n",
    "df[sampler]\n"
   ]
  },
  {
   "cell_type": "code",
   "execution_count": 328,
   "metadata": {},
   "outputs": [
    {
     "data": {
      "text/html": [
       "<div>\n",
       "<style scoped>\n",
       "    .dataframe tbody tr th:only-of-type {\n",
       "        vertical-align: middle;\n",
       "    }\n",
       "\n",
       "    .dataframe tbody tr th {\n",
       "        vertical-align: top;\n",
       "    }\n",
       "\n",
       "    .dataframe thead th {\n",
       "        text-align: right;\n",
       "    }\n",
       "</style>\n",
       "<table border=\"1\" class=\"dataframe\">\n",
       "  <thead>\n",
       "    <tr style=\"text-align: right;\">\n",
       "      <th></th>\n",
       "      <th>0</th>\n",
       "      <th>1</th>\n",
       "      <th>2</th>\n",
       "      <th>3</th>\n",
       "    </tr>\n",
       "  </thead>\n",
       "  <tbody>\n",
       "    <tr>\n",
       "      <td>0</td>\n",
       "      <td>0</td>\n",
       "      <td>1</td>\n",
       "      <td>2</td>\n",
       "      <td>3</td>\n",
       "    </tr>\n",
       "    <tr>\n",
       "      <td>3</td>\n",
       "      <td>12</td>\n",
       "      <td>13</td>\n",
       "      <td>14</td>\n",
       "      <td>15</td>\n",
       "    </tr>\n",
       "    <tr>\n",
       "      <td>1</td>\n",
       "      <td>4</td>\n",
       "      <td>5</td>\n",
       "      <td>6</td>\n",
       "      <td>7</td>\n",
       "    </tr>\n",
       "    <tr>\n",
       "      <td>2</td>\n",
       "      <td>8</td>\n",
       "      <td>9</td>\n",
       "      <td>10</td>\n",
       "      <td>11</td>\n",
       "    </tr>\n",
       "  </tbody>\n",
       "</table>\n",
       "</div>"
      ],
      "text/plain": [
       "    0   1   2   3\n",
       "0   0   1   2   3\n",
       "3  12  13  14  15\n",
       "1   4   5   6   7\n",
       "2   8   9  10  11"
      ]
     },
     "execution_count": 328,
     "metadata": {},
     "output_type": "execute_result"
    }
   ],
   "source": [
    "df.take(sampler,axis=0)"
   ]
  },
  {
   "cell_type": "code",
   "execution_count": 333,
   "metadata": {},
   "outputs": [
    {
     "data": {
      "text/html": [
       "<div>\n",
       "<style scoped>\n",
       "    .dataframe tbody tr th:only-of-type {\n",
       "        vertical-align: middle;\n",
       "    }\n",
       "\n",
       "    .dataframe tbody tr th {\n",
       "        vertical-align: top;\n",
       "    }\n",
       "\n",
       "    .dataframe thead th {\n",
       "        text-align: right;\n",
       "    }\n",
       "</style>\n",
       "<table border=\"1\" class=\"dataframe\">\n",
       "  <thead>\n",
       "    <tr style=\"text-align: right;\">\n",
       "      <th></th>\n",
       "      <th>0</th>\n",
       "      <th>1</th>\n",
       "      <th>2</th>\n",
       "      <th>3</th>\n",
       "    </tr>\n",
       "  </thead>\n",
       "  <tbody>\n",
       "    <tr>\n",
       "      <td>2</td>\n",
       "      <td>8</td>\n",
       "      <td>9</td>\n",
       "      <td>10</td>\n",
       "      <td>11</td>\n",
       "    </tr>\n",
       "    <tr>\n",
       "      <td>1</td>\n",
       "      <td>4</td>\n",
       "      <td>5</td>\n",
       "      <td>6</td>\n",
       "      <td>7</td>\n",
       "    </tr>\n",
       "    <tr>\n",
       "      <td>0</td>\n",
       "      <td>0</td>\n",
       "      <td>1</td>\n",
       "      <td>2</td>\n",
       "      <td>3</td>\n",
       "    </tr>\n",
       "  </tbody>\n",
       "</table>\n",
       "</div>"
      ],
      "text/plain": [
       "   0  1   2   3\n",
       "2  8  9  10  11\n",
       "1  4  5   6   7\n",
       "0  0  1   2   3"
      ]
     },
     "execution_count": 333,
     "metadata": {},
     "output_type": "execute_result"
    }
   ],
   "source": [
    "#To select a random subset without replacement, you can use the sample method on Series and DataFrame\n",
    "df.sample(n=3)"
   ]
  },
  {
   "cell_type": "code",
   "execution_count": 339,
   "metadata": {},
   "outputs": [
    {
     "data": {
      "text/plain": [
       "4    4\n",
       "4    4\n",
       "0    5\n",
       "0    5\n",
       "0    5\n",
       "4    4\n",
       "1    7\n",
       "0    5\n",
       "4    4\n",
       "3    6\n",
       "dtype: int64"
      ]
     },
     "execution_count": 339,
     "metadata": {},
     "output_type": "execute_result"
    }
   ],
   "source": [
    "choices=pd.Series([5, 7, -1, 6, 4])\n",
    "draws = choices.sample(n=10, replace=True)\n",
    "draws"
   ]
  },
  {
   "cell_type": "markdown",
   "metadata": {},
   "source": [
    "# Regular expression vs vectorized function"
   ]
  },
  {
   "cell_type": "code",
   "execution_count": 6,
   "metadata": {},
   "outputs": [
    {
     "data": {
      "text/plain": [
       "['foo', 'bar', 'baz', 'btq']"
      ]
     },
     "execution_count": 6,
     "metadata": {},
     "output_type": "execute_result"
    }
   ],
   "source": [
    "import re\n",
    "text='foo    bar\\t baz\\t btq'\n",
    "text\n",
    "text.split()\n"
   ]
  },
  {
   "cell_type": "code",
   "execution_count": 5,
   "metadata": {},
   "outputs": [
    {
     "data": {
      "text/plain": [
       "['foo', 'bar', 'baz', 'btq']"
      ]
     },
     "execution_count": 5,
     "metadata": {},
     "output_type": "execute_result"
    }
   ],
   "source": [
    "re.split('\\s+',text)\n"
   ]
  },
  {
   "cell_type": "code",
   "execution_count": 7,
   "metadata": {},
   "outputs": [],
   "source": [
    "rgx=re.compile('\\s+')"
   ]
  },
  {
   "cell_type": "code",
   "execution_count": 8,
   "metadata": {},
   "outputs": [
    {
     "data": {
      "text/plain": [
       "re.compile(r'\\s+', re.UNICODE)"
      ]
     },
     "execution_count": 8,
     "metadata": {},
     "output_type": "execute_result"
    }
   ],
   "source": [
    "rgx"
   ]
  },
  {
   "cell_type": "code",
   "execution_count": 10,
   "metadata": {},
   "outputs": [
    {
     "data": {
      "text/plain": [
       "['foo', 'bar', 'baz', 'btq']"
      ]
     },
     "execution_count": 10,
     "metadata": {},
     "output_type": "execute_result"
    }
   ],
   "source": [
    "rgx.split(text)"
   ]
  },
  {
   "cell_type": "code",
   "execution_count": 11,
   "metadata": {},
   "outputs": [
    {
     "data": {
      "text/plain": [
       "['    ', '\\t ', '\\t ']"
      ]
     },
     "execution_count": 11,
     "metadata": {},
     "output_type": "execute_result"
    }
   ],
   "source": [
    "rgx.findall(text)"
   ]
  },
  {
   "cell_type": "code",
   "execution_count": 71,
   "metadata": {},
   "outputs": [],
   "source": [
    "text = \"\"\"Dave dave@google.com Steve steve@gmail.com Rob rob@gmail.com Ryan ryan@yahoo.com \"\"\" \n",
    "pattern = r'[A-Z0-9._%+-]+@[A-Z0-9.-]+\\.[A-Z]{2,4}'\n"
   ]
  },
  {
   "cell_type": "code",
   "execution_count": 72,
   "metadata": {},
   "outputs": [],
   "source": [
    "rgx=re.compile(pattern,flags=re.IGNORECASE)"
   ]
  },
  {
   "cell_type": "code",
   "execution_count": 73,
   "metadata": {},
   "outputs": [
    {
     "data": {
      "text/plain": [
       "['dave@google.com', 'steve@gmail.com', 'rob@gmail.com', 'ryan@yahoo.com']"
      ]
     },
     "execution_count": 73,
     "metadata": {},
     "output_type": "execute_result"
    }
   ],
   "source": [
    "rgx.findall(text)"
   ]
  },
  {
   "cell_type": "code",
   "execution_count": 74,
   "metadata": {},
   "outputs": [
    {
     "data": {
      "text/plain": [
       "<re.Match object; span=(5, 20), match='dave@google.com'>"
      ]
     },
     "execution_count": 74,
     "metadata": {},
     "output_type": "execute_result"
    }
   ],
   "source": [
    "rgx.search(text)"
   ]
  },
  {
   "cell_type": "code",
   "execution_count": 75,
   "metadata": {},
   "outputs": [],
   "source": [
    "rgx.match(text)\n",
    "#rgx.findall(text)"
   ]
  },
  {
   "cell_type": "code",
   "execution_count": 76,
   "metadata": {},
   "outputs": [
    {
     "data": {
      "text/plain": [
       "'dave@google.com'"
      ]
     },
     "execution_count": 76,
     "metadata": {},
     "output_type": "execute_result"
    }
   ],
   "source": [
    "text[5:20]"
   ]
  },
  {
   "cell_type": "code",
   "execution_count": 77,
   "metadata": {},
   "outputs": [
    {
     "data": {
      "text/plain": [
       "'Dave hello Steve hello Rob hello Ryan hello '"
      ]
     },
     "execution_count": 77,
     "metadata": {},
     "output_type": "execute_result"
    }
   ],
   "source": [
    "rgx.sub('hello',text)# replace the with provided string where pattern founded\n"
   ]
  },
  {
   "cell_type": "code",
   "execution_count": 78,
   "metadata": {},
   "outputs": [],
   "source": [
    "pattern = r'([A-Z0-9._%+-]+)@([A-Z0-9.-]+)\\.([A-Z]{2,4})'\n",
    "rgx=re.compile(pattern,flags=re.IGNORECASE)\n",
    "m=rgx.match('wesm@bright.net')\n"
   ]
  },
  {
   "cell_type": "code",
   "execution_count": 79,
   "metadata": {},
   "outputs": [
    {
     "data": {
      "text/plain": [
       "('wesm', 'bright', 'net')"
      ]
     },
     "execution_count": 79,
     "metadata": {},
     "output_type": "execute_result"
    }
   ],
   "source": [
    "m.groups()"
   ]
  },
  {
   "cell_type": "code",
   "execution_count": 80,
   "metadata": {},
   "outputs": [
    {
     "data": {
      "text/plain": [
       "[('dave', 'google', 'com'),\n",
       " ('steve', 'gmail', 'com'),\n",
       " ('rob', 'gmail', 'com'),\n",
       " ('ryan', 'yahoo', 'com')]"
      ]
     },
     "execution_count": 80,
     "metadata": {},
     "output_type": "execute_result"
    }
   ],
   "source": [
    "rgx.findall(text)"
   ]
  },
  {
   "cell_type": "code",
   "execution_count": 86,
   "metadata": {},
   "outputs": [
    {
     "data": {
      "text/plain": [
       "'Dave Username:dave, Domain: google, Suffix: com,  Steve Username:steve, Domain: gmail, Suffix: com,  Rob Username:rob, Domain: gmail, Suffix: com,  Ryan Username:ryan, Domain: yahoo, Suffix: com,  '"
      ]
     },
     "execution_count": 86,
     "metadata": {},
     "output_type": "execute_result"
    }
   ],
   "source": [
    "rgx.sub(r'Username:\\1, Domain: \\2, Suffix: \\3, ',text)"
   ]
  },
  {
   "cell_type": "markdown",
   "metadata": {},
   "source": [
    "# Ch# 8 Data Wrangling: Join, Combine, and Reshape\n"
   ]
  },
  {
   "cell_type": "code",
   "execution_count": 4,
   "metadata": {},
   "outputs": [],
   "source": [
    "data = pd.Series(np.random.randn(9), \n",
    "        index=[['a', 'a', 'a', 'b', 'b', 'c', 'c', 'd', 'd'], \n",
    "               [1, 2, 3, 1, 3, 1, 2, 2, 3]])\n"
   ]
  },
  {
   "cell_type": "code",
   "execution_count": 5,
   "metadata": {},
   "outputs": [
    {
     "data": {
      "text/plain": [
       "a  1    1.060271\n",
       "   2    0.114753\n",
       "   3   -0.210855\n",
       "b  1   -1.473996\n",
       "   3   -0.677881\n",
       "c  1   -0.802324\n",
       "   2    0.737224\n",
       "d  2   -1.016077\n",
       "   3   -2.287925\n",
       "dtype: float64"
      ]
     },
     "execution_count": 5,
     "metadata": {},
     "output_type": "execute_result"
    }
   ],
   "source": [
    "data"
   ]
  },
  {
   "cell_type": "code",
   "execution_count": 6,
   "metadata": {},
   "outputs": [
    {
     "data": {
      "text/plain": [
       "1    1.060271\n",
       "2    0.114753\n",
       "3   -0.210855\n",
       "dtype: float64"
      ]
     },
     "execution_count": 6,
     "metadata": {},
     "output_type": "execute_result"
    }
   ],
   "source": [
    "data['a']"
   ]
  },
  {
   "cell_type": "code",
   "execution_count": 7,
   "metadata": {},
   "outputs": [
    {
     "data": {
      "text/plain": [
       "a  1    1.060271\n",
       "   2    0.114753\n",
       "   3   -0.210855\n",
       "b  1   -1.473996\n",
       "   3   -0.677881\n",
       "dtype: float64"
      ]
     },
     "execution_count": 7,
     "metadata": {},
     "output_type": "execute_result"
    }
   ],
   "source": [
    "data['a':'b']"
   ]
  },
  {
   "cell_type": "code",
   "execution_count": 8,
   "metadata": {},
   "outputs": [
    {
     "data": {
      "text/plain": [
       "MultiIndex([('a', 1),\n",
       "            ('a', 2),\n",
       "            ('a', 3),\n",
       "            ('b', 1),\n",
       "            ('b', 3),\n",
       "            ('c', 1),\n",
       "            ('c', 2),\n",
       "            ('d', 2),\n",
       "            ('d', 3)],\n",
       "           )"
      ]
     },
     "execution_count": 8,
     "metadata": {},
     "output_type": "execute_result"
    }
   ],
   "source": [
    "data.index"
   ]
  },
  {
   "cell_type": "code",
   "execution_count": 9,
   "metadata": {},
   "outputs": [
    {
     "data": {
      "text/plain": [
       "a  1    1.060271\n",
       "   2    0.114753\n",
       "   3   -0.210855\n",
       "b  1   -1.473996\n",
       "   3   -0.677881\n",
       "c  1   -0.802324\n",
       "   2    0.737224\n",
       "dtype: float64"
      ]
     },
     "execution_count": 9,
     "metadata": {},
     "output_type": "execute_result"
    }
   ],
   "source": [
    "data['a':'c']"
   ]
  },
  {
   "cell_type": "code",
   "execution_count": 10,
   "metadata": {},
   "outputs": [
    {
     "data": {
      "text/plain": [
       "b  1   -1.473996\n",
       "   3   -0.677881\n",
       "d  2   -1.016077\n",
       "   3   -2.287925\n",
       "dtype: float64"
      ]
     },
     "execution_count": 10,
     "metadata": {},
     "output_type": "execute_result"
    }
   ],
   "source": [
    "data[['b','d']]"
   ]
  },
  {
   "cell_type": "code",
   "execution_count": 11,
   "metadata": {},
   "outputs": [
    {
     "data": {
      "text/plain": [
       "b  1   -1.473996\n",
       "   3   -0.677881\n",
       "d  2   -1.016077\n",
       "   3   -2.287925\n",
       "dtype: float64"
      ]
     },
     "execution_count": 11,
     "metadata": {},
     "output_type": "execute_result"
    }
   ],
   "source": [
    "data.loc[['b','d']]"
   ]
  },
  {
   "cell_type": "code",
   "execution_count": 12,
   "metadata": {},
   "outputs": [
    {
     "data": {
      "text/plain": [
       "-0.6778813090214607"
      ]
     },
     "execution_count": 12,
     "metadata": {},
     "output_type": "execute_result"
    }
   ],
   "source": [
    "data['b',3]"
   ]
  },
  {
   "cell_type": "code",
   "execution_count": 13,
   "metadata": {},
   "outputs": [
    {
     "data": {
      "text/plain": [
       "a  1    1.060271\n",
       "   2    0.114753\n",
       "c  1   -0.802324\n",
       "   2    0.737224\n",
       "dtype: float64"
      ]
     },
     "execution_count": 13,
     "metadata": {},
     "output_type": "execute_result"
    }
   ],
   "source": [
    "data.loc[['a','c'],[1,2]]"
   ]
  },
  {
   "cell_type": "code",
   "execution_count": 14,
   "metadata": {},
   "outputs": [
    {
     "data": {
      "text/html": [
       "<div>\n",
       "<style scoped>\n",
       "    .dataframe tbody tr th:only-of-type {\n",
       "        vertical-align: middle;\n",
       "    }\n",
       "\n",
       "    .dataframe tbody tr th {\n",
       "        vertical-align: top;\n",
       "    }\n",
       "\n",
       "    .dataframe thead th {\n",
       "        text-align: right;\n",
       "    }\n",
       "</style>\n",
       "<table border=\"1\" class=\"dataframe\">\n",
       "  <thead>\n",
       "    <tr style=\"text-align: right;\">\n",
       "      <th></th>\n",
       "      <th>1</th>\n",
       "      <th>2</th>\n",
       "      <th>3</th>\n",
       "    </tr>\n",
       "  </thead>\n",
       "  <tbody>\n",
       "    <tr>\n",
       "      <td>a</td>\n",
       "      <td>1.060271</td>\n",
       "      <td>0.114753</td>\n",
       "      <td>-0.210855</td>\n",
       "    </tr>\n",
       "    <tr>\n",
       "      <td>b</td>\n",
       "      <td>-1.473996</td>\n",
       "      <td>NaN</td>\n",
       "      <td>-0.677881</td>\n",
       "    </tr>\n",
       "    <tr>\n",
       "      <td>c</td>\n",
       "      <td>-0.802324</td>\n",
       "      <td>0.737224</td>\n",
       "      <td>NaN</td>\n",
       "    </tr>\n",
       "    <tr>\n",
       "      <td>d</td>\n",
       "      <td>NaN</td>\n",
       "      <td>-1.016077</td>\n",
       "      <td>-2.287925</td>\n",
       "    </tr>\n",
       "  </tbody>\n",
       "</table>\n",
       "</div>"
      ],
      "text/plain": [
       "          1         2         3\n",
       "a  1.060271  0.114753 -0.210855\n",
       "b -1.473996       NaN -0.677881\n",
       "c -0.802324  0.737224       NaN\n",
       "d       NaN -1.016077 -2.287925"
      ]
     },
     "execution_count": 14,
     "metadata": {},
     "output_type": "execute_result"
    }
   ],
   "source": [
    "data_st=data.unstack()\n",
    "data_st"
   ]
  },
  {
   "cell_type": "code",
   "execution_count": 15,
   "metadata": {},
   "outputs": [
    {
     "data": {
      "text/plain": [
       "a  1    1.060271\n",
       "   2    0.114753\n",
       "   3   -0.210855\n",
       "b  1   -1.473996\n",
       "   3   -0.677881\n",
       "c  1   -0.802324\n",
       "   2    0.737224\n",
       "d  2   -1.016077\n",
       "   3   -2.287925\n",
       "dtype: float64"
      ]
     },
     "execution_count": 15,
     "metadata": {},
     "output_type": "execute_result"
    }
   ],
   "source": [
    "data_st.stack()"
   ]
  },
  {
   "cell_type": "code",
   "execution_count": 16,
   "metadata": {},
   "outputs": [
    {
     "data": {
      "text/html": [
       "<div>\n",
       "<style scoped>\n",
       "    .dataframe tbody tr th:only-of-type {\n",
       "        vertical-align: middle;\n",
       "    }\n",
       "\n",
       "    .dataframe tbody tr th {\n",
       "        vertical-align: top;\n",
       "    }\n",
       "\n",
       "    .dataframe thead tr th {\n",
       "        text-align: left;\n",
       "    }\n",
       "</style>\n",
       "<table border=\"1\" class=\"dataframe\">\n",
       "  <thead>\n",
       "    <tr>\n",
       "      <th></th>\n",
       "      <th></th>\n",
       "      <th colspan=\"2\" halign=\"left\">ohio</th>\n",
       "      <th>colorada</th>\n",
       "    </tr>\n",
       "    <tr>\n",
       "      <th></th>\n",
       "      <th></th>\n",
       "      <th>green</th>\n",
       "      <th>red</th>\n",
       "      <th>green</th>\n",
       "    </tr>\n",
       "  </thead>\n",
       "  <tbody>\n",
       "    <tr>\n",
       "      <td rowspan=\"2\" valign=\"top\">a</td>\n",
       "      <td>1</td>\n",
       "      <td>0</td>\n",
       "      <td>1</td>\n",
       "      <td>2</td>\n",
       "    </tr>\n",
       "    <tr>\n",
       "      <td>2</td>\n",
       "      <td>3</td>\n",
       "      <td>4</td>\n",
       "      <td>5</td>\n",
       "    </tr>\n",
       "    <tr>\n",
       "      <td rowspan=\"2\" valign=\"top\">b</td>\n",
       "      <td>1</td>\n",
       "      <td>6</td>\n",
       "      <td>7</td>\n",
       "      <td>8</td>\n",
       "    </tr>\n",
       "    <tr>\n",
       "      <td>2</td>\n",
       "      <td>9</td>\n",
       "      <td>10</td>\n",
       "      <td>11</td>\n",
       "    </tr>\n",
       "  </tbody>\n",
       "</table>\n",
       "</div>"
      ],
      "text/plain": [
       "     ohio     colorada\n",
       "    green red    green\n",
       "a 1     0   1        2\n",
       "  2     3   4        5\n",
       "b 1     6   7        8\n",
       "  2     9  10       11"
      ]
     },
     "execution_count": 16,
     "metadata": {},
     "output_type": "execute_result"
    }
   ],
   "source": [
    "data_df=pd.DataFrame(np.arange(12).reshape(4,3),\n",
    "                    index=[['a','a','b','b'],[1,2,1,2]],\n",
    "                    columns=[['ohio','ohio','colorada'],['green','red','green']])\n",
    "data_df"
   ]
  },
  {
   "cell_type": "code",
   "execution_count": 18,
   "metadata": {},
   "outputs": [
    {
     "data": {
      "text/html": [
       "<div>\n",
       "<style scoped>\n",
       "    .dataframe tbody tr th:only-of-type {\n",
       "        vertical-align: middle;\n",
       "    }\n",
       "\n",
       "    .dataframe tbody tr th {\n",
       "        vertical-align: top;\n",
       "    }\n",
       "\n",
       "    .dataframe thead tr th {\n",
       "        text-align: left;\n",
       "    }\n",
       "\n",
       "    .dataframe thead tr:last-of-type th {\n",
       "        text-align: right;\n",
       "    }\n",
       "</style>\n",
       "<table border=\"1\" class=\"dataframe\">\n",
       "  <thead>\n",
       "    <tr>\n",
       "      <th></th>\n",
       "      <th>state</th>\n",
       "      <th colspan=\"2\" halign=\"left\">ohio</th>\n",
       "      <th>colorada</th>\n",
       "    </tr>\n",
       "    <tr>\n",
       "      <th></th>\n",
       "      <th>color</th>\n",
       "      <th>green</th>\n",
       "      <th>red</th>\n",
       "      <th>green</th>\n",
       "    </tr>\n",
       "    <tr>\n",
       "      <th>key1</th>\n",
       "      <th>key2</th>\n",
       "      <th></th>\n",
       "      <th></th>\n",
       "      <th></th>\n",
       "    </tr>\n",
       "  </thead>\n",
       "  <tbody>\n",
       "    <tr>\n",
       "      <td rowspan=\"2\" valign=\"top\">a</td>\n",
       "      <td>1</td>\n",
       "      <td>0</td>\n",
       "      <td>1</td>\n",
       "      <td>2</td>\n",
       "    </tr>\n",
       "    <tr>\n",
       "      <td>2</td>\n",
       "      <td>3</td>\n",
       "      <td>4</td>\n",
       "      <td>5</td>\n",
       "    </tr>\n",
       "    <tr>\n",
       "      <td rowspan=\"2\" valign=\"top\">b</td>\n",
       "      <td>1</td>\n",
       "      <td>6</td>\n",
       "      <td>7</td>\n",
       "      <td>8</td>\n",
       "    </tr>\n",
       "    <tr>\n",
       "      <td>2</td>\n",
       "      <td>9</td>\n",
       "      <td>10</td>\n",
       "      <td>11</td>\n",
       "    </tr>\n",
       "  </tbody>\n",
       "</table>\n",
       "</div>"
      ],
      "text/plain": [
       "state      ohio     colorada\n",
       "color     green red    green\n",
       "key1 key2                   \n",
       "a    1        0   1        2\n",
       "     2        3   4        5\n",
       "b    1        6   7        8\n",
       "     2        9  10       11"
      ]
     },
     "execution_count": 18,
     "metadata": {},
     "output_type": "execute_result"
    }
   ],
   "source": [
    "data_df.index.names=['key1','key2']\n",
    "data_df.columns.names=['state','color']\n",
    "data_df"
   ]
  },
  {
   "cell_type": "code",
   "execution_count": 19,
   "metadata": {},
   "outputs": [
    {
     "data": {
      "text/html": [
       "<div>\n",
       "<style scoped>\n",
       "    .dataframe tbody tr th:only-of-type {\n",
       "        vertical-align: middle;\n",
       "    }\n",
       "\n",
       "    .dataframe tbody tr th {\n",
       "        vertical-align: top;\n",
       "    }\n",
       "\n",
       "    .dataframe thead th {\n",
       "        text-align: right;\n",
       "    }\n",
       "</style>\n",
       "<table border=\"1\" class=\"dataframe\">\n",
       "  <thead>\n",
       "    <tr style=\"text-align: right;\">\n",
       "      <th></th>\n",
       "      <th>color</th>\n",
       "      <th>green</th>\n",
       "      <th>red</th>\n",
       "    </tr>\n",
       "    <tr>\n",
       "      <th>key1</th>\n",
       "      <th>key2</th>\n",
       "      <th></th>\n",
       "      <th></th>\n",
       "    </tr>\n",
       "  </thead>\n",
       "  <tbody>\n",
       "    <tr>\n",
       "      <td rowspan=\"2\" valign=\"top\">a</td>\n",
       "      <td>1</td>\n",
       "      <td>0</td>\n",
       "      <td>1</td>\n",
       "    </tr>\n",
       "    <tr>\n",
       "      <td>2</td>\n",
       "      <td>3</td>\n",
       "      <td>4</td>\n",
       "    </tr>\n",
       "    <tr>\n",
       "      <td rowspan=\"2\" valign=\"top\">b</td>\n",
       "      <td>1</td>\n",
       "      <td>6</td>\n",
       "      <td>7</td>\n",
       "    </tr>\n",
       "    <tr>\n",
       "      <td>2</td>\n",
       "      <td>9</td>\n",
       "      <td>10</td>\n",
       "    </tr>\n",
       "  </tbody>\n",
       "</table>\n",
       "</div>"
      ],
      "text/plain": [
       "color      green  red\n",
       "key1 key2            \n",
       "a    1         0    1\n",
       "     2         3    4\n",
       "b    1         6    7\n",
       "     2         9   10"
      ]
     },
     "execution_count": 19,
     "metadata": {},
     "output_type": "execute_result"
    }
   ],
   "source": [
    "data_df['ohio']"
   ]
  },
  {
   "cell_type": "code",
   "execution_count": 23,
   "metadata": {},
   "outputs": [
    {
     "data": {
      "text/html": [
       "<div>\n",
       "<style scoped>\n",
       "    .dataframe tbody tr th:only-of-type {\n",
       "        vertical-align: middle;\n",
       "    }\n",
       "\n",
       "    .dataframe tbody tr th {\n",
       "        vertical-align: top;\n",
       "    }\n",
       "\n",
       "    .dataframe thead tr th {\n",
       "        text-align: left;\n",
       "    }\n",
       "\n",
       "    .dataframe thead tr:last-of-type th {\n",
       "        text-align: right;\n",
       "    }\n",
       "</style>\n",
       "<table border=\"1\" class=\"dataframe\">\n",
       "  <thead>\n",
       "    <tr>\n",
       "      <th>state</th>\n",
       "      <th colspan=\"2\" halign=\"left\">ohio</th>\n",
       "      <th>colorada</th>\n",
       "    </tr>\n",
       "    <tr>\n",
       "      <th>color</th>\n",
       "      <th>green</th>\n",
       "      <th>red</th>\n",
       "      <th>green</th>\n",
       "    </tr>\n",
       "    <tr>\n",
       "      <th>key2</th>\n",
       "      <th></th>\n",
       "      <th></th>\n",
       "      <th></th>\n",
       "    </tr>\n",
       "  </thead>\n",
       "  <tbody>\n",
       "    <tr>\n",
       "      <td>1</td>\n",
       "      <td>0</td>\n",
       "      <td>1</td>\n",
       "      <td>2</td>\n",
       "    </tr>\n",
       "    <tr>\n",
       "      <td>2</td>\n",
       "      <td>3</td>\n",
       "      <td>4</td>\n",
       "      <td>5</td>\n",
       "    </tr>\n",
       "  </tbody>\n",
       "</table>\n",
       "</div>"
      ],
      "text/plain": [
       "state  ohio     colorada\n",
       "color green red    green\n",
       "key2                    \n",
       "1         0   1        2\n",
       "2         3   4        5"
      ]
     },
     "execution_count": 23,
     "metadata": {},
     "output_type": "execute_result"
    }
   ],
   "source": [
    "data_df.loc['a']"
   ]
  },
  {
   "cell_type": "markdown",
   "metadata": {},
   "source": [
    "# Reordering and sorting levels"
   ]
  },
  {
   "cell_type": "code",
   "execution_count": 25,
   "metadata": {},
   "outputs": [
    {
     "data": {
      "text/html": [
       "<div>\n",
       "<style scoped>\n",
       "    .dataframe tbody tr th:only-of-type {\n",
       "        vertical-align: middle;\n",
       "    }\n",
       "\n",
       "    .dataframe tbody tr th {\n",
       "        vertical-align: top;\n",
       "    }\n",
       "\n",
       "    .dataframe thead tr th {\n",
       "        text-align: left;\n",
       "    }\n",
       "\n",
       "    .dataframe thead tr:last-of-type th {\n",
       "        text-align: right;\n",
       "    }\n",
       "</style>\n",
       "<table border=\"1\" class=\"dataframe\">\n",
       "  <thead>\n",
       "    <tr>\n",
       "      <th></th>\n",
       "      <th>state</th>\n",
       "      <th colspan=\"2\" halign=\"left\">ohio</th>\n",
       "      <th>colorada</th>\n",
       "    </tr>\n",
       "    <tr>\n",
       "      <th></th>\n",
       "      <th>color</th>\n",
       "      <th>green</th>\n",
       "      <th>red</th>\n",
       "      <th>green</th>\n",
       "    </tr>\n",
       "    <tr>\n",
       "      <th>key2</th>\n",
       "      <th>key1</th>\n",
       "      <th></th>\n",
       "      <th></th>\n",
       "      <th></th>\n",
       "    </tr>\n",
       "  </thead>\n",
       "  <tbody>\n",
       "    <tr>\n",
       "      <td>1</td>\n",
       "      <td>a</td>\n",
       "      <td>0</td>\n",
       "      <td>1</td>\n",
       "      <td>2</td>\n",
       "    </tr>\n",
       "    <tr>\n",
       "      <td>2</td>\n",
       "      <td>a</td>\n",
       "      <td>3</td>\n",
       "      <td>4</td>\n",
       "      <td>5</td>\n",
       "    </tr>\n",
       "    <tr>\n",
       "      <td>1</td>\n",
       "      <td>b</td>\n",
       "      <td>6</td>\n",
       "      <td>7</td>\n",
       "      <td>8</td>\n",
       "    </tr>\n",
       "    <tr>\n",
       "      <td>2</td>\n",
       "      <td>b</td>\n",
       "      <td>9</td>\n",
       "      <td>10</td>\n",
       "      <td>11</td>\n",
       "    </tr>\n",
       "  </tbody>\n",
       "</table>\n",
       "</div>"
      ],
      "text/plain": [
       "state      ohio     colorada\n",
       "color     green red    green\n",
       "key2 key1                   \n",
       "1    a        0   1        2\n",
       "2    a        3   4        5\n",
       "1    b        6   7        8\n",
       "2    b        9  10       11"
      ]
     },
     "execution_count": 25,
     "metadata": {},
     "output_type": "execute_result"
    }
   ],
   "source": [
    "data_df.swaplevel('key2','key1')"
   ]
  },
  {
   "cell_type": "code",
   "execution_count": 34,
   "metadata": {},
   "outputs": [
    {
     "data": {
      "text/html": [
       "<div>\n",
       "<style scoped>\n",
       "    .dataframe tbody tr th:only-of-type {\n",
       "        vertical-align: middle;\n",
       "    }\n",
       "\n",
       "    .dataframe tbody tr th {\n",
       "        vertical-align: top;\n",
       "    }\n",
       "\n",
       "    .dataframe thead tr th {\n",
       "        text-align: left;\n",
       "    }\n",
       "\n",
       "    .dataframe thead tr:last-of-type th {\n",
       "        text-align: right;\n",
       "    }\n",
       "</style>\n",
       "<table border=\"1\" class=\"dataframe\">\n",
       "  <thead>\n",
       "    <tr>\n",
       "      <th></th>\n",
       "      <th>state</th>\n",
       "      <th colspan=\"2\" halign=\"left\">ohio</th>\n",
       "      <th>colorada</th>\n",
       "    </tr>\n",
       "    <tr>\n",
       "      <th></th>\n",
       "      <th>color</th>\n",
       "      <th>green</th>\n",
       "      <th>red</th>\n",
       "      <th>green</th>\n",
       "    </tr>\n",
       "    <tr>\n",
       "      <th>key1</th>\n",
       "      <th>key2</th>\n",
       "      <th></th>\n",
       "      <th></th>\n",
       "      <th></th>\n",
       "    </tr>\n",
       "  </thead>\n",
       "  <tbody>\n",
       "    <tr>\n",
       "      <td>a</td>\n",
       "      <td>1</td>\n",
       "      <td>0</td>\n",
       "      <td>1</td>\n",
       "      <td>2</td>\n",
       "    </tr>\n",
       "    <tr>\n",
       "      <td>b</td>\n",
       "      <td>1</td>\n",
       "      <td>6</td>\n",
       "      <td>7</td>\n",
       "      <td>8</td>\n",
       "    </tr>\n",
       "    <tr>\n",
       "      <td>a</td>\n",
       "      <td>2</td>\n",
       "      <td>3</td>\n",
       "      <td>4</td>\n",
       "      <td>5</td>\n",
       "    </tr>\n",
       "    <tr>\n",
       "      <td>b</td>\n",
       "      <td>2</td>\n",
       "      <td>9</td>\n",
       "      <td>10</td>\n",
       "      <td>11</td>\n",
       "    </tr>\n",
       "  </tbody>\n",
       "</table>\n",
       "</div>"
      ],
      "text/plain": [
       "state      ohio     colorada\n",
       "color     green red    green\n",
       "key1 key2                   \n",
       "a    1        0   1        2\n",
       "b    1        6   7        8\n",
       "a    2        3   4        5\n",
       "b    2        9  10       11"
      ]
     },
     "execution_count": 34,
     "metadata": {},
     "output_type": "execute_result"
    }
   ],
   "source": [
    "data_df.sort_index(level=1)"
   ]
  },
  {
   "cell_type": "code",
   "execution_count": 35,
   "metadata": {},
   "outputs": [
    {
     "data": {
      "text/html": [
       "<div>\n",
       "<style scoped>\n",
       "    .dataframe tbody tr th:only-of-type {\n",
       "        vertical-align: middle;\n",
       "    }\n",
       "\n",
       "    .dataframe tbody tr th {\n",
       "        vertical-align: top;\n",
       "    }\n",
       "\n",
       "    .dataframe thead tr th {\n",
       "        text-align: left;\n",
       "    }\n",
       "\n",
       "    .dataframe thead tr:last-of-type th {\n",
       "        text-align: right;\n",
       "    }\n",
       "</style>\n",
       "<table border=\"1\" class=\"dataframe\">\n",
       "  <thead>\n",
       "    <tr>\n",
       "      <th></th>\n",
       "      <th>state</th>\n",
       "      <th colspan=\"2\" halign=\"left\">ohio</th>\n",
       "      <th>colorada</th>\n",
       "    </tr>\n",
       "    <tr>\n",
       "      <th></th>\n",
       "      <th>color</th>\n",
       "      <th>green</th>\n",
       "      <th>red</th>\n",
       "      <th>green</th>\n",
       "    </tr>\n",
       "    <tr>\n",
       "      <th>key2</th>\n",
       "      <th>key1</th>\n",
       "      <th></th>\n",
       "      <th></th>\n",
       "      <th></th>\n",
       "    </tr>\n",
       "  </thead>\n",
       "  <tbody>\n",
       "    <tr>\n",
       "      <td rowspan=\"2\" valign=\"top\">1</td>\n",
       "      <td>a</td>\n",
       "      <td>0</td>\n",
       "      <td>1</td>\n",
       "      <td>2</td>\n",
       "    </tr>\n",
       "    <tr>\n",
       "      <td>b</td>\n",
       "      <td>6</td>\n",
       "      <td>7</td>\n",
       "      <td>8</td>\n",
       "    </tr>\n",
       "    <tr>\n",
       "      <td rowspan=\"2\" valign=\"top\">2</td>\n",
       "      <td>a</td>\n",
       "      <td>3</td>\n",
       "      <td>4</td>\n",
       "      <td>5</td>\n",
       "    </tr>\n",
       "    <tr>\n",
       "      <td>b</td>\n",
       "      <td>9</td>\n",
       "      <td>10</td>\n",
       "      <td>11</td>\n",
       "    </tr>\n",
       "  </tbody>\n",
       "</table>\n",
       "</div>"
      ],
      "text/plain": [
       "state      ohio     colorada\n",
       "color     green red    green\n",
       "key2 key1                   \n",
       "1    a        0   1        2\n",
       "     b        6   7        8\n",
       "2    a        3   4        5\n",
       "     b        9  10       11"
      ]
     },
     "execution_count": 35,
     "metadata": {},
     "output_type": "execute_result"
    }
   ],
   "source": [
    "data_df.swaplevel(1,0).sort_index(level=0)"
   ]
  },
  {
   "cell_type": "markdown",
   "metadata": {},
   "source": [
    "# Summary Statistics by Level "
   ]
  },
  {
   "cell_type": "code",
   "execution_count": 36,
   "metadata": {},
   "outputs": [
    {
     "data": {
      "text/html": [
       "<div>\n",
       "<style scoped>\n",
       "    .dataframe tbody tr th:only-of-type {\n",
       "        vertical-align: middle;\n",
       "    }\n",
       "\n",
       "    .dataframe tbody tr th {\n",
       "        vertical-align: top;\n",
       "    }\n",
       "\n",
       "    .dataframe thead tr th {\n",
       "        text-align: left;\n",
       "    }\n",
       "\n",
       "    .dataframe thead tr:last-of-type th {\n",
       "        text-align: right;\n",
       "    }\n",
       "</style>\n",
       "<table border=\"1\" class=\"dataframe\">\n",
       "  <thead>\n",
       "    <tr>\n",
       "      <th>state</th>\n",
       "      <th colspan=\"2\" halign=\"left\">ohio</th>\n",
       "      <th>colorada</th>\n",
       "    </tr>\n",
       "    <tr>\n",
       "      <th>color</th>\n",
       "      <th>green</th>\n",
       "      <th>red</th>\n",
       "      <th>green</th>\n",
       "    </tr>\n",
       "    <tr>\n",
       "      <th>key1</th>\n",
       "      <th></th>\n",
       "      <th></th>\n",
       "      <th></th>\n",
       "    </tr>\n",
       "  </thead>\n",
       "  <tbody>\n",
       "    <tr>\n",
       "      <td>a</td>\n",
       "      <td>3</td>\n",
       "      <td>5</td>\n",
       "      <td>7</td>\n",
       "    </tr>\n",
       "    <tr>\n",
       "      <td>b</td>\n",
       "      <td>15</td>\n",
       "      <td>17</td>\n",
       "      <td>19</td>\n",
       "    </tr>\n",
       "  </tbody>\n",
       "</table>\n",
       "</div>"
      ],
      "text/plain": [
       "state  ohio     colorada\n",
       "color green red    green\n",
       "key1                    \n",
       "a         3   5        7\n",
       "b        15  17       19"
      ]
     },
     "execution_count": 36,
     "metadata": {},
     "output_type": "execute_result"
    }
   ],
   "source": [
    "data_df.sum(level='key1')"
   ]
  },
  {
   "cell_type": "code",
   "execution_count": 37,
   "metadata": {},
   "outputs": [
    {
     "data": {
      "text/html": [
       "<div>\n",
       "<style scoped>\n",
       "    .dataframe tbody tr th:only-of-type {\n",
       "        vertical-align: middle;\n",
       "    }\n",
       "\n",
       "    .dataframe tbody tr th {\n",
       "        vertical-align: top;\n",
       "    }\n",
       "\n",
       "    .dataframe thead tr th {\n",
       "        text-align: left;\n",
       "    }\n",
       "\n",
       "    .dataframe thead tr:last-of-type th {\n",
       "        text-align: right;\n",
       "    }\n",
       "</style>\n",
       "<table border=\"1\" class=\"dataframe\">\n",
       "  <thead>\n",
       "    <tr>\n",
       "      <th>state</th>\n",
       "      <th colspan=\"2\" halign=\"left\">ohio</th>\n",
       "      <th>colorada</th>\n",
       "    </tr>\n",
       "    <tr>\n",
       "      <th>color</th>\n",
       "      <th>green</th>\n",
       "      <th>red</th>\n",
       "      <th>green</th>\n",
       "    </tr>\n",
       "    <tr>\n",
       "      <th>key2</th>\n",
       "      <th></th>\n",
       "      <th></th>\n",
       "      <th></th>\n",
       "    </tr>\n",
       "  </thead>\n",
       "  <tbody>\n",
       "    <tr>\n",
       "      <td>1</td>\n",
       "      <td>6</td>\n",
       "      <td>8</td>\n",
       "      <td>10</td>\n",
       "    </tr>\n",
       "    <tr>\n",
       "      <td>2</td>\n",
       "      <td>12</td>\n",
       "      <td>14</td>\n",
       "      <td>16</td>\n",
       "    </tr>\n",
       "  </tbody>\n",
       "</table>\n",
       "</div>"
      ],
      "text/plain": [
       "state  ohio     colorada\n",
       "color green red    green\n",
       "key2                    \n",
       "1         6   8       10\n",
       "2        12  14       16"
      ]
     },
     "execution_count": 37,
     "metadata": {},
     "output_type": "execute_result"
    }
   ],
   "source": [
    "data_df.sum(level=\"key2\")"
   ]
  },
  {
   "cell_type": "code",
   "execution_count": 38,
   "metadata": {},
   "outputs": [
    {
     "data": {
      "text/html": [
       "<div>\n",
       "<style scoped>\n",
       "    .dataframe tbody tr th:only-of-type {\n",
       "        vertical-align: middle;\n",
       "    }\n",
       "\n",
       "    .dataframe tbody tr th {\n",
       "        vertical-align: top;\n",
       "    }\n",
       "\n",
       "    .dataframe thead th {\n",
       "        text-align: right;\n",
       "    }\n",
       "</style>\n",
       "<table border=\"1\" class=\"dataframe\">\n",
       "  <thead>\n",
       "    <tr style=\"text-align: right;\">\n",
       "      <th></th>\n",
       "      <th>color</th>\n",
       "      <th>green</th>\n",
       "      <th>red</th>\n",
       "    </tr>\n",
       "    <tr>\n",
       "      <th>key1</th>\n",
       "      <th>key2</th>\n",
       "      <th></th>\n",
       "      <th></th>\n",
       "    </tr>\n",
       "  </thead>\n",
       "  <tbody>\n",
       "    <tr>\n",
       "      <td rowspan=\"2\" valign=\"top\">a</td>\n",
       "      <td>1</td>\n",
       "      <td>2</td>\n",
       "      <td>1</td>\n",
       "    </tr>\n",
       "    <tr>\n",
       "      <td>2</td>\n",
       "      <td>8</td>\n",
       "      <td>4</td>\n",
       "    </tr>\n",
       "    <tr>\n",
       "      <td rowspan=\"2\" valign=\"top\">b</td>\n",
       "      <td>1</td>\n",
       "      <td>14</td>\n",
       "      <td>7</td>\n",
       "    </tr>\n",
       "    <tr>\n",
       "      <td>2</td>\n",
       "      <td>20</td>\n",
       "      <td>10</td>\n",
       "    </tr>\n",
       "  </tbody>\n",
       "</table>\n",
       "</div>"
      ],
      "text/plain": [
       "color      green  red\n",
       "key1 key2            \n",
       "a    1         2    1\n",
       "     2         8    4\n",
       "b    1        14    7\n",
       "     2        20   10"
      ]
     },
     "execution_count": 38,
     "metadata": {},
     "output_type": "execute_result"
    }
   ],
   "source": [
    "data_df.sum(level='color',axis=1)"
   ]
  },
  {
   "cell_type": "code",
   "execution_count": 39,
   "metadata": {},
   "outputs": [
    {
     "data": {
      "text/html": [
       "<div>\n",
       "<style scoped>\n",
       "    .dataframe tbody tr th:only-of-type {\n",
       "        vertical-align: middle;\n",
       "    }\n",
       "\n",
       "    .dataframe tbody tr th {\n",
       "        vertical-align: top;\n",
       "    }\n",
       "\n",
       "    .dataframe thead th {\n",
       "        text-align: right;\n",
       "    }\n",
       "</style>\n",
       "<table border=\"1\" class=\"dataframe\">\n",
       "  <thead>\n",
       "    <tr style=\"text-align: right;\">\n",
       "      <th></th>\n",
       "      <th>state</th>\n",
       "      <th>ohio</th>\n",
       "      <th>colorada</th>\n",
       "    </tr>\n",
       "    <tr>\n",
       "      <th>key1</th>\n",
       "      <th>key2</th>\n",
       "      <th></th>\n",
       "      <th></th>\n",
       "    </tr>\n",
       "  </thead>\n",
       "  <tbody>\n",
       "    <tr>\n",
       "      <td rowspan=\"2\" valign=\"top\">a</td>\n",
       "      <td>1</td>\n",
       "      <td>1</td>\n",
       "      <td>2</td>\n",
       "    </tr>\n",
       "    <tr>\n",
       "      <td>2</td>\n",
       "      <td>7</td>\n",
       "      <td>5</td>\n",
       "    </tr>\n",
       "    <tr>\n",
       "      <td rowspan=\"2\" valign=\"top\">b</td>\n",
       "      <td>1</td>\n",
       "      <td>13</td>\n",
       "      <td>8</td>\n",
       "    </tr>\n",
       "    <tr>\n",
       "      <td>2</td>\n",
       "      <td>19</td>\n",
       "      <td>11</td>\n",
       "    </tr>\n",
       "  </tbody>\n",
       "</table>\n",
       "</div>"
      ],
      "text/plain": [
       "state      ohio  colorada\n",
       "key1 key2                \n",
       "a    1        1         2\n",
       "     2        7         5\n",
       "b    1       13         8\n",
       "     2       19        11"
      ]
     },
     "execution_count": 39,
     "metadata": {},
     "output_type": "execute_result"
    }
   ],
   "source": [
    "data_df.sum(level='state',axis=1)"
   ]
  },
  {
   "cell_type": "code",
   "execution_count": 47,
   "metadata": {},
   "outputs": [
    {
     "data": {
      "text/html": [
       "<div>\n",
       "<style scoped>\n",
       "    .dataframe tbody tr th:only-of-type {\n",
       "        vertical-align: middle;\n",
       "    }\n",
       "\n",
       "    .dataframe tbody tr th {\n",
       "        vertical-align: top;\n",
       "    }\n",
       "\n",
       "    .dataframe thead th {\n",
       "        text-align: right;\n",
       "    }\n",
       "</style>\n",
       "<table border=\"1\" class=\"dataframe\">\n",
       "  <thead>\n",
       "    <tr style=\"text-align: right;\">\n",
       "      <th></th>\n",
       "      <th>a</th>\n",
       "      <th>b</th>\n",
       "      <th>c</th>\n",
       "      <th>d</th>\n",
       "    </tr>\n",
       "  </thead>\n",
       "  <tbody>\n",
       "    <tr>\n",
       "      <td>0</td>\n",
       "      <td>0</td>\n",
       "      <td>7</td>\n",
       "      <td>one</td>\n",
       "      <td>0</td>\n",
       "    </tr>\n",
       "    <tr>\n",
       "      <td>1</td>\n",
       "      <td>1</td>\n",
       "      <td>6</td>\n",
       "      <td>one</td>\n",
       "      <td>1</td>\n",
       "    </tr>\n",
       "    <tr>\n",
       "      <td>2</td>\n",
       "      <td>2</td>\n",
       "      <td>5</td>\n",
       "      <td>one</td>\n",
       "      <td>2</td>\n",
       "    </tr>\n",
       "    <tr>\n",
       "      <td>3</td>\n",
       "      <td>3</td>\n",
       "      <td>4</td>\n",
       "      <td>two</td>\n",
       "      <td>0</td>\n",
       "    </tr>\n",
       "    <tr>\n",
       "      <td>4</td>\n",
       "      <td>4</td>\n",
       "      <td>3</td>\n",
       "      <td>two</td>\n",
       "      <td>1</td>\n",
       "    </tr>\n",
       "    <tr>\n",
       "      <td>5</td>\n",
       "      <td>5</td>\n",
       "      <td>2</td>\n",
       "      <td>two</td>\n",
       "      <td>2</td>\n",
       "    </tr>\n",
       "    <tr>\n",
       "      <td>6</td>\n",
       "      <td>6</td>\n",
       "      <td>1</td>\n",
       "      <td>two</td>\n",
       "      <td>3</td>\n",
       "    </tr>\n",
       "  </tbody>\n",
       "</table>\n",
       "</div>"
      ],
      "text/plain": [
       "   a  b    c  d\n",
       "0  0  7  one  0\n",
       "1  1  6  one  1\n",
       "2  2  5  one  2\n",
       "3  3  4  two  0\n",
       "4  4  3  two  1\n",
       "5  5  2  two  2\n",
       "6  6  1  two  3"
      ]
     },
     "execution_count": 47,
     "metadata": {},
     "output_type": "execute_result"
    }
   ],
   "source": [
    "frame = pd.DataFrame({'a': range(7), 'b': range(7, 0, -1), \n",
    "                      'c': ['one', 'one', 'one', 'two', 'two','two', 'two'],   \n",
    "                      'd': [0, 1, 2, 0, 1, 2, 3]})\n",
    "frame"
   ]
  },
  {
   "cell_type": "code",
   "execution_count": 52,
   "metadata": {},
   "outputs": [
    {
     "data": {
      "text/html": [
       "<div>\n",
       "<style scoped>\n",
       "    .dataframe tbody tr th:only-of-type {\n",
       "        vertical-align: middle;\n",
       "    }\n",
       "\n",
       "    .dataframe tbody tr th {\n",
       "        vertical-align: top;\n",
       "    }\n",
       "\n",
       "    .dataframe thead th {\n",
       "        text-align: right;\n",
       "    }\n",
       "</style>\n",
       "<table border=\"1\" class=\"dataframe\">\n",
       "  <thead>\n",
       "    <tr style=\"text-align: right;\">\n",
       "      <th></th>\n",
       "      <th></th>\n",
       "      <th>a</th>\n",
       "      <th>b</th>\n",
       "    </tr>\n",
       "    <tr>\n",
       "      <th>c</th>\n",
       "      <th>d</th>\n",
       "      <th></th>\n",
       "      <th></th>\n",
       "    </tr>\n",
       "  </thead>\n",
       "  <tbody>\n",
       "    <tr>\n",
       "      <td rowspan=\"3\" valign=\"top\">one</td>\n",
       "      <td>0</td>\n",
       "      <td>0</td>\n",
       "      <td>7</td>\n",
       "    </tr>\n",
       "    <tr>\n",
       "      <td>1</td>\n",
       "      <td>1</td>\n",
       "      <td>6</td>\n",
       "    </tr>\n",
       "    <tr>\n",
       "      <td>2</td>\n",
       "      <td>2</td>\n",
       "      <td>5</td>\n",
       "    </tr>\n",
       "    <tr>\n",
       "      <td rowspan=\"4\" valign=\"top\">two</td>\n",
       "      <td>0</td>\n",
       "      <td>3</td>\n",
       "      <td>4</td>\n",
       "    </tr>\n",
       "    <tr>\n",
       "      <td>1</td>\n",
       "      <td>4</td>\n",
       "      <td>3</td>\n",
       "    </tr>\n",
       "    <tr>\n",
       "      <td>2</td>\n",
       "      <td>5</td>\n",
       "      <td>2</td>\n",
       "    </tr>\n",
       "    <tr>\n",
       "      <td>3</td>\n",
       "      <td>6</td>\n",
       "      <td>1</td>\n",
       "    </tr>\n",
       "  </tbody>\n",
       "</table>\n",
       "</div>"
      ],
      "text/plain": [
       "       a  b\n",
       "c   d      \n",
       "one 0  0  7\n",
       "    1  1  6\n",
       "    2  2  5\n",
       "two 0  3  4\n",
       "    1  4  3\n",
       "    2  5  2\n",
       "    3  6  1"
      ]
     },
     "execution_count": 52,
     "metadata": {},
     "output_type": "execute_result"
    }
   ],
   "source": [
    "frame2=frame.set_index(['c','d'])\n",
    "frame2"
   ]
  },
  {
   "cell_type": "code",
   "execution_count": 50,
   "metadata": {},
   "outputs": [
    {
     "data": {
      "text/html": [
       "<div>\n",
       "<style scoped>\n",
       "    .dataframe tbody tr th:only-of-type {\n",
       "        vertical-align: middle;\n",
       "    }\n",
       "\n",
       "    .dataframe tbody tr th {\n",
       "        vertical-align: top;\n",
       "    }\n",
       "\n",
       "    .dataframe thead th {\n",
       "        text-align: right;\n",
       "    }\n",
       "</style>\n",
       "<table border=\"1\" class=\"dataframe\">\n",
       "  <thead>\n",
       "    <tr style=\"text-align: right;\">\n",
       "      <th></th>\n",
       "      <th></th>\n",
       "      <th>a</th>\n",
       "      <th>b</th>\n",
       "      <th>c</th>\n",
       "      <th>d</th>\n",
       "    </tr>\n",
       "    <tr>\n",
       "      <th>c</th>\n",
       "      <th>d</th>\n",
       "      <th></th>\n",
       "      <th></th>\n",
       "      <th></th>\n",
       "      <th></th>\n",
       "    </tr>\n",
       "  </thead>\n",
       "  <tbody>\n",
       "    <tr>\n",
       "      <td rowspan=\"3\" valign=\"top\">one</td>\n",
       "      <td>0</td>\n",
       "      <td>0</td>\n",
       "      <td>7</td>\n",
       "      <td>one</td>\n",
       "      <td>0</td>\n",
       "    </tr>\n",
       "    <tr>\n",
       "      <td>1</td>\n",
       "      <td>1</td>\n",
       "      <td>6</td>\n",
       "      <td>one</td>\n",
       "      <td>1</td>\n",
       "    </tr>\n",
       "    <tr>\n",
       "      <td>2</td>\n",
       "      <td>2</td>\n",
       "      <td>5</td>\n",
       "      <td>one</td>\n",
       "      <td>2</td>\n",
       "    </tr>\n",
       "    <tr>\n",
       "      <td rowspan=\"4\" valign=\"top\">two</td>\n",
       "      <td>0</td>\n",
       "      <td>3</td>\n",
       "      <td>4</td>\n",
       "      <td>two</td>\n",
       "      <td>0</td>\n",
       "    </tr>\n",
       "    <tr>\n",
       "      <td>1</td>\n",
       "      <td>4</td>\n",
       "      <td>3</td>\n",
       "      <td>two</td>\n",
       "      <td>1</td>\n",
       "    </tr>\n",
       "    <tr>\n",
       "      <td>2</td>\n",
       "      <td>5</td>\n",
       "      <td>2</td>\n",
       "      <td>two</td>\n",
       "      <td>2</td>\n",
       "    </tr>\n",
       "    <tr>\n",
       "      <td>3</td>\n",
       "      <td>6</td>\n",
       "      <td>1</td>\n",
       "      <td>two</td>\n",
       "      <td>3</td>\n",
       "    </tr>\n",
       "  </tbody>\n",
       "</table>\n",
       "</div>"
      ],
      "text/plain": [
       "       a  b    c  d\n",
       "c   d              \n",
       "one 0  0  7  one  0\n",
       "    1  1  6  one  1\n",
       "    2  2  5  one  2\n",
       "two 0  3  4  two  0\n",
       "    1  4  3  two  1\n",
       "    2  5  2  two  2\n",
       "    3  6  1  two  3"
      ]
     },
     "execution_count": 50,
     "metadata": {},
     "output_type": "execute_result"
    }
   ],
   "source": [
    "frame.set_index(['c','d'],drop=False) #set index and didnot remove column from dataframe"
   ]
  },
  {
   "cell_type": "code",
   "execution_count": 51,
   "metadata": {},
   "outputs": [
    {
     "data": {
      "text/html": [
       "<div>\n",
       "<style scoped>\n",
       "    .dataframe tbody tr th:only-of-type {\n",
       "        vertical-align: middle;\n",
       "    }\n",
       "\n",
       "    .dataframe tbody tr th {\n",
       "        vertical-align: top;\n",
       "    }\n",
       "\n",
       "    .dataframe thead th {\n",
       "        text-align: right;\n",
       "    }\n",
       "</style>\n",
       "<table border=\"1\" class=\"dataframe\">\n",
       "  <thead>\n",
       "    <tr style=\"text-align: right;\">\n",
       "      <th></th>\n",
       "      <th>index</th>\n",
       "      <th>a</th>\n",
       "      <th>b</th>\n",
       "      <th>c</th>\n",
       "      <th>d</th>\n",
       "    </tr>\n",
       "  </thead>\n",
       "  <tbody>\n",
       "    <tr>\n",
       "      <td>0</td>\n",
       "      <td>0</td>\n",
       "      <td>0</td>\n",
       "      <td>7</td>\n",
       "      <td>one</td>\n",
       "      <td>0</td>\n",
       "    </tr>\n",
       "    <tr>\n",
       "      <td>1</td>\n",
       "      <td>1</td>\n",
       "      <td>1</td>\n",
       "      <td>6</td>\n",
       "      <td>one</td>\n",
       "      <td>1</td>\n",
       "    </tr>\n",
       "    <tr>\n",
       "      <td>2</td>\n",
       "      <td>2</td>\n",
       "      <td>2</td>\n",
       "      <td>5</td>\n",
       "      <td>one</td>\n",
       "      <td>2</td>\n",
       "    </tr>\n",
       "    <tr>\n",
       "      <td>3</td>\n",
       "      <td>3</td>\n",
       "      <td>3</td>\n",
       "      <td>4</td>\n",
       "      <td>two</td>\n",
       "      <td>0</td>\n",
       "    </tr>\n",
       "    <tr>\n",
       "      <td>4</td>\n",
       "      <td>4</td>\n",
       "      <td>4</td>\n",
       "      <td>3</td>\n",
       "      <td>two</td>\n",
       "      <td>1</td>\n",
       "    </tr>\n",
       "    <tr>\n",
       "      <td>5</td>\n",
       "      <td>5</td>\n",
       "      <td>5</td>\n",
       "      <td>2</td>\n",
       "      <td>two</td>\n",
       "      <td>2</td>\n",
       "    </tr>\n",
       "    <tr>\n",
       "      <td>6</td>\n",
       "      <td>6</td>\n",
       "      <td>6</td>\n",
       "      <td>1</td>\n",
       "      <td>two</td>\n",
       "      <td>3</td>\n",
       "    </tr>\n",
       "  </tbody>\n",
       "</table>\n",
       "</div>"
      ],
      "text/plain": [
       "   index  a  b    c  d\n",
       "0      0  0  7  one  0\n",
       "1      1  1  6  one  1\n",
       "2      2  2  5  one  2\n",
       "3      3  3  4  two  0\n",
       "4      4  4  3  two  1\n",
       "5      5  5  2  two  2\n",
       "6      6  6  1  two  3"
      ]
     },
     "execution_count": 51,
     "metadata": {},
     "output_type": "execute_result"
    }
   ],
   "source": [
    "frame.reset_index()"
   ]
  },
  {
   "cell_type": "code",
   "execution_count": 53,
   "metadata": {},
   "outputs": [
    {
     "data": {
      "text/html": [
       "<div>\n",
       "<style scoped>\n",
       "    .dataframe tbody tr th:only-of-type {\n",
       "        vertical-align: middle;\n",
       "    }\n",
       "\n",
       "    .dataframe tbody tr th {\n",
       "        vertical-align: top;\n",
       "    }\n",
       "\n",
       "    .dataframe thead th {\n",
       "        text-align: right;\n",
       "    }\n",
       "</style>\n",
       "<table border=\"1\" class=\"dataframe\">\n",
       "  <thead>\n",
       "    <tr style=\"text-align: right;\">\n",
       "      <th></th>\n",
       "      <th>c</th>\n",
       "      <th>d</th>\n",
       "      <th>a</th>\n",
       "      <th>b</th>\n",
       "    </tr>\n",
       "  </thead>\n",
       "  <tbody>\n",
       "    <tr>\n",
       "      <td>0</td>\n",
       "      <td>one</td>\n",
       "      <td>0</td>\n",
       "      <td>0</td>\n",
       "      <td>7</td>\n",
       "    </tr>\n",
       "    <tr>\n",
       "      <td>1</td>\n",
       "      <td>one</td>\n",
       "      <td>1</td>\n",
       "      <td>1</td>\n",
       "      <td>6</td>\n",
       "    </tr>\n",
       "    <tr>\n",
       "      <td>2</td>\n",
       "      <td>one</td>\n",
       "      <td>2</td>\n",
       "      <td>2</td>\n",
       "      <td>5</td>\n",
       "    </tr>\n",
       "    <tr>\n",
       "      <td>3</td>\n",
       "      <td>two</td>\n",
       "      <td>0</td>\n",
       "      <td>3</td>\n",
       "      <td>4</td>\n",
       "    </tr>\n",
       "    <tr>\n",
       "      <td>4</td>\n",
       "      <td>two</td>\n",
       "      <td>1</td>\n",
       "      <td>4</td>\n",
       "      <td>3</td>\n",
       "    </tr>\n",
       "    <tr>\n",
       "      <td>5</td>\n",
       "      <td>two</td>\n",
       "      <td>2</td>\n",
       "      <td>5</td>\n",
       "      <td>2</td>\n",
       "    </tr>\n",
       "    <tr>\n",
       "      <td>6</td>\n",
       "      <td>two</td>\n",
       "      <td>3</td>\n",
       "      <td>6</td>\n",
       "      <td>1</td>\n",
       "    </tr>\n",
       "  </tbody>\n",
       "</table>\n",
       "</div>"
      ],
      "text/plain": [
       "     c  d  a  b\n",
       "0  one  0  0  7\n",
       "1  one  1  1  6\n",
       "2  one  2  2  5\n",
       "3  two  0  3  4\n",
       "4  two  1  4  3\n",
       "5  two  2  5  2\n",
       "6  two  3  6  1"
      ]
     },
     "execution_count": 53,
     "metadata": {},
     "output_type": "execute_result"
    }
   ],
   "source": [
    "frame2.reset_index()"
   ]
  },
  {
   "cell_type": "markdown",
   "metadata": {},
   "source": [
    "# Combining and Merging Datasets "
   ]
  },
  {
   "cell_type": "code",
   "execution_count": 22,
   "metadata": {},
   "outputs": [
    {
     "name": "stdout",
     "output_type": "stream",
     "text": [
      "  key  data1\n",
      "0   b      0\n",
      "1   b      1\n",
      "2   a      2\n",
      "3   c      3\n",
      "4   a      4\n",
      "5   a      5\n",
      "6   b      6\n",
      "  key  data2\n",
      "0   a      0\n",
      "1   b      1\n",
      "2   d      2\n"
     ]
    }
   ],
   "source": [
    "df1= pd.DataFrame({'key': ['b', 'b', 'a', 'c', 'a', 'a', 'b'],  \n",
    "                   'data1': range(7)})\n",
    "df2 = pd.DataFrame({'key': ['a', 'b', 'd'],  \n",
    "                    'data2': range(3)})\n",
    "print(df1)\n",
    "print(df2)"
   ]
  },
  {
   "cell_type": "code",
   "execution_count": 23,
   "metadata": {},
   "outputs": [
    {
     "data": {
      "text/html": [
       "<div>\n",
       "<style scoped>\n",
       "    .dataframe tbody tr th:only-of-type {\n",
       "        vertical-align: middle;\n",
       "    }\n",
       "\n",
       "    .dataframe tbody tr th {\n",
       "        vertical-align: top;\n",
       "    }\n",
       "\n",
       "    .dataframe thead th {\n",
       "        text-align: right;\n",
       "    }\n",
       "</style>\n",
       "<table border=\"1\" class=\"dataframe\">\n",
       "  <thead>\n",
       "    <tr style=\"text-align: right;\">\n",
       "      <th></th>\n",
       "      <th>key</th>\n",
       "      <th>data1</th>\n",
       "      <th>data2</th>\n",
       "    </tr>\n",
       "  </thead>\n",
       "  <tbody>\n",
       "    <tr>\n",
       "      <td>0</td>\n",
       "      <td>b</td>\n",
       "      <td>0</td>\n",
       "      <td>1</td>\n",
       "    </tr>\n",
       "    <tr>\n",
       "      <td>1</td>\n",
       "      <td>b</td>\n",
       "      <td>1</td>\n",
       "      <td>1</td>\n",
       "    </tr>\n",
       "    <tr>\n",
       "      <td>2</td>\n",
       "      <td>b</td>\n",
       "      <td>6</td>\n",
       "      <td>1</td>\n",
       "    </tr>\n",
       "    <tr>\n",
       "      <td>3</td>\n",
       "      <td>a</td>\n",
       "      <td>2</td>\n",
       "      <td>0</td>\n",
       "    </tr>\n",
       "    <tr>\n",
       "      <td>4</td>\n",
       "      <td>a</td>\n",
       "      <td>4</td>\n",
       "      <td>0</td>\n",
       "    </tr>\n",
       "    <tr>\n",
       "      <td>5</td>\n",
       "      <td>a</td>\n",
       "      <td>5</td>\n",
       "      <td>0</td>\n",
       "    </tr>\n",
       "  </tbody>\n",
       "</table>\n",
       "</div>"
      ],
      "text/plain": [
       "  key  data1  data2\n",
       "0   b      0      1\n",
       "1   b      1      1\n",
       "2   b      6      1\n",
       "3   a      2      0\n",
       "4   a      4      0\n",
       "5   a      5      0"
      ]
     },
     "execution_count": 23,
     "metadata": {},
     "output_type": "execute_result"
    }
   ],
   "source": [
    "pd.merge(df1,df2)"
   ]
  },
  {
   "cell_type": "code",
   "execution_count": 24,
   "metadata": {},
   "outputs": [
    {
     "data": {
      "text/html": [
       "<div>\n",
       "<style scoped>\n",
       "    .dataframe tbody tr th:only-of-type {\n",
       "        vertical-align: middle;\n",
       "    }\n",
       "\n",
       "    .dataframe tbody tr th {\n",
       "        vertical-align: top;\n",
       "    }\n",
       "\n",
       "    .dataframe thead th {\n",
       "        text-align: right;\n",
       "    }\n",
       "</style>\n",
       "<table border=\"1\" class=\"dataframe\">\n",
       "  <thead>\n",
       "    <tr style=\"text-align: right;\">\n",
       "      <th></th>\n",
       "      <th>key</th>\n",
       "      <th>data2</th>\n",
       "      <th>data1</th>\n",
       "    </tr>\n",
       "  </thead>\n",
       "  <tbody>\n",
       "    <tr>\n",
       "      <td>0</td>\n",
       "      <td>a</td>\n",
       "      <td>0</td>\n",
       "      <td>2</td>\n",
       "    </tr>\n",
       "    <tr>\n",
       "      <td>1</td>\n",
       "      <td>a</td>\n",
       "      <td>0</td>\n",
       "      <td>4</td>\n",
       "    </tr>\n",
       "    <tr>\n",
       "      <td>2</td>\n",
       "      <td>a</td>\n",
       "      <td>0</td>\n",
       "      <td>5</td>\n",
       "    </tr>\n",
       "    <tr>\n",
       "      <td>3</td>\n",
       "      <td>b</td>\n",
       "      <td>1</td>\n",
       "      <td>0</td>\n",
       "    </tr>\n",
       "    <tr>\n",
       "      <td>4</td>\n",
       "      <td>b</td>\n",
       "      <td>1</td>\n",
       "      <td>1</td>\n",
       "    </tr>\n",
       "    <tr>\n",
       "      <td>5</td>\n",
       "      <td>b</td>\n",
       "      <td>1</td>\n",
       "      <td>6</td>\n",
       "    </tr>\n",
       "  </tbody>\n",
       "</table>\n",
       "</div>"
      ],
      "text/plain": [
       "  key  data2  data1\n",
       "0   a      0      2\n",
       "1   a      0      4\n",
       "2   a      0      5\n",
       "3   b      1      0\n",
       "4   b      1      1\n",
       "5   b      1      6"
      ]
     },
     "execution_count": 24,
     "metadata": {},
     "output_type": "execute_result"
    }
   ],
   "source": [
    "pd.merge(df2,df1)"
   ]
  },
  {
   "cell_type": "code",
   "execution_count": 25,
   "metadata": {},
   "outputs": [
    {
     "data": {
      "text/html": [
       "<div>\n",
       "<style scoped>\n",
       "    .dataframe tbody tr th:only-of-type {\n",
       "        vertical-align: middle;\n",
       "    }\n",
       "\n",
       "    .dataframe tbody tr th {\n",
       "        vertical-align: top;\n",
       "    }\n",
       "\n",
       "    .dataframe thead th {\n",
       "        text-align: right;\n",
       "    }\n",
       "</style>\n",
       "<table border=\"1\" class=\"dataframe\">\n",
       "  <thead>\n",
       "    <tr style=\"text-align: right;\">\n",
       "      <th></th>\n",
       "      <th>key</th>\n",
       "      <th>data1</th>\n",
       "      <th>data2</th>\n",
       "    </tr>\n",
       "  </thead>\n",
       "  <tbody>\n",
       "    <tr>\n",
       "      <td>0</td>\n",
       "      <td>b</td>\n",
       "      <td>0</td>\n",
       "      <td>1</td>\n",
       "    </tr>\n",
       "    <tr>\n",
       "      <td>1</td>\n",
       "      <td>b</td>\n",
       "      <td>1</td>\n",
       "      <td>1</td>\n",
       "    </tr>\n",
       "    <tr>\n",
       "      <td>2</td>\n",
       "      <td>b</td>\n",
       "      <td>6</td>\n",
       "      <td>1</td>\n",
       "    </tr>\n",
       "    <tr>\n",
       "      <td>3</td>\n",
       "      <td>a</td>\n",
       "      <td>2</td>\n",
       "      <td>0</td>\n",
       "    </tr>\n",
       "    <tr>\n",
       "      <td>4</td>\n",
       "      <td>a</td>\n",
       "      <td>4</td>\n",
       "      <td>0</td>\n",
       "    </tr>\n",
       "    <tr>\n",
       "      <td>5</td>\n",
       "      <td>a</td>\n",
       "      <td>5</td>\n",
       "      <td>0</td>\n",
       "    </tr>\n",
       "  </tbody>\n",
       "</table>\n",
       "</div>"
      ],
      "text/plain": [
       "  key  data1  data2\n",
       "0   b      0      1\n",
       "1   b      1      1\n",
       "2   b      6      1\n",
       "3   a      2      0\n",
       "4   a      4      0\n",
       "5   a      5      0"
      ]
     },
     "execution_count": 25,
     "metadata": {},
     "output_type": "execute_result"
    }
   ],
   "source": [
    "pd.merge(df1,df2,on='key')"
   ]
  },
  {
   "cell_type": "code",
   "execution_count": 26,
   "metadata": {},
   "outputs": [
    {
     "name": "stdout",
     "output_type": "stream",
     "text": [
      "  lkey  data1\n",
      "0    b      0\n",
      "1    b      1\n",
      "2    a      2\n",
      "3    c      3\n",
      "4    a      4\n",
      "5    a      5\n",
      "6    b      6\n",
      "  rkey  data2\n",
      "0    a      0\n",
      "1    b      1\n",
      "2    d      2\n"
     ]
    }
   ],
   "source": [
    "df3 = pd.DataFrame({'lkey': ['b', 'b', 'a', 'c', 'a', 'a', 'b'],  \n",
    "                    'data1': range(7)})\n",
    "df4 = pd.DataFrame({'rkey': ['a', 'b', 'd'],   \n",
    "                    'data2': range(3)})\n",
    "print(df3)\n",
    "print(df4)"
   ]
  },
  {
   "cell_type": "code",
   "execution_count": 27,
   "metadata": {},
   "outputs": [
    {
     "data": {
      "text/html": [
       "<div>\n",
       "<style scoped>\n",
       "    .dataframe tbody tr th:only-of-type {\n",
       "        vertical-align: middle;\n",
       "    }\n",
       "\n",
       "    .dataframe tbody tr th {\n",
       "        vertical-align: top;\n",
       "    }\n",
       "\n",
       "    .dataframe thead th {\n",
       "        text-align: right;\n",
       "    }\n",
       "</style>\n",
       "<table border=\"1\" class=\"dataframe\">\n",
       "  <thead>\n",
       "    <tr style=\"text-align: right;\">\n",
       "      <th></th>\n",
       "      <th>lkey</th>\n",
       "      <th>data1</th>\n",
       "      <th>rkey</th>\n",
       "      <th>data2</th>\n",
       "    </tr>\n",
       "  </thead>\n",
       "  <tbody>\n",
       "    <tr>\n",
       "      <td>0</td>\n",
       "      <td>b</td>\n",
       "      <td>0</td>\n",
       "      <td>b</td>\n",
       "      <td>1</td>\n",
       "    </tr>\n",
       "    <tr>\n",
       "      <td>1</td>\n",
       "      <td>b</td>\n",
       "      <td>1</td>\n",
       "      <td>b</td>\n",
       "      <td>1</td>\n",
       "    </tr>\n",
       "    <tr>\n",
       "      <td>2</td>\n",
       "      <td>b</td>\n",
       "      <td>6</td>\n",
       "      <td>b</td>\n",
       "      <td>1</td>\n",
       "    </tr>\n",
       "    <tr>\n",
       "      <td>3</td>\n",
       "      <td>a</td>\n",
       "      <td>2</td>\n",
       "      <td>a</td>\n",
       "      <td>0</td>\n",
       "    </tr>\n",
       "    <tr>\n",
       "      <td>4</td>\n",
       "      <td>a</td>\n",
       "      <td>4</td>\n",
       "      <td>a</td>\n",
       "      <td>0</td>\n",
       "    </tr>\n",
       "    <tr>\n",
       "      <td>5</td>\n",
       "      <td>a</td>\n",
       "      <td>5</td>\n",
       "      <td>a</td>\n",
       "      <td>0</td>\n",
       "    </tr>\n",
       "  </tbody>\n",
       "</table>\n",
       "</div>"
      ],
      "text/plain": [
       "  lkey  data1 rkey  data2\n",
       "0    b      0    b      1\n",
       "1    b      1    b      1\n",
       "2    b      6    b      1\n",
       "3    a      2    a      0\n",
       "4    a      4    a      0\n",
       "5    a      5    a      0"
      ]
     },
     "execution_count": 27,
     "metadata": {},
     "output_type": "execute_result"
    }
   ],
   "source": [
    "pd.merge(df3,df4,right_on='rkey',left_on='lkey')"
   ]
  },
  {
   "cell_type": "code",
   "execution_count": 28,
   "metadata": {},
   "outputs": [
    {
     "data": {
      "text/html": [
       "<div>\n",
       "<style scoped>\n",
       "    .dataframe tbody tr th:only-of-type {\n",
       "        vertical-align: middle;\n",
       "    }\n",
       "\n",
       "    .dataframe tbody tr th {\n",
       "        vertical-align: top;\n",
       "    }\n",
       "\n",
       "    .dataframe thead th {\n",
       "        text-align: right;\n",
       "    }\n",
       "</style>\n",
       "<table border=\"1\" class=\"dataframe\">\n",
       "  <thead>\n",
       "    <tr style=\"text-align: right;\">\n",
       "      <th></th>\n",
       "      <th>lkey</th>\n",
       "      <th>data1</th>\n",
       "    </tr>\n",
       "  </thead>\n",
       "  <tbody>\n",
       "    <tr>\n",
       "      <td>0</td>\n",
       "      <td>b</td>\n",
       "      <td>0</td>\n",
       "    </tr>\n",
       "    <tr>\n",
       "      <td>1</td>\n",
       "      <td>b</td>\n",
       "      <td>1</td>\n",
       "    </tr>\n",
       "    <tr>\n",
       "      <td>2</td>\n",
       "      <td>a</td>\n",
       "      <td>2</td>\n",
       "    </tr>\n",
       "    <tr>\n",
       "      <td>3</td>\n",
       "      <td>c</td>\n",
       "      <td>3</td>\n",
       "    </tr>\n",
       "    <tr>\n",
       "      <td>4</td>\n",
       "      <td>a</td>\n",
       "      <td>4</td>\n",
       "    </tr>\n",
       "    <tr>\n",
       "      <td>5</td>\n",
       "      <td>a</td>\n",
       "      <td>5</td>\n",
       "    </tr>\n",
       "    <tr>\n",
       "      <td>6</td>\n",
       "      <td>b</td>\n",
       "      <td>6</td>\n",
       "    </tr>\n",
       "  </tbody>\n",
       "</table>\n",
       "</div>"
      ],
      "text/plain": [
       "  lkey  data1\n",
       "0    b      0\n",
       "1    b      1\n",
       "2    a      2\n",
       "3    c      3\n",
       "4    a      4\n",
       "5    a      5\n",
       "6    b      6"
      ]
     },
     "execution_count": 28,
     "metadata": {},
     "output_type": "execute_result"
    }
   ],
   "source": [
    "df3"
   ]
  },
  {
   "cell_type": "code",
   "execution_count": 30,
   "metadata": {},
   "outputs": [
    {
     "data": {
      "text/html": [
       "<div>\n",
       "<style scoped>\n",
       "    .dataframe tbody tr th:only-of-type {\n",
       "        vertical-align: middle;\n",
       "    }\n",
       "\n",
       "    .dataframe tbody tr th {\n",
       "        vertical-align: top;\n",
       "    }\n",
       "\n",
       "    .dataframe thead th {\n",
       "        text-align: right;\n",
       "    }\n",
       "</style>\n",
       "<table border=\"1\" class=\"dataframe\">\n",
       "  <thead>\n",
       "    <tr style=\"text-align: right;\">\n",
       "      <th></th>\n",
       "      <th>lkey</th>\n",
       "      <th>data1</th>\n",
       "      <th>rkey</th>\n",
       "      <th>data2</th>\n",
       "    </tr>\n",
       "  </thead>\n",
       "  <tbody>\n",
       "    <tr>\n",
       "      <td>0</td>\n",
       "      <td>b</td>\n",
       "      <td>0.0</td>\n",
       "      <td>b</td>\n",
       "      <td>1.0</td>\n",
       "    </tr>\n",
       "    <tr>\n",
       "      <td>1</td>\n",
       "      <td>b</td>\n",
       "      <td>1.0</td>\n",
       "      <td>b</td>\n",
       "      <td>1.0</td>\n",
       "    </tr>\n",
       "    <tr>\n",
       "      <td>2</td>\n",
       "      <td>b</td>\n",
       "      <td>6.0</td>\n",
       "      <td>b</td>\n",
       "      <td>1.0</td>\n",
       "    </tr>\n",
       "    <tr>\n",
       "      <td>3</td>\n",
       "      <td>a</td>\n",
       "      <td>2.0</td>\n",
       "      <td>a</td>\n",
       "      <td>0.0</td>\n",
       "    </tr>\n",
       "    <tr>\n",
       "      <td>4</td>\n",
       "      <td>a</td>\n",
       "      <td>4.0</td>\n",
       "      <td>a</td>\n",
       "      <td>0.0</td>\n",
       "    </tr>\n",
       "    <tr>\n",
       "      <td>5</td>\n",
       "      <td>a</td>\n",
       "      <td>5.0</td>\n",
       "      <td>a</td>\n",
       "      <td>0.0</td>\n",
       "    </tr>\n",
       "    <tr>\n",
       "      <td>6</td>\n",
       "      <td>c</td>\n",
       "      <td>3.0</td>\n",
       "      <td>NaN</td>\n",
       "      <td>NaN</td>\n",
       "    </tr>\n",
       "    <tr>\n",
       "      <td>7</td>\n",
       "      <td>NaN</td>\n",
       "      <td>NaN</td>\n",
       "      <td>d</td>\n",
       "      <td>2.0</td>\n",
       "    </tr>\n",
       "  </tbody>\n",
       "</table>\n",
       "</div>"
      ],
      "text/plain": [
       "  lkey  data1 rkey  data2\n",
       "0    b    0.0    b    1.0\n",
       "1    b    1.0    b    1.0\n",
       "2    b    6.0    b    1.0\n",
       "3    a    2.0    a    0.0\n",
       "4    a    4.0    a    0.0\n",
       "5    a    5.0    a    0.0\n",
       "6    c    3.0  NaN    NaN\n",
       "7  NaN    NaN    d    2.0"
      ]
     },
     "execution_count": 30,
     "metadata": {},
     "output_type": "execute_result"
    }
   ],
   "source": [
    "pd.merge(df3,df4,left_on=\"lkey\",right_on=\"rkey\",how=\"outer\")"
   ]
  },
  {
   "cell_type": "code",
   "execution_count": 31,
   "metadata": {},
   "outputs": [
    {
     "data": {
      "text/html": [
       "<div>\n",
       "<style scoped>\n",
       "    .dataframe tbody tr th:only-of-type {\n",
       "        vertical-align: middle;\n",
       "    }\n",
       "\n",
       "    .dataframe tbody tr th {\n",
       "        vertical-align: top;\n",
       "    }\n",
       "\n",
       "    .dataframe thead th {\n",
       "        text-align: right;\n",
       "    }\n",
       "</style>\n",
       "<table border=\"1\" class=\"dataframe\">\n",
       "  <thead>\n",
       "    <tr style=\"text-align: right;\">\n",
       "      <th></th>\n",
       "      <th>key</th>\n",
       "      <th>data1</th>\n",
       "      <th>data2</th>\n",
       "    </tr>\n",
       "  </thead>\n",
       "  <tbody>\n",
       "    <tr>\n",
       "      <td>0</td>\n",
       "      <td>b</td>\n",
       "      <td>0.0</td>\n",
       "      <td>1.0</td>\n",
       "    </tr>\n",
       "    <tr>\n",
       "      <td>1</td>\n",
       "      <td>b</td>\n",
       "      <td>1.0</td>\n",
       "      <td>1.0</td>\n",
       "    </tr>\n",
       "    <tr>\n",
       "      <td>2</td>\n",
       "      <td>b</td>\n",
       "      <td>6.0</td>\n",
       "      <td>1.0</td>\n",
       "    </tr>\n",
       "    <tr>\n",
       "      <td>3</td>\n",
       "      <td>a</td>\n",
       "      <td>2.0</td>\n",
       "      <td>0.0</td>\n",
       "    </tr>\n",
       "    <tr>\n",
       "      <td>4</td>\n",
       "      <td>a</td>\n",
       "      <td>4.0</td>\n",
       "      <td>0.0</td>\n",
       "    </tr>\n",
       "    <tr>\n",
       "      <td>5</td>\n",
       "      <td>a</td>\n",
       "      <td>5.0</td>\n",
       "      <td>0.0</td>\n",
       "    </tr>\n",
       "    <tr>\n",
       "      <td>6</td>\n",
       "      <td>c</td>\n",
       "      <td>3.0</td>\n",
       "      <td>NaN</td>\n",
       "    </tr>\n",
       "    <tr>\n",
       "      <td>7</td>\n",
       "      <td>d</td>\n",
       "      <td>NaN</td>\n",
       "      <td>2.0</td>\n",
       "    </tr>\n",
       "  </tbody>\n",
       "</table>\n",
       "</div>"
      ],
      "text/plain": [
       "  key  data1  data2\n",
       "0   b    0.0    1.0\n",
       "1   b    1.0    1.0\n",
       "2   b    6.0    1.0\n",
       "3   a    2.0    0.0\n",
       "4   a    4.0    0.0\n",
       "5   a    5.0    0.0\n",
       "6   c    3.0    NaN\n",
       "7   d    NaN    2.0"
      ]
     },
     "execution_count": 31,
     "metadata": {},
     "output_type": "execute_result"
    }
   ],
   "source": [
    "pd.merge(df1,df2,how='outer')"
   ]
  },
  {
   "cell_type": "code",
   "execution_count": 32,
   "metadata": {},
   "outputs": [
    {
     "data": {
      "text/html": [
       "<div>\n",
       "<style scoped>\n",
       "    .dataframe tbody tr th:only-of-type {\n",
       "        vertical-align: middle;\n",
       "    }\n",
       "\n",
       "    .dataframe tbody tr th {\n",
       "        vertical-align: top;\n",
       "    }\n",
       "\n",
       "    .dataframe thead th {\n",
       "        text-align: right;\n",
       "    }\n",
       "</style>\n",
       "<table border=\"1\" class=\"dataframe\">\n",
       "  <thead>\n",
       "    <tr style=\"text-align: right;\">\n",
       "      <th></th>\n",
       "      <th>key</th>\n",
       "      <th>data1</th>\n",
       "      <th>data2</th>\n",
       "    </tr>\n",
       "  </thead>\n",
       "  <tbody>\n",
       "    <tr>\n",
       "      <td>0</td>\n",
       "      <td>b</td>\n",
       "      <td>0</td>\n",
       "      <td>1.0</td>\n",
       "    </tr>\n",
       "    <tr>\n",
       "      <td>1</td>\n",
       "      <td>b</td>\n",
       "      <td>1</td>\n",
       "      <td>1.0</td>\n",
       "    </tr>\n",
       "    <tr>\n",
       "      <td>2</td>\n",
       "      <td>a</td>\n",
       "      <td>2</td>\n",
       "      <td>0.0</td>\n",
       "    </tr>\n",
       "    <tr>\n",
       "      <td>3</td>\n",
       "      <td>c</td>\n",
       "      <td>3</td>\n",
       "      <td>NaN</td>\n",
       "    </tr>\n",
       "    <tr>\n",
       "      <td>4</td>\n",
       "      <td>a</td>\n",
       "      <td>4</td>\n",
       "      <td>0.0</td>\n",
       "    </tr>\n",
       "    <tr>\n",
       "      <td>5</td>\n",
       "      <td>a</td>\n",
       "      <td>5</td>\n",
       "      <td>0.0</td>\n",
       "    </tr>\n",
       "    <tr>\n",
       "      <td>6</td>\n",
       "      <td>b</td>\n",
       "      <td>6</td>\n",
       "      <td>1.0</td>\n",
       "    </tr>\n",
       "  </tbody>\n",
       "</table>\n",
       "</div>"
      ],
      "text/plain": [
       "  key  data1  data2\n",
       "0   b      0    1.0\n",
       "1   b      1    1.0\n",
       "2   a      2    0.0\n",
       "3   c      3    NaN\n",
       "4   a      4    0.0\n",
       "5   a      5    0.0\n",
       "6   b      6    1.0"
      ]
     },
     "execution_count": 32,
     "metadata": {},
     "output_type": "execute_result"
    }
   ],
   "source": [
    "pd.merge(df1,df2,how='left')"
   ]
  },
  {
   "cell_type": "code",
   "execution_count": 33,
   "metadata": {},
   "outputs": [
    {
     "data": {
      "text/html": [
       "<div>\n",
       "<style scoped>\n",
       "    .dataframe tbody tr th:only-of-type {\n",
       "        vertical-align: middle;\n",
       "    }\n",
       "\n",
       "    .dataframe tbody tr th {\n",
       "        vertical-align: top;\n",
       "    }\n",
       "\n",
       "    .dataframe thead th {\n",
       "        text-align: right;\n",
       "    }\n",
       "</style>\n",
       "<table border=\"1\" class=\"dataframe\">\n",
       "  <thead>\n",
       "    <tr style=\"text-align: right;\">\n",
       "      <th></th>\n",
       "      <th>key</th>\n",
       "      <th>data1</th>\n",
       "      <th>data2</th>\n",
       "    </tr>\n",
       "  </thead>\n",
       "  <tbody>\n",
       "    <tr>\n",
       "      <td>0</td>\n",
       "      <td>b</td>\n",
       "      <td>0.0</td>\n",
       "      <td>1</td>\n",
       "    </tr>\n",
       "    <tr>\n",
       "      <td>1</td>\n",
       "      <td>b</td>\n",
       "      <td>1.0</td>\n",
       "      <td>1</td>\n",
       "    </tr>\n",
       "    <tr>\n",
       "      <td>2</td>\n",
       "      <td>b</td>\n",
       "      <td>6.0</td>\n",
       "      <td>1</td>\n",
       "    </tr>\n",
       "    <tr>\n",
       "      <td>3</td>\n",
       "      <td>a</td>\n",
       "      <td>2.0</td>\n",
       "      <td>0</td>\n",
       "    </tr>\n",
       "    <tr>\n",
       "      <td>4</td>\n",
       "      <td>a</td>\n",
       "      <td>4.0</td>\n",
       "      <td>0</td>\n",
       "    </tr>\n",
       "    <tr>\n",
       "      <td>5</td>\n",
       "      <td>a</td>\n",
       "      <td>5.0</td>\n",
       "      <td>0</td>\n",
       "    </tr>\n",
       "    <tr>\n",
       "      <td>6</td>\n",
       "      <td>d</td>\n",
       "      <td>NaN</td>\n",
       "      <td>2</td>\n",
       "    </tr>\n",
       "  </tbody>\n",
       "</table>\n",
       "</div>"
      ],
      "text/plain": [
       "  key  data1  data2\n",
       "0   b    0.0      1\n",
       "1   b    1.0      1\n",
       "2   b    6.0      1\n",
       "3   a    2.0      0\n",
       "4   a    4.0      0\n",
       "5   a    5.0      0\n",
       "6   d    NaN      2"
      ]
     },
     "execution_count": 33,
     "metadata": {},
     "output_type": "execute_result"
    }
   ],
   "source": [
    "pd.merge(df1,df2,how='right')"
   ]
  },
  {
   "cell_type": "code",
   "execution_count": null,
   "metadata": {},
   "outputs": [],
   "source": []
  }
 ],
 "metadata": {
  "kernelspec": {
   "display_name": "Python 3",
   "language": "python",
   "name": "python3"
  },
  "language_info": {
   "codemirror_mode": {
    "name": "ipython",
    "version": 3
   },
   "file_extension": ".py",
   "mimetype": "text/x-python",
   "name": "python",
   "nbconvert_exporter": "python",
   "pygments_lexer": "ipython3",
   "version": "3.7.4"
  }
 },
 "nbformat": 4,
 "nbformat_minor": 2
}
