{
 "cells": [
  {
   "cell_type": "markdown",
   "metadata": {},
   "source": [
    "# Function "
   ]
  },
  {
   "cell_type": "code",
   "execution_count": 4,
   "metadata": {},
   "outputs": [],
   "source": [
    "def sum():\n",
    "    print(4+5)"
   ]
  },
  {
   "cell_type": "code",
   "execution_count": 6,
   "metadata": {},
   "outputs": [
    {
     "name": "stdout",
     "output_type": "stream",
     "text": [
      "9\n"
     ]
    }
   ],
   "source": [
    "sum()"
   ]
  },
  {
   "cell_type": "code",
   "execution_count": 7,
   "metadata": {},
   "outputs": [],
   "source": [
    "#function passing an arguments(parameterized function)\n",
    "def sum(a,b):\n",
    "    print(a+b)"
   ]
  },
  {
   "cell_type": "code",
   "execution_count": 8,
   "metadata": {},
   "outputs": [
    {
     "name": "stdout",
     "output_type": "stream",
     "text": [
      "1290\n"
     ]
    }
   ],
   "source": [
    "sum(300,990)"
   ]
  },
  {
   "cell_type": "code",
   "execution_count": 32,
   "metadata": {},
   "outputs": [],
   "source": [
    "#keyword argument\n",
    "def full_name(first,middle,last):\n",
    "    print(first,middle,last)\n",
    "    "
   ]
  },
  {
   "cell_type": "code",
   "execution_count": 35,
   "metadata": {},
   "outputs": [
    {
     "name": "stdout",
     "output_type": "stream",
     "text": [
      "Aqeel Atiq  Arain\n"
     ]
    }
   ],
   "source": [
    "full_name(first=\"Aqeel\",last=\"Arain\",middle=\"Atiq \")"
   ]
  },
  {
   "cell_type": "code",
   "execution_count": 11,
   "metadata": {},
   "outputs": [
    {
     "name": "stdout",
     "output_type": "stream",
     "text": [
      "Aqeel Atiq Arain\n"
     ]
    }
   ],
   "source": [
    "full_name('Aqeel',last=\"Arain\",middle=\"Atiq\")"
   ]
  },
  {
   "cell_type": "code",
   "execution_count": 13,
   "metadata": {},
   "outputs": [
    {
     "ename": "TypeError",
     "evalue": "full_name() got multiple values for argument 'middle'",
     "output_type": "error",
     "traceback": [
      "\u001b[1;31m---------------------------------------------------------------------------\u001b[0m",
      "\u001b[1;31mTypeError\u001b[0m                                 Traceback (most recent call last)",
      "\u001b[1;32m<ipython-input-13-a7124de45104>\u001b[0m in \u001b[0;36m<module>\u001b[1;34m\u001b[0m\n\u001b[1;32m----> 1\u001b[1;33m \u001b[0mfull_name\u001b[0m\u001b[1;33m(\u001b[0m\u001b[1;34m'Aqeel'\u001b[0m\u001b[1;33m,\u001b[0m\u001b[1;34m\"Arain\"\u001b[0m\u001b[1;33m,\u001b[0m\u001b[0mmiddle\u001b[0m\u001b[1;33m=\u001b[0m\u001b[1;34m\"Atiq\"\u001b[0m\u001b[1;33m)\u001b[0m\u001b[1;33m\u001b[0m\u001b[1;33m\u001b[0m\u001b[0m\n\u001b[0m",
      "\u001b[1;31mTypeError\u001b[0m: full_name() got multiple values for argument 'middle'"
     ]
    }
   ],
   "source": [
    "full_name('Aqeel',\"Arain\",middle=\"Atiq\")"
   ]
  },
  {
   "cell_type": "code",
   "execution_count": 36,
   "metadata": {},
   "outputs": [],
   "source": [
    "#Default parameter\n",
    "def full_name(first='',middle='',last=''):\n",
    "    print(first,middle,last)"
   ]
  },
  {
   "cell_type": "code",
   "execution_count": 37,
   "metadata": {},
   "outputs": [
    {
     "name": "stdout",
     "output_type": "stream",
     "text": [
      "aqeel  a\n"
     ]
    }
   ],
   "source": [
    "full_name(\"aqeel\",\"\",\"a\" )"
   ]
  },
  {
   "cell_type": "markdown",
   "metadata": {},
   "source": [
    "# dealing with unknown /arbitrary arguments"
   ]
  },
  {
   "cell_type": "code",
   "execution_count": 45,
   "metadata": {},
   "outputs": [],
   "source": [
    "def pizza(size,flavor,*topping):\n",
    "    print(f\"your ordered piazza size is {size}, flavor is {flavor} and topping is {topping}\")"
   ]
  },
  {
   "cell_type": "code",
   "execution_count": 46,
   "metadata": {},
   "outputs": [
    {
     "name": "stdout",
     "output_type": "stream",
     "text": [
      "your ordered piazza size is 12, flavor is tikka and topping is ('cheese',)\n"
     ]
    }
   ],
   "source": [
    "pizza(12,'tikka','cheese')"
   ]
  },
  {
   "cell_type": "code",
   "execution_count": 47,
   "metadata": {},
   "outputs": [
    {
     "name": "stdout",
     "output_type": "stream",
     "text": [
      "your ordered piazza size is 12, flavor is tikka and topping is ('cheese', 'olive')\n"
     ]
    }
   ],
   "source": [
    "pizza(12,'tikka','cheese','olive')"
   ]
  },
  {
   "cell_type": "markdown",
   "metadata": {},
   "source": [
    "# function: passing information back from them"
   ]
  },
  {
   "cell_type": "code",
   "execution_count": 52,
   "metadata": {},
   "outputs": [],
   "source": [
    "#using return keyword we can return / get value from the function\n",
    "def mul(a,b):\n",
    "    ans=a*b\n",
    "    return f\"this is answer after multiplication {ans} \"\n",
    "    "
   ]
  },
  {
   "cell_type": "code",
   "execution_count": 53,
   "metadata": {},
   "outputs": [
    {
     "data": {
      "text/plain": [
       "'this is answer after multiplication 840 '"
      ]
     },
     "execution_count": 53,
     "metadata": {},
     "output_type": "execute_result"
    }
   ],
   "source": [
    "mul(12,70)"
   ]
  },
  {
   "cell_type": "markdown",
   "metadata": {},
   "source": [
    "# using function as variable"
   ]
  },
  {
   "cell_type": "code",
   "execution_count": 57,
   "metadata": {},
   "outputs": [
    {
     "name": "stdout",
     "output_type": "stream",
     "text": [
      "24\n"
     ]
    }
   ],
   "source": [
    "def add(a,b):\n",
    "    return a+b\n",
    "def sub(a,b):\n",
    "    return a-b\n",
    "result = add(12,13)+sub(12,13)\n",
    "print(result)"
   ]
  },
  {
   "cell_type": "markdown",
   "metadata": {},
   "source": [
    "# Function global and local variables\n",
    "    "
   ]
  },
  {
   "cell_type": "code",
   "execution_count": 68,
   "metadata": {},
   "outputs": [
    {
     "name": "stdout",
     "output_type": "stream",
     "text": [
      "Mr.ahmed is happy today\n",
      "aqeel\n"
     ]
    }
   ],
   "source": [
    "name=\"aqeel\"\n",
    "def happy():\n",
    "    name=\"ahmed\"\n",
    "    print(f\"Mr.{name} is happy today\")\n",
    "\n",
    "happy()\n",
    "print(name)  "
   ]
  },
  {
   "cell_type": "markdown",
   "metadata": {},
   "source": [
    "# function with in a function "
   ]
  },
  {
   "cell_type": "code",
   "execution_count": 72,
   "metadata": {},
   "outputs": [],
   "source": [
    "def comCal(sales):\n",
    "    if sales>100:\n",
    "        return sales*100\n",
    "    elif sales>50:\n",
    "        return sales*50\n",
    "    elif sales>20:\n",
    "        return sales*20\n",
    "    else:\n",
    "        return 0\n",
    "def salCal(basic,sales):\n",
    "    grossSal=basic+comCal(sales)\n",
    "    print(f\"your gross salary is {grossSal}\")"
   ]
  },
  {
   "cell_type": "code",
   "execution_count": 74,
   "metadata": {},
   "outputs": [
    {
     "data": {
      "text/plain": [
       "150000"
      ]
     },
     "execution_count": 74,
     "metadata": {},
     "output_type": "execute_result"
    }
   ],
   "source": [
    "comCal(1500)"
   ]
  },
  {
   "cell_type": "markdown",
   "metadata": {},
   "source": [
    "# while loop"
   ]
  },
  {
   "cell_type": "code",
   "execution_count": 77,
   "metadata": {},
   "outputs": [
    {
     "name": "stdout",
     "output_type": "stream",
     "text": [
      "enter your favourite fooddal\n",
      "enter your favourite foodmutton \n",
      "enter your favourite foodkrahi\n",
      "enter your favourite foodq\n",
      "your favourite food are['dal', 'mutton ', 'krahi']\n"
     ]
    }
   ],
   "source": [
    "flag=True\n",
    "favFood=[]\n",
    "while flag:\n",
    "    user_input=input(\"enter your favourite food\")\n",
    "    if user_input==\"q\" or user_input==\"Q\":\n",
    "        flag=False\n",
    "    else:\n",
    "        favFood.append(user_input)\n",
    "print(f\"your favourite food are{favFood}\")"
   ]
  },
  {
   "cell_type": "markdown",
   "metadata": {},
   "source": [
    "# classes"
   ]
  },
  {
   "cell_type": "code",
   "execution_count": 36,
   "metadata": {},
   "outputs": [],
   "source": [
    "class Car():\n",
    "    #The word 'self' is used to represent the instance of a class. By using the \"self\" keyword we access the attributes and methods of the class in python.\n",
    "    #\"__init__\" is a reseved method in python classes. It is called as a constructor in object oriented terminology. This method is called when an object is created from a class and it allows the class to initialize the attributes of the class.\n",
    "    # WE CAN USE ANY NAME AT THE PLACE OF SELF\n",
    "    def __init__(self,make,model,year):\n",
    "        self.m=make\n",
    "        self.mod=model\n",
    "        self.y=year\n",
    "    def CarDesc(self):\n",
    "        print(f\"the make of car is{self.m}, model is {self.mod} and manufacturing year is {self}\")\n",
    "    def SetCar(self,newMake):\n",
    "        self.m=newMake\n",
    "    def getCar(self):\n",
    "        print(f\"the update car make is {self.m}\")\n",
    "        \n",
    "        "
   ]
  },
  {
   "cell_type": "code",
   "execution_count": 37,
   "metadata": {},
   "outputs": [],
   "source": [
    "car1=Car(\"honda\",\"civic\",2019)"
   ]
  },
  {
   "cell_type": "code",
   "execution_count": 38,
   "metadata": {},
   "outputs": [
    {
     "name": "stdout",
     "output_type": "stream",
     "text": [
      "the make of car ishonda, model is civic and manufacturing year is <__main__.Car object at 0x00000283FFB1C848>\n"
     ]
    }
   ],
   "source": [
    "car1.CarDesc()"
   ]
  },
  {
   "cell_type": "code",
   "execution_count": 39,
   "metadata": {},
   "outputs": [
    {
     "data": {
      "text/plain": [
       "'honda'"
      ]
     },
     "execution_count": 39,
     "metadata": {},
     "output_type": "execute_result"
    }
   ],
   "source": [
    "car1.m"
   ]
  },
  {
   "cell_type": "markdown",
   "metadata": {},
   "source": [
    "# changing an attribute value"
   ]
  },
  {
   "cell_type": "code",
   "execution_count": 40,
   "metadata": {},
   "outputs": [],
   "source": [
    "# 1)direct hit attribute\n",
    "car1.m=\"yamaha\""
   ]
  },
  {
   "cell_type": "code",
   "execution_count": 41,
   "metadata": {},
   "outputs": [
    {
     "data": {
      "text/plain": [
       "'yamaha'"
      ]
     },
     "execution_count": 41,
     "metadata": {},
     "output_type": "execute_result"
    }
   ],
   "source": [
    "car1.m"
   ]
  },
  {
   "cell_type": "code",
   "execution_count": 42,
   "metadata": {},
   "outputs": [],
   "source": [
    "# 2)via function. this would be better approach\n"
   ]
  },
  {
   "cell_type": "code",
   "execution_count": 43,
   "metadata": {},
   "outputs": [],
   "source": [
    "car1.SetCar(\"suzuki\")"
   ]
  },
  {
   "cell_type": "code",
   "execution_count": 44,
   "metadata": {},
   "outputs": [
    {
     "name": "stdout",
     "output_type": "stream",
     "text": [
      "the update car make is suzuki\n"
     ]
    }
   ],
   "source": [
    "car1.getCar()"
   ]
  },
  {
   "cell_type": "markdown",
   "metadata": {},
   "source": [
    "# Data files"
   ]
  },
  {
   "cell_type": "code",
   "execution_count": 60,
   "metadata": {},
   "outputs": [
    {
     "name": "stdout",
     "output_type": "stream",
     "text": [
      "hello we are writing in already existing file\n",
      "hello we are appending text in file\n"
     ]
    }
   ],
   "source": [
    "#reading file from already existing txt file\n",
    "with open(\"file1.txt\",\"r\") as file:\n",
    "    print(file.read())"
   ]
  },
  {
   "cell_type": "code",
   "execution_count": 57,
   "metadata": {},
   "outputs": [],
   "source": [
    "#writing in already existing file will override the text in the file\n",
    "with open(\"file1.txt\",\"w\") as file:\n",
    "    file.write(\"hello we are writing in already existing file\")"
   ]
  },
  {
   "cell_type": "code",
   "execution_count": 59,
   "metadata": {},
   "outputs": [],
   "source": [
    "#append will add the txt in already existing file without overriding the previous content\n",
    "with open(\"file1.txt\",\"a\") as file:\n",
    "    file.write(\"\\nhello we are appending text in file\")"
   ]
  },
  {
   "cell_type": "code",
   "execution_count": 61,
   "metadata": {},
   "outputs": [],
   "source": [
    "#writing in nonexisting file will create a file itself \n",
    "with open(\"file2.txt\",\"w\") as file:\n",
    "    file.write(\"hello we are writing in non-existing file\")"
   ]
  },
  {
   "cell_type": "code",
   "execution_count": 62,
   "metadata": {},
   "outputs": [
    {
     "name": "stdout",
     "output_type": "stream",
     "text": [
      "hello we are writing in non-existing file\n"
     ]
    }
   ],
   "source": [
    "#reading file from file2\n",
    "with open(\"file2.txt\",\"r\") as file:\n",
    "    print(file.read())"
   ]
  },
  {
   "cell_type": "markdown",
   "metadata": {},
   "source": [
    "# w+ and r+"
   ]
  },
  {
   "cell_type": "code",
   "execution_count": 71,
   "metadata": {},
   "outputs": [
    {
     "name": "stdout",
     "output_type": "stream",
     "text": [
      "hello we are writing in already existing file with w+\n"
     ]
    }
   ],
   "source": [
    "#w+ will read and write but if file doesnot exist it will create a new file\n",
    "with open(\"file1.txt\",\"w+\") as file:\n",
    "    file.write(\"hello we are writing in already existing file with w+\")\n",
    "    file.seek(0)\n",
    "    print(file.read())"
   ]
  },
  {
   "cell_type": "code",
   "execution_count": 74,
   "metadata": {},
   "outputs": [
    {
     "name": "stdout",
     "output_type": "stream",
     "text": [
      "hello we are writing in already existing file with r+\n"
     ]
    }
   ],
   "source": [
    "# w+ also read and write both but if file does not exist it will not create new file itself\n",
    "with open(\"file1.txt\",\"r+\") as file:\n",
    "    file.write(\"hello we are writing in already existing file with r+\")\n",
    "    file.seek(0)\n",
    "    print(file.read())"
   ]
  },
  {
   "cell_type": "markdown",
   "metadata": {},
   "source": [
    "# modules"
   ]
  },
  {
   "cell_type": "code",
   "execution_count": 81,
   "metadata": {},
   "outputs": [],
   "source": [
    "#module are use to define a functions in separate python file so that when we need we can call them by importing \n",
    "# %load maths.py\n",
    "def add(a,b):\n",
    "    print(a+b)\n",
    "    \n",
    "def sub(a,b):\n",
    "    print(a-b)\n",
    "    \n",
    "def mul(a,b):\n",
    "    print(a*b)\n",
    "    \n",
    "def div(a,b):\n",
    "    print(a/b)"
   ]
  },
  {
   "cell_type": "code",
   "execution_count": 82,
   "metadata": {},
   "outputs": [],
   "source": [
    "import maths as m"
   ]
  },
  {
   "cell_type": "code",
   "execution_count": 83,
   "metadata": {},
   "outputs": [
    {
     "name": "stdout",
     "output_type": "stream",
     "text": [
      "-8\n"
     ]
    }
   ],
   "source": [
    "m.add(2,-10)"
   ]
  },
  {
   "cell_type": "code",
   "execution_count": 84,
   "metadata": {},
   "outputs": [
    {
     "name": "stdout",
     "output_type": "stream",
     "text": [
      "1.125\n"
     ]
    }
   ],
   "source": [
    "m.div(9,8)"
   ]
  },
  {
   "cell_type": "markdown",
   "metadata": {},
   "source": [
    "# csv File"
   ]
  },
  {
   "cell_type": "code",
   "execution_count": 85,
   "metadata": {},
   "outputs": [],
   "source": [
    "import csv"
   ]
  },
  {
   "cell_type": "code",
   "execution_count": 95,
   "metadata": {},
   "outputs": [
    {
     "name": "stdout",
     "output_type": "stream",
     "text": [
      "['year', 'event', 'winner']\n",
      "['1990', 'ab', 'john']\n",
      "['2000', 'bc', 'steve']\n",
      "['2008', 'df', 'smith']\n"
     ]
    }
   ],
   "source": [
    "#reading in csv file\n",
    "with open(\"data.csv\") as f:# it is not mandatory to provide \"r\" for reading by defalut it is in reading mode\n",
    "    con=csv.reader(f)\n",
    "    for c in con:\n",
    "        print(c)\n",
    "    "
   ]
  },
  {
   "cell_type": "code",
   "execution_count": 103,
   "metadata": {},
   "outputs": [],
   "source": [
    "# writing in csv file \n",
    "with open(\"data1.csv\",\"w\",newline=\"\") as f:\n",
    "    f_write=csv.writer(f)\n",
    "    f_write.writerow(['name',\"age\",'address'])\n",
    "    f_write.writerow(['aqeel',21,'abc'])\n",
    "    f_write.writerow(['ali',22,'xyz'])\n",
    "    f_write.writerow(['usman',23,'hgrg'])\n",
    "    "
   ]
  },
  {
   "cell_type": "code",
   "execution_count": 106,
   "metadata": {},
   "outputs": [
    {
     "name": "stdout",
     "output_type": "stream",
     "text": [
      "['name', 'age', 'address']\n",
      "['aqeel', '21', 'abc']\n",
      "['ali', '22', 'xyz']\n",
      "['usman', '23', 'hgrg']\n",
      "['anila', '24', 'bdc']\n",
      "['nouman', '22', 'xmdd']\n",
      "['zamman', '23', 'nsklrg']\n"
     ]
    }
   ],
   "source": [
    "with open(\"data1.csv\") as f:# it is not mandatory to provide \"r\" for reading by defalut it is in reading mode\n",
    "    con=csv.reader(f)\n",
    "    for c in con:\n",
    "        print(c)"
   ]
  },
  {
   "cell_type": "code",
   "execution_count": 105,
   "metadata": {},
   "outputs": [],
   "source": [
    "# appending  in csv file \n",
    "with open(\"data1.csv\",\"a\",newline=\"\") as f:\n",
    "    f_write=csv.writer(f)\n",
    "    f_write.writerow(['anila',24,'bdc'])\n",
    "    f_write.writerow(['nouman',22,'xmdd'])\n",
    "    f_write.writerow(['zamman',23,'nsklrg'])"
   ]
  },
  {
   "cell_type": "markdown",
   "metadata": {},
   "source": [
    "# JSON file"
   ]
  },
  {
   "cell_type": "code",
   "execution_count": 121,
   "metadata": {},
   "outputs": [],
   "source": [
    "# writing in the json file with list\n",
    "import json\n",
    "list1=[1,2,3,4,5,6,7,8,9]\n",
    "\n",
    "with open(\"dataInJson.json\",'w') as f:\n",
    "    json.dump(list1,f)"
   ]
  },
  {
   "cell_type": "code",
   "execution_count": 122,
   "metadata": {},
   "outputs": [
    {
     "name": "stdout",
     "output_type": "stream",
     "text": [
      "[1, 2, 3, 4, 5, 6, 7, 8, 9]\n"
     ]
    }
   ],
   "source": [
    "# reading in the json file \n",
    "\n",
    "with open(\"dataInJson.json\",'r') as f:\n",
    "    c=json.load(f)\n",
    "    print(c)"
   ]
  },
  {
   "cell_type": "code",
   "execution_count": 125,
   "metadata": {},
   "outputs": [],
   "source": [
    "# appending in the json file list\n",
    "list2=['hello',5,4,3,2,4,22,44]\n",
    "dic={\"a\":1,\"b\":2,\"c\":3}\n",
    "with open(\"dataInJson.json\",'a') as f:\n",
    "    json.dump(dic,f)"
   ]
  },
  {
   "cell_type": "code",
   "execution_count": 126,
   "metadata": {},
   "outputs": [],
   "source": [
    "# writing in the json file with dic\n",
    "dic={\"a\":1,\"b\":2,\"c\":3}\n",
    "with open(\"dic.json\",'w') as f:\n",
    "    json.dump(dic,f)"
   ]
  },
  {
   "cell_type": "code",
   "execution_count": 131,
   "metadata": {},
   "outputs": [],
   "source": [
    "#reading  dictionary from json file\n",
    "with open(\"dic.json\",'r') as f:\n",
    "    c=json.loads(f)\n",
    "    for con in c:\n",
    "        print(con)"
   ]
  },
  {
   "cell_type": "code",
   "execution_count": 128,
   "metadata": {},
   "outputs": [],
   "source": [
    "# appending in the json file with dic\n",
    "dic={\"x\":1,\"y\":2,\"z\":3}\n",
    "with open(\"dic.json\",'a') as f:\n",
    "    json.dump(dic,f)"
   ]
  },
  {
   "cell_type": "markdown",
   "metadata": {},
   "source": [
    "# Exception"
   ]
  },
  {
   "cell_type": "code",
   "execution_count": null,
   "metadata": {},
   "outputs": [],
   "source": [
    "a=input(\"enter value\")\n",
    "try:\n",
    "    a/5\n",
    "except:\n",
    "    print(\"exception caught\")\n",
    "finally:\n",
    "    print(\"this will execute always\")"
   ]
  },
  {
   "cell_type": "code",
   "execution_count": null,
   "metadata": {},
   "outputs": [],
   "source": []
  },
  {
   "cell_type": "code",
   "execution_count": null,
   "metadata": {},
   "outputs": [],
   "source": []
  }
 ],
 "metadata": {
  "kernelspec": {
   "display_name": "Python 3",
   "language": "python",
   "name": "python3"
  },
  "language_info": {
   "codemirror_mode": {
    "name": "ipython",
    "version": 3
   },
   "file_extension": ".py",
   "mimetype": "text/x-python",
   "name": "python",
   "nbconvert_exporter": "python",
   "pygments_lexer": "ipython3",
   "version": "3.7.4"
  }
 },
 "nbformat": 4,
 "nbformat_minor": 2
}
