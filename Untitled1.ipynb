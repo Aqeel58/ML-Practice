{
 "cells": [
  {
   "cell_type": "code",
   "execution_count": 3,
   "metadata": {},
   "outputs": [
    {
     "name": "stdout",
     "output_type": "stream",
     "text": [
      "Enter Hours:45\n",
      "enter the rate:10.50\n"
     ]
    },
    {
     "data": {
      "text/plain": [
       "498.75"
      ]
     },
     "execution_count": 3,
     "metadata": {},
     "output_type": "execute_result"
    }
   ],
   "source": [
    "def computepay():\n",
    "    h = float(input(\"Enter Hours:\"))\n",
    "    r = float(input(\"enter the rate:\"))\n",
    "    if h <= 40:\n",
    "        pay=h  * r\n",
    "        return pay\n",
    "    elif h > 40:\n",
    "        pay=40* r + (h-40)*1.5*r\n",
    "        return pay\n",
    "    \n",
    "computepay()"
   ]
  },
  {
   "cell_type": "code",
   "execution_count": 7,
   "metadata": {},
   "outputs": [
    {
     "name": "stdout",
     "output_type": "stream",
     "text": [
      "Enter a number: 7\n",
      "7\n",
      "Enter a number: 4\n",
      "4\n",
      "Enter a number: 2\n",
      "2\n",
      "Enter a number: bob\n",
      "bob\n",
      "Please, enter only numbers.\n",
      "Enter a number: 10\n",
      "10\n",
      "Enter a number: done\n",
      "Maximum 10\n",
      "Minimum 2\n"
     ]
    }
   ],
   "source": [
    "largest = None\n",
    "smallest = None\n",
    "while True:\n",
    "    try:\n",
    "        num = input(\"Enter a number: \")\n",
    "        if num == \"done\":\n",
    "            break\n",
    "        print (num)\n",
    "        num = int(num)\n",
    "        if largest is None or largest < num:\n",
    "            largest = num\n",
    "        elif smallest is None or smallest > num:\n",
    "             smallest = num\n",
    "    except :\n",
    "        print(\"Please, enter only numbers.\")\n",
    " \n",
    "print (\"Maximum\", largest)\n",
    "print (\"Minimum\", smallest)"
   ]
  },
  {
   "cell_type": "code",
   "execution_count": null,
   "metadata": {},
   "outputs": [],
   "source": []
  }
 ],
 "metadata": {
  "kernelspec": {
   "display_name": "Python 3",
   "language": "python",
   "name": "python3"
  },
  "language_info": {
   "codemirror_mode": {
    "name": "ipython",
    "version": 3
   },
   "file_extension": ".py",
   "mimetype": "text/x-python",
   "name": "python",
   "nbconvert_exporter": "python",
   "pygments_lexer": "ipython3",
   "version": "3.7.4"
  }
 },
 "nbformat": 4,
 "nbformat_minor": 2
}
